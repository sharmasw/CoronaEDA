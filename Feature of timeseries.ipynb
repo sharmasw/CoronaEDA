{
 "cells": [
  {
   "cell_type": "code",
   "execution_count": null,
   "metadata": {},
   "outputs": [],
   "source": [
    "#Daywise variance and slope\n",
    "#cluser day wise\n",
    "#cluster of COuntries\n",
    "# day wise data structure D0 to Dn\n",
    "# attributes of a timeseriess\n",
    "# how we are placed compared to other countries\n",
    "#lockdown impact on graphs\n",
    "#day wise story time  graphs of countries\n",
    "#predictions of countries\n",
    "# predictions of the countries compared to actual"
   ]
  },
  {
   "cell_type": "code",
   "execution_count": null,
   "metadata": {},
   "outputs": [],
   "source": [
    "import pandas as pd\n",
    "import numpy as np\n",
    "from sklearn import preprocessing,cross_decomposition,model_selection,metrics\n",
    "import matplotlib.pyplot as plt\n",
    "import seaborn as sns\n",
    "import xgboost as xgb\n",
    "%matplotlib inline\n",
    "import dateutil\n",
    "from tqdm import tqdm\n",
    "from sklearn import linear_model"
   ]
  },
  {
   "cell_type": "code",
   "execution_count": null,
   "metadata": {},
   "outputs": [],
   "source": [
    "import numpy as np\n",
    "import pandas as pd\n",
    "\n",
    "import plotly.graph_objects as go\n",
    "from ipywidgets import widgets"
   ]
  },
  {
   "cell_type": "code",
   "execution_count": null,
   "metadata": {},
   "outputs": [],
   "source": [
    "confirmedGlobal=pd.read_csv('https://raw.githubusercontent.com/CSSEGISandData/COVID-19/master/csse_covid_19_data/csse_covid_19_time_series/time_series_covid19_confirmed_global.csv',encoding='utf-8',na_values=None)\n",
    "deathGLobal=pd.read_csv('https://raw.githubusercontent.com/CSSEGISandData/COVID-19/master/csse_covid_19_data/csse_covid_19_time_series/time_series_covid19_deaths_global.csv')\n",
    "recoverGlobal=pd.read_csv('https://raw.githubusercontent.com/CSSEGISandData/COVID-19/master/csse_covid_19_data/csse_covid_19_time_series/time_series_covid19_recovered_global.csv')\n",
    "confirmedGlobal['NewContryCode']=confirmedGlobal['Country/Region']+confirmedGlobal['Province/State'].fillna('')\n",
    "deathGLobal['NewContryCode']=deathGLobal['Country/Region']+deathGLobal['Province/State'].fillna('')\n",
    "recoverGlobal['NewContryCode']=recoverGlobal['Country/Region']+recoverGlobal['Province/State'].fillna('')"
   ]
  },
  {
   "cell_type": "code",
   "execution_count": null,
   "metadata": {},
   "outputs": [],
   "source": [
    "confirmedGlobal.head()"
   ]
  },
  {
   "cell_type": "code",
   "execution_count": null,
   "metadata": {},
   "outputs": [],
   "source": [
    "def getStartPoint(country):\n",
    "    for num,i in enumerate(confirmedGlobal[confirmedGlobal['NewContryCode']==country].values[0][4:]):\n",
    "        if i > 0:\n",
    "#             print (num,i)\n",
    "            break\n",
    "    return 4+num\n",
    "\n",
    "def getSlope(dataSet):\n",
    "    df=pd.DataFrame(dataSet)\n",
    "    df=df.reset_index()\n",
    "    df.columns=['x','y']\n",
    "    model=linear_model.LinearRegression(fit_intercept=False).fit(df[['x']],df[['y']])\n",
    "    return model.coef_[0][0]\n",
    "def getDataArranged(country):\n",
    "    temp={}\n",
    "    \n",
    "\n",
    "    startPoint=getStartPoint(country)\n",
    "    temp['logValues']=[np.log(i) if i !=0  else 0 for i in confirmedGlobal[confirmedGlobal['NewContryCode']==country].values[0][startPoint:-1]]\n",
    "    temp['actualValues']=[i for i in confirmedGlobal[confirmedGlobal['NewContryCode']==country].values[0][startPoint:-1]]\n",
    "    countryData=confirmedGlobal[confirmedGlobal['NewContryCode']==country].values[0][startPoint:-1]\n",
    "    datesOfInfections=[str(dateutil.parser.parse(i))[:10] for i in confirmedGlobal[confirmedGlobal['NewContryCode']==country].columns[startPoint:-1]]\n",
    "    dayIndex=['D_'+str(i).zfill(3) for i in range(len(countryData))]\n",
    "    temp['countryData']=countryData\n",
    "    lbl=preprocessing.MinMaxScaler()\n",
    "    temp['minMaxScaledval']=np.ravel(lbl.fit_transform(countryData.reshape(len(countryData),1)))\n",
    "    temp['varianceVal']=np.var(temp['minMaxScaledval'])\n",
    "    temp['slopeData']=getSlope(countryData)\n",
    "    temp['datesOfInfections']=datesOfInfections\n",
    "    temp['dayIndex']=dayIndex\n",
    "    temp['lastValue']=countryData[-1]\n",
    "    return temp"
   ]
  },
  {
   "cell_type": "code",
   "execution_count": null,
   "metadata": {},
   "outputs": [],
   "source": [
    "import warnings\n",
    "warnings.filterwarnings('ignore')"
   ]
  },
  {
   "cell_type": "code",
   "execution_count": null,
   "metadata": {},
   "outputs": [],
   "source": [
    "import statsmodels.api as sm\n",
    "import statsmodels.formula.api as smf\n",
    "from statsmodels import tsa"
   ]
  },
  {
   "cell_type": "code",
   "execution_count": null,
   "metadata": {},
   "outputs": [],
   "source": [
    "countryDataDict={}\n",
    "for con in tqdm(confirmedGlobal['NewContryCode']):\n",
    "    try:\n",
    "        countryDataDict[con]=getDataArranged(con)    \n",
    "    except:\n",
    "        pass"
   ]
  },
  {
   "cell_type": "code",
   "execution_count": null,
   "metadata": {},
   "outputs": [],
   "source": [
    "tempX=countryDataDict['India']"
   ]
  },
  {
   "cell_type": "code",
   "execution_count": null,
   "metadata": {},
   "outputs": [],
   "source": [
    "tempX.keys()"
   ]
  },
  {
   "cell_type": "code",
   "execution_count": null,
   "metadata": {},
   "outputs": [],
   "source": [
    "def getCountryDayWiseDetails(country):\n",
    "    indiCountyDaywise=[]\n",
    "    tempX=countryDataDict[country]\n",
    "    for i in range(len(tempX['countryData'])):\n",
    "        try:\n",
    "            tempDict={'variancDaywise':np.var(tempX['minMaxScaledval'][:i]),\n",
    "                  'dayInfo':i,#'D_'+str(i).zfill(3),\n",
    "                  'slopeVal':getSlope(tempX['countryData'][:i]),\n",
    "                'infected':tempX['countryData'][i]}\n",
    "        except:\n",
    "            tempDict={'variancDaywise':None,\n",
    "                  'dayInfo':i,#'D_'+str(i).zfill(3),\n",
    "                  'slopeVal':None,\n",
    "                     'infected':tempX['countryData'][i]}\n",
    "\n",
    "        indiCountyDaywise.append(tempDict)\n",
    "    tempDWiseData=pd.DataFrame(indiCountyDaywise)\n",
    "    tempDWiseData['CountryName']=country\n",
    "    return tempDWiseData"
   ]
  },
  {
   "cell_type": "code",
   "execution_count": null,
   "metadata": {},
   "outputs": [],
   "source": [
    "countryDataDictDayWise=[]\n",
    "for con in tqdm(countryDataDict):\n",
    "    countryDataDictDayWise.append(getCountryDayWiseDetails(con))"
   ]
  },
  {
   "cell_type": "markdown",
   "metadata": {},
   "source": [
    "## Slider Details"
   ]
  },
  {
   "cell_type": "code",
   "execution_count": null,
   "metadata": {},
   "outputs": [],
   "source": [
    "allCOuntryDayWiseDataDF=pd.concat(countryDataDictDayWise)"
   ]
  },
  {
   "cell_type": "code",
   "execution_count": null,
   "metadata": {},
   "outputs": [],
   "source": [
    "allCOuntryDayWiseDataDF.head()"
   ]
  },
  {
   "cell_type": "code",
   "execution_count": null,
   "metadata": {},
   "outputs": [],
   "source": [
    "max(allCOuntryDayWiseDataDF['slopeVal'].fillna(0))"
   ]
  },
  {
   "cell_type": "code",
   "execution_count": null,
   "metadata": {},
   "outputs": [],
   "source": [
    "allCOuntryDayWiseDataDF[allCOuntryDayWiseDataDF['slopeVal']>1960]"
   ]
  },
  {
   "cell_type": "code",
   "execution_count": null,
   "metadata": {},
   "outputs": [],
   "source": [
    "import datetime\n",
    "import numpy as np\n",
    "import pandas as pd\n",
    "\n",
    "import plotly.graph_objects as go\n",
    "from ipywidgets import widgets"
   ]
  },
  {
   "cell_type": "code",
   "execution_count": null,
   "metadata": {},
   "outputs": [],
   "source": [
    "daySLider = widgets.IntSlider(\n",
    "    value=1.0,\n",
    "    min=1.0,\n",
    "    max=max(allCOuntryDayWiseDataDF['dayInfo']),\n",
    "    step=1.0,\n",
    "    description='Day:',\n",
    "    continuous_update=False\n",
    ")\n",
    "\n",
    "# textbox = widgets.Dropdown(\n",
    "#     description='Country:   ',\n",
    "#     value='India',\n",
    "#     options=allCOuntryData.columns.tolist()\n",
    "# )\n",
    "container = widgets.HBox(children=[daySLider])\n",
    "# from plotly.subplots import make_subplots"
   ]
  },
  {
   "cell_type": "code",
   "execution_count": null,
   "metadata": {},
   "outputs": [],
   "source": [
    "tempDFFOrSlider=allCOuntryDayWiseDataDF[allCOuntryDayWiseDataDF['dayInfo']==59]\n",
    "trace1 = go.Scatter(\n",
    "    x=tempDFFOrSlider['slopeVal'],\n",
    "    y=tempDFFOrSlider['variancDaywise'],\n",
    "#     mode='markers',\n",
    "     mode=\"markers+text\",\n",
    "    marker=dict(size=tempDFFOrSlider['infected'],sizemode='area',\n",
    "        sizeref=2.*max(tempDFFOrSlider['infected'])/(40.**2),\n",
    "        sizemin=4),\n",
    "    showlegend=True,\n",
    "    text=tempDFFOrSlider['CountryName'])"
   ]
  },
  {
   "cell_type": "code",
   "execution_count": null,
   "metadata": {},
   "outputs": [],
   "source": [
    "g = go.FigureWidget(data=[trace1],layout=go.Layout(title=dict(text='Covid19'),barmode='overlay'))"
   ]
  },
  {
   "cell_type": "code",
   "execution_count": null,
   "metadata": {},
   "outputs": [],
   "source": [
    "def response(change):\n",
    "    vaL=daySLider.value\n",
    "    tempDFFOrSlider=allCOuntryDayWiseDataDF[allCOuntryDayWiseDataDF['dayInfo']==vaL]\n",
    "    x1 = tempDFFOrSlider['slopeVal'].values\n",
    "    x2 = tempDFFOrSlider['variancDaywise'].values\n",
    "    with g.batch_update():\n",
    "        g.data[0].x = x1\n",
    "        g.data[0].y = x2\n",
    "        g.data[0].marker['size']= tempDFFOrSlider['infected'].values\n",
    "        g.layout.barmode = 'overlay'\n",
    "daySLider.observe(response, names=\"value\")\n",
    "# textbox.observe(response, names=\"value\")"
   ]
  },
  {
   "cell_type": "code",
   "execution_count": null,
   "metadata": {},
   "outputs": [],
   "source": [
    "widgets.VBox([container,g])"
   ]
  },
  {
   "cell_type": "code",
   "execution_count": null,
   "metadata": {},
   "outputs": [],
   "source": []
  },
  {
   "cell_type": "code",
   "execution_count": null,
   "metadata": {},
   "outputs": [],
   "source": []
  },
  {
   "cell_type": "code",
   "execution_count": null,
   "metadata": {},
   "outputs": [],
   "source": []
  },
  {
   "cell_type": "code",
   "execution_count": null,
   "metadata": {},
   "outputs": [],
   "source": []
  },
  {
   "cell_type": "code",
   "execution_count": null,
   "metadata": {},
   "outputs": [],
   "source": []
  },
  {
   "cell_type": "code",
   "execution_count": null,
   "metadata": {},
   "outputs": [],
   "source": []
  },
  {
   "cell_type": "code",
   "execution_count": null,
   "metadata": {},
   "outputs": [],
   "source": []
  },
  {
   "cell_type": "code",
   "execution_count": null,
   "metadata": {},
   "outputs": [],
   "source": []
  },
  {
   "cell_type": "code",
   "execution_count": null,
   "metadata": {},
   "outputs": [],
   "source": []
  },
  {
   "cell_type": "code",
   "execution_count": null,
   "metadata": {},
   "outputs": [],
   "source": []
  },
  {
   "cell_type": "code",
   "execution_count": null,
   "metadata": {},
   "outputs": [],
   "source": []
  },
  {
   "cell_type": "markdown",
   "metadata": {},
   "source": [
    "## All Country Information"
   ]
  },
  {
   "cell_type": "code",
   "execution_count": null,
   "metadata": {},
   "outputs": [],
   "source": []
  },
  {
   "cell_type": "code",
   "execution_count": null,
   "metadata": {
    "scrolled": true
   },
   "outputs": [],
   "source": []
  },
  {
   "cell_type": "code",
   "execution_count": null,
   "metadata": {},
   "outputs": [],
   "source": []
  },
  {
   "cell_type": "code",
   "execution_count": null,
   "metadata": {},
   "outputs": [],
   "source": []
  },
  {
   "cell_type": "code",
   "execution_count": null,
   "metadata": {
    "scrolled": true
   },
   "outputs": [],
   "source": []
  },
  {
   "cell_type": "code",
   "execution_count": null,
   "metadata": {},
   "outputs": [],
   "source": []
  },
  {
   "cell_type": "code",
   "execution_count": null,
   "metadata": {},
   "outputs": [],
   "source": []
  },
  {
   "cell_type": "code",
   "execution_count": null,
   "metadata": {},
   "outputs": [],
   "source": []
  },
  {
   "cell_type": "code",
   "execution_count": null,
   "metadata": {},
   "outputs": [],
   "source": []
  },
  {
   "cell_type": "code",
   "execution_count": null,
   "metadata": {},
   "outputs": [],
   "source": []
  },
  {
   "cell_type": "code",
   "execution_count": null,
   "metadata": {},
   "outputs": [],
   "source": []
  }
 ],
 "metadata": {
  "kernelspec": {
   "display_name": "Python 3",
   "language": "python",
   "name": "python3"
  },
  "language_info": {
   "codemirror_mode": {
    "name": "ipython",
    "version": 3
   },
   "file_extension": ".py",
   "mimetype": "text/x-python",
   "name": "python",
   "nbconvert_exporter": "python",
   "pygments_lexer": "ipython3",
   "version": "3.6.8"
  }
 },
 "nbformat": 4,
 "nbformat_minor": 2
}
