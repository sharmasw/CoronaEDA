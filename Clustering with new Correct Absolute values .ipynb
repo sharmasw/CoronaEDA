{
 "cells": [
  {
   "cell_type": "code",
   "execution_count": 46,
   "metadata": {},
   "outputs": [],
   "source": [
    "import warnings\n",
    "warnings.filterwarnings('ignore')"
   ]
  },
  {
   "cell_type": "code",
   "execution_count": 47,
   "metadata": {},
   "outputs": [],
   "source": [
    "#Daywise variance and slope\n",
    "#cluser day wise\n",
    "#cluster of COuntries\n",
    "# day wise data structure D0 to Dn\n",
    "# attributes of a timeseriess\n",
    "# how we are placed compared to other countries\n",
    "#lockdown impact on graphs\n",
    "#day wise story time  graphs of countries\n",
    "#predictions of countries\n",
    "# predictions of the countries compared to actual"
   ]
  },
  {
   "cell_type": "code",
   "execution_count": 48,
   "metadata": {},
   "outputs": [],
   "source": [
    "import pandas as pd\n",
    "import numpy as np\n",
    "from sklearn import preprocessing,cross_decomposition,model_selection,metrics\n",
    "import matplotlib.pyplot as plt\n",
    "import seaborn as sns\n",
    "import xgboost as xgb\n",
    "%matplotlib inline\n",
    "import dateutil\n",
    "from tqdm import tqdm\n",
    "from sklearn import linear_model\n",
    "import datetime\n",
    "import numpy as np\n",
    "import pandas as pd\n",
    "\n",
    "import plotly.graph_objects as go\n",
    "from ipywidgets import widgets\n",
    "import statsmodels.api as sm\n",
    "import statsmodels.formula.api as smf\n",
    "from statsmodels import tsa\n",
    "import numpy as np\n",
    "import pandas as pd\n",
    "\n",
    "import plotly.graph_objects as go\n",
    "from ipywidgets import widgets"
   ]
  },
  {
   "cell_type": "code",
   "execution_count": 49,
   "metadata": {},
   "outputs": [],
   "source": [
    "confirmedGlobal=pd.read_csv('https://raw.githubusercontent.com/CSSEGISandData/COVID-19/master/csse_covid_19_data/csse_covid_19_time_series/time_series_covid19_confirmed_global.csv',encoding='utf-8',na_values=None)\n",
    "deathGLobal=pd.read_csv('https://raw.githubusercontent.com/CSSEGISandData/COVID-19/master/csse_covid_19_data/csse_covid_19_time_series/time_series_covid19_deaths_global.csv')\n",
    "recoverGlobal=pd.read_csv('https://raw.githubusercontent.com/CSSEGISandData/COVID-19/master/csse_covid_19_data/csse_covid_19_time_series/time_series_covid19_recovered_global.csv')\n",
    "confirmedGlobal['NewContryCode']=confirmedGlobal['Country/Region']+confirmedGlobal['Province/State'].fillna('')\n",
    "deathGLobal['NewContryCode']=deathGLobal['Country/Region']+deathGLobal['Province/State'].fillna('')\n",
    "recoverGlobal['NewContryCode']=recoverGlobal['Country/Region']+recoverGlobal['Province/State'].fillna('')"
   ]
  },
  {
   "cell_type": "code",
   "execution_count": 50,
   "metadata": {},
   "outputs": [
    {
     "data": {
      "text/html": [
       "<div>\n",
       "<style scoped>\n",
       "    .dataframe tbody tr th:only-of-type {\n",
       "        vertical-align: middle;\n",
       "    }\n",
       "\n",
       "    .dataframe tbody tr th {\n",
       "        vertical-align: top;\n",
       "    }\n",
       "\n",
       "    .dataframe thead th {\n",
       "        text-align: right;\n",
       "    }\n",
       "</style>\n",
       "<table border=\"1\" class=\"dataframe\">\n",
       "  <thead>\n",
       "    <tr style=\"text-align: right;\">\n",
       "      <th></th>\n",
       "      <th>Province/State</th>\n",
       "      <th>Country/Region</th>\n",
       "      <th>Lat</th>\n",
       "      <th>Long</th>\n",
       "      <th>1/22/20</th>\n",
       "      <th>1/23/20</th>\n",
       "      <th>1/24/20</th>\n",
       "      <th>1/25/20</th>\n",
       "      <th>1/26/20</th>\n",
       "      <th>1/27/20</th>\n",
       "      <th>...</th>\n",
       "      <th>3/23/20</th>\n",
       "      <th>3/24/20</th>\n",
       "      <th>3/25/20</th>\n",
       "      <th>3/26/20</th>\n",
       "      <th>3/27/20</th>\n",
       "      <th>3/28/20</th>\n",
       "      <th>3/29/20</th>\n",
       "      <th>3/30/20</th>\n",
       "      <th>3/31/20</th>\n",
       "      <th>NewContryCode</th>\n",
       "    </tr>\n",
       "  </thead>\n",
       "  <tbody>\n",
       "    <tr>\n",
       "      <th>0</th>\n",
       "      <td>NaN</td>\n",
       "      <td>Afghanistan</td>\n",
       "      <td>33.0000</td>\n",
       "      <td>65.0000</td>\n",
       "      <td>0</td>\n",
       "      <td>0</td>\n",
       "      <td>0</td>\n",
       "      <td>0</td>\n",
       "      <td>0</td>\n",
       "      <td>0</td>\n",
       "      <td>...</td>\n",
       "      <td>40</td>\n",
       "      <td>74</td>\n",
       "      <td>84</td>\n",
       "      <td>94</td>\n",
       "      <td>110</td>\n",
       "      <td>110</td>\n",
       "      <td>120</td>\n",
       "      <td>170</td>\n",
       "      <td>174</td>\n",
       "      <td>Afghanistan</td>\n",
       "    </tr>\n",
       "    <tr>\n",
       "      <th>1</th>\n",
       "      <td>NaN</td>\n",
       "      <td>Albania</td>\n",
       "      <td>41.1533</td>\n",
       "      <td>20.1683</td>\n",
       "      <td>0</td>\n",
       "      <td>0</td>\n",
       "      <td>0</td>\n",
       "      <td>0</td>\n",
       "      <td>0</td>\n",
       "      <td>0</td>\n",
       "      <td>...</td>\n",
       "      <td>104</td>\n",
       "      <td>123</td>\n",
       "      <td>146</td>\n",
       "      <td>174</td>\n",
       "      <td>186</td>\n",
       "      <td>197</td>\n",
       "      <td>212</td>\n",
       "      <td>223</td>\n",
       "      <td>243</td>\n",
       "      <td>Albania</td>\n",
       "    </tr>\n",
       "    <tr>\n",
       "      <th>2</th>\n",
       "      <td>NaN</td>\n",
       "      <td>Algeria</td>\n",
       "      <td>28.0339</td>\n",
       "      <td>1.6596</td>\n",
       "      <td>0</td>\n",
       "      <td>0</td>\n",
       "      <td>0</td>\n",
       "      <td>0</td>\n",
       "      <td>0</td>\n",
       "      <td>0</td>\n",
       "      <td>...</td>\n",
       "      <td>230</td>\n",
       "      <td>264</td>\n",
       "      <td>302</td>\n",
       "      <td>367</td>\n",
       "      <td>409</td>\n",
       "      <td>454</td>\n",
       "      <td>511</td>\n",
       "      <td>584</td>\n",
       "      <td>716</td>\n",
       "      <td>Algeria</td>\n",
       "    </tr>\n",
       "    <tr>\n",
       "      <th>3</th>\n",
       "      <td>NaN</td>\n",
       "      <td>Andorra</td>\n",
       "      <td>42.5063</td>\n",
       "      <td>1.5218</td>\n",
       "      <td>0</td>\n",
       "      <td>0</td>\n",
       "      <td>0</td>\n",
       "      <td>0</td>\n",
       "      <td>0</td>\n",
       "      <td>0</td>\n",
       "      <td>...</td>\n",
       "      <td>133</td>\n",
       "      <td>164</td>\n",
       "      <td>188</td>\n",
       "      <td>224</td>\n",
       "      <td>267</td>\n",
       "      <td>308</td>\n",
       "      <td>334</td>\n",
       "      <td>370</td>\n",
       "      <td>376</td>\n",
       "      <td>Andorra</td>\n",
       "    </tr>\n",
       "    <tr>\n",
       "      <th>4</th>\n",
       "      <td>NaN</td>\n",
       "      <td>Angola</td>\n",
       "      <td>-11.2027</td>\n",
       "      <td>17.8739</td>\n",
       "      <td>0</td>\n",
       "      <td>0</td>\n",
       "      <td>0</td>\n",
       "      <td>0</td>\n",
       "      <td>0</td>\n",
       "      <td>0</td>\n",
       "      <td>...</td>\n",
       "      <td>3</td>\n",
       "      <td>3</td>\n",
       "      <td>3</td>\n",
       "      <td>4</td>\n",
       "      <td>4</td>\n",
       "      <td>5</td>\n",
       "      <td>7</td>\n",
       "      <td>7</td>\n",
       "      <td>7</td>\n",
       "      <td>Angola</td>\n",
       "    </tr>\n",
       "  </tbody>\n",
       "</table>\n",
       "<p>5 rows × 75 columns</p>\n",
       "</div>"
      ],
      "text/plain": [
       "  Province/State Country/Region      Lat     Long  1/22/20  1/23/20  1/24/20  \\\n",
       "0            NaN    Afghanistan  33.0000  65.0000        0        0        0   \n",
       "1            NaN        Albania  41.1533  20.1683        0        0        0   \n",
       "2            NaN        Algeria  28.0339   1.6596        0        0        0   \n",
       "3            NaN        Andorra  42.5063   1.5218        0        0        0   \n",
       "4            NaN         Angola -11.2027  17.8739        0        0        0   \n",
       "\n",
       "   1/25/20  1/26/20  1/27/20  ...  3/23/20  3/24/20  3/25/20  3/26/20  \\\n",
       "0        0        0        0  ...       40       74       84       94   \n",
       "1        0        0        0  ...      104      123      146      174   \n",
       "2        0        0        0  ...      230      264      302      367   \n",
       "3        0        0        0  ...      133      164      188      224   \n",
       "4        0        0        0  ...        3        3        3        4   \n",
       "\n",
       "   3/27/20  3/28/20  3/29/20  3/30/20  3/31/20  NewContryCode  \n",
       "0      110      110      120      170      174    Afghanistan  \n",
       "1      186      197      212      223      243        Albania  \n",
       "2      409      454      511      584      716        Algeria  \n",
       "3      267      308      334      370      376        Andorra  \n",
       "4        4        5        7        7        7         Angola  \n",
       "\n",
       "[5 rows x 75 columns]"
      ]
     },
     "execution_count": 50,
     "metadata": {},
     "output_type": "execute_result"
    }
   ],
   "source": [
    "confirmedGlobal.head()"
   ]
  },
  {
   "cell_type": "code",
   "execution_count": 70,
   "metadata": {},
   "outputs": [],
   "source": [
    "#Considering day0 when atleast 5 cases has been declared\n",
    "def getStartPoint(country):\n",
    "    for num,i in enumerate(confirmedGlobal[confirmedGlobal['NewContryCode']==country].values[0][4:]):\n",
    "        if i >= 5:\n",
    "#             print (num,i)\n",
    "            break\n",
    "    return 4+num\n",
    "\n",
    "def getSlope(dataSet):\n",
    "    df=pd.DataFrame(dataSet)\n",
    "    df=df.reset_index()\n",
    "    df.columns=['x','y']\n",
    "    model=linear_model.LinearRegression(fit_intercept=False).fit(df[['x']],df[['y']])\n",
    "    return model.coef_[0][0]\n",
    "def getDataArranged(country):\n",
    "    temp={}\n",
    "    startPoint=getStartPoint(country)\n",
    "    temp['logValues']=[np.log(i) if i !=0  else 0 for i in confirmedGlobal[confirmedGlobal['NewContryCode']==country].values[0][startPoint:-1]]\n",
    "    temp['actualValues']=[i for i in confirmedGlobal[confirmedGlobal['NewContryCode']==country].values[0][startPoint:-1]]\n",
    "    countryData=confirmedGlobal[confirmedGlobal['NewContryCode']==country].values[0][startPoint:-1]\n",
    "    datesOfInfections=[str(dateutil.parser.parse(i))[:10] for i in confirmedGlobal[confirmedGlobal['NewContryCode']==country].columns[startPoint:-1]]\n",
    "    dayIndex=['D_'+str(i).zfill(3) for i in range(len(countryData))]\n",
    "    temp['countryData']=countryData\n",
    "    pp=list(countryData[:-1])\n",
    "    pp.insert(0,0)\n",
    "    absInfected=countryData-pp\n",
    "    temp['absInfected']=absInfected\n",
    "    lbl=preprocessing.MinMaxScaler()\n",
    "    temp['minMaxScaledval']=np.ravel(lbl.fit_transform(absInfected.reshape(len(absInfected),1)))\n",
    "    temp['stdVal']=np.std(temp['absInfected'])\n",
    "    temp['slopeData']=getSlope(absInfected)\n",
    "    temp['datesOfInfections']=datesOfInfections\n",
    "    temp['dayIndex']=dayIndex\n",
    "    temp['lastValue']=countryData[-1]\n",
    "    return temp"
   ]
  },
  {
   "cell_type": "code",
   "execution_count": 71,
   "metadata": {},
   "outputs": [
    {
     "name": "stderr",
     "output_type": "stream",
     "text": [
      "100%|████████████████████████████████████████████████████████████████████████████████| 256/256 [00:02<00:00, 91.24it/s]\n"
     ]
    }
   ],
   "source": [
    "countryDataDict={}\n",
    "for con in tqdm(confirmedGlobal['NewContryCode']):\n",
    "    try:\n",
    "        countryDataDict[con]=getDataArranged(con)    \n",
    "    except:\n",
    "        pass"
   ]
  },
  {
   "cell_type": "code",
   "execution_count": 72,
   "metadata": {},
   "outputs": [
    {
     "data": {
      "text/plain": [
       "(56.057520062481856, 3.700876680303916, 'lastValue')"
      ]
     },
     "execution_count": 72,
     "metadata": {},
     "output_type": "execute_result"
    }
   ],
   "source": [
    "countryDataDict['India']['stdVal'],countryDataDict['India']['slopeData'],'lastValue',"
   ]
  },
  {
   "cell_type": "code",
   "execution_count": 73,
   "metadata": {},
   "outputs": [
    {
     "data": {
      "text/plain": [
       "(2310.030424042073, 147.06168451801364)"
      ]
     },
     "execution_count": 73,
     "metadata": {},
     "output_type": "execute_result"
    }
   ],
   "source": [
    "countryDataDict['Italy']['stdVal'],countryDataDict['Italy']['slopeData']"
   ]
  },
  {
   "cell_type": "code",
   "execution_count": 74,
   "metadata": {},
   "outputs": [],
   "source": [
    "countryOverallSpcaing=[]\n",
    "for i in countryDataDict:\n",
    "    temp={}\n",
    "    temp['stdVal']=countryDataDict[i]['stdVal']\n",
    "    temp['slopeData']=countryDataDict[i]['slopeData']\n",
    "    temp['lastValue']=countryDataDict[i]['lastValue']\n",
    "    temp['countryName']=i\n",
    "    countryOverallSpcaing.append(temp)"
   ]
  },
  {
   "cell_type": "code",
   "execution_count": 100,
   "metadata": {},
   "outputs": [],
   "source": [
    "import numpy as np\n",
    "from sklearn.cluster import KMeans\n",
    "from sklearn import metrics\n",
    "from sklearn.metrics import pairwise_distances\n",
    "\n",
    "''' Clustering the data using the scaled values of stdDev and Slope values calculated earlier'''\n",
    "\n",
    "def kmeanCluster(df):\n",
    "    tempClusterOutput=[]\n",
    "    metricOutput=[]\n",
    "    for j in range(3,8):\n",
    "        kmeans_model = KMeans(n_clusters=j, random_state=1)#.fit(overallSpacingDF[['varianceVal','scaledSlope']])\n",
    "        tempClusterOutput.append(kmeans_model.fit_predict(df[['stdVal','scaledSlope']]))\n",
    "        metricOutput.append(metrics.silhouette_score(df[['stdVal','scaledSlope']], kmeans_model.labels_, metric='euclidean'))\n",
    "    \n",
    "    return tempClusterOutput[np.argmax(np.array(metricOutput))]"
   ]
  },
  {
   "cell_type": "code",
   "execution_count": 75,
   "metadata": {
    "scrolled": true
   },
   "outputs": [],
   "source": [
    "overallSpacingDF=pd.DataFrame(countryOverallSpcaing)\n",
    "overallSpacingDF['scaledSlope']=preprocessing.MinMaxScaler().fit_transform(overallSpacingDF[['slopeData']])\n",
    "overallSpacingDF['stdVal']=preprocessing.MinMaxScaler().fit_transform(overallSpacingDF[['stdVal']])\n",
    "overallSpacingDF.head()\n",
    "overallSpacingDF['clusterInfo']=kmeanCluster(overallSpacingDF)"
   ]
  },
  {
   "cell_type": "code",
   "execution_count": 77,
   "metadata": {},
   "outputs": [],
   "source": []
  },
  {
   "cell_type": "code",
   "execution_count": 78,
   "metadata": {},
   "outputs": [],
   "source": []
  },
  {
   "cell_type": "code",
   "execution_count": 83,
   "metadata": {},
   "outputs": [
    {
     "data": {
      "application/vnd.plotly.v1+json": {
       "config": {
        "plotlyServerURL": "https://plot.ly"
       },
       "data": [
        {
         "hoverlabel": {
          "namelength": 0
         },
         "hovertemplate": "<b>%{hovertext}</b><br><br>scaledSlope=%{x}<br>stdVal=%{y}<br>lastValue=%{marker.size}<br>countryName=%{text}<br>clusterInfo=%{marker.color}",
         "hovertext": [
          "Afghanistan",
          "Albania",
          "Algeria",
          "Andorra",
          "Angola",
          "Antigua and Barbuda",
          "Argentina",
          "Armenia",
          "AustraliaAustralian Capital Territory",
          "AustraliaNew South Wales",
          "AustraliaNorthern Territory",
          "AustraliaQueensland",
          "AustraliaSouth Australia",
          "AustraliaTasmania",
          "AustraliaVictoria",
          "AustraliaWestern Australia",
          "Austria",
          "Azerbaijan",
          "Bahamas",
          "Bahrain",
          "Bangladesh",
          "Barbados",
          "Belarus",
          "Belgium",
          "Benin",
          "Bolivia",
          "Bosnia and Herzegovina",
          "Brazil",
          "Brunei",
          "Bulgaria",
          "Burkina Faso",
          "Cabo Verde",
          "Cambodia",
          "Cameroon",
          "CanadaAlberta",
          "CanadaBritish Columbia",
          "CanadaGrand Princess",
          "CanadaManitoba",
          "CanadaNew Brunswick",
          "CanadaNewfoundland and Labrador",
          "CanadaNova Scotia",
          "CanadaOntario",
          "CanadaPrince Edward Island",
          "CanadaQuebec",
          "CanadaSaskatchewan",
          "Chad",
          "Chile",
          "ChinaAnhui",
          "ChinaBeijing",
          "ChinaChongqing",
          "ChinaFujian",
          "ChinaGansu",
          "ChinaGuangdong",
          "ChinaGuangxi",
          "ChinaGuizhou",
          "ChinaHainan",
          "ChinaHebei",
          "ChinaHeilongjiang",
          "ChinaHenan",
          "ChinaHong Kong",
          "ChinaHubei",
          "ChinaHunan",
          "ChinaInner Mongolia",
          "ChinaJiangsu",
          "ChinaJiangxi",
          "ChinaJilin",
          "ChinaLiaoning",
          "ChinaMacau",
          "ChinaNingxia",
          "ChinaQinghai",
          "ChinaShaanxi",
          "ChinaShandong",
          "ChinaShanghai",
          "ChinaShanxi",
          "ChinaSichuan",
          "ChinaTianjin",
          "ChinaXinjiang",
          "ChinaYunnan",
          "ChinaZhejiang",
          "Colombia",
          "Congo (Brazzaville)",
          "Congo (Kinshasa)",
          "Costa Rica",
          "Cote d'Ivoire",
          "Croatia",
          "Diamond Princess",
          "Cuba",
          "Cyprus",
          "Czechia",
          "DenmarkFaroe Islands",
          "DenmarkGreenland",
          "Denmark",
          "Djibouti",
          "Dominican Republic",
          "Ecuador",
          "Egypt",
          "El Salvador",
          "Equatorial Guinea",
          "Eritrea",
          "Estonia",
          "Eswatini",
          "Ethiopia",
          "Fiji",
          "Finland",
          "FranceFrench Guiana",
          "FranceFrench Polynesia",
          "FranceGuadeloupe",
          "FranceMayotte",
          "FranceNew Caledonia",
          "FranceReunion",
          "FranceSaint Barthelemy",
          "FranceSt Martin",
          "FranceMartinique",
          "France",
          "Gabon",
          "Georgia",
          "Germany",
          "Ghana",
          "Greece",
          "Guatemala",
          "Guinea",
          "Guyana",
          "Haiti",
          "Holy See",
          "Honduras",
          "Hungary",
          "Iceland",
          "India",
          "Indonesia",
          "Iran",
          "Iraq",
          "Ireland",
          "Israel",
          "Italy",
          "Jamaica",
          "Japan",
          "Jordan",
          "Kazakhstan",
          "Kenya",
          "Korea, South",
          "Kuwait",
          "Kyrgyzstan",
          "Latvia",
          "Lebanon",
          "Liechtenstein",
          "Lithuania",
          "Luxembourg",
          "Madagascar",
          "Malaysia",
          "Maldives",
          "Malta",
          "Mauritania",
          "Mauritius",
          "Mexico",
          "Moldova",
          "Monaco",
          "Mongolia",
          "Montenegro",
          "Morocco",
          "Namibia",
          "Nepal",
          "NetherlandsAruba",
          "NetherlandsCuracao",
          "NetherlandsSint Maarten",
          "Netherlands",
          "New Zealand",
          "Nicaragua",
          "Niger",
          "Nigeria",
          "North Macedonia",
          "Norway",
          "Oman",
          "Pakistan",
          "Panama",
          "Paraguay",
          "Peru",
          "Philippines",
          "Poland",
          "Portugal",
          "Qatar",
          "Romania",
          "Russia",
          "Rwanda",
          "Saint Lucia",
          "San Marino",
          "Saudi Arabia",
          "Senegal",
          "Serbia",
          "Seychelles",
          "Singapore",
          "Slovakia",
          "Slovenia",
          "Somalia",
          "South Africa",
          "Spain",
          "Sri Lanka",
          "Sudan",
          "Suriname",
          "Sweden",
          "Switzerland",
          "Taiwan*",
          "Tanzania",
          "Thailand",
          "Togo",
          "Trinidad and Tobago",
          "Tunisia",
          "Turkey",
          "Uganda",
          "Ukraine",
          "United Arab Emirates",
          "United KingdomBermuda",
          "United KingdomCayman Islands",
          "United KingdomChannel Islands",
          "United KingdomGibraltar",
          "United KingdomIsle of Man",
          "United KingdomMontserrat",
          "United Kingdom",
          "Uruguay",
          "US",
          "Uzbekistan",
          "Venezuela",
          "Vietnam",
          "Zambia",
          "Zimbabwe",
          "Dominica",
          "Grenada",
          "Mozambique",
          "Syria",
          "Laos",
          "Libya",
          "West Bank and Gaza",
          "Guinea-Bissau",
          "Mali",
          "Saint Kitts and Nevis",
          "CanadaYukon",
          "Kosovo",
          "Burma",
          "United KingdomTurks and Caicos Islands"
         ],
         "legendgroup": "",
         "marker": {
          "color": [
           0,
           0,
           0,
           0,
           0,
           0,
           0,
           0,
           0,
           0,
           0,
           0,
           0,
           0,
           0,
           0,
           0,
           0,
           0,
           0,
           0,
           0,
           0,
           3,
           0,
           0,
           0,
           0,
           0,
           0,
           0,
           0,
           0,
           0,
           0,
           0,
           0,
           0,
           0,
           0,
           0,
           0,
           0,
           0,
           0,
           0,
           0,
           0,
           0,
           0,
           0,
           0,
           0,
           0,
           0,
           0,
           0,
           0,
           0,
           0,
           3,
           0,
           0,
           0,
           0,
           0,
           0,
           0,
           0,
           0,
           0,
           0,
           0,
           0,
           0,
           0,
           0,
           0,
           0,
           0,
           0,
           0,
           0,
           0,
           0,
           0,
           0,
           0,
           0,
           0,
           0,
           0,
           0,
           0,
           0,
           0,
           0,
           0,
           0,
           0,
           0,
           0,
           0,
           0,
           0,
           0,
           0,
           0,
           0,
           0,
           0,
           0,
           0,
           3,
           0,
           0,
           3,
           0,
           0,
           0,
           0,
           0,
           0,
           0,
           0,
           0,
           0,
           0,
           0,
           3,
           0,
           0,
           0,
           2,
           0,
           0,
           0,
           0,
           0,
           0,
           0,
           0,
           0,
           0,
           0,
           0,
           0,
           0,
           0,
           0,
           0,
           0,
           0,
           0,
           0,
           0,
           0,
           0,
           0,
           0,
           0,
           0,
           0,
           0,
           3,
           0,
           0,
           0,
           0,
           0,
           0,
           0,
           0,
           0,
           0,
           0,
           0,
           0,
           0,
           0,
           0,
           0,
           0,
           0,
           0,
           0,
           0,
           0,
           0,
           0,
           0,
           0,
           0,
           0,
           2,
           0,
           0,
           0,
           0,
           3,
           0,
           0,
           0,
           0,
           0,
           0,
           3,
           0,
           0,
           0,
           0,
           0,
           0,
           0,
           0,
           0,
           3,
           0,
           1,
           0,
           0,
           0,
           0,
           0,
           0,
           0,
           0,
           0,
           0,
           0,
           0,
           0,
           0,
           0,
           0,
           0,
           0,
           0
          ],
          "coloraxis": "coloraxis",
          "size": [
           174,
           243,
           716,
           376,
           7,
           7,
           1054,
           532,
           80,
           2032,
           17,
           743,
           337,
           69,
           917,
           364,
           10180,
           298,
           14,
           567,
           51,
           34,
           152,
           12775,
           9,
           107,
           420,
           5717,
           129,
           399,
           261,
           6,
           109,
           193,
           690,
           1013,
           13,
           103,
           70,
           152,
           147,
           1966,
           21,
           4162,
           184,
           7,
           2738,
           990,
           580,
           579,
           343,
           138,
           1494,
           254,
           146,
           168,
           321,
           484,
           1276,
           714,
           67801,
           1018,
           107,
           646,
           937,
           98,
           139,
           41,
           75,
           18,
           253,
           774,
           509,
           136,
           550,
           174,
           76,
           182,
           1257,
           906,
           19,
           98,
           347,
           179,
           867,
           712,
           186,
           262,
           3308,
           169,
           10,
           2860,
           30,
           1109,
           2240,
           710,
           32,
           12,
           15,
           745,
           9,
           26,
           5,
           1418,
           43,
           36,
           114,
           94,
           16,
           247,
           6,
           15,
           128,
           52128,
           16,
           110,
           71808,
           161,
           1314,
           38,
           22,
           12,
           15,
           6,
           141,
           492,
           1135,
           1397,
           1528,
           44605,
           694,
           3235,
           5358,
           105792,
           36,
           1953,
           274,
           343,
           59,
           9786,
           289,
           107,
           398,
           470,
           68,
           537,
           2178,
           57,
           2766,
           18,
           169,
           6,
           143,
           1094,
           353,
           52,
           12,
           109,
           617,
           11,
           5,
           55,
           11,
           6,
           12595,
           647,
           5,
           27,
           135,
           329,
           4641,
           192,
           1938,
           1181,
           65,
           1065,
           2084,
           2311,
           7443,
           781,
           2245,
           2337,
           75,
           13,
           236,
           1563,
           175,
           900,
           10,
           926,
           363,
           802,
           5,
           1353,
           95923,
           143,
           7,
           9,
           4435,
           16605,
           322,
           19,
           1651,
           34,
           87,
           394,
           13531,
           44,
           645,
           664,
           32,
           14,
           141,
           69,
           60,
           5,
           25150,
           338,
           188172,
           172,
           135,
           212,
           35,
           8,
           12,
           9,
           8,
           10,
           9,
           10,
           119,
           8,
           28,
           8,
           5,
           112,
           15,
           5
          ],
          "sizemode": "area",
          "sizeref": 52.27,
          "symbol": "circle"
         },
         "mode": "markers+text",
         "name": "",
         "showlegend": false,
         "text": [
          "Afghanistan",
          "Albania",
          "Algeria",
          "Andorra",
          "Angola",
          "Antigua and Barbuda",
          "Argentina",
          "Armenia",
          "AustraliaAustralian Capital Territory",
          "AustraliaNew South Wales",
          "AustraliaNorthern Territory",
          "AustraliaQueensland",
          "AustraliaSouth Australia",
          "AustraliaTasmania",
          "AustraliaVictoria",
          "AustraliaWestern Australia",
          "Austria",
          "Azerbaijan",
          "Bahamas",
          "Bahrain",
          "Bangladesh",
          "Barbados",
          "Belarus",
          "Belgium",
          "Benin",
          "Bolivia",
          "Bosnia and Herzegovina",
          "Brazil",
          "Brunei",
          "Bulgaria",
          "Burkina Faso",
          "Cabo Verde",
          "Cambodia",
          "Cameroon",
          "CanadaAlberta",
          "CanadaBritish Columbia",
          "CanadaGrand Princess",
          "CanadaManitoba",
          "CanadaNew Brunswick",
          "CanadaNewfoundland and Labrador",
          "CanadaNova Scotia",
          "CanadaOntario",
          "CanadaPrince Edward Island",
          "CanadaQuebec",
          "CanadaSaskatchewan",
          "Chad",
          "Chile",
          "ChinaAnhui",
          "ChinaBeijing",
          "ChinaChongqing",
          "ChinaFujian",
          "ChinaGansu",
          "ChinaGuangdong",
          "ChinaGuangxi",
          "ChinaGuizhou",
          "ChinaHainan",
          "ChinaHebei",
          "ChinaHeilongjiang",
          "ChinaHenan",
          "ChinaHong Kong",
          "ChinaHubei",
          "ChinaHunan",
          "ChinaInner Mongolia",
          "ChinaJiangsu",
          "ChinaJiangxi",
          "ChinaJilin",
          "ChinaLiaoning",
          "ChinaMacau",
          "ChinaNingxia",
          "ChinaQinghai",
          "ChinaShaanxi",
          "ChinaShandong",
          "ChinaShanghai",
          "ChinaShanxi",
          "ChinaSichuan",
          "ChinaTianjin",
          "ChinaXinjiang",
          "ChinaYunnan",
          "ChinaZhejiang",
          "Colombia",
          "Congo (Brazzaville)",
          "Congo (Kinshasa)",
          "Costa Rica",
          "Cote d'Ivoire",
          "Croatia",
          "Diamond Princess",
          "Cuba",
          "Cyprus",
          "Czechia",
          "DenmarkFaroe Islands",
          "DenmarkGreenland",
          "Denmark",
          "Djibouti",
          "Dominican Republic",
          "Ecuador",
          "Egypt",
          "El Salvador",
          "Equatorial Guinea",
          "Eritrea",
          "Estonia",
          "Eswatini",
          "Ethiopia",
          "Fiji",
          "Finland",
          "FranceFrench Guiana",
          "FranceFrench Polynesia",
          "FranceGuadeloupe",
          "FranceMayotte",
          "FranceNew Caledonia",
          "FranceReunion",
          "FranceSaint Barthelemy",
          "FranceSt Martin",
          "FranceMartinique",
          "France",
          "Gabon",
          "Georgia",
          "Germany",
          "Ghana",
          "Greece",
          "Guatemala",
          "Guinea",
          "Guyana",
          "Haiti",
          "Holy See",
          "Honduras",
          "Hungary",
          "Iceland",
          "India",
          "Indonesia",
          "Iran",
          "Iraq",
          "Ireland",
          "Israel",
          "Italy",
          "Jamaica",
          "Japan",
          "Jordan",
          "Kazakhstan",
          "Kenya",
          "Korea, South",
          "Kuwait",
          "Kyrgyzstan",
          "Latvia",
          "Lebanon",
          "Liechtenstein",
          "Lithuania",
          "Luxembourg",
          "Madagascar",
          "Malaysia",
          "Maldives",
          "Malta",
          "Mauritania",
          "Mauritius",
          "Mexico",
          "Moldova",
          "Monaco",
          "Mongolia",
          "Montenegro",
          "Morocco",
          "Namibia",
          "Nepal",
          "NetherlandsAruba",
          "NetherlandsCuracao",
          "NetherlandsSint Maarten",
          "Netherlands",
          "New Zealand",
          "Nicaragua",
          "Niger",
          "Nigeria",
          "North Macedonia",
          "Norway",
          "Oman",
          "Pakistan",
          "Panama",
          "Paraguay",
          "Peru",
          "Philippines",
          "Poland",
          "Portugal",
          "Qatar",
          "Romania",
          "Russia",
          "Rwanda",
          "Saint Lucia",
          "San Marino",
          "Saudi Arabia",
          "Senegal",
          "Serbia",
          "Seychelles",
          "Singapore",
          "Slovakia",
          "Slovenia",
          "Somalia",
          "South Africa",
          "Spain",
          "Sri Lanka",
          "Sudan",
          "Suriname",
          "Sweden",
          "Switzerland",
          "Taiwan*",
          "Tanzania",
          "Thailand",
          "Togo",
          "Trinidad and Tobago",
          "Tunisia",
          "Turkey",
          "Uganda",
          "Ukraine",
          "United Arab Emirates",
          "United KingdomBermuda",
          "United KingdomCayman Islands",
          "United KingdomChannel Islands",
          "United KingdomGibraltar",
          "United KingdomIsle of Man",
          "United KingdomMontserrat",
          "United Kingdom",
          "Uruguay",
          "US",
          "Uzbekistan",
          "Venezuela",
          "Vietnam",
          "Zambia",
          "Zimbabwe",
          "Dominica",
          "Grenada",
          "Mozambique",
          "Syria",
          "Laos",
          "Libya",
          "West Bank and Gaza",
          "Guinea-Bissau",
          "Mali",
          "Saint Kitts and Nevis",
          "CanadaYukon",
          "Kosovo",
          "Burma",
          "United KingdomTurks and Caicos Islands"
         ],
         "type": "scatter",
         "x": [
          0.004359347662564654,
          0.005176725349295527,
          0.011370033517512396,
          0.015548244517356369,
          0.0007858122882595585,
          0,
          0.022256449181477157,
          0.01571177457151687,
          0.004294013788612016,
          0.027480159074731014,
          0.0011966404670338542,
          0.0036347917599657735,
          0.0053736860520375886,
          0.001992661980849749,
          0.011836297591909604,
          0.008731986019222492,
          0.12724508403484705,
          0.005437704449156211,
          0.0013358808900412495,
          0.00460456486843547,
          0.0012575097714527961,
          0.0016163554298508154,
          0.002217736902421421,
          0.18919209303804807,
          0.0006741036786540333,
          0.0038551026376968936,
          0.010677411367112435,
          0.11103819201467914,
          0.00196069748997446,
          0.00922850284870677,
          0.010145216873183285,
          0.0003667124011877944,
          0.002256089808161038,
          0.010025880919173677,
          0.014806194379973586,
          0.007092704935272122,
          0.00010296850673745932,
          0.00470219933781123,
          0.002896732233576164,
          0.011772896827743202,
          0.006303608734933735,
          0.023919576632029767,
          0.004049955639491571,
          0.12818323375316895,
          0.007887273983611666,
          0.011001372035633821,
          0.06114233859258424,
          0.0006543276887921546,
          0.0007397991320624398,
          0.00035606120762364627,
          0.0003126334978857054,
          0.00016126497416244314,
          0.001271850830269084,
          0.0001614254750127538,
          9.596029416658127e-05,
          0.00010309871304885803,
          0.00023468306716428443,
          0.0003687475930981619,
          0.0008508009554524981,
          0.0021445834755500466,
          0.0643386330429453,
          0.0006082207942115399,
          0.00015993465839746787,
          0.0004709269900817358,
          0.0006152549195540168,
          7.337118089507576e-05,
          0.00011184202603022926,
          0.00010711846790688139,
          4.944713280774594e-05,
          4.981614126153511e-06,
          0.00016318004272930669,
          0.0006999211435667493,
          0.0007117291404080007,
          8.052850343872505e-05,
          0.00041274194383655025,
          0.00022022061669223103,
          5.0431155351183685e-05,
          0.00011445676788609374,
          0.0008255822063829235,
          0.024726254465455046,
          0,
          0.005492223423943347,
          0.006796985521090601,
          0.008887807949970178,
          0.010672484864638475,
          0.0006901858041517172,
          0.00969529781859552,
          0.006550991222612612,
          0.04988267950354734,
          0.003799633534996219,
          0.0005107779873687134,
          0.03717705032731429,
          0.005802921513301354,
          0.026059563615860187,
          0.030817222533027978,
          0.01128113543310107,
          0.00436125819984055,
          0.0002792655978276279,
          0.003300411610690147,
          0.011976063730012598,
          0.00030003741915364936,
          0.0009581840160068167,
          0,
          0.0177883633718424,
          0.0007453990848633527,
          0.0013370898320231878,
          0.00360649817135899,
          0.006739971009973292,
          0.0005932112372155492,
          0.00808801675734957,
          0.0005500686017816908,
          0.0008492287185401546,
          0.0042372231229682086,
          0.19457280070056898,
          0.0016791567843862155,
          0.0017911577042290033,
          0.2825645246721526,
          0.005861025075133792,
          0.015903992984564873,
          0.0013060742170383007,
          0.006234110820192498,
          0.00027096975457226164,
          0.0012133866215772598,
          0,
          0.0064145096627123,
          0.010566303900089563,
          0.014630988934590743,
          0.020357360609012415,
          0.031443213760957586,
          0.3232940007173501,
          0.007204150200755024,
          0.05340031061106068,
          0.07329178267057432,
          0.8089401517848392,
          0.000795499874553892,
          0.0060957171074832684,
          0.008269413672506835,
          0.013072218536459011,
          0.0034781260820350014,
          0.025330208236143775,
          0.0022430698181305714,
          0.007642257451631006,
          0.00853004933197695,
          0.00546461594556893,
          0.0018859494918229405,
          0.01720366286084417,
          0.051039587991353386,
          0.006768000933686492,
          0.009873858145898817,
          0.00019105372758953322,
          0.003355900258529192,
          0.0011787184323893381,
          0.00957728138675237,
          0.015703862261124468,
          0.01144998180095602,
          0.0018542635124576357,
          0.00020051761838347351,
          0.006663874563086496,
          0.017661610332467884,
          0.0006679404450206253,
          0,
          0.0037069840554853103,
          0.0009429747459114704,
          0,
          0.1592157091147835,
          0.014089614328493883,
          0,
          0.004835767927751129,
          0.007213353825562101,
          0.00795115774124788,
          0.04889263610451878,
          0.002343706273720377,
          0.028974510625091328,
          0.03351201917126435,
          0.0015754578071935541,
          0.022720224856200285,
          0.042557886790516135,
          0.04367096678470967,
          0.12818185921085645,
          0.008815787041518081,
          0.040710931156537546,
          0.048339331805079544,
          0.0027636511202418835,
          0.008801097628507054,
          0.002327584264698681,
          0.026556932430479383,
          0.0050077369152245,
          0.02315737312061308,
          0.00028772819170119236,
          0.002895301829838626,
          0.007565727612545516,
          0.012191113174329063,
          0,
          0.03256552320182635,
          1,
          0.003286327350616078,
          0.001571624576519117,
          0.0003088104431055108,
          0.046931665196470136,
          0.17975683452030222,
          0.0010084386027967788,
          0.0007531708547472385,
          0.00524617666475374,
          0.0015654126216712164,
          0.0030131836708435483,
          0.010300287922218314,
          0.5172444512201807,
          0.005042295516332168,
          0.03227216998356292,
          0.0027530220884028128,
          0.0031846076945255806,
          0.0013212432101619045,
          0.0061660915844883105,
          0.003411902926802186,
          0.005770895155534233,
          0,
          0.14338510416567563,
          0.011915195680529208,
          0.6655198763833681,
          0.007501338754942255,
          0.0036806060854510194,
          0.0007684194340229062,
          0.0041104027385884595,
          0.0011001372035633816,
          0.0006044709909688917,
          0.0006000748383072994,
          0.0003022354954844458,
          0.0012693890810346713,
          0.0009001122574609493,
          0.004400548814253527,
          0.0017353295437203394,
          0,
          0.007334248023755882,
          0.0055006860178169106,
          0,
          0.012401546658350854,
          0.003667124011877941,
          0
         ],
         "xaxis": "x",
         "y": [
          0.0019473929354658765,
          0.0010713914283212629,
          0.004905933138762428,
          0.002014693343921703,
          0.0003300178786344414,
          0.00042071873315539,
          0.008726810824844465,
          0.0029529287894214996,
          0.0007039970928903426,
          0.01329588745289803,
          0.00034626653490574857,
          0.0035211394727278156,
          0.0025340384435291203,
          0.0006704999536624603,
          0.0061512011083034845,
          0.002726378492329597,
          0.05442890978381105,
          0.0024210688821887003,
          0.00029900703860358957,
          0.002814288156854415,
          0.000317766101122321,
          0.0004496911996287072,
          0.0018314125923015179,
          0.08126512070990086,
          0.00027411037738435287,
          0.0008970770450508276,
          0.002973680044888375,
          0.040817907994852576,
          0.0009180942497704834,
          0.0018582185690273762,
          0.0014578422605641458,
          0.00031271879268851197,
          0.0013562253717544419,
          0.00256881959762165,
          0.0049737058563000865,
          0.00694880513499847,
          0.0003324281137658335,
          0.0012530678295385506,
          0.0008240589797507608,
          0.0019653568270426177,
          0.0010155340500111443,
          0.013388836292855841,
          0.00038551478097919337,
          0.03637445238081969,
          0.0019234734489747534,
          0.00024190860516249768,
          0.017740692329357592,
          0.0035688424294778543,
          0.0012789399424673468,
          0.002041212744532821,
          0.001061614635031507,
          0.0005703411043254803,
          0.0046133803159276445,
          0.0008882160640910341,
          0.0006734904924058962,
          0.000653494797932933,
          0.0010815026827365394,
          0.0018130254303784876,
          0.004557085695370244,
          0.0027121705887537,
          0.3294661200533221,
          0.003719201248854434,
          0.00039900451972148764,
          0.002117556137280095,
          0.0036089196171738593,
          0.00043927629351958516,
          0.0005504836237844044,
          0.0002133713213814768,
          0.000304985318637852,
          0.0001456479372232304,
          0.0009151600136460687,
          0.0041914523293503135,
          0.0013118613789945292,
          0.000642660024645007,
          0.001594252950218814,
          0.0005184544101544053,
          0.00028789475523500904,
          0.0006866990080909189,
          0.0049375576495326295,
          0.005798610021561291,
          0.0014444662611634855,
          0.0009201889187025619,
          0.0016505682053675897,
          0.002916291843756641,
          0.0048966702927677064,
          0.004370482582248,
          0.0016455054647020943,
          0.0014727295770980838,
          0.017864246243470754,
          0.0011187998323657054,
          0.0003096892089861242,
          0.011965935193464164,
          0.0007648086928896614,
          0.008985538533726144,
          0.014856046979493874,
          0.0030306174059153623,
          0.0003123026663662064,
          0.00029304465566780326,
          0.0004342392356880262,
          0.004567158048731046,
          0.0003695214981394436,
          0.00029003822859972916,
          0.0002821679271602495,
          0.006399705947079934,
          0.0005191268235217261,
          0.00043895385798966397,
          0.0011229513952573974,
          0.0010406618270716122,
          0.0004078330607687857,
          0.0019841646075825893,
          0.00031271879268851197,
          0.0003081104941547056,
          0.001333021414491769,
          0.24357930392807048,
          0.00046293888802049663,
          0.0005757008179966334,
          0.3166551539802004,
          0.0020075338631890963,
          0.005941741419231648,
          0.0002995019538040262,
          0.0005912343970231098,
          0.0008678793140288635,
          0.0004232867248534935,
          0.0004189979949295648,
          0.0014639621233193418,
          0.002839111994209554,
          0.004886506512750612,
          0.009040530991455811,
          0.007375115122598541,
          0.1495314910792147,
          0.0035397071438415086,
          0.018562520798296744,
          0.04171924009919401,
          0.3725441585086339,
          0.00033867098356401773,
          0.0066867295079870255,
          0.0014789990113566547,
          0.003409457886422301,
          0.0005572849143814449,
          0.03332696357201815,
          0.0011189343557786193,
          0.0014506425546862041,
          0.0019483338393618942,
          0.002296535090157639,
          0.0009816296149213455,
          0.003555255088363266,
          0.012639907297940763,
          0.0007937195004382538,
          0.010797806257804491,
          0.00023640357895168997,
          0.0008944789865796438,
          0.00033247157694360523,
          0.001307630376585871,
          0.007131037827416238,
          0.0021410013545251965,
          0.0006020776397682662,
          0.00024422698609390423,
          0.0010807624389475574,
          0.004194109128623729,
          0.00037767968875878656,
          0.00034916499577463734,
          0.0006227228967079476,
          0.0003318598531927596,
          0.00045614724036741646,
          0.0627376578422085,
          0.005067613131948123,
          0,
          0.0006060592241114999,
          0.0010462432628087779,
          0.0018320104112435423,
          0.017015706612817382,
          0.0011085644944183307,
          0.011103959777484988,
          0.008649618538811075,
          0.00048739996593181306,
          0.00729981271375165,
          0.01960518444576191,
          0.013146294143917164,
          0.049463365271262265,
          0.007373655770127768,
          0.01582982964049685,
          0.01946429208670178,
          0.0007295654767297397,
          0.0005937706393742216,
          0.0013284078344904648,
          0.009066420025960186,
          0.0009585077072914921,
          0.007509746694726986,
          0.0002619896503882661,
          0.0030514211062630226,
          0.0018029163611107079,
          0.0029628281646319025,
          0,
          0.011334609142912368,
          0.4988888437480746,
          0.0008539641199689498,
          0.0003096892089861242,
          0.0002440494310096609,
          0.018298814448226383,
          0.07782926670715119,
          0.0011730343368299865,
          0.0003775045576869286,
          0.007294049139974596,
          0.0004553546294465109,
          0.001514243956547558,
          0.0034293565210488765,
          0.13417814245178616,
          0.0006603397391195072,
          0.00634436256294883,
          0.0036943909335573942,
          0.00044925293070603923,
          0.00028558435177784673,
          0.0015312587000179047,
          0.0009172989559450061,
          0.0005769856911845348,
          0.0003005133808252785,
          0.13935798092857363,
          0.00198246606934123,
          1,
          0.001519837324908092,
          0.0012150272473154893,
          0.0007759346274886163,
          0.000590982968392976,
          0.0002991157486739341,
          0.0004108427033914234,
          0.0004137928488221537,
          0.0002783802664368188,
          0.0003208949505043138,
          0.0003452635884547505,
          0.0005482207547687057,
          0.0008225416474293409,
          0.0006450896137666605,
          0.0006085763244760358,
          0.00048381721032499537,
          0,
          0.003913602730545679,
          0.00045614724036741646,
          0.0004031810086041628
         ],
         "yaxis": "y"
        }
       ],
       "layout": {
        "coloraxis": {
         "colorbar": {
          "title": {
           "text": "clusterInfo"
          }
         },
         "colorscale": [
          [
           0,
           "#0d0887"
          ],
          [
           0.1111111111111111,
           "#46039f"
          ],
          [
           0.2222222222222222,
           "#7201a8"
          ],
          [
           0.3333333333333333,
           "#9c179e"
          ],
          [
           0.4444444444444444,
           "#bd3786"
          ],
          [
           0.5555555555555556,
           "#d8576b"
          ],
          [
           0.6666666666666666,
           "#ed7953"
          ],
          [
           0.7777777777777778,
           "#fb9f3a"
          ],
          [
           0.8888888888888888,
           "#fdca26"
          ],
          [
           1,
           "#f0f921"
          ]
         ]
        },
        "legend": {
         "itemsizing": "constant",
         "tracegroupgap": 0
        },
        "margin": {
         "t": 60
        },
        "showlegend": false,
        "template": {
         "data": {
          "bar": [
           {
            "error_x": {
             "color": "#2a3f5f"
            },
            "error_y": {
             "color": "#2a3f5f"
            },
            "marker": {
             "line": {
              "color": "#E5ECF6",
              "width": 0.5
             }
            },
            "type": "bar"
           }
          ],
          "barpolar": [
           {
            "marker": {
             "line": {
              "color": "#E5ECF6",
              "width": 0.5
             }
            },
            "type": "barpolar"
           }
          ],
          "carpet": [
           {
            "aaxis": {
             "endlinecolor": "#2a3f5f",
             "gridcolor": "white",
             "linecolor": "white",
             "minorgridcolor": "white",
             "startlinecolor": "#2a3f5f"
            },
            "baxis": {
             "endlinecolor": "#2a3f5f",
             "gridcolor": "white",
             "linecolor": "white",
             "minorgridcolor": "white",
             "startlinecolor": "#2a3f5f"
            },
            "type": "carpet"
           }
          ],
          "choropleth": [
           {
            "colorbar": {
             "outlinewidth": 0,
             "ticks": ""
            },
            "type": "choropleth"
           }
          ],
          "contour": [
           {
            "colorbar": {
             "outlinewidth": 0,
             "ticks": ""
            },
            "colorscale": [
             [
              0,
              "#0d0887"
             ],
             [
              0.1111111111111111,
              "#46039f"
             ],
             [
              0.2222222222222222,
              "#7201a8"
             ],
             [
              0.3333333333333333,
              "#9c179e"
             ],
             [
              0.4444444444444444,
              "#bd3786"
             ],
             [
              0.5555555555555556,
              "#d8576b"
             ],
             [
              0.6666666666666666,
              "#ed7953"
             ],
             [
              0.7777777777777778,
              "#fb9f3a"
             ],
             [
              0.8888888888888888,
              "#fdca26"
             ],
             [
              1,
              "#f0f921"
             ]
            ],
            "type": "contour"
           }
          ],
          "contourcarpet": [
           {
            "colorbar": {
             "outlinewidth": 0,
             "ticks": ""
            },
            "type": "contourcarpet"
           }
          ],
          "heatmap": [
           {
            "colorbar": {
             "outlinewidth": 0,
             "ticks": ""
            },
            "colorscale": [
             [
              0,
              "#0d0887"
             ],
             [
              0.1111111111111111,
              "#46039f"
             ],
             [
              0.2222222222222222,
              "#7201a8"
             ],
             [
              0.3333333333333333,
              "#9c179e"
             ],
             [
              0.4444444444444444,
              "#bd3786"
             ],
             [
              0.5555555555555556,
              "#d8576b"
             ],
             [
              0.6666666666666666,
              "#ed7953"
             ],
             [
              0.7777777777777778,
              "#fb9f3a"
             ],
             [
              0.8888888888888888,
              "#fdca26"
             ],
             [
              1,
              "#f0f921"
             ]
            ],
            "type": "heatmap"
           }
          ],
          "heatmapgl": [
           {
            "colorbar": {
             "outlinewidth": 0,
             "ticks": ""
            },
            "colorscale": [
             [
              0,
              "#0d0887"
             ],
             [
              0.1111111111111111,
              "#46039f"
             ],
             [
              0.2222222222222222,
              "#7201a8"
             ],
             [
              0.3333333333333333,
              "#9c179e"
             ],
             [
              0.4444444444444444,
              "#bd3786"
             ],
             [
              0.5555555555555556,
              "#d8576b"
             ],
             [
              0.6666666666666666,
              "#ed7953"
             ],
             [
              0.7777777777777778,
              "#fb9f3a"
             ],
             [
              0.8888888888888888,
              "#fdca26"
             ],
             [
              1,
              "#f0f921"
             ]
            ],
            "type": "heatmapgl"
           }
          ],
          "histogram": [
           {
            "marker": {
             "colorbar": {
              "outlinewidth": 0,
              "ticks": ""
             }
            },
            "type": "histogram"
           }
          ],
          "histogram2d": [
           {
            "colorbar": {
             "outlinewidth": 0,
             "ticks": ""
            },
            "colorscale": [
             [
              0,
              "#0d0887"
             ],
             [
              0.1111111111111111,
              "#46039f"
             ],
             [
              0.2222222222222222,
              "#7201a8"
             ],
             [
              0.3333333333333333,
              "#9c179e"
             ],
             [
              0.4444444444444444,
              "#bd3786"
             ],
             [
              0.5555555555555556,
              "#d8576b"
             ],
             [
              0.6666666666666666,
              "#ed7953"
             ],
             [
              0.7777777777777778,
              "#fb9f3a"
             ],
             [
              0.8888888888888888,
              "#fdca26"
             ],
             [
              1,
              "#f0f921"
             ]
            ],
            "type": "histogram2d"
           }
          ],
          "histogram2dcontour": [
           {
            "colorbar": {
             "outlinewidth": 0,
             "ticks": ""
            },
            "colorscale": [
             [
              0,
              "#0d0887"
             ],
             [
              0.1111111111111111,
              "#46039f"
             ],
             [
              0.2222222222222222,
              "#7201a8"
             ],
             [
              0.3333333333333333,
              "#9c179e"
             ],
             [
              0.4444444444444444,
              "#bd3786"
             ],
             [
              0.5555555555555556,
              "#d8576b"
             ],
             [
              0.6666666666666666,
              "#ed7953"
             ],
             [
              0.7777777777777778,
              "#fb9f3a"
             ],
             [
              0.8888888888888888,
              "#fdca26"
             ],
             [
              1,
              "#f0f921"
             ]
            ],
            "type": "histogram2dcontour"
           }
          ],
          "mesh3d": [
           {
            "colorbar": {
             "outlinewidth": 0,
             "ticks": ""
            },
            "type": "mesh3d"
           }
          ],
          "parcoords": [
           {
            "line": {
             "colorbar": {
              "outlinewidth": 0,
              "ticks": ""
             }
            },
            "type": "parcoords"
           }
          ],
          "pie": [
           {
            "automargin": true,
            "type": "pie"
           }
          ],
          "scatter": [
           {
            "marker": {
             "colorbar": {
              "outlinewidth": 0,
              "ticks": ""
             }
            },
            "type": "scatter"
           }
          ],
          "scatter3d": [
           {
            "line": {
             "colorbar": {
              "outlinewidth": 0,
              "ticks": ""
             }
            },
            "marker": {
             "colorbar": {
              "outlinewidth": 0,
              "ticks": ""
             }
            },
            "type": "scatter3d"
           }
          ],
          "scattercarpet": [
           {
            "marker": {
             "colorbar": {
              "outlinewidth": 0,
              "ticks": ""
             }
            },
            "type": "scattercarpet"
           }
          ],
          "scattergeo": [
           {
            "marker": {
             "colorbar": {
              "outlinewidth": 0,
              "ticks": ""
             }
            },
            "type": "scattergeo"
           }
          ],
          "scattergl": [
           {
            "marker": {
             "colorbar": {
              "outlinewidth": 0,
              "ticks": ""
             }
            },
            "type": "scattergl"
           }
          ],
          "scattermapbox": [
           {
            "marker": {
             "colorbar": {
              "outlinewidth": 0,
              "ticks": ""
             }
            },
            "type": "scattermapbox"
           }
          ],
          "scatterpolar": [
           {
            "marker": {
             "colorbar": {
              "outlinewidth": 0,
              "ticks": ""
             }
            },
            "type": "scatterpolar"
           }
          ],
          "scatterpolargl": [
           {
            "marker": {
             "colorbar": {
              "outlinewidth": 0,
              "ticks": ""
             }
            },
            "type": "scatterpolargl"
           }
          ],
          "scatterternary": [
           {
            "marker": {
             "colorbar": {
              "outlinewidth": 0,
              "ticks": ""
             }
            },
            "type": "scatterternary"
           }
          ],
          "surface": [
           {
            "colorbar": {
             "outlinewidth": 0,
             "ticks": ""
            },
            "colorscale": [
             [
              0,
              "#0d0887"
             ],
             [
              0.1111111111111111,
              "#46039f"
             ],
             [
              0.2222222222222222,
              "#7201a8"
             ],
             [
              0.3333333333333333,
              "#9c179e"
             ],
             [
              0.4444444444444444,
              "#bd3786"
             ],
             [
              0.5555555555555556,
              "#d8576b"
             ],
             [
              0.6666666666666666,
              "#ed7953"
             ],
             [
              0.7777777777777778,
              "#fb9f3a"
             ],
             [
              0.8888888888888888,
              "#fdca26"
             ],
             [
              1,
              "#f0f921"
             ]
            ],
            "type": "surface"
           }
          ],
          "table": [
           {
            "cells": {
             "fill": {
              "color": "#EBF0F8"
             },
             "line": {
              "color": "white"
             }
            },
            "header": {
             "fill": {
              "color": "#C8D4E3"
             },
             "line": {
              "color": "white"
             }
            },
            "type": "table"
           }
          ]
         },
         "layout": {
          "annotationdefaults": {
           "arrowcolor": "#2a3f5f",
           "arrowhead": 0,
           "arrowwidth": 1
          },
          "coloraxis": {
           "colorbar": {
            "outlinewidth": 0,
            "ticks": ""
           }
          },
          "colorscale": {
           "diverging": [
            [
             0,
             "#8e0152"
            ],
            [
             0.1,
             "#c51b7d"
            ],
            [
             0.2,
             "#de77ae"
            ],
            [
             0.3,
             "#f1b6da"
            ],
            [
             0.4,
             "#fde0ef"
            ],
            [
             0.5,
             "#f7f7f7"
            ],
            [
             0.6,
             "#e6f5d0"
            ],
            [
             0.7,
             "#b8e186"
            ],
            [
             0.8,
             "#7fbc41"
            ],
            [
             0.9,
             "#4d9221"
            ],
            [
             1,
             "#276419"
            ]
           ],
           "sequential": [
            [
             0,
             "#0d0887"
            ],
            [
             0.1111111111111111,
             "#46039f"
            ],
            [
             0.2222222222222222,
             "#7201a8"
            ],
            [
             0.3333333333333333,
             "#9c179e"
            ],
            [
             0.4444444444444444,
             "#bd3786"
            ],
            [
             0.5555555555555556,
             "#d8576b"
            ],
            [
             0.6666666666666666,
             "#ed7953"
            ],
            [
             0.7777777777777778,
             "#fb9f3a"
            ],
            [
             0.8888888888888888,
             "#fdca26"
            ],
            [
             1,
             "#f0f921"
            ]
           ],
           "sequentialminus": [
            [
             0,
             "#0d0887"
            ],
            [
             0.1111111111111111,
             "#46039f"
            ],
            [
             0.2222222222222222,
             "#7201a8"
            ],
            [
             0.3333333333333333,
             "#9c179e"
            ],
            [
             0.4444444444444444,
             "#bd3786"
            ],
            [
             0.5555555555555556,
             "#d8576b"
            ],
            [
             0.6666666666666666,
             "#ed7953"
            ],
            [
             0.7777777777777778,
             "#fb9f3a"
            ],
            [
             0.8888888888888888,
             "#fdca26"
            ],
            [
             1,
             "#f0f921"
            ]
           ]
          },
          "colorway": [
           "#636efa",
           "#EF553B",
           "#00cc96",
           "#ab63fa",
           "#FFA15A",
           "#19d3f3",
           "#FF6692",
           "#B6E880",
           "#FF97FF",
           "#FECB52"
          ],
          "font": {
           "color": "#2a3f5f"
          },
          "geo": {
           "bgcolor": "white",
           "lakecolor": "white",
           "landcolor": "#E5ECF6",
           "showlakes": true,
           "showland": true,
           "subunitcolor": "white"
          },
          "hoverlabel": {
           "align": "left"
          },
          "hovermode": "closest",
          "mapbox": {
           "style": "light"
          },
          "paper_bgcolor": "white",
          "plot_bgcolor": "#E5ECF6",
          "polar": {
           "angularaxis": {
            "gridcolor": "white",
            "linecolor": "white",
            "ticks": ""
           },
           "bgcolor": "#E5ECF6",
           "radialaxis": {
            "gridcolor": "white",
            "linecolor": "white",
            "ticks": ""
           }
          },
          "scene": {
           "xaxis": {
            "backgroundcolor": "#E5ECF6",
            "gridcolor": "white",
            "gridwidth": 2,
            "linecolor": "white",
            "showbackground": true,
            "ticks": "",
            "zerolinecolor": "white"
           },
           "yaxis": {
            "backgroundcolor": "#E5ECF6",
            "gridcolor": "white",
            "gridwidth": 2,
            "linecolor": "white",
            "showbackground": true,
            "ticks": "",
            "zerolinecolor": "white"
           },
           "zaxis": {
            "backgroundcolor": "#E5ECF6",
            "gridcolor": "white",
            "gridwidth": 2,
            "linecolor": "white",
            "showbackground": true,
            "ticks": "",
            "zerolinecolor": "white"
           }
          },
          "shapedefaults": {
           "line": {
            "color": "#2a3f5f"
           }
          },
          "ternary": {
           "aaxis": {
            "gridcolor": "white",
            "linecolor": "white",
            "ticks": ""
           },
           "baxis": {
            "gridcolor": "white",
            "linecolor": "white",
            "ticks": ""
           },
           "bgcolor": "#E5ECF6",
           "caxis": {
            "gridcolor": "white",
            "linecolor": "white",
            "ticks": ""
           }
          },
          "title": {
           "x": 0.05
          },
          "xaxis": {
           "automargin": true,
           "gridcolor": "white",
           "linecolor": "white",
           "ticks": "",
           "title": {
            "standoff": 15
           },
           "zerolinecolor": "white",
           "zerolinewidth": 2
          },
          "yaxis": {
           "automargin": true,
           "gridcolor": "white",
           "linecolor": "white",
           "ticks": "",
           "title": {
            "standoff": 15
           },
           "zerolinecolor": "white",
           "zerolinewidth": 2
          }
         }
        },
        "title": {
         "text": "ALl Countries Cluster Variance vs Slope"
        },
        "xaxis": {
         "anchor": "y",
         "domain": [
          0,
          1
         ],
         "title": {
          "text": "scaledSlope"
         },
         "type": "log"
        },
        "yaxis": {
         "anchor": "x",
         "domain": [
          0,
          1
         ],
         "title": {
          "text": "stdVal"
         }
        }
       }
      },
      "text/html": [
       "<div>\n",
       "        \n",
       "        \n",
       "            <div id=\"b73d5491-4185-49f5-8cd4-c54de9023549\" class=\"plotly-graph-div\" style=\"height:525px; width:100%;\"></div>\n",
       "            <script type=\"text/javascript\">\n",
       "                require([\"plotly\"], function(Plotly) {\n",
       "                    window.PLOTLYENV=window.PLOTLYENV || {};\n",
       "                    \n",
       "                if (document.getElementById(\"b73d5491-4185-49f5-8cd4-c54de9023549\")) {\n",
       "                    Plotly.newPlot(\n",
       "                        'b73d5491-4185-49f5-8cd4-c54de9023549',\n",
       "                        [{\"hoverlabel\": {\"namelength\": 0}, \"hovertemplate\": \"<b>%{hovertext}</b><br><br>scaledSlope=%{x}<br>stdVal=%{y}<br>lastValue=%{marker.size}<br>countryName=%{text}<br>clusterInfo=%{marker.color}\", \"hovertext\": [\"Afghanistan\", \"Albania\", \"Algeria\", \"Andorra\", \"Angola\", \"Antigua and Barbuda\", \"Argentina\", \"Armenia\", \"AustraliaAustralian Capital Territory\", \"AustraliaNew South Wales\", \"AustraliaNorthern Territory\", \"AustraliaQueensland\", \"AustraliaSouth Australia\", \"AustraliaTasmania\", \"AustraliaVictoria\", \"AustraliaWestern Australia\", \"Austria\", \"Azerbaijan\", \"Bahamas\", \"Bahrain\", \"Bangladesh\", \"Barbados\", \"Belarus\", \"Belgium\", \"Benin\", \"Bolivia\", \"Bosnia and Herzegovina\", \"Brazil\", \"Brunei\", \"Bulgaria\", \"Burkina Faso\", \"Cabo Verde\", \"Cambodia\", \"Cameroon\", \"CanadaAlberta\", \"CanadaBritish Columbia\", \"CanadaGrand Princess\", \"CanadaManitoba\", \"CanadaNew Brunswick\", \"CanadaNewfoundland and Labrador\", \"CanadaNova Scotia\", \"CanadaOntario\", \"CanadaPrince Edward Island\", \"CanadaQuebec\", \"CanadaSaskatchewan\", \"Chad\", \"Chile\", \"ChinaAnhui\", \"ChinaBeijing\", \"ChinaChongqing\", \"ChinaFujian\", \"ChinaGansu\", \"ChinaGuangdong\", \"ChinaGuangxi\", \"ChinaGuizhou\", \"ChinaHainan\", \"ChinaHebei\", \"ChinaHeilongjiang\", \"ChinaHenan\", \"ChinaHong Kong\", \"ChinaHubei\", \"ChinaHunan\", \"ChinaInner Mongolia\", \"ChinaJiangsu\", \"ChinaJiangxi\", \"ChinaJilin\", \"ChinaLiaoning\", \"ChinaMacau\", \"ChinaNingxia\", \"ChinaQinghai\", \"ChinaShaanxi\", \"ChinaShandong\", \"ChinaShanghai\", \"ChinaShanxi\", \"ChinaSichuan\", \"ChinaTianjin\", \"ChinaXinjiang\", \"ChinaYunnan\", \"ChinaZhejiang\", \"Colombia\", \"Congo (Brazzaville)\", \"Congo (Kinshasa)\", \"Costa Rica\", \"Cote d'Ivoire\", \"Croatia\", \"Diamond Princess\", \"Cuba\", \"Cyprus\", \"Czechia\", \"DenmarkFaroe Islands\", \"DenmarkGreenland\", \"Denmark\", \"Djibouti\", \"Dominican Republic\", \"Ecuador\", \"Egypt\", \"El Salvador\", \"Equatorial Guinea\", \"Eritrea\", \"Estonia\", \"Eswatini\", \"Ethiopia\", \"Fiji\", \"Finland\", \"FranceFrench Guiana\", \"FranceFrench Polynesia\", \"FranceGuadeloupe\", \"FranceMayotte\", \"FranceNew Caledonia\", \"FranceReunion\", \"FranceSaint Barthelemy\", \"FranceSt Martin\", \"FranceMartinique\", \"France\", \"Gabon\", \"Georgia\", \"Germany\", \"Ghana\", \"Greece\", \"Guatemala\", \"Guinea\", \"Guyana\", \"Haiti\", \"Holy See\", \"Honduras\", \"Hungary\", \"Iceland\", \"India\", \"Indonesia\", \"Iran\", \"Iraq\", \"Ireland\", \"Israel\", \"Italy\", \"Jamaica\", \"Japan\", \"Jordan\", \"Kazakhstan\", \"Kenya\", \"Korea, South\", \"Kuwait\", \"Kyrgyzstan\", \"Latvia\", \"Lebanon\", \"Liechtenstein\", \"Lithuania\", \"Luxembourg\", \"Madagascar\", \"Malaysia\", \"Maldives\", \"Malta\", \"Mauritania\", \"Mauritius\", \"Mexico\", \"Moldova\", \"Monaco\", \"Mongolia\", \"Montenegro\", \"Morocco\", \"Namibia\", \"Nepal\", \"NetherlandsAruba\", \"NetherlandsCuracao\", \"NetherlandsSint Maarten\", \"Netherlands\", \"New Zealand\", \"Nicaragua\", \"Niger\", \"Nigeria\", \"North Macedonia\", \"Norway\", \"Oman\", \"Pakistan\", \"Panama\", \"Paraguay\", \"Peru\", \"Philippines\", \"Poland\", \"Portugal\", \"Qatar\", \"Romania\", \"Russia\", \"Rwanda\", \"Saint Lucia\", \"San Marino\", \"Saudi Arabia\", \"Senegal\", \"Serbia\", \"Seychelles\", \"Singapore\", \"Slovakia\", \"Slovenia\", \"Somalia\", \"South Africa\", \"Spain\", \"Sri Lanka\", \"Sudan\", \"Suriname\", \"Sweden\", \"Switzerland\", \"Taiwan*\", \"Tanzania\", \"Thailand\", \"Togo\", \"Trinidad and Tobago\", \"Tunisia\", \"Turkey\", \"Uganda\", \"Ukraine\", \"United Arab Emirates\", \"United KingdomBermuda\", \"United KingdomCayman Islands\", \"United KingdomChannel Islands\", \"United KingdomGibraltar\", \"United KingdomIsle of Man\", \"United KingdomMontserrat\", \"United Kingdom\", \"Uruguay\", \"US\", \"Uzbekistan\", \"Venezuela\", \"Vietnam\", \"Zambia\", \"Zimbabwe\", \"Dominica\", \"Grenada\", \"Mozambique\", \"Syria\", \"Laos\", \"Libya\", \"West Bank and Gaza\", \"Guinea-Bissau\", \"Mali\", \"Saint Kitts and Nevis\", \"CanadaYukon\", \"Kosovo\", \"Burma\", \"United KingdomTurks and Caicos Islands\"], \"legendgroup\": \"\", \"marker\": {\"color\": [0, 0, 0, 0, 0, 0, 0, 0, 0, 0, 0, 0, 0, 0, 0, 0, 0, 0, 0, 0, 0, 0, 0, 3, 0, 0, 0, 0, 0, 0, 0, 0, 0, 0, 0, 0, 0, 0, 0, 0, 0, 0, 0, 0, 0, 0, 0, 0, 0, 0, 0, 0, 0, 0, 0, 0, 0, 0, 0, 0, 3, 0, 0, 0, 0, 0, 0, 0, 0, 0, 0, 0, 0, 0, 0, 0, 0, 0, 0, 0, 0, 0, 0, 0, 0, 0, 0, 0, 0, 0, 0, 0, 0, 0, 0, 0, 0, 0, 0, 0, 0, 0, 0, 0, 0, 0, 0, 0, 0, 0, 0, 0, 0, 3, 0, 0, 3, 0, 0, 0, 0, 0, 0, 0, 0, 0, 0, 0, 0, 3, 0, 0, 0, 2, 0, 0, 0, 0, 0, 0, 0, 0, 0, 0, 0, 0, 0, 0, 0, 0, 0, 0, 0, 0, 0, 0, 0, 0, 0, 0, 0, 0, 0, 0, 3, 0, 0, 0, 0, 0, 0, 0, 0, 0, 0, 0, 0, 0, 0, 0, 0, 0, 0, 0, 0, 0, 0, 0, 0, 0, 0, 0, 0, 0, 2, 0, 0, 0, 0, 3, 0, 0, 0, 0, 0, 0, 3, 0, 0, 0, 0, 0, 0, 0, 0, 0, 3, 0, 1, 0, 0, 0, 0, 0, 0, 0, 0, 0, 0, 0, 0, 0, 0, 0, 0, 0, 0, 0], \"coloraxis\": \"coloraxis\", \"size\": [174, 243, 716, 376, 7, 7, 1054, 532, 80, 2032, 17, 743, 337, 69, 917, 364, 10180, 298, 14, 567, 51, 34, 152, 12775, 9, 107, 420, 5717, 129, 399, 261, 6, 109, 193, 690, 1013, 13, 103, 70, 152, 147, 1966, 21, 4162, 184, 7, 2738, 990, 580, 579, 343, 138, 1494, 254, 146, 168, 321, 484, 1276, 714, 67801, 1018, 107, 646, 937, 98, 139, 41, 75, 18, 253, 774, 509, 136, 550, 174, 76, 182, 1257, 906, 19, 98, 347, 179, 867, 712, 186, 262, 3308, 169, 10, 2860, 30, 1109, 2240, 710, 32, 12, 15, 745, 9, 26, 5, 1418, 43, 36, 114, 94, 16, 247, 6, 15, 128, 52128, 16, 110, 71808, 161, 1314, 38, 22, 12, 15, 6, 141, 492, 1135, 1397, 1528, 44605, 694, 3235, 5358, 105792, 36, 1953, 274, 343, 59, 9786, 289, 107, 398, 470, 68, 537, 2178, 57, 2766, 18, 169, 6, 143, 1094, 353, 52, 12, 109, 617, 11, 5, 55, 11, 6, 12595, 647, 5, 27, 135, 329, 4641, 192, 1938, 1181, 65, 1065, 2084, 2311, 7443, 781, 2245, 2337, 75, 13, 236, 1563, 175, 900, 10, 926, 363, 802, 5, 1353, 95923, 143, 7, 9, 4435, 16605, 322, 19, 1651, 34, 87, 394, 13531, 44, 645, 664, 32, 14, 141, 69, 60, 5, 25150, 338, 188172, 172, 135, 212, 35, 8, 12, 9, 8, 10, 9, 10, 119, 8, 28, 8, 5, 112, 15, 5], \"sizemode\": \"area\", \"sizeref\": 52.27, \"symbol\": \"circle\"}, \"mode\": \"markers+text\", \"name\": \"\", \"showlegend\": false, \"text\": [\"Afghanistan\", \"Albania\", \"Algeria\", \"Andorra\", \"Angola\", \"Antigua and Barbuda\", \"Argentina\", \"Armenia\", \"AustraliaAustralian Capital Territory\", \"AustraliaNew South Wales\", \"AustraliaNorthern Territory\", \"AustraliaQueensland\", \"AustraliaSouth Australia\", \"AustraliaTasmania\", \"AustraliaVictoria\", \"AustraliaWestern Australia\", \"Austria\", \"Azerbaijan\", \"Bahamas\", \"Bahrain\", \"Bangladesh\", \"Barbados\", \"Belarus\", \"Belgium\", \"Benin\", \"Bolivia\", \"Bosnia and Herzegovina\", \"Brazil\", \"Brunei\", \"Bulgaria\", \"Burkina Faso\", \"Cabo Verde\", \"Cambodia\", \"Cameroon\", \"CanadaAlberta\", \"CanadaBritish Columbia\", \"CanadaGrand Princess\", \"CanadaManitoba\", \"CanadaNew Brunswick\", \"CanadaNewfoundland and Labrador\", \"CanadaNova Scotia\", \"CanadaOntario\", \"CanadaPrince Edward Island\", \"CanadaQuebec\", \"CanadaSaskatchewan\", \"Chad\", \"Chile\", \"ChinaAnhui\", \"ChinaBeijing\", \"ChinaChongqing\", \"ChinaFujian\", \"ChinaGansu\", \"ChinaGuangdong\", \"ChinaGuangxi\", \"ChinaGuizhou\", \"ChinaHainan\", \"ChinaHebei\", \"ChinaHeilongjiang\", \"ChinaHenan\", \"ChinaHong Kong\", \"ChinaHubei\", \"ChinaHunan\", \"ChinaInner Mongolia\", \"ChinaJiangsu\", \"ChinaJiangxi\", \"ChinaJilin\", \"ChinaLiaoning\", \"ChinaMacau\", \"ChinaNingxia\", \"ChinaQinghai\", \"ChinaShaanxi\", \"ChinaShandong\", \"ChinaShanghai\", \"ChinaShanxi\", \"ChinaSichuan\", \"ChinaTianjin\", \"ChinaXinjiang\", \"ChinaYunnan\", \"ChinaZhejiang\", \"Colombia\", \"Congo (Brazzaville)\", \"Congo (Kinshasa)\", \"Costa Rica\", \"Cote d'Ivoire\", \"Croatia\", \"Diamond Princess\", \"Cuba\", \"Cyprus\", \"Czechia\", \"DenmarkFaroe Islands\", \"DenmarkGreenland\", \"Denmark\", \"Djibouti\", \"Dominican Republic\", \"Ecuador\", \"Egypt\", \"El Salvador\", \"Equatorial Guinea\", \"Eritrea\", \"Estonia\", \"Eswatini\", \"Ethiopia\", \"Fiji\", \"Finland\", \"FranceFrench Guiana\", \"FranceFrench Polynesia\", \"FranceGuadeloupe\", \"FranceMayotte\", \"FranceNew Caledonia\", \"FranceReunion\", \"FranceSaint Barthelemy\", \"FranceSt Martin\", \"FranceMartinique\", \"France\", \"Gabon\", \"Georgia\", \"Germany\", \"Ghana\", \"Greece\", \"Guatemala\", \"Guinea\", \"Guyana\", \"Haiti\", \"Holy See\", \"Honduras\", \"Hungary\", \"Iceland\", \"India\", \"Indonesia\", \"Iran\", \"Iraq\", \"Ireland\", \"Israel\", \"Italy\", \"Jamaica\", \"Japan\", \"Jordan\", \"Kazakhstan\", \"Kenya\", \"Korea, South\", \"Kuwait\", \"Kyrgyzstan\", \"Latvia\", \"Lebanon\", \"Liechtenstein\", \"Lithuania\", \"Luxembourg\", \"Madagascar\", \"Malaysia\", \"Maldives\", \"Malta\", \"Mauritania\", \"Mauritius\", \"Mexico\", \"Moldova\", \"Monaco\", \"Mongolia\", \"Montenegro\", \"Morocco\", \"Namibia\", \"Nepal\", \"NetherlandsAruba\", \"NetherlandsCuracao\", \"NetherlandsSint Maarten\", \"Netherlands\", \"New Zealand\", \"Nicaragua\", \"Niger\", \"Nigeria\", \"North Macedonia\", \"Norway\", \"Oman\", \"Pakistan\", \"Panama\", \"Paraguay\", \"Peru\", \"Philippines\", \"Poland\", \"Portugal\", \"Qatar\", \"Romania\", \"Russia\", \"Rwanda\", \"Saint Lucia\", \"San Marino\", \"Saudi Arabia\", \"Senegal\", \"Serbia\", \"Seychelles\", \"Singapore\", \"Slovakia\", \"Slovenia\", \"Somalia\", \"South Africa\", \"Spain\", \"Sri Lanka\", \"Sudan\", \"Suriname\", \"Sweden\", \"Switzerland\", \"Taiwan*\", \"Tanzania\", \"Thailand\", \"Togo\", \"Trinidad and Tobago\", \"Tunisia\", \"Turkey\", \"Uganda\", \"Ukraine\", \"United Arab Emirates\", \"United KingdomBermuda\", \"United KingdomCayman Islands\", \"United KingdomChannel Islands\", \"United KingdomGibraltar\", \"United KingdomIsle of Man\", \"United KingdomMontserrat\", \"United Kingdom\", \"Uruguay\", \"US\", \"Uzbekistan\", \"Venezuela\", \"Vietnam\", \"Zambia\", \"Zimbabwe\", \"Dominica\", \"Grenada\", \"Mozambique\", \"Syria\", \"Laos\", \"Libya\", \"West Bank and Gaza\", \"Guinea-Bissau\", \"Mali\", \"Saint Kitts and Nevis\", \"CanadaYukon\", \"Kosovo\", \"Burma\", \"United KingdomTurks and Caicos Islands\"], \"type\": \"scatter\", \"x\": [0.004359347662564654, 0.005176725349295527, 0.011370033517512396, 0.015548244517356369, 0.0007858122882595585, 0.0, 0.022256449181477157, 0.01571177457151687, 0.004294013788612016, 0.027480159074731014, 0.0011966404670338542, 0.0036347917599657735, 0.0053736860520375886, 0.001992661980849749, 0.011836297591909604, 0.008731986019222492, 0.12724508403484705, 0.005437704449156211, 0.0013358808900412495, 0.00460456486843547, 0.0012575097714527961, 0.0016163554298508154, 0.002217736902421421, 0.18919209303804807, 0.0006741036786540333, 0.0038551026376968936, 0.010677411367112435, 0.11103819201467914, 0.00196069748997446, 0.00922850284870677, 0.010145216873183285, 0.0003667124011877944, 0.002256089808161038, 0.010025880919173677, 0.014806194379973586, 0.007092704935272122, 0.00010296850673745932, 0.00470219933781123, 0.002896732233576164, 0.011772896827743202, 0.006303608734933735, 0.023919576632029767, 0.004049955639491571, 0.12818323375316895, 0.007887273983611666, 0.011001372035633821, 0.06114233859258424, 0.0006543276887921546, 0.0007397991320624398, 0.00035606120762364627, 0.0003126334978857054, 0.00016126497416244314, 0.001271850830269084, 0.0001614254750127538, 9.596029416658127e-05, 0.00010309871304885803, 0.00023468306716428443, 0.0003687475930981619, 0.0008508009554524981, 0.0021445834755500466, 0.0643386330429453, 0.0006082207942115399, 0.00015993465839746787, 0.0004709269900817358, 0.0006152549195540168, 7.337118089507576e-05, 0.00011184202603022926, 0.00010711846790688139, 4.944713280774594e-05, 4.981614126153511e-06, 0.00016318004272930669, 0.0006999211435667493, 0.0007117291404080007, 8.052850343872505e-05, 0.00041274194383655025, 0.00022022061669223103, 5.0431155351183685e-05, 0.00011445676788609374, 0.0008255822063829235, 0.024726254465455046, 0.0, 0.005492223423943347, 0.006796985521090601, 0.008887807949970178, 0.010672484864638475, 0.0006901858041517172, 0.00969529781859552, 0.006550991222612612, 0.04988267950354734, 0.003799633534996219, 0.0005107779873687134, 0.03717705032731429, 0.005802921513301354, 0.026059563615860187, 0.030817222533027978, 0.01128113543310107, 0.00436125819984055, 0.0002792655978276279, 0.003300411610690147, 0.011976063730012598, 0.00030003741915364936, 0.0009581840160068167, 0.0, 0.0177883633718424, 0.0007453990848633527, 0.0013370898320231878, 0.00360649817135899, 0.006739971009973292, 0.0005932112372155492, 0.00808801675734957, 0.0005500686017816908, 0.0008492287185401546, 0.0042372231229682086, 0.19457280070056898, 0.0016791567843862155, 0.0017911577042290033, 0.2825645246721526, 0.005861025075133792, 0.015903992984564873, 0.0013060742170383007, 0.006234110820192498, 0.00027096975457226164, 0.0012133866215772598, 0.0, 0.0064145096627123, 0.010566303900089563, 0.014630988934590743, 0.020357360609012415, 0.031443213760957586, 0.3232940007173501, 0.007204150200755024, 0.05340031061106068, 0.07329178267057432, 0.8089401517848392, 0.000795499874553892, 0.0060957171074832684, 0.008269413672506835, 0.013072218536459011, 0.0034781260820350014, 0.025330208236143775, 0.0022430698181305714, 0.007642257451631006, 0.00853004933197695, 0.00546461594556893, 0.0018859494918229405, 0.01720366286084417, 0.051039587991353386, 0.006768000933686492, 0.009873858145898817, 0.00019105372758953322, 0.003355900258529192, 0.0011787184323893381, 0.00957728138675237, 0.015703862261124468, 0.01144998180095602, 0.0018542635124576357, 0.00020051761838347351, 0.006663874563086496, 0.017661610332467884, 0.0006679404450206253, 0.0, 0.0037069840554853103, 0.0009429747459114704, 0.0, 0.1592157091147835, 0.014089614328493883, 0.0, 0.004835767927751129, 0.007213353825562101, 0.00795115774124788, 0.04889263610451878, 0.002343706273720377, 0.028974510625091328, 0.03351201917126435, 0.0015754578071935541, 0.022720224856200285, 0.042557886790516135, 0.04367096678470967, 0.12818185921085645, 0.008815787041518081, 0.040710931156537546, 0.048339331805079544, 0.0027636511202418835, 0.008801097628507054, 0.002327584264698681, 0.026556932430479383, 0.0050077369152245, 0.02315737312061308, 0.00028772819170119236, 0.002895301829838626, 0.007565727612545516, 0.012191113174329063, 0.0, 0.03256552320182635, 1.0, 0.003286327350616078, 0.001571624576519117, 0.0003088104431055108, 0.046931665196470136, 0.17975683452030222, 0.0010084386027967788, 0.0007531708547472385, 0.00524617666475374, 0.0015654126216712164, 0.0030131836708435483, 0.010300287922218314, 0.5172444512201807, 0.005042295516332168, 0.03227216998356292, 0.0027530220884028128, 0.0031846076945255806, 0.0013212432101619045, 0.0061660915844883105, 0.003411902926802186, 0.005770895155534233, 0.0, 0.14338510416567563, 0.011915195680529208, 0.6655198763833681, 0.007501338754942255, 0.0036806060854510194, 0.0007684194340229062, 0.0041104027385884595, 0.0011001372035633816, 0.0006044709909688917, 0.0006000748383072994, 0.0003022354954844458, 0.0012693890810346713, 0.0009001122574609493, 0.004400548814253527, 0.0017353295437203394, 0.0, 0.007334248023755882, 0.0055006860178169106, 0.0, 0.012401546658350854, 0.003667124011877941, 0.0], \"xaxis\": \"x\", \"y\": [0.0019473929354658765, 0.0010713914283212629, 0.004905933138762428, 0.002014693343921703, 0.0003300178786344414, 0.00042071873315539, 0.008726810824844465, 0.0029529287894214996, 0.0007039970928903426, 0.01329588745289803, 0.00034626653490574857, 0.0035211394727278156, 0.0025340384435291203, 0.0006704999536624603, 0.0061512011083034845, 0.002726378492329597, 0.05442890978381105, 0.0024210688821887003, 0.00029900703860358957, 0.002814288156854415, 0.000317766101122321, 0.0004496911996287072, 0.0018314125923015179, 0.08126512070990086, 0.00027411037738435287, 0.0008970770450508276, 0.002973680044888375, 0.040817907994852576, 0.0009180942497704834, 0.0018582185690273762, 0.0014578422605641458, 0.00031271879268851197, 0.0013562253717544419, 0.00256881959762165, 0.0049737058563000865, 0.00694880513499847, 0.0003324281137658335, 0.0012530678295385506, 0.0008240589797507608, 0.0019653568270426177, 0.0010155340500111443, 0.013388836292855841, 0.00038551478097919337, 0.03637445238081969, 0.0019234734489747534, 0.00024190860516249768, 0.017740692329357592, 0.0035688424294778543, 0.0012789399424673468, 0.002041212744532821, 0.001061614635031507, 0.0005703411043254803, 0.0046133803159276445, 0.0008882160640910341, 0.0006734904924058962, 0.000653494797932933, 0.0010815026827365394, 0.0018130254303784876, 0.004557085695370244, 0.0027121705887537, 0.3294661200533221, 0.003719201248854434, 0.00039900451972148764, 0.002117556137280095, 0.0036089196171738593, 0.00043927629351958516, 0.0005504836237844044, 0.0002133713213814768, 0.000304985318637852, 0.0001456479372232304, 0.0009151600136460687, 0.0041914523293503135, 0.0013118613789945292, 0.000642660024645007, 0.001594252950218814, 0.0005184544101544053, 0.00028789475523500904, 0.0006866990080909189, 0.0049375576495326295, 0.005798610021561291, 0.0014444662611634855, 0.0009201889187025619, 0.0016505682053675897, 0.002916291843756641, 0.0048966702927677064, 0.004370482582248, 0.0016455054647020943, 0.0014727295770980838, 0.017864246243470754, 0.0011187998323657054, 0.0003096892089861242, 0.011965935193464164, 0.0007648086928896614, 0.008985538533726144, 0.014856046979493874, 0.0030306174059153623, 0.0003123026663662064, 0.00029304465566780326, 0.0004342392356880262, 0.004567158048731046, 0.0003695214981394436, 0.00029003822859972916, 0.0002821679271602495, 0.006399705947079934, 0.0005191268235217261, 0.00043895385798966397, 0.0011229513952573974, 0.0010406618270716122, 0.0004078330607687857, 0.0019841646075825893, 0.00031271879268851197, 0.0003081104941547056, 0.001333021414491769, 0.24357930392807048, 0.00046293888802049663, 0.0005757008179966334, 0.3166551539802004, 0.0020075338631890963, 0.005941741419231648, 0.0002995019538040262, 0.0005912343970231098, 0.0008678793140288635, 0.0004232867248534935, 0.0004189979949295648, 0.0014639621233193418, 0.002839111994209554, 0.004886506512750612, 0.009040530991455811, 0.007375115122598541, 0.1495314910792147, 0.0035397071438415086, 0.018562520798296744, 0.04171924009919401, 0.3725441585086339, 0.00033867098356401773, 0.0066867295079870255, 0.0014789990113566547, 0.003409457886422301, 0.0005572849143814449, 0.03332696357201815, 0.0011189343557786193, 0.0014506425546862041, 0.0019483338393618942, 0.002296535090157639, 0.0009816296149213455, 0.003555255088363266, 0.012639907297940763, 0.0007937195004382538, 0.010797806257804491, 0.00023640357895168997, 0.0008944789865796438, 0.00033247157694360523, 0.001307630376585871, 0.007131037827416238, 0.0021410013545251965, 0.0006020776397682662, 0.00024422698609390423, 0.0010807624389475574, 0.004194109128623729, 0.00037767968875878656, 0.00034916499577463734, 0.0006227228967079476, 0.0003318598531927596, 0.00045614724036741646, 0.0627376578422085, 0.005067613131948123, 0.0, 0.0006060592241114999, 0.0010462432628087779, 0.0018320104112435423, 0.017015706612817382, 0.0011085644944183307, 0.011103959777484988, 0.008649618538811075, 0.00048739996593181306, 0.00729981271375165, 0.01960518444576191, 0.013146294143917164, 0.049463365271262265, 0.007373655770127768, 0.01582982964049685, 0.01946429208670178, 0.0007295654767297397, 0.0005937706393742216, 0.0013284078344904648, 0.009066420025960186, 0.0009585077072914921, 0.007509746694726986, 0.0002619896503882661, 0.0030514211062630226, 0.0018029163611107079, 0.0029628281646319025, 0.0, 0.011334609142912368, 0.4988888437480746, 0.0008539641199689498, 0.0003096892089861242, 0.0002440494310096609, 0.018298814448226383, 0.07782926670715119, 0.0011730343368299865, 0.0003775045576869286, 0.007294049139974596, 0.0004553546294465109, 0.001514243956547558, 0.0034293565210488765, 0.13417814245178616, 0.0006603397391195072, 0.00634436256294883, 0.0036943909335573942, 0.00044925293070603923, 0.00028558435177784673, 0.0015312587000179047, 0.0009172989559450061, 0.0005769856911845348, 0.0003005133808252785, 0.13935798092857363, 0.00198246606934123, 1.0, 0.001519837324908092, 0.0012150272473154893, 0.0007759346274886163, 0.000590982968392976, 0.0002991157486739341, 0.0004108427033914234, 0.0004137928488221537, 0.0002783802664368188, 0.0003208949505043138, 0.0003452635884547505, 0.0005482207547687057, 0.0008225416474293409, 0.0006450896137666605, 0.0006085763244760358, 0.00048381721032499537, 0.0, 0.003913602730545679, 0.00045614724036741646, 0.0004031810086041628], \"yaxis\": \"y\"}],\n",
       "                        {\"coloraxis\": {\"colorbar\": {\"title\": {\"text\": \"clusterInfo\"}}, \"colorscale\": [[0.0, \"#0d0887\"], [0.1111111111111111, \"#46039f\"], [0.2222222222222222, \"#7201a8\"], [0.3333333333333333, \"#9c179e\"], [0.4444444444444444, \"#bd3786\"], [0.5555555555555556, \"#d8576b\"], [0.6666666666666666, \"#ed7953\"], [0.7777777777777778, \"#fb9f3a\"], [0.8888888888888888, \"#fdca26\"], [1.0, \"#f0f921\"]]}, \"legend\": {\"itemsizing\": \"constant\", \"tracegroupgap\": 0}, \"margin\": {\"t\": 60}, \"showlegend\": false, \"template\": {\"data\": {\"bar\": [{\"error_x\": {\"color\": \"#2a3f5f\"}, \"error_y\": {\"color\": \"#2a3f5f\"}, \"marker\": {\"line\": {\"color\": \"#E5ECF6\", \"width\": 0.5}}, \"type\": \"bar\"}], \"barpolar\": [{\"marker\": {\"line\": {\"color\": \"#E5ECF6\", \"width\": 0.5}}, \"type\": \"barpolar\"}], \"carpet\": [{\"aaxis\": {\"endlinecolor\": \"#2a3f5f\", \"gridcolor\": \"white\", \"linecolor\": \"white\", \"minorgridcolor\": \"white\", \"startlinecolor\": \"#2a3f5f\"}, \"baxis\": {\"endlinecolor\": \"#2a3f5f\", \"gridcolor\": \"white\", \"linecolor\": \"white\", \"minorgridcolor\": \"white\", \"startlinecolor\": \"#2a3f5f\"}, \"type\": \"carpet\"}], \"choropleth\": [{\"colorbar\": {\"outlinewidth\": 0, \"ticks\": \"\"}, \"type\": \"choropleth\"}], \"contour\": [{\"colorbar\": {\"outlinewidth\": 0, \"ticks\": \"\"}, \"colorscale\": [[0.0, \"#0d0887\"], [0.1111111111111111, \"#46039f\"], [0.2222222222222222, \"#7201a8\"], [0.3333333333333333, \"#9c179e\"], [0.4444444444444444, \"#bd3786\"], [0.5555555555555556, \"#d8576b\"], [0.6666666666666666, \"#ed7953\"], [0.7777777777777778, \"#fb9f3a\"], [0.8888888888888888, \"#fdca26\"], [1.0, \"#f0f921\"]], \"type\": \"contour\"}], \"contourcarpet\": [{\"colorbar\": {\"outlinewidth\": 0, \"ticks\": \"\"}, \"type\": \"contourcarpet\"}], \"heatmap\": [{\"colorbar\": {\"outlinewidth\": 0, \"ticks\": \"\"}, \"colorscale\": [[0.0, \"#0d0887\"], [0.1111111111111111, \"#46039f\"], [0.2222222222222222, \"#7201a8\"], [0.3333333333333333, \"#9c179e\"], [0.4444444444444444, \"#bd3786\"], [0.5555555555555556, \"#d8576b\"], [0.6666666666666666, \"#ed7953\"], [0.7777777777777778, \"#fb9f3a\"], [0.8888888888888888, \"#fdca26\"], [1.0, \"#f0f921\"]], \"type\": \"heatmap\"}], \"heatmapgl\": [{\"colorbar\": {\"outlinewidth\": 0, \"ticks\": \"\"}, \"colorscale\": [[0.0, \"#0d0887\"], [0.1111111111111111, \"#46039f\"], [0.2222222222222222, \"#7201a8\"], [0.3333333333333333, \"#9c179e\"], [0.4444444444444444, \"#bd3786\"], [0.5555555555555556, \"#d8576b\"], [0.6666666666666666, \"#ed7953\"], [0.7777777777777778, \"#fb9f3a\"], [0.8888888888888888, \"#fdca26\"], [1.0, \"#f0f921\"]], \"type\": \"heatmapgl\"}], \"histogram\": [{\"marker\": {\"colorbar\": {\"outlinewidth\": 0, \"ticks\": \"\"}}, \"type\": \"histogram\"}], \"histogram2d\": [{\"colorbar\": {\"outlinewidth\": 0, \"ticks\": \"\"}, \"colorscale\": [[0.0, \"#0d0887\"], [0.1111111111111111, \"#46039f\"], [0.2222222222222222, \"#7201a8\"], [0.3333333333333333, \"#9c179e\"], [0.4444444444444444, \"#bd3786\"], [0.5555555555555556, \"#d8576b\"], [0.6666666666666666, \"#ed7953\"], [0.7777777777777778, \"#fb9f3a\"], [0.8888888888888888, \"#fdca26\"], [1.0, \"#f0f921\"]], \"type\": \"histogram2d\"}], \"histogram2dcontour\": [{\"colorbar\": {\"outlinewidth\": 0, \"ticks\": \"\"}, \"colorscale\": [[0.0, \"#0d0887\"], [0.1111111111111111, \"#46039f\"], [0.2222222222222222, \"#7201a8\"], [0.3333333333333333, \"#9c179e\"], [0.4444444444444444, \"#bd3786\"], [0.5555555555555556, \"#d8576b\"], [0.6666666666666666, \"#ed7953\"], [0.7777777777777778, \"#fb9f3a\"], [0.8888888888888888, \"#fdca26\"], [1.0, \"#f0f921\"]], \"type\": \"histogram2dcontour\"}], \"mesh3d\": [{\"colorbar\": {\"outlinewidth\": 0, \"ticks\": \"\"}, \"type\": \"mesh3d\"}], \"parcoords\": [{\"line\": {\"colorbar\": {\"outlinewidth\": 0, \"ticks\": \"\"}}, \"type\": \"parcoords\"}], \"pie\": [{\"automargin\": true, \"type\": \"pie\"}], \"scatter\": [{\"marker\": {\"colorbar\": {\"outlinewidth\": 0, \"ticks\": \"\"}}, \"type\": \"scatter\"}], \"scatter3d\": [{\"line\": {\"colorbar\": {\"outlinewidth\": 0, \"ticks\": \"\"}}, \"marker\": {\"colorbar\": {\"outlinewidth\": 0, \"ticks\": \"\"}}, \"type\": \"scatter3d\"}], \"scattercarpet\": [{\"marker\": {\"colorbar\": {\"outlinewidth\": 0, \"ticks\": \"\"}}, \"type\": \"scattercarpet\"}], \"scattergeo\": [{\"marker\": {\"colorbar\": {\"outlinewidth\": 0, \"ticks\": \"\"}}, \"type\": \"scattergeo\"}], \"scattergl\": [{\"marker\": {\"colorbar\": {\"outlinewidth\": 0, \"ticks\": \"\"}}, \"type\": \"scattergl\"}], \"scattermapbox\": [{\"marker\": {\"colorbar\": {\"outlinewidth\": 0, \"ticks\": \"\"}}, \"type\": \"scattermapbox\"}], \"scatterpolar\": [{\"marker\": {\"colorbar\": {\"outlinewidth\": 0, \"ticks\": \"\"}}, \"type\": \"scatterpolar\"}], \"scatterpolargl\": [{\"marker\": {\"colorbar\": {\"outlinewidth\": 0, \"ticks\": \"\"}}, \"type\": \"scatterpolargl\"}], \"scatterternary\": [{\"marker\": {\"colorbar\": {\"outlinewidth\": 0, \"ticks\": \"\"}}, \"type\": \"scatterternary\"}], \"surface\": [{\"colorbar\": {\"outlinewidth\": 0, \"ticks\": \"\"}, \"colorscale\": [[0.0, \"#0d0887\"], [0.1111111111111111, \"#46039f\"], [0.2222222222222222, \"#7201a8\"], [0.3333333333333333, \"#9c179e\"], [0.4444444444444444, \"#bd3786\"], [0.5555555555555556, \"#d8576b\"], [0.6666666666666666, \"#ed7953\"], [0.7777777777777778, \"#fb9f3a\"], [0.8888888888888888, \"#fdca26\"], [1.0, \"#f0f921\"]], \"type\": \"surface\"}], \"table\": [{\"cells\": {\"fill\": {\"color\": \"#EBF0F8\"}, \"line\": {\"color\": \"white\"}}, \"header\": {\"fill\": {\"color\": \"#C8D4E3\"}, \"line\": {\"color\": \"white\"}}, \"type\": \"table\"}]}, \"layout\": {\"annotationdefaults\": {\"arrowcolor\": \"#2a3f5f\", \"arrowhead\": 0, \"arrowwidth\": 1}, \"coloraxis\": {\"colorbar\": {\"outlinewidth\": 0, \"ticks\": \"\"}}, \"colorscale\": {\"diverging\": [[0, \"#8e0152\"], [0.1, \"#c51b7d\"], [0.2, \"#de77ae\"], [0.3, \"#f1b6da\"], [0.4, \"#fde0ef\"], [0.5, \"#f7f7f7\"], [0.6, \"#e6f5d0\"], [0.7, \"#b8e186\"], [0.8, \"#7fbc41\"], [0.9, \"#4d9221\"], [1, \"#276419\"]], \"sequential\": [[0.0, \"#0d0887\"], [0.1111111111111111, \"#46039f\"], [0.2222222222222222, \"#7201a8\"], [0.3333333333333333, \"#9c179e\"], [0.4444444444444444, \"#bd3786\"], [0.5555555555555556, \"#d8576b\"], [0.6666666666666666, \"#ed7953\"], [0.7777777777777778, \"#fb9f3a\"], [0.8888888888888888, \"#fdca26\"], [1.0, \"#f0f921\"]], \"sequentialminus\": [[0.0, \"#0d0887\"], [0.1111111111111111, \"#46039f\"], [0.2222222222222222, \"#7201a8\"], [0.3333333333333333, \"#9c179e\"], [0.4444444444444444, \"#bd3786\"], [0.5555555555555556, \"#d8576b\"], [0.6666666666666666, \"#ed7953\"], [0.7777777777777778, \"#fb9f3a\"], [0.8888888888888888, \"#fdca26\"], [1.0, \"#f0f921\"]]}, \"colorway\": [\"#636efa\", \"#EF553B\", \"#00cc96\", \"#ab63fa\", \"#FFA15A\", \"#19d3f3\", \"#FF6692\", \"#B6E880\", \"#FF97FF\", \"#FECB52\"], \"font\": {\"color\": \"#2a3f5f\"}, \"geo\": {\"bgcolor\": \"white\", \"lakecolor\": \"white\", \"landcolor\": \"#E5ECF6\", \"showlakes\": true, \"showland\": true, \"subunitcolor\": \"white\"}, \"hoverlabel\": {\"align\": \"left\"}, \"hovermode\": \"closest\", \"mapbox\": {\"style\": \"light\"}, \"paper_bgcolor\": \"white\", \"plot_bgcolor\": \"#E5ECF6\", \"polar\": {\"angularaxis\": {\"gridcolor\": \"white\", \"linecolor\": \"white\", \"ticks\": \"\"}, \"bgcolor\": \"#E5ECF6\", \"radialaxis\": {\"gridcolor\": \"white\", \"linecolor\": \"white\", \"ticks\": \"\"}}, \"scene\": {\"xaxis\": {\"backgroundcolor\": \"#E5ECF6\", \"gridcolor\": \"white\", \"gridwidth\": 2, \"linecolor\": \"white\", \"showbackground\": true, \"ticks\": \"\", \"zerolinecolor\": \"white\"}, \"yaxis\": {\"backgroundcolor\": \"#E5ECF6\", \"gridcolor\": \"white\", \"gridwidth\": 2, \"linecolor\": \"white\", \"showbackground\": true, \"ticks\": \"\", \"zerolinecolor\": \"white\"}, \"zaxis\": {\"backgroundcolor\": \"#E5ECF6\", \"gridcolor\": \"white\", \"gridwidth\": 2, \"linecolor\": \"white\", \"showbackground\": true, \"ticks\": \"\", \"zerolinecolor\": \"white\"}}, \"shapedefaults\": {\"line\": {\"color\": \"#2a3f5f\"}}, \"ternary\": {\"aaxis\": {\"gridcolor\": \"white\", \"linecolor\": \"white\", \"ticks\": \"\"}, \"baxis\": {\"gridcolor\": \"white\", \"linecolor\": \"white\", \"ticks\": \"\"}, \"bgcolor\": \"#E5ECF6\", \"caxis\": {\"gridcolor\": \"white\", \"linecolor\": \"white\", \"ticks\": \"\"}}, \"title\": {\"x\": 0.05}, \"xaxis\": {\"automargin\": true, \"gridcolor\": \"white\", \"linecolor\": \"white\", \"ticks\": \"\", \"title\": {\"standoff\": 15}, \"zerolinecolor\": \"white\", \"zerolinewidth\": 2}, \"yaxis\": {\"automargin\": true, \"gridcolor\": \"white\", \"linecolor\": \"white\", \"ticks\": \"\", \"title\": {\"standoff\": 15}, \"zerolinecolor\": \"white\", \"zerolinewidth\": 2}}}, \"title\": {\"text\": \"ALl Countries Cluster Variance vs Slope\"}, \"xaxis\": {\"anchor\": \"y\", \"domain\": [0.0, 1.0], \"title\": {\"text\": \"scaledSlope\"}, \"type\": \"log\"}, \"yaxis\": {\"anchor\": \"x\", \"domain\": [0.0, 1.0], \"title\": {\"text\": \"stdVal\"}}},\n",
       "                        {\"responsive\": true}\n",
       "                    ).then(function(){\n",
       "                            \n",
       "var gd = document.getElementById('b73d5491-4185-49f5-8cd4-c54de9023549');\n",
       "var x = new MutationObserver(function (mutations, observer) {{\n",
       "        var display = window.getComputedStyle(gd).display;\n",
       "        if (!display || display === 'none') {{\n",
       "            console.log([gd, 'removed!']);\n",
       "            Plotly.purge(gd);\n",
       "            observer.disconnect();\n",
       "        }}\n",
       "}});\n",
       "\n",
       "// Listen for the removal of the full notebook cells\n",
       "var notebookContainer = gd.closest('#notebook-container');\n",
       "if (notebookContainer) {{\n",
       "    x.observe(notebookContainer, {childList: true});\n",
       "}}\n",
       "\n",
       "// Listen for the clearing of the current output cell\n",
       "var outputEl = gd.closest('.output');\n",
       "if (outputEl) {{\n",
       "    x.observe(outputEl, {childList: true});\n",
       "}}\n",
       "\n",
       "                        })\n",
       "                };\n",
       "                });\n",
       "            </script>\n",
       "        </div>"
      ]
     },
     "metadata": {},
     "output_type": "display_data"
    }
   ],
   "source": [
    "import plotly.express as px\n",
    "fig = px.scatter(overallSpacingDF, x=\"scaledSlope\", y=\"stdVal\",\n",
    "\t         size=\"lastValue\", color=\"clusterInfo\",\n",
    "                 hover_name=\"countryName\", log_x=True, size_max=60,text='countryName')\n",
    "fig.update_layout(showlegend=False)\n",
    "fig.update_layout(\n",
    "    title=\"ALl Countries Cluster Variance vs Slope\",\n",
    "  \n",
    ")\n",
    "fig.show()"
   ]
  },
  {
   "cell_type": "markdown",
   "metadata": {},
   "source": [
    "## Adding filters > 800  and Removing China"
   ]
  },
  {
   "cell_type": "code",
   "execution_count": 81,
   "metadata": {},
   "outputs": [
    {
     "data": {
      "text/plain": [
       "(53, 6)"
      ]
     },
     "execution_count": 81,
     "metadata": {},
     "output_type": "execute_result"
    }
   ],
   "source": [
    "filoverallSpacingDF=overallSpacingDF[overallSpacingDF['lastValue']>800]\n",
    "filoverallSpacingDF=filoverallSpacingDF[~filoverallSpacingDF['countryName'].str.contains('ina')]\n",
    "filoverallSpacingDF.shape\n",
    "import plotly.express as px\n",
    "fig = px.scatter(filoverallSpacingDF, x=\"scaledSlope\", y=\"stdVal\",\n",
    "\t         size=\"lastValue\", color=\"clusterInfo\",\n",
    "                 hover_name=\"countryName\", log_x=True, size_max=60,text='countryName')\n",
    "fig.update_layout(showlegend=False)\n",
    "fig.show()"
   ]
  },
  {
   "cell_type": "code",
   "execution_count": 82,
   "metadata": {},
   "outputs": [
    {
     "data": {
      "application/vnd.plotly.v1+json": {
       "config": {
        "plotlyServerURL": "https://plot.ly"
       },
       "data": [
        {
         "hoverlabel": {
          "namelength": 0
         },
         "hovertemplate": "<b>%{hovertext}</b><br><br>scaledSlope=%{x}<br>stdVal=%{y}<br>lastValue=%{marker.size}<br>countryName=%{text}<br>clusterInfo=%{marker.color}",
         "hovertext": [
          "AustraliaNew South Wales",
          "AustraliaVictoria",
          "Austria",
          "Belgium",
          "Brazil",
          "CanadaBritish Columbia",
          "CanadaOntario",
          "CanadaQuebec",
          "Chile",
          "Colombia",
          "Croatia",
          "Czechia",
          "Denmark",
          "Dominican Republic",
          "Ecuador",
          "Finland",
          "France",
          "Germany",
          "Greece",
          "Iceland",
          "India",
          "Indonesia",
          "Iran",
          "Ireland",
          "Israel",
          "Italy",
          "Japan",
          "Korea, South",
          "Luxembourg",
          "Malaysia",
          "Mexico",
          "Netherlands",
          "Norway",
          "Pakistan",
          "Panama",
          "Peru",
          "Philippines",
          "Poland",
          "Portugal",
          "Romania",
          "Russia",
          "Saudi Arabia",
          "Serbia",
          "Singapore",
          "Slovenia",
          "South Africa",
          "Spain",
          "Sweden",
          "Switzerland",
          "Thailand",
          "Turkey",
          "United Kingdom",
          "US"
         ],
         "legendgroup": "",
         "marker": {
          "color": [
           0,
           0,
           0,
           3,
           0,
           0,
           0,
           0,
           0,
           0,
           0,
           0,
           0,
           0,
           0,
           0,
           3,
           3,
           0,
           0,
           0,
           0,
           3,
           0,
           0,
           2,
           0,
           0,
           0,
           0,
           0,
           3,
           0,
           0,
           0,
           0,
           0,
           0,
           0,
           0,
           0,
           0,
           0,
           0,
           0,
           0,
           2,
           0,
           3,
           0,
           3,
           3,
           1
          ],
          "coloraxis": "coloraxis",
          "size": [
           2032,
           917,
           10180,
           12775,
           5717,
           1013,
           1966,
           4162,
           2738,
           906,
           867,
           3308,
           2860,
           1109,
           2240,
           1418,
           52128,
           71808,
           1314,
           1135,
           1397,
           1528,
           44605,
           3235,
           5358,
           105792,
           1953,
           9786,
           2178,
           2766,
           1094,
           12595,
           4641,
           1938,
           1181,
           1065,
           2084,
           2311,
           7443,
           2245,
           2337,
           1563,
           900,
           926,
           802,
           1353,
           95923,
           4435,
           16605,
           1651,
           13531,
           25150,
           188172
          ],
          "sizemode": "area",
          "sizeref": 52.27,
          "symbol": "circle"
         },
         "mode": "markers+text",
         "name": "",
         "showlegend": false,
         "text": [
          "AustraliaNew South Wales",
          "AustraliaVictoria",
          "Austria",
          "Belgium",
          "Brazil",
          "CanadaBritish Columbia",
          "CanadaOntario",
          "CanadaQuebec",
          "Chile",
          "Colombia",
          "Croatia",
          "Czechia",
          "Denmark",
          "Dominican Republic",
          "Ecuador",
          "Finland",
          "France",
          "Germany",
          "Greece",
          "Iceland",
          "India",
          "Indonesia",
          "Iran",
          "Ireland",
          "Israel",
          "Italy",
          "Japan",
          "Korea, South",
          "Luxembourg",
          "Malaysia",
          "Mexico",
          "Netherlands",
          "Norway",
          "Pakistan",
          "Panama",
          "Peru",
          "Philippines",
          "Poland",
          "Portugal",
          "Romania",
          "Russia",
          "Saudi Arabia",
          "Serbia",
          "Singapore",
          "Slovenia",
          "South Africa",
          "Spain",
          "Sweden",
          "Switzerland",
          "Thailand",
          "Turkey",
          "United Kingdom",
          "US"
         ],
         "type": "scatter",
         "x": [
          0.027480159074731014,
          0.011836297591909604,
          0.12724508403484705,
          0.18919209303804807,
          0.11103819201467914,
          0.007092704935272122,
          0.023919576632029767,
          0.12818323375316895,
          0.06114233859258424,
          0.024726254465455046,
          0.010672484864638475,
          0.04988267950354734,
          0.03717705032731429,
          0.026059563615860187,
          0.030817222533027978,
          0.0177883633718424,
          0.19457280070056898,
          0.2825645246721526,
          0.015903992984564873,
          0.014630988934590743,
          0.020357360609012415,
          0.031443213760957586,
          0.3232940007173501,
          0.05340031061106068,
          0.07329178267057432,
          0.8089401517848392,
          0.0060957171074832684,
          0.025330208236143775,
          0.051039587991353386,
          0.009873858145898817,
          0.015703862261124468,
          0.1592157091147835,
          0.04889263610451878,
          0.028974510625091328,
          0.03351201917126435,
          0.022720224856200285,
          0.042557886790516135,
          0.04367096678470967,
          0.12818185921085645,
          0.040710931156537546,
          0.048339331805079544,
          0.026556932430479383,
          0.02315737312061308,
          0.002895301829838626,
          0.012191113174329063,
          0.03256552320182635,
          1,
          0.046931665196470136,
          0.17975683452030222,
          0.00524617666475374,
          0.5172444512201807,
          0.14338510416567563,
          0.6655198763833681
         ],
         "xaxis": "x",
         "y": [
          0.01329588745289803,
          0.0061512011083034845,
          0.05442890978381105,
          0.08126512070990086,
          0.040817907994852576,
          0.00694880513499847,
          0.013388836292855841,
          0.03637445238081969,
          0.017740692329357592,
          0.005798610021561291,
          0.0048966702927677064,
          0.017864246243470754,
          0.011965935193464164,
          0.008985538533726144,
          0.014856046979493874,
          0.006399705947079934,
          0.24357930392807048,
          0.3166551539802004,
          0.005941741419231648,
          0.004886506512750612,
          0.009040530991455811,
          0.007375115122598541,
          0.1495314910792147,
          0.018562520798296744,
          0.04171924009919401,
          0.3725441585086339,
          0.0066867295079870255,
          0.03332696357201815,
          0.012639907297940763,
          0.010797806257804491,
          0.007131037827416238,
          0.0627376578422085,
          0.017015706612817382,
          0.011103959777484988,
          0.008649618538811075,
          0.00729981271375165,
          0.01960518444576191,
          0.013146294143917164,
          0.049463365271262265,
          0.01582982964049685,
          0.01946429208670178,
          0.009066420025960186,
          0.007509746694726986,
          0.0030514211062630226,
          0.0029628281646319025,
          0.011334609142912368,
          0.4988888437480746,
          0.018298814448226383,
          0.07782926670715119,
          0.007294049139974596,
          0.13417814245178616,
          0.13935798092857363,
          1
         ],
         "yaxis": "y"
        }
       ],
       "layout": {
        "coloraxis": {
         "colorbar": {
          "title": {
           "text": "clusterInfo"
          }
         },
         "colorscale": [
          [
           0,
           "#0d0887"
          ],
          [
           0.1111111111111111,
           "#46039f"
          ],
          [
           0.2222222222222222,
           "#7201a8"
          ],
          [
           0.3333333333333333,
           "#9c179e"
          ],
          [
           0.4444444444444444,
           "#bd3786"
          ],
          [
           0.5555555555555556,
           "#d8576b"
          ],
          [
           0.6666666666666666,
           "#ed7953"
          ],
          [
           0.7777777777777778,
           "#fb9f3a"
          ],
          [
           0.8888888888888888,
           "#fdca26"
          ],
          [
           1,
           "#f0f921"
          ]
         ]
        },
        "legend": {
         "itemsizing": "constant",
         "tracegroupgap": 0
        },
        "margin": {
         "t": 60
        },
        "showlegend": false,
        "template": {
         "data": {
          "bar": [
           {
            "error_x": {
             "color": "#2a3f5f"
            },
            "error_y": {
             "color": "#2a3f5f"
            },
            "marker": {
             "line": {
              "color": "#E5ECF6",
              "width": 0.5
             }
            },
            "type": "bar"
           }
          ],
          "barpolar": [
           {
            "marker": {
             "line": {
              "color": "#E5ECF6",
              "width": 0.5
             }
            },
            "type": "barpolar"
           }
          ],
          "carpet": [
           {
            "aaxis": {
             "endlinecolor": "#2a3f5f",
             "gridcolor": "white",
             "linecolor": "white",
             "minorgridcolor": "white",
             "startlinecolor": "#2a3f5f"
            },
            "baxis": {
             "endlinecolor": "#2a3f5f",
             "gridcolor": "white",
             "linecolor": "white",
             "minorgridcolor": "white",
             "startlinecolor": "#2a3f5f"
            },
            "type": "carpet"
           }
          ],
          "choropleth": [
           {
            "colorbar": {
             "outlinewidth": 0,
             "ticks": ""
            },
            "type": "choropleth"
           }
          ],
          "contour": [
           {
            "colorbar": {
             "outlinewidth": 0,
             "ticks": ""
            },
            "colorscale": [
             [
              0,
              "#0d0887"
             ],
             [
              0.1111111111111111,
              "#46039f"
             ],
             [
              0.2222222222222222,
              "#7201a8"
             ],
             [
              0.3333333333333333,
              "#9c179e"
             ],
             [
              0.4444444444444444,
              "#bd3786"
             ],
             [
              0.5555555555555556,
              "#d8576b"
             ],
             [
              0.6666666666666666,
              "#ed7953"
             ],
             [
              0.7777777777777778,
              "#fb9f3a"
             ],
             [
              0.8888888888888888,
              "#fdca26"
             ],
             [
              1,
              "#f0f921"
             ]
            ],
            "type": "contour"
           }
          ],
          "contourcarpet": [
           {
            "colorbar": {
             "outlinewidth": 0,
             "ticks": ""
            },
            "type": "contourcarpet"
           }
          ],
          "heatmap": [
           {
            "colorbar": {
             "outlinewidth": 0,
             "ticks": ""
            },
            "colorscale": [
             [
              0,
              "#0d0887"
             ],
             [
              0.1111111111111111,
              "#46039f"
             ],
             [
              0.2222222222222222,
              "#7201a8"
             ],
             [
              0.3333333333333333,
              "#9c179e"
             ],
             [
              0.4444444444444444,
              "#bd3786"
             ],
             [
              0.5555555555555556,
              "#d8576b"
             ],
             [
              0.6666666666666666,
              "#ed7953"
             ],
             [
              0.7777777777777778,
              "#fb9f3a"
             ],
             [
              0.8888888888888888,
              "#fdca26"
             ],
             [
              1,
              "#f0f921"
             ]
            ],
            "type": "heatmap"
           }
          ],
          "heatmapgl": [
           {
            "colorbar": {
             "outlinewidth": 0,
             "ticks": ""
            },
            "colorscale": [
             [
              0,
              "#0d0887"
             ],
             [
              0.1111111111111111,
              "#46039f"
             ],
             [
              0.2222222222222222,
              "#7201a8"
             ],
             [
              0.3333333333333333,
              "#9c179e"
             ],
             [
              0.4444444444444444,
              "#bd3786"
             ],
             [
              0.5555555555555556,
              "#d8576b"
             ],
             [
              0.6666666666666666,
              "#ed7953"
             ],
             [
              0.7777777777777778,
              "#fb9f3a"
             ],
             [
              0.8888888888888888,
              "#fdca26"
             ],
             [
              1,
              "#f0f921"
             ]
            ],
            "type": "heatmapgl"
           }
          ],
          "histogram": [
           {
            "marker": {
             "colorbar": {
              "outlinewidth": 0,
              "ticks": ""
             }
            },
            "type": "histogram"
           }
          ],
          "histogram2d": [
           {
            "colorbar": {
             "outlinewidth": 0,
             "ticks": ""
            },
            "colorscale": [
             [
              0,
              "#0d0887"
             ],
             [
              0.1111111111111111,
              "#46039f"
             ],
             [
              0.2222222222222222,
              "#7201a8"
             ],
             [
              0.3333333333333333,
              "#9c179e"
             ],
             [
              0.4444444444444444,
              "#bd3786"
             ],
             [
              0.5555555555555556,
              "#d8576b"
             ],
             [
              0.6666666666666666,
              "#ed7953"
             ],
             [
              0.7777777777777778,
              "#fb9f3a"
             ],
             [
              0.8888888888888888,
              "#fdca26"
             ],
             [
              1,
              "#f0f921"
             ]
            ],
            "type": "histogram2d"
           }
          ],
          "histogram2dcontour": [
           {
            "colorbar": {
             "outlinewidth": 0,
             "ticks": ""
            },
            "colorscale": [
             [
              0,
              "#0d0887"
             ],
             [
              0.1111111111111111,
              "#46039f"
             ],
             [
              0.2222222222222222,
              "#7201a8"
             ],
             [
              0.3333333333333333,
              "#9c179e"
             ],
             [
              0.4444444444444444,
              "#bd3786"
             ],
             [
              0.5555555555555556,
              "#d8576b"
             ],
             [
              0.6666666666666666,
              "#ed7953"
             ],
             [
              0.7777777777777778,
              "#fb9f3a"
             ],
             [
              0.8888888888888888,
              "#fdca26"
             ],
             [
              1,
              "#f0f921"
             ]
            ],
            "type": "histogram2dcontour"
           }
          ],
          "mesh3d": [
           {
            "colorbar": {
             "outlinewidth": 0,
             "ticks": ""
            },
            "type": "mesh3d"
           }
          ],
          "parcoords": [
           {
            "line": {
             "colorbar": {
              "outlinewidth": 0,
              "ticks": ""
             }
            },
            "type": "parcoords"
           }
          ],
          "pie": [
           {
            "automargin": true,
            "type": "pie"
           }
          ],
          "scatter": [
           {
            "marker": {
             "colorbar": {
              "outlinewidth": 0,
              "ticks": ""
             }
            },
            "type": "scatter"
           }
          ],
          "scatter3d": [
           {
            "line": {
             "colorbar": {
              "outlinewidth": 0,
              "ticks": ""
             }
            },
            "marker": {
             "colorbar": {
              "outlinewidth": 0,
              "ticks": ""
             }
            },
            "type": "scatter3d"
           }
          ],
          "scattercarpet": [
           {
            "marker": {
             "colorbar": {
              "outlinewidth": 0,
              "ticks": ""
             }
            },
            "type": "scattercarpet"
           }
          ],
          "scattergeo": [
           {
            "marker": {
             "colorbar": {
              "outlinewidth": 0,
              "ticks": ""
             }
            },
            "type": "scattergeo"
           }
          ],
          "scattergl": [
           {
            "marker": {
             "colorbar": {
              "outlinewidth": 0,
              "ticks": ""
             }
            },
            "type": "scattergl"
           }
          ],
          "scattermapbox": [
           {
            "marker": {
             "colorbar": {
              "outlinewidth": 0,
              "ticks": ""
             }
            },
            "type": "scattermapbox"
           }
          ],
          "scatterpolar": [
           {
            "marker": {
             "colorbar": {
              "outlinewidth": 0,
              "ticks": ""
             }
            },
            "type": "scatterpolar"
           }
          ],
          "scatterpolargl": [
           {
            "marker": {
             "colorbar": {
              "outlinewidth": 0,
              "ticks": ""
             }
            },
            "type": "scatterpolargl"
           }
          ],
          "scatterternary": [
           {
            "marker": {
             "colorbar": {
              "outlinewidth": 0,
              "ticks": ""
             }
            },
            "type": "scatterternary"
           }
          ],
          "surface": [
           {
            "colorbar": {
             "outlinewidth": 0,
             "ticks": ""
            },
            "colorscale": [
             [
              0,
              "#0d0887"
             ],
             [
              0.1111111111111111,
              "#46039f"
             ],
             [
              0.2222222222222222,
              "#7201a8"
             ],
             [
              0.3333333333333333,
              "#9c179e"
             ],
             [
              0.4444444444444444,
              "#bd3786"
             ],
             [
              0.5555555555555556,
              "#d8576b"
             ],
             [
              0.6666666666666666,
              "#ed7953"
             ],
             [
              0.7777777777777778,
              "#fb9f3a"
             ],
             [
              0.8888888888888888,
              "#fdca26"
             ],
             [
              1,
              "#f0f921"
             ]
            ],
            "type": "surface"
           }
          ],
          "table": [
           {
            "cells": {
             "fill": {
              "color": "#EBF0F8"
             },
             "line": {
              "color": "white"
             }
            },
            "header": {
             "fill": {
              "color": "#C8D4E3"
             },
             "line": {
              "color": "white"
             }
            },
            "type": "table"
           }
          ]
         },
         "layout": {
          "annotationdefaults": {
           "arrowcolor": "#2a3f5f",
           "arrowhead": 0,
           "arrowwidth": 1
          },
          "coloraxis": {
           "colorbar": {
            "outlinewidth": 0,
            "ticks": ""
           }
          },
          "colorscale": {
           "diverging": [
            [
             0,
             "#8e0152"
            ],
            [
             0.1,
             "#c51b7d"
            ],
            [
             0.2,
             "#de77ae"
            ],
            [
             0.3,
             "#f1b6da"
            ],
            [
             0.4,
             "#fde0ef"
            ],
            [
             0.5,
             "#f7f7f7"
            ],
            [
             0.6,
             "#e6f5d0"
            ],
            [
             0.7,
             "#b8e186"
            ],
            [
             0.8,
             "#7fbc41"
            ],
            [
             0.9,
             "#4d9221"
            ],
            [
             1,
             "#276419"
            ]
           ],
           "sequential": [
            [
             0,
             "#0d0887"
            ],
            [
             0.1111111111111111,
             "#46039f"
            ],
            [
             0.2222222222222222,
             "#7201a8"
            ],
            [
             0.3333333333333333,
             "#9c179e"
            ],
            [
             0.4444444444444444,
             "#bd3786"
            ],
            [
             0.5555555555555556,
             "#d8576b"
            ],
            [
             0.6666666666666666,
             "#ed7953"
            ],
            [
             0.7777777777777778,
             "#fb9f3a"
            ],
            [
             0.8888888888888888,
             "#fdca26"
            ],
            [
             1,
             "#f0f921"
            ]
           ],
           "sequentialminus": [
            [
             0,
             "#0d0887"
            ],
            [
             0.1111111111111111,
             "#46039f"
            ],
            [
             0.2222222222222222,
             "#7201a8"
            ],
            [
             0.3333333333333333,
             "#9c179e"
            ],
            [
             0.4444444444444444,
             "#bd3786"
            ],
            [
             0.5555555555555556,
             "#d8576b"
            ],
            [
             0.6666666666666666,
             "#ed7953"
            ],
            [
             0.7777777777777778,
             "#fb9f3a"
            ],
            [
             0.8888888888888888,
             "#fdca26"
            ],
            [
             1,
             "#f0f921"
            ]
           ]
          },
          "colorway": [
           "#636efa",
           "#EF553B",
           "#00cc96",
           "#ab63fa",
           "#FFA15A",
           "#19d3f3",
           "#FF6692",
           "#B6E880",
           "#FF97FF",
           "#FECB52"
          ],
          "font": {
           "color": "#2a3f5f"
          },
          "geo": {
           "bgcolor": "white",
           "lakecolor": "white",
           "landcolor": "#E5ECF6",
           "showlakes": true,
           "showland": true,
           "subunitcolor": "white"
          },
          "hoverlabel": {
           "align": "left"
          },
          "hovermode": "closest",
          "mapbox": {
           "style": "light"
          },
          "paper_bgcolor": "white",
          "plot_bgcolor": "#E5ECF6",
          "polar": {
           "angularaxis": {
            "gridcolor": "white",
            "linecolor": "white",
            "ticks": ""
           },
           "bgcolor": "#E5ECF6",
           "radialaxis": {
            "gridcolor": "white",
            "linecolor": "white",
            "ticks": ""
           }
          },
          "scene": {
           "xaxis": {
            "backgroundcolor": "#E5ECF6",
            "gridcolor": "white",
            "gridwidth": 2,
            "linecolor": "white",
            "showbackground": true,
            "ticks": "",
            "zerolinecolor": "white"
           },
           "yaxis": {
            "backgroundcolor": "#E5ECF6",
            "gridcolor": "white",
            "gridwidth": 2,
            "linecolor": "white",
            "showbackground": true,
            "ticks": "",
            "zerolinecolor": "white"
           },
           "zaxis": {
            "backgroundcolor": "#E5ECF6",
            "gridcolor": "white",
            "gridwidth": 2,
            "linecolor": "white",
            "showbackground": true,
            "ticks": "",
            "zerolinecolor": "white"
           }
          },
          "shapedefaults": {
           "line": {
            "color": "#2a3f5f"
           }
          },
          "ternary": {
           "aaxis": {
            "gridcolor": "white",
            "linecolor": "white",
            "ticks": ""
           },
           "baxis": {
            "gridcolor": "white",
            "linecolor": "white",
            "ticks": ""
           },
           "bgcolor": "#E5ECF6",
           "caxis": {
            "gridcolor": "white",
            "linecolor": "white",
            "ticks": ""
           }
          },
          "title": {
           "x": 0.05
          },
          "xaxis": {
           "automargin": true,
           "gridcolor": "white",
           "linecolor": "white",
           "ticks": "",
           "title": {
            "standoff": 15
           },
           "zerolinecolor": "white",
           "zerolinewidth": 2
          },
          "yaxis": {
           "automargin": true,
           "gridcolor": "white",
           "linecolor": "white",
           "ticks": "",
           "title": {
            "standoff": 15
           },
           "zerolinecolor": "white",
           "zerolinewidth": 2
          }
         }
        },
        "xaxis": {
         "anchor": "y",
         "domain": [
          0,
          1
         ],
         "title": {
          "text": "scaledSlope"
         },
         "type": "log"
        },
        "yaxis": {
         "anchor": "x",
         "domain": [
          0,
          1
         ],
         "title": {
          "text": "stdVal"
         }
        }
       }
      },
      "text/html": [
       "<div>\n",
       "        \n",
       "        \n",
       "            <div id=\"83f99beb-b1e3-483e-8087-32e220aba2ab\" class=\"plotly-graph-div\" style=\"height:525px; width:100%;\"></div>\n",
       "            <script type=\"text/javascript\">\n",
       "                require([\"plotly\"], function(Plotly) {\n",
       "                    window.PLOTLYENV=window.PLOTLYENV || {};\n",
       "                    \n",
       "                if (document.getElementById(\"83f99beb-b1e3-483e-8087-32e220aba2ab\")) {\n",
       "                    Plotly.newPlot(\n",
       "                        '83f99beb-b1e3-483e-8087-32e220aba2ab',\n",
       "                        [{\"hoverlabel\": {\"namelength\": 0}, \"hovertemplate\": \"<b>%{hovertext}</b><br><br>scaledSlope=%{x}<br>stdVal=%{y}<br>lastValue=%{marker.size}<br>countryName=%{text}<br>clusterInfo=%{marker.color}\", \"hovertext\": [\"AustraliaNew South Wales\", \"AustraliaVictoria\", \"Austria\", \"Belgium\", \"Brazil\", \"CanadaBritish Columbia\", \"CanadaOntario\", \"CanadaQuebec\", \"Chile\", \"Colombia\", \"Croatia\", \"Czechia\", \"Denmark\", \"Dominican Republic\", \"Ecuador\", \"Finland\", \"France\", \"Germany\", \"Greece\", \"Iceland\", \"India\", \"Indonesia\", \"Iran\", \"Ireland\", \"Israel\", \"Italy\", \"Japan\", \"Korea, South\", \"Luxembourg\", \"Malaysia\", \"Mexico\", \"Netherlands\", \"Norway\", \"Pakistan\", \"Panama\", \"Peru\", \"Philippines\", \"Poland\", \"Portugal\", \"Romania\", \"Russia\", \"Saudi Arabia\", \"Serbia\", \"Singapore\", \"Slovenia\", \"South Africa\", \"Spain\", \"Sweden\", \"Switzerland\", \"Thailand\", \"Turkey\", \"United Kingdom\", \"US\"], \"legendgroup\": \"\", \"marker\": {\"color\": [0, 0, 0, 3, 0, 0, 0, 0, 0, 0, 0, 0, 0, 0, 0, 0, 3, 3, 0, 0, 0, 0, 3, 0, 0, 2, 0, 0, 0, 0, 0, 3, 0, 0, 0, 0, 0, 0, 0, 0, 0, 0, 0, 0, 0, 0, 2, 0, 3, 0, 3, 3, 1], \"coloraxis\": \"coloraxis\", \"size\": [2032, 917, 10180, 12775, 5717, 1013, 1966, 4162, 2738, 906, 867, 3308, 2860, 1109, 2240, 1418, 52128, 71808, 1314, 1135, 1397, 1528, 44605, 3235, 5358, 105792, 1953, 9786, 2178, 2766, 1094, 12595, 4641, 1938, 1181, 1065, 2084, 2311, 7443, 2245, 2337, 1563, 900, 926, 802, 1353, 95923, 4435, 16605, 1651, 13531, 25150, 188172], \"sizemode\": \"area\", \"sizeref\": 52.27, \"symbol\": \"circle\"}, \"mode\": \"markers+text\", \"name\": \"\", \"showlegend\": false, \"text\": [\"AustraliaNew South Wales\", \"AustraliaVictoria\", \"Austria\", \"Belgium\", \"Brazil\", \"CanadaBritish Columbia\", \"CanadaOntario\", \"CanadaQuebec\", \"Chile\", \"Colombia\", \"Croatia\", \"Czechia\", \"Denmark\", \"Dominican Republic\", \"Ecuador\", \"Finland\", \"France\", \"Germany\", \"Greece\", \"Iceland\", \"India\", \"Indonesia\", \"Iran\", \"Ireland\", \"Israel\", \"Italy\", \"Japan\", \"Korea, South\", \"Luxembourg\", \"Malaysia\", \"Mexico\", \"Netherlands\", \"Norway\", \"Pakistan\", \"Panama\", \"Peru\", \"Philippines\", \"Poland\", \"Portugal\", \"Romania\", \"Russia\", \"Saudi Arabia\", \"Serbia\", \"Singapore\", \"Slovenia\", \"South Africa\", \"Spain\", \"Sweden\", \"Switzerland\", \"Thailand\", \"Turkey\", \"United Kingdom\", \"US\"], \"type\": \"scatter\", \"x\": [0.027480159074731014, 0.011836297591909604, 0.12724508403484705, 0.18919209303804807, 0.11103819201467914, 0.007092704935272122, 0.023919576632029767, 0.12818323375316895, 0.06114233859258424, 0.024726254465455046, 0.010672484864638475, 0.04988267950354734, 0.03717705032731429, 0.026059563615860187, 0.030817222533027978, 0.0177883633718424, 0.19457280070056898, 0.2825645246721526, 0.015903992984564873, 0.014630988934590743, 0.020357360609012415, 0.031443213760957586, 0.3232940007173501, 0.05340031061106068, 0.07329178267057432, 0.8089401517848392, 0.0060957171074832684, 0.025330208236143775, 0.051039587991353386, 0.009873858145898817, 0.015703862261124468, 0.1592157091147835, 0.04889263610451878, 0.028974510625091328, 0.03351201917126435, 0.022720224856200285, 0.042557886790516135, 0.04367096678470967, 0.12818185921085645, 0.040710931156537546, 0.048339331805079544, 0.026556932430479383, 0.02315737312061308, 0.002895301829838626, 0.012191113174329063, 0.03256552320182635, 1.0, 0.046931665196470136, 0.17975683452030222, 0.00524617666475374, 0.5172444512201807, 0.14338510416567563, 0.6655198763833681], \"xaxis\": \"x\", \"y\": [0.01329588745289803, 0.0061512011083034845, 0.05442890978381105, 0.08126512070990086, 0.040817907994852576, 0.00694880513499847, 0.013388836292855841, 0.03637445238081969, 0.017740692329357592, 0.005798610021561291, 0.0048966702927677064, 0.017864246243470754, 0.011965935193464164, 0.008985538533726144, 0.014856046979493874, 0.006399705947079934, 0.24357930392807048, 0.3166551539802004, 0.005941741419231648, 0.004886506512750612, 0.009040530991455811, 0.007375115122598541, 0.1495314910792147, 0.018562520798296744, 0.04171924009919401, 0.3725441585086339, 0.0066867295079870255, 0.03332696357201815, 0.012639907297940763, 0.010797806257804491, 0.007131037827416238, 0.0627376578422085, 0.017015706612817382, 0.011103959777484988, 0.008649618538811075, 0.00729981271375165, 0.01960518444576191, 0.013146294143917164, 0.049463365271262265, 0.01582982964049685, 0.01946429208670178, 0.009066420025960186, 0.007509746694726986, 0.0030514211062630226, 0.0029628281646319025, 0.011334609142912368, 0.4988888437480746, 0.018298814448226383, 0.07782926670715119, 0.007294049139974596, 0.13417814245178616, 0.13935798092857363, 1.0], \"yaxis\": \"y\"}],\n",
       "                        {\"coloraxis\": {\"colorbar\": {\"title\": {\"text\": \"clusterInfo\"}}, \"colorscale\": [[0.0, \"#0d0887\"], [0.1111111111111111, \"#46039f\"], [0.2222222222222222, \"#7201a8\"], [0.3333333333333333, \"#9c179e\"], [0.4444444444444444, \"#bd3786\"], [0.5555555555555556, \"#d8576b\"], [0.6666666666666666, \"#ed7953\"], [0.7777777777777778, \"#fb9f3a\"], [0.8888888888888888, \"#fdca26\"], [1.0, \"#f0f921\"]]}, \"legend\": {\"itemsizing\": \"constant\", \"tracegroupgap\": 0}, \"margin\": {\"t\": 60}, \"showlegend\": false, \"template\": {\"data\": {\"bar\": [{\"error_x\": {\"color\": \"#2a3f5f\"}, \"error_y\": {\"color\": \"#2a3f5f\"}, \"marker\": {\"line\": {\"color\": \"#E5ECF6\", \"width\": 0.5}}, \"type\": \"bar\"}], \"barpolar\": [{\"marker\": {\"line\": {\"color\": \"#E5ECF6\", \"width\": 0.5}}, \"type\": \"barpolar\"}], \"carpet\": [{\"aaxis\": {\"endlinecolor\": \"#2a3f5f\", \"gridcolor\": \"white\", \"linecolor\": \"white\", \"minorgridcolor\": \"white\", \"startlinecolor\": \"#2a3f5f\"}, \"baxis\": {\"endlinecolor\": \"#2a3f5f\", \"gridcolor\": \"white\", \"linecolor\": \"white\", \"minorgridcolor\": \"white\", \"startlinecolor\": \"#2a3f5f\"}, \"type\": \"carpet\"}], \"choropleth\": [{\"colorbar\": {\"outlinewidth\": 0, \"ticks\": \"\"}, \"type\": \"choropleth\"}], \"contour\": [{\"colorbar\": {\"outlinewidth\": 0, \"ticks\": \"\"}, \"colorscale\": [[0.0, \"#0d0887\"], [0.1111111111111111, \"#46039f\"], [0.2222222222222222, \"#7201a8\"], [0.3333333333333333, \"#9c179e\"], [0.4444444444444444, \"#bd3786\"], [0.5555555555555556, \"#d8576b\"], [0.6666666666666666, \"#ed7953\"], [0.7777777777777778, \"#fb9f3a\"], [0.8888888888888888, \"#fdca26\"], [1.0, \"#f0f921\"]], \"type\": \"contour\"}], \"contourcarpet\": [{\"colorbar\": {\"outlinewidth\": 0, \"ticks\": \"\"}, \"type\": \"contourcarpet\"}], \"heatmap\": [{\"colorbar\": {\"outlinewidth\": 0, \"ticks\": \"\"}, \"colorscale\": [[0.0, \"#0d0887\"], [0.1111111111111111, \"#46039f\"], [0.2222222222222222, \"#7201a8\"], [0.3333333333333333, \"#9c179e\"], [0.4444444444444444, \"#bd3786\"], [0.5555555555555556, \"#d8576b\"], [0.6666666666666666, \"#ed7953\"], [0.7777777777777778, \"#fb9f3a\"], [0.8888888888888888, \"#fdca26\"], [1.0, \"#f0f921\"]], \"type\": \"heatmap\"}], \"heatmapgl\": [{\"colorbar\": {\"outlinewidth\": 0, \"ticks\": \"\"}, \"colorscale\": [[0.0, \"#0d0887\"], [0.1111111111111111, \"#46039f\"], [0.2222222222222222, \"#7201a8\"], [0.3333333333333333, \"#9c179e\"], [0.4444444444444444, \"#bd3786\"], [0.5555555555555556, \"#d8576b\"], [0.6666666666666666, \"#ed7953\"], [0.7777777777777778, \"#fb9f3a\"], [0.8888888888888888, \"#fdca26\"], [1.0, \"#f0f921\"]], \"type\": \"heatmapgl\"}], \"histogram\": [{\"marker\": {\"colorbar\": {\"outlinewidth\": 0, \"ticks\": \"\"}}, \"type\": \"histogram\"}], \"histogram2d\": [{\"colorbar\": {\"outlinewidth\": 0, \"ticks\": \"\"}, \"colorscale\": [[0.0, \"#0d0887\"], [0.1111111111111111, \"#46039f\"], [0.2222222222222222, \"#7201a8\"], [0.3333333333333333, \"#9c179e\"], [0.4444444444444444, \"#bd3786\"], [0.5555555555555556, \"#d8576b\"], [0.6666666666666666, \"#ed7953\"], [0.7777777777777778, \"#fb9f3a\"], [0.8888888888888888, \"#fdca26\"], [1.0, \"#f0f921\"]], \"type\": \"histogram2d\"}], \"histogram2dcontour\": [{\"colorbar\": {\"outlinewidth\": 0, \"ticks\": \"\"}, \"colorscale\": [[0.0, \"#0d0887\"], [0.1111111111111111, \"#46039f\"], [0.2222222222222222, \"#7201a8\"], [0.3333333333333333, \"#9c179e\"], [0.4444444444444444, \"#bd3786\"], [0.5555555555555556, \"#d8576b\"], [0.6666666666666666, \"#ed7953\"], [0.7777777777777778, \"#fb9f3a\"], [0.8888888888888888, \"#fdca26\"], [1.0, \"#f0f921\"]], \"type\": \"histogram2dcontour\"}], \"mesh3d\": [{\"colorbar\": {\"outlinewidth\": 0, \"ticks\": \"\"}, \"type\": \"mesh3d\"}], \"parcoords\": [{\"line\": {\"colorbar\": {\"outlinewidth\": 0, \"ticks\": \"\"}}, \"type\": \"parcoords\"}], \"pie\": [{\"automargin\": true, \"type\": \"pie\"}], \"scatter\": [{\"marker\": {\"colorbar\": {\"outlinewidth\": 0, \"ticks\": \"\"}}, \"type\": \"scatter\"}], \"scatter3d\": [{\"line\": {\"colorbar\": {\"outlinewidth\": 0, \"ticks\": \"\"}}, \"marker\": {\"colorbar\": {\"outlinewidth\": 0, \"ticks\": \"\"}}, \"type\": \"scatter3d\"}], \"scattercarpet\": [{\"marker\": {\"colorbar\": {\"outlinewidth\": 0, \"ticks\": \"\"}}, \"type\": \"scattercarpet\"}], \"scattergeo\": [{\"marker\": {\"colorbar\": {\"outlinewidth\": 0, \"ticks\": \"\"}}, \"type\": \"scattergeo\"}], \"scattergl\": [{\"marker\": {\"colorbar\": {\"outlinewidth\": 0, \"ticks\": \"\"}}, \"type\": \"scattergl\"}], \"scattermapbox\": [{\"marker\": {\"colorbar\": {\"outlinewidth\": 0, \"ticks\": \"\"}}, \"type\": \"scattermapbox\"}], \"scatterpolar\": [{\"marker\": {\"colorbar\": {\"outlinewidth\": 0, \"ticks\": \"\"}}, \"type\": \"scatterpolar\"}], \"scatterpolargl\": [{\"marker\": {\"colorbar\": {\"outlinewidth\": 0, \"ticks\": \"\"}}, \"type\": \"scatterpolargl\"}], \"scatterternary\": [{\"marker\": {\"colorbar\": {\"outlinewidth\": 0, \"ticks\": \"\"}}, \"type\": \"scatterternary\"}], \"surface\": [{\"colorbar\": {\"outlinewidth\": 0, \"ticks\": \"\"}, \"colorscale\": [[0.0, \"#0d0887\"], [0.1111111111111111, \"#46039f\"], [0.2222222222222222, \"#7201a8\"], [0.3333333333333333, \"#9c179e\"], [0.4444444444444444, \"#bd3786\"], [0.5555555555555556, \"#d8576b\"], [0.6666666666666666, \"#ed7953\"], [0.7777777777777778, \"#fb9f3a\"], [0.8888888888888888, \"#fdca26\"], [1.0, \"#f0f921\"]], \"type\": \"surface\"}], \"table\": [{\"cells\": {\"fill\": {\"color\": \"#EBF0F8\"}, \"line\": {\"color\": \"white\"}}, \"header\": {\"fill\": {\"color\": \"#C8D4E3\"}, \"line\": {\"color\": \"white\"}}, \"type\": \"table\"}]}, \"layout\": {\"annotationdefaults\": {\"arrowcolor\": \"#2a3f5f\", \"arrowhead\": 0, \"arrowwidth\": 1}, \"coloraxis\": {\"colorbar\": {\"outlinewidth\": 0, \"ticks\": \"\"}}, \"colorscale\": {\"diverging\": [[0, \"#8e0152\"], [0.1, \"#c51b7d\"], [0.2, \"#de77ae\"], [0.3, \"#f1b6da\"], [0.4, \"#fde0ef\"], [0.5, \"#f7f7f7\"], [0.6, \"#e6f5d0\"], [0.7, \"#b8e186\"], [0.8, \"#7fbc41\"], [0.9, \"#4d9221\"], [1, \"#276419\"]], \"sequential\": [[0.0, \"#0d0887\"], [0.1111111111111111, \"#46039f\"], [0.2222222222222222, \"#7201a8\"], [0.3333333333333333, \"#9c179e\"], [0.4444444444444444, \"#bd3786\"], [0.5555555555555556, \"#d8576b\"], [0.6666666666666666, \"#ed7953\"], [0.7777777777777778, \"#fb9f3a\"], [0.8888888888888888, \"#fdca26\"], [1.0, \"#f0f921\"]], \"sequentialminus\": [[0.0, \"#0d0887\"], [0.1111111111111111, \"#46039f\"], [0.2222222222222222, \"#7201a8\"], [0.3333333333333333, \"#9c179e\"], [0.4444444444444444, \"#bd3786\"], [0.5555555555555556, \"#d8576b\"], [0.6666666666666666, \"#ed7953\"], [0.7777777777777778, \"#fb9f3a\"], [0.8888888888888888, \"#fdca26\"], [1.0, \"#f0f921\"]]}, \"colorway\": [\"#636efa\", \"#EF553B\", \"#00cc96\", \"#ab63fa\", \"#FFA15A\", \"#19d3f3\", \"#FF6692\", \"#B6E880\", \"#FF97FF\", \"#FECB52\"], \"font\": {\"color\": \"#2a3f5f\"}, \"geo\": {\"bgcolor\": \"white\", \"lakecolor\": \"white\", \"landcolor\": \"#E5ECF6\", \"showlakes\": true, \"showland\": true, \"subunitcolor\": \"white\"}, \"hoverlabel\": {\"align\": \"left\"}, \"hovermode\": \"closest\", \"mapbox\": {\"style\": \"light\"}, \"paper_bgcolor\": \"white\", \"plot_bgcolor\": \"#E5ECF6\", \"polar\": {\"angularaxis\": {\"gridcolor\": \"white\", \"linecolor\": \"white\", \"ticks\": \"\"}, \"bgcolor\": \"#E5ECF6\", \"radialaxis\": {\"gridcolor\": \"white\", \"linecolor\": \"white\", \"ticks\": \"\"}}, \"scene\": {\"xaxis\": {\"backgroundcolor\": \"#E5ECF6\", \"gridcolor\": \"white\", \"gridwidth\": 2, \"linecolor\": \"white\", \"showbackground\": true, \"ticks\": \"\", \"zerolinecolor\": \"white\"}, \"yaxis\": {\"backgroundcolor\": \"#E5ECF6\", \"gridcolor\": \"white\", \"gridwidth\": 2, \"linecolor\": \"white\", \"showbackground\": true, \"ticks\": \"\", \"zerolinecolor\": \"white\"}, \"zaxis\": {\"backgroundcolor\": \"#E5ECF6\", \"gridcolor\": \"white\", \"gridwidth\": 2, \"linecolor\": \"white\", \"showbackground\": true, \"ticks\": \"\", \"zerolinecolor\": \"white\"}}, \"shapedefaults\": {\"line\": {\"color\": \"#2a3f5f\"}}, \"ternary\": {\"aaxis\": {\"gridcolor\": \"white\", \"linecolor\": \"white\", \"ticks\": \"\"}, \"baxis\": {\"gridcolor\": \"white\", \"linecolor\": \"white\", \"ticks\": \"\"}, \"bgcolor\": \"#E5ECF6\", \"caxis\": {\"gridcolor\": \"white\", \"linecolor\": \"white\", \"ticks\": \"\"}}, \"title\": {\"x\": 0.05}, \"xaxis\": {\"automargin\": true, \"gridcolor\": \"white\", \"linecolor\": \"white\", \"ticks\": \"\", \"title\": {\"standoff\": 15}, \"zerolinecolor\": \"white\", \"zerolinewidth\": 2}, \"yaxis\": {\"automargin\": true, \"gridcolor\": \"white\", \"linecolor\": \"white\", \"ticks\": \"\", \"title\": {\"standoff\": 15}, \"zerolinecolor\": \"white\", \"zerolinewidth\": 2}}}, \"xaxis\": {\"anchor\": \"y\", \"domain\": [0.0, 1.0], \"title\": {\"text\": \"scaledSlope\"}, \"type\": \"log\"}, \"yaxis\": {\"anchor\": \"x\", \"domain\": [0.0, 1.0], \"title\": {\"text\": \"stdVal\"}}},\n",
       "                        {\"responsive\": true}\n",
       "                    ).then(function(){\n",
       "                            \n",
       "var gd = document.getElementById('83f99beb-b1e3-483e-8087-32e220aba2ab');\n",
       "var x = new MutationObserver(function (mutations, observer) {{\n",
       "        var display = window.getComputedStyle(gd).display;\n",
       "        if (!display || display === 'none') {{\n",
       "            console.log([gd, 'removed!']);\n",
       "            Plotly.purge(gd);\n",
       "            observer.disconnect();\n",
       "        }}\n",
       "}});\n",
       "\n",
       "// Listen for the removal of the full notebook cells\n",
       "var notebookContainer = gd.closest('#notebook-container');\n",
       "if (notebookContainer) {{\n",
       "    x.observe(notebookContainer, {childList: true});\n",
       "}}\n",
       "\n",
       "// Listen for the clearing of the current output cell\n",
       "var outputEl = gd.closest('.output');\n",
       "if (outputEl) {{\n",
       "    x.observe(outputEl, {childList: true});\n",
       "}}\n",
       "\n",
       "                        })\n",
       "                };\n",
       "                });\n",
       "            </script>\n",
       "        </div>"
      ]
     },
     "metadata": {},
     "output_type": "display_data"
    }
   ],
   "source": [
    "import plotly.express as px\n",
    "fig = px.scatter(filoverallSpacingDF, x=\"scaledSlope\", y=\"stdVal\",\n",
    "\t         size=\"lastValue\", color=\"clusterInfo\",\n",
    "                 hover_name=\"countryName\", log_x=True, size_max=60,text='countryName')\n",
    "fig.update_layout(showlegend=False)\n",
    "fig.show()"
   ]
  },
  {
   "cell_type": "markdown",
   "metadata": {},
   "source": [
    "## Slider Details"
   ]
  },
  {
   "cell_type": "code",
   "execution_count": 84,
   "metadata": {},
   "outputs": [
    {
     "data": {
      "text/plain": [
       "dict_keys(['logValues', 'actualValues', 'countryData', 'absInfected', 'minMaxScaledval', 'stdVal', 'slopeData', 'datesOfInfections', 'dayIndex', 'lastValue'])"
      ]
     },
     "execution_count": 84,
     "metadata": {},
     "output_type": "execute_result"
    }
   ],
   "source": [
    "countryDataDict['India'].keys()"
   ]
  },
  {
   "cell_type": "code",
   "execution_count": 102,
   "metadata": {},
   "outputs": [],
   "source": [
    "def getCountryDayWiseDetails(country):\n",
    "    indiCountyDaywise=[]\n",
    "    tempX=countryDataDict[country]\n",
    "    for i in range(0,len(tempX['countryData'])):\n",
    "        try:\n",
    "            tempDict={'stdVal':np.std(tempX['absInfected'][:i]),\n",
    "                  'dayInfo':i,#'D_'+str(i).zfill(3),\n",
    "                  'slopeVal':getSlope(tempX['absInfected'][:i]),\n",
    "                'infected':tempX['countryData'][i]}\n",
    "        except:\n",
    "            tempDict={'stdVal':None,\n",
    "                  'dayInfo':i,#'D_'+str(i).zfill(3),\n",
    "                  'slopeVal':None,\n",
    "                     'infected':tempX['countryData'][i]}\n",
    "\n",
    "        indiCountyDaywise.append(tempDict)\n",
    "    tempDWiseData=pd.DataFrame(indiCountyDaywise)\n",
    "    tempDWiseData['CountryName']=country\n",
    "    return tempDWiseData"
   ]
  },
  {
   "cell_type": "code",
   "execution_count": 103,
   "metadata": {},
   "outputs": [
    {
     "name": "stderr",
     "output_type": "stream",
     "text": [
      "100%|████████████████████████████████████████████████████████████████████████████████| 238/238 [00:31<00:00,  7.56it/s]\n"
     ]
    },
    {
     "data": {
      "text/html": [
       "<div>\n",
       "<style scoped>\n",
       "    .dataframe tbody tr th:only-of-type {\n",
       "        vertical-align: middle;\n",
       "    }\n",
       "\n",
       "    .dataframe tbody tr th {\n",
       "        vertical-align: top;\n",
       "    }\n",
       "\n",
       "    .dataframe thead th {\n",
       "        text-align: right;\n",
       "    }\n",
       "</style>\n",
       "<table border=\"1\" class=\"dataframe\">\n",
       "  <thead>\n",
       "    <tr style=\"text-align: right;\">\n",
       "      <th></th>\n",
       "      <th>dayInfo</th>\n",
       "      <th>infected</th>\n",
       "      <th>slopeVal</th>\n",
       "      <th>stdVal</th>\n",
       "      <th>CountryName</th>\n",
       "    </tr>\n",
       "  </thead>\n",
       "  <tbody>\n",
       "    <tr>\n",
       "      <th>0</th>\n",
       "      <td>0</td>\n",
       "      <td>5</td>\n",
       "      <td>NaN</td>\n",
       "      <td>NaN</td>\n",
       "      <td>Afghanistan</td>\n",
       "    </tr>\n",
       "    <tr>\n",
       "      <th>1</th>\n",
       "      <td>1</td>\n",
       "      <td>7</td>\n",
       "      <td>0.000000</td>\n",
       "      <td>0.000000</td>\n",
       "      <td>Afghanistan</td>\n",
       "    </tr>\n",
       "    <tr>\n",
       "      <th>2</th>\n",
       "      <td>2</td>\n",
       "      <td>7</td>\n",
       "      <td>2.000000</td>\n",
       "      <td>1.500000</td>\n",
       "      <td>Afghanistan</td>\n",
       "    </tr>\n",
       "    <tr>\n",
       "      <th>3</th>\n",
       "      <td>3</td>\n",
       "      <td>7</td>\n",
       "      <td>0.400000</td>\n",
       "      <td>2.054805</td>\n",
       "      <td>Afghanistan</td>\n",
       "    </tr>\n",
       "    <tr>\n",
       "      <th>4</th>\n",
       "      <td>4</td>\n",
       "      <td>11</td>\n",
       "      <td>0.142857</td>\n",
       "      <td>2.046338</td>\n",
       "      <td>Afghanistan</td>\n",
       "    </tr>\n",
       "  </tbody>\n",
       "</table>\n",
       "</div>"
      ],
      "text/plain": [
       "   dayInfo  infected  slopeVal    stdVal  CountryName\n",
       "0        0         5       NaN       NaN  Afghanistan\n",
       "1        1         7  0.000000  0.000000  Afghanistan\n",
       "2        2         7  2.000000  1.500000  Afghanistan\n",
       "3        3         7  0.400000  2.054805  Afghanistan\n",
       "4        4        11  0.142857  2.046338  Afghanistan"
      ]
     },
     "execution_count": 103,
     "metadata": {},
     "output_type": "execute_result"
    }
   ],
   "source": [
    "countryDataDictDayWise=[]\n",
    "for con in tqdm(countryDataDict):\n",
    "    countryDataDictDayWise.append(getCountryDayWiseDetails(con))\n",
    "    \n",
    "allCOuntryDayWiseDataDF=pd.concat(countryDataDictDayWise)\n",
    "allCOuntryDayWiseDataDF.head()"
   ]
  },
  {
   "cell_type": "code",
   "execution_count": 104,
   "metadata": {
    "scrolled": true
   },
   "outputs": [],
   "source": [
    "tempDF=allCOuntryDayWiseDataDF[allCOuntryDayWiseDataDF['dayInfo']==20]\n",
    "tempDF['scaledSlope']=preprocessing.MinMaxScaler().fit_transform(tempDF[['slopeVal']])\n",
    "tempDF['clusterInfo']=kmeanCluster(tempDF)"
   ]
  },
  {
   "cell_type": "markdown",
   "metadata": {},
   "source": [
    "## Calculating Cluster for all dates"
   ]
  },
  {
   "cell_type": "code",
   "execution_count": 108,
   "metadata": {},
   "outputs": [
    {
     "name": "stderr",
     "output_type": "stream",
     "text": [
      "100%|██████████████████████████████████████████████████████████████████████████████████| 70/70 [00:37<00:00,  1.90it/s]\n"
     ]
    }
   ],
   "source": [
    "moreDataFrameForSlider=[]\n",
    "for indDate in tqdm(pd.unique(allCOuntryDayWiseDataDF['dayInfo'])):\n",
    "    try:\n",
    "        tempDF=allCOuntryDayWiseDataDF[allCOuntryDayWiseDataDF['dayInfo']==indDate]\n",
    "    #     tempDF=allCOuntryDayWiseDataDF[allCOuntryDayWiseDataDF['dayInfo']==21]\n",
    "        tempDF['scaledSlope']=preprocessing.MinMaxScaler().fit_transform(tempDF[['slopeVal']])\n",
    "        tempDF['scaledstdVal']=preprocessing.MinMaxScaler().fit_transform(tempDF[['stdVal']])\n",
    "        tempDF['clusterInfo']=kmeanCluster(tempDF)\n",
    "        moreDataFrameForSlider.append(tempDF)\n",
    "    except:\n",
    "        pass"
   ]
  },
  {
   "cell_type": "code",
   "execution_count": 110,
   "metadata": {},
   "outputs": [
    {
     "data": {
      "text/html": [
       "<div>\n",
       "<style scoped>\n",
       "    .dataframe tbody tr th:only-of-type {\n",
       "        vertical-align: middle;\n",
       "    }\n",
       "\n",
       "    .dataframe tbody tr th {\n",
       "        vertical-align: top;\n",
       "    }\n",
       "\n",
       "    .dataframe thead th {\n",
       "        text-align: right;\n",
       "    }\n",
       "</style>\n",
       "<table border=\"1\" class=\"dataframe\">\n",
       "  <thead>\n",
       "    <tr style=\"text-align: right;\">\n",
       "      <th></th>\n",
       "      <th>dayInfo</th>\n",
       "      <th>infected</th>\n",
       "      <th>slopeVal</th>\n",
       "      <th>stdVal</th>\n",
       "      <th>CountryName</th>\n",
       "      <th>scaledSlope</th>\n",
       "      <th>scaledstdVal</th>\n",
       "      <th>clusterInfo</th>\n",
       "    </tr>\n",
       "  </thead>\n",
       "  <tbody>\n",
       "    <tr>\n",
       "      <th>2</th>\n",
       "      <td>2</td>\n",
       "      <td>7</td>\n",
       "      <td>2.0</td>\n",
       "      <td>1.5</td>\n",
       "      <td>Afghanistan</td>\n",
       "      <td>0.047619</td>\n",
       "      <td>0.006757</td>\n",
       "      <td>0</td>\n",
       "    </tr>\n",
       "    <tr>\n",
       "      <th>2</th>\n",
       "      <td>2</td>\n",
       "      <td>23</td>\n",
       "      <td>2.0</td>\n",
       "      <td>4.0</td>\n",
       "      <td>Albania</td>\n",
       "      <td>0.047619</td>\n",
       "      <td>0.018018</td>\n",
       "      <td>0</td>\n",
       "    </tr>\n",
       "    <tr>\n",
       "      <th>2</th>\n",
       "      <td>2</td>\n",
       "      <td>12</td>\n",
       "      <td>7.0</td>\n",
       "      <td>1.0</td>\n",
       "      <td>Algeria</td>\n",
       "      <td>0.166667</td>\n",
       "      <td>0.004505</td>\n",
       "      <td>0</td>\n",
       "    </tr>\n",
       "    <tr>\n",
       "      <th>2</th>\n",
       "      <td>2</td>\n",
       "      <td>53</td>\n",
       "      <td>-0.0</td>\n",
       "      <td>19.5</td>\n",
       "      <td>Andorra</td>\n",
       "      <td>0.000000</td>\n",
       "      <td>0.087838</td>\n",
       "      <td>2</td>\n",
       "    </tr>\n",
       "    <tr>\n",
       "      <th>2</th>\n",
       "      <td>2</td>\n",
       "      <td>7</td>\n",
       "      <td>2.0</td>\n",
       "      <td>1.5</td>\n",
       "      <td>Angola</td>\n",
       "      <td>0.047619</td>\n",
       "      <td>0.006757</td>\n",
       "      <td>0</td>\n",
       "    </tr>\n",
       "  </tbody>\n",
       "</table>\n",
       "</div>"
      ],
      "text/plain": [
       "   dayInfo  infected  slopeVal  stdVal  CountryName  scaledSlope  \\\n",
       "2        2         7       2.0     1.5  Afghanistan     0.047619   \n",
       "2        2        23       2.0     4.0      Albania     0.047619   \n",
       "2        2        12       7.0     1.0      Algeria     0.166667   \n",
       "2        2        53      -0.0    19.5      Andorra     0.000000   \n",
       "2        2         7       2.0     1.5       Angola     0.047619   \n",
       "\n",
       "   scaledstdVal  clusterInfo  \n",
       "2      0.006757            0  \n",
       "2      0.018018            0  \n",
       "2      0.004505            0  \n",
       "2      0.087838            2  \n",
       "2      0.006757            0  "
      ]
     },
     "execution_count": 110,
     "metadata": {},
     "output_type": "execute_result"
    }
   ],
   "source": [
    "allDFWithCluster=pd.concat(moreDataFrameForSlider)\n",
    "allDFWithCluster.head()"
   ]
  },
  {
   "cell_type": "code",
   "execution_count": 111,
   "metadata": {},
   "outputs": [],
   "source": [
    "# allCOuntryDayWiseDataDF[allCOuntryDayWiseDataDF['slopeVal']>1960]"
   ]
  },
  {
   "cell_type": "code",
   "execution_count": 113,
   "metadata": {},
   "outputs": [
    {
     "data": {
      "application/vnd.jupyter.widget-view+json": {
       "model_id": "25dd8ede39c647e38c577274d24f8cd8",
       "version_major": 2,
       "version_minor": 0
      },
      "text/plain": [
       "VBox(children=(HBox(children=(IntSlider(value=1, continuous_update=False, description='Day:', max=69, min=1),)…"
      ]
     },
     "metadata": {},
     "output_type": "display_data"
    }
   ],
   "source": [
    "daySLider = widgets.IntSlider(\n",
    "    value=1,\n",
    "    min=1.0,#min(allDFWithCluster['dayInfo']),\n",
    "    max=max(allDFWithCluster['dayInfo']),\n",
    "    step=1.0,\n",
    "    description='Day:',\n",
    "    continuous_update=False\n",
    ")\n",
    "\n",
    "# textbox = widgets.Dropdown(\n",
    "#     description='Country:   ',\n",
    "#     value='India',\n",
    "#     options=allCOuntryData.columns.tolist()\n",
    "# )\n",
    "container = widgets.HBox(children=[daySLider])\n",
    "# from plotly.subplots import make_subplots\n",
    "\n",
    "tempDFFOrSlider=allDFWithCluster[allDFWithCluster['dayInfo']==59]\n",
    "trace1 = go.Scatter(\n",
    "    x=tempDFFOrSlider['slopeVal'],\n",
    "    y=tempDFFOrSlider['stdVal'],\n",
    "#     mode='markers',\n",
    "     mode=\"markers+text\",\n",
    "    marker=dict(size=tempDFFOrSlider['infected'],sizemode='area',\n",
    "        sizeref=3.*max(tempDFFOrSlider['infected'])/(40.**2),\n",
    "                color=tempDFFOrSlider['clusterInfo'],\n",
    "        sizemin=4),\n",
    "    showlegend=False,\n",
    "    text=tempDFFOrSlider['CountryName'])\n",
    "g = go.FigureWidget(data=[trace1],layout=go.Layout(title=dict(text='Covid19'),barmode='overlay'))\n",
    "\n",
    "def response(change):\n",
    "    vaL=daySLider.value\n",
    "    tempDFFOrSlider=allDFWithCluster[allDFWithCluster['dayInfo']==vaL]\n",
    "    x1 = tempDFFOrSlider['slopeVal'].values\n",
    "    x2 = tempDFFOrSlider['stdVal'].values\n",
    "    with g.batch_update():\n",
    "        g.data[0].x = x1\n",
    "        g.data[0].y = x2\n",
    "        g.data[0].marker['size']= tempDFFOrSlider['infected'].values\n",
    "        g.data[0].marker['color']= tempDFFOrSlider['clusterInfo'].values\n",
    "        g.layout.barmode = 'overlay'\n",
    "        g.data[0].text = tempDFFOrSlider['CountryName']\n",
    "daySLider.observe(response, names=\"value\")\n",
    "# textbox.observe(response, names=\"value\")\n",
    "\n",
    "widgets.VBox([container,g])"
   ]
  },
  {
   "cell_type": "markdown",
   "metadata": {},
   "source": [
    "## Filter Further"
   ]
  },
  {
   "cell_type": "code",
   "execution_count": 115,
   "metadata": {
    "scrolled": true
   },
   "outputs": [
    {
     "data": {
      "text/plain": [
       "array(['Afghanistan', 'Albania', 'Algeria', 'Andorra', 'Angola',\n",
       "       'Antigua and Barbuda', 'Argentina', 'Armenia',\n",
       "       'AustraliaAustralian Capital Territory',\n",
       "       'AustraliaNew South Wales', 'AustraliaNorthern Territory',\n",
       "       'AustraliaQueensland', 'AustraliaSouth Australia',\n",
       "       'AustraliaTasmania', 'AustraliaVictoria',\n",
       "       'AustraliaWestern Australia', 'Austria', 'Azerbaijan', 'Bahamas',\n",
       "       'Bahrain', 'Bangladesh', 'Barbados', 'Belarus', 'Belgium', 'Benin',\n",
       "       'Bolivia', 'Bosnia and Herzegovina', 'Brazil', 'Brunei',\n",
       "       'Bulgaria', 'Burkina Faso', 'Cabo Verde', 'Cambodia', 'Cameroon',\n",
       "       'CanadaAlberta', 'CanadaBritish Columbia', 'CanadaGrand Princess',\n",
       "       'CanadaManitoba', 'CanadaNew Brunswick',\n",
       "       'CanadaNewfoundland and Labrador', 'CanadaNova Scotia',\n",
       "       'CanadaOntario', 'CanadaPrince Edward Island', 'CanadaQuebec',\n",
       "       'CanadaSaskatchewan', 'Chile', 'ChinaAnhui', 'ChinaBeijing',\n",
       "       'ChinaChongqing', 'ChinaFujian', 'ChinaGansu', 'ChinaGuangdong',\n",
       "       'ChinaGuangxi', 'ChinaGuizhou', 'ChinaHainan', 'ChinaHebei',\n",
       "       'ChinaHeilongjiang', 'ChinaHenan', 'ChinaHong Kong', 'ChinaHubei',\n",
       "       'ChinaHunan', 'ChinaInner Mongolia', 'ChinaJiangsu',\n",
       "       'ChinaJiangxi', 'ChinaJilin', 'ChinaLiaoning', 'ChinaMacau',\n",
       "       'ChinaNingxia', 'ChinaQinghai', 'ChinaShaanxi', 'ChinaShandong',\n",
       "       'ChinaShanghai', 'ChinaShanxi', 'ChinaSichuan', 'ChinaTianjin',\n",
       "       'ChinaXinjiang', 'ChinaYunnan', 'ChinaZhejiang', 'Colombia',\n",
       "       'Congo (Brazzaville)', 'Congo (Kinshasa)', 'Costa Rica',\n",
       "       \"Cote d'Ivoire\", 'Croatia', 'Diamond Princess', 'Cuba', 'Cyprus',\n",
       "       'Czechia', 'DenmarkFaroe Islands', 'DenmarkGreenland', 'Denmark',\n",
       "       'Djibouti', 'Dominican Republic', 'Ecuador', 'Egypt',\n",
       "       'El Salvador', 'Equatorial Guinea', 'Eritrea', 'Estonia',\n",
       "       'Eswatini', 'Ethiopia', 'Fiji', 'Finland', 'FranceFrench Guiana',\n",
       "       'FranceFrench Polynesia', 'FranceGuadeloupe', 'FranceMayotte',\n",
       "       'FranceNew Caledonia', 'FranceReunion', 'FranceSaint Barthelemy',\n",
       "       'FranceSt Martin', 'FranceMartinique', 'France', 'Gabon',\n",
       "       'Georgia', 'Germany', 'Ghana', 'Greece', 'Guatemala', 'Guinea',\n",
       "       'Guyana', 'Haiti', 'Holy See', 'Honduras', 'Hungary', 'Iceland',\n",
       "       'India', 'Indonesia', 'Iran', 'Iraq', 'Ireland', 'Israel', 'Italy',\n",
       "       'Jamaica', 'Japan', 'Jordan', 'Kazakhstan', 'Kenya',\n",
       "       'Korea, South', 'Kuwait', 'Kyrgyzstan', 'Latvia', 'Lebanon',\n",
       "       'Liechtenstein', 'Lithuania', 'Luxembourg', 'Madagascar',\n",
       "       'Malaysia', 'Maldives', 'Malta', 'Mauritania', 'Mauritius',\n",
       "       'Mexico', 'Moldova', 'Monaco', 'Mongolia', 'Montenegro', 'Morocco',\n",
       "       'Namibia', 'Nepal', 'NetherlandsAruba', 'NetherlandsCuracao',\n",
       "       'NetherlandsSint Maarten', 'Netherlands', 'New Zealand', 'Niger',\n",
       "       'Nigeria', 'North Macedonia', 'Norway', 'Oman', 'Pakistan',\n",
       "       'Panama', 'Paraguay', 'Peru', 'Philippines', 'Poland', 'Portugal',\n",
       "       'Qatar', 'Romania', 'Russia', 'Rwanda', 'Saint Lucia',\n",
       "       'San Marino', 'Saudi Arabia', 'Senegal', 'Serbia', 'Seychelles',\n",
       "       'Singapore', 'Slovakia', 'Slovenia', 'South Africa', 'Spain',\n",
       "       'Sri Lanka', 'Sudan', 'Suriname', 'Sweden', 'Switzerland',\n",
       "       'Taiwan*', 'Tanzania', 'Thailand', 'Togo', 'Trinidad and Tobago',\n",
       "       'Tunisia', 'Turkey', 'Uganda', 'Ukraine', 'United Arab Emirates',\n",
       "       'United KingdomBermuda', 'United KingdomCayman Islands',\n",
       "       'United KingdomChannel Islands', 'United KingdomGibraltar',\n",
       "       'United KingdomIsle of Man', 'United KingdomMontserrat',\n",
       "       'United Kingdom', 'Uruguay', 'US', 'Uzbekistan', 'Venezuela',\n",
       "       'Vietnam', 'Zambia', 'Zimbabwe', 'Dominica', 'Grenada',\n",
       "       'Mozambique', 'Syria', 'Laos', 'Libya', 'West Bank and Gaza',\n",
       "       'Mali', 'Kosovo', 'Burma'], dtype=object)"
      ]
     },
     "execution_count": 115,
     "metadata": {},
     "output_type": "execute_result"
    }
   ],
   "source": [
    "# filallCOuntryDayWiseDataDF=allCOuntryDayWiseDataDF[]\n",
    "pd.unique(allDFWithCluster['CountryName'])"
   ]
  },
  {
   "cell_type": "code",
   "execution_count": 128,
   "metadata": {},
   "outputs": [],
   "source": [
    "filtCountry=list(allDFWithCluster.groupby(['CountryName']).agg({'infected':'max'})\\\n",
    "     .reset_index().sort_values(by='infected',ascending=False).head(20)['CountryName'].values)\\\n",
    "    + ['India','Japan']"
   ]
  },
  {
   "cell_type": "code",
   "execution_count": 130,
   "metadata": {},
   "outputs": [],
   "source": [
    "# filallCOuntryDayWiseDataDF=allCOuntryDayWiseDataDF[]\n",
    "filterNextForIndia=allDFWithCluster[allDFWithCluster['CountryName'].isin(filtCountry)]\n",
    "# filterNextForIndia=allDFWithCluster[~allDFWithCluster['CountryName'].str.contains('ina')]"
   ]
  },
  {
   "cell_type": "code",
   "execution_count": 135,
   "metadata": {},
   "outputs": [
    {
     "data": {
      "application/vnd.jupyter.widget-view+json": {
       "model_id": "e2ff1b7d423b4c678de8097a35680a67",
       "version_major": 2,
       "version_minor": 0
      },
      "text/plain": [
       "VBox(children=(HBox(children=(IntSlider(value=59, continuous_update=False, description='Day:', max=69, min=1),…"
      ]
     },
     "metadata": {},
     "output_type": "display_data"
    }
   ],
   "source": [
    "daySLider1 = widgets.IntSlider(\n",
    "    value=59,\n",
    "    min=1,#min(filterNextForIndia['dayInfo']),\n",
    "    max=max(filterNextForIndia['dayInfo']),\n",
    "    step=1.0,\n",
    "    description='Day:',\n",
    "    continuous_update=False\n",
    ")\n",
    "\n",
    "container1 = widgets.HBox(children=[daySLider1])\n",
    "# from plotly.subplots import make_subplots\n",
    "\n",
    "tempDFFOrSlider=filterNextForIndia[filterNextForIndia['dayInfo']==59]\n",
    "trace11 = go.Scatter(\n",
    "    x=tempDFFOrSlider['slopeVal'],\n",
    "    y=tempDFFOrSlider['stdVal'],\n",
    "#     mode='markers',\n",
    "     mode=\"markers+text\",\n",
    "    marker=dict(size=tempDFFOrSlider['infected'],sizemode='area',\n",
    "        sizeref=3.*max(tempDFFOrSlider['infected'])/(40.**2),\n",
    "                color=tempDFFOrSlider['clusterInfo'],\n",
    "        sizemin=4),\n",
    "    showlegend=False,\n",
    "    text=tempDFFOrSlider['CountryName'])\n",
    "g2 = go.FigureWidget(data=[trace11],layout=go.Layout(title=dict(text='Covid19'),barmode='overlay'))\n",
    "\n",
    "def response(change):\n",
    "    vaL=daySLider1.value\n",
    "    tempDFFOrSlider=filterNextForIndia[filterNextForIndia['dayInfo']==vaL]\n",
    "    x1 = tempDFFOrSlider['slopeVal'].values\n",
    "    x2 = tempDFFOrSlider['stdVal'].values\n",
    "    with g.batch_update():\n",
    "        g2.data[0].x = x1\n",
    "        g2.data[0].y = x2\n",
    "        g2.data[0].marker['size']= tempDFFOrSlider['infected'].values\n",
    "        g2.data[0].marker['color']= tempDFFOrSlider['clusterInfo'].values\n",
    "        g2.data[0].text = tempDFFOrSlider['CountryName']\n",
    "        g2.layout.barmode = 'overlay'\n",
    "daySLider1.observe(response, names=\"value\")\n",
    "# textbox.observe(response, names=\"value\")\n",
    "\n",
    "widgets.VBox([container1,g2])"
   ]
  },
  {
   "cell_type": "code",
   "execution_count": null,
   "metadata": {
    "scrolled": false
   },
   "outputs": [],
   "source": []
  },
  {
   "cell_type": "markdown",
   "metadata": {},
   "source": [
    "# Log plots from D0"
   ]
  },
  {
   "cell_type": "code",
   "execution_count": null,
   "metadata": {},
   "outputs": [],
   "source": [
    "dfList=[]\n",
    "for i in countryDataDict:\n",
    "    tmp=pd.DataFrame(countryDataDict[i]['logValues'])\n",
    "    tmp.columns=[i]\n",
    "    dfList.append(tmp)"
   ]
  },
  {
   "cell_type": "code",
   "execution_count": null,
   "metadata": {},
   "outputs": [],
   "source": [
    "dfLinePlotD0=pd.concat(dfList,axis=1)"
   ]
  },
  {
   "cell_type": "code",
   "execution_count": null,
   "metadata": {},
   "outputs": [],
   "source": [
    "dfLinePlotD0[list(dfLinePlotD0.columns.values[np.where(dfLinePlotD0.max() >9)]) +['India']].plot(figsize=(20,10))"
   ]
  },
  {
   "cell_type": "code",
   "execution_count": null,
   "metadata": {},
   "outputs": [],
   "source": [
    "filteredDFForLinePlot=dfLinePlotD0[list(dfLinePlotD0.columns.values[np.where(dfLinePlotD0.max() >9)]) +['India']]"
   ]
  },
  {
   "cell_type": "code",
   "execution_count": null,
   "metadata": {},
   "outputs": [],
   "source": [
    "dfList=[]\n",
    "for i in countryDataDict:\n",
    "    tmp=pd.DataFrame(data={'logValues':countryDataDict[i]['logValues'],'countryData':countryDataDict[i]['countryData']})\n",
    "    tmp['CountryName']=i\n",
    "    dfList.append(tmp)"
   ]
  },
  {
   "cell_type": "code",
   "execution_count": null,
   "metadata": {},
   "outputs": [],
   "source": [
    "allDaatForLineG=pd.concat(dfList)"
   ]
  },
  {
   "cell_type": "code",
   "execution_count": null,
   "metadata": {},
   "outputs": [],
   "source": [
    "allDaatForLineG=allDaatForLineG.reset_index()"
   ]
  },
  {
   "cell_type": "code",
   "execution_count": null,
   "metadata": {},
   "outputs": [],
   "source": [
    "allDaatForLineG.columns=['DayIndex', 'logValues', 'countryData', 'CountryName']"
   ]
  },
  {
   "cell_type": "code",
   "execution_count": null,
   "metadata": {},
   "outputs": [],
   "source": [
    "import plotly.express as px\n",
    "fig = px.line(allDaatForLineG, x=\"DayIndex\", y=\"logValues\",color='CountryName', title='Log Graphs')\n",
    "fig.update_layout(showlegend=False)\n",
    "fig.show()"
   ]
  },
  {
   "cell_type": "code",
   "execution_count": null,
   "metadata": {},
   "outputs": [],
   "source": [
    "filtCountry=list(dfLinePlotD0.columns.values[np.where(dfLinePlotD0.max() >9)]) +['India']\n",
    "filtCountry"
   ]
  },
  {
   "cell_type": "code",
   "execution_count": null,
   "metadata": {},
   "outputs": [],
   "source": [
    "import plotly.express as px\n",
    "filtDataCoutry=allDaatForLineG[allDaatForLineG['CountryName'].isin(filtCountry)]\n",
    "fig = px.line(filtDataCoutry, x=\"DayIndex\", y=\"logValues\",color='CountryName', title='Log Graphs')\n",
    "fig.update_layout(showlegend=False)\n",
    "fig.show()"
   ]
  },
  {
   "cell_type": "code",
   "execution_count": null,
   "metadata": {},
   "outputs": [],
   "source": [
    "# daySLider = widgets.IntSlider(\n",
    "#     value=1.0,\n",
    "#     min=1,#min(filterNextForIndia['dayInfo']),\n",
    "#     max=max(filterNextForIndia['dayInfo']),\n",
    "#     step=1.0,\n",
    "#     description='Day:',\n",
    "#     continuous_update=False\n",
    "# )\n",
    "\n",
    "textbox = widgets.Dropdown(\n",
    "    description='Country:   ',\n",
    "    value='India',\n",
    "    options=filtCountry\n",
    ")\n",
    "\n",
    "container = widgets.HBox(children=[textbox])\n",
    "# container = widgets.HBox(children=[daySLider])\n",
    "# from plotly.subplots import make_subplots"
   ]
  },
  {
   "cell_type": "code",
   "execution_count": null,
   "metadata": {},
   "outputs": [],
   "source": [
    "allDaatForLineG.head(2)"
   ]
  },
  {
   "cell_type": "code",
   "execution_count": null,
   "metadata": {},
   "outputs": [],
   "source": [
    "tempDFFOrSlider=allDaatForLineG[allDaatForLineG['CountryName']=='India']\n",
    "trace1 = go.Scatter(\n",
    "    x=tempDFFOrSlider['DayIndex'],\n",
    "    y=tempDFFOrSlider['logValues'],\n",
    "#     mode='markers',\n",
    "     mode=\"markers+text\",\n",
    "    marker=dict(size=list(tempDFFOrSlider['countryData'].values),sizemode='area',\n",
    "        sizeref=3.*max(list(tempDFFOrSlider['countryData'].values))/(40.**2),\n",
    "#                 color=tempDFFOrSlider['clusterInfo'],\n",
    "        sizemin=4),\n",
    "    showlegend=False,\n",
    "    text=tempDFFOrSlider['countryData'])\n",
    "g = go.FigureWidget(data=[trace1],layout=go.Layout(title=dict(text='Covid19'),barmode='overlay'))\n",
    "\n",
    "def response(change):\n",
    "    vaL=textbox.value\n",
    "    tempDFFOrSlider=allDaatForLineG[allDaatForLineG['CountryName']==vaL]\n",
    "    x1 = tempDFFOrSlider['DayIndex'].values\n",
    "    x2 = tempDFFOrSlider['logValues'].values\n",
    "    with g.batch_update():\n",
    "        g.data[0].x = x1\n",
    "        g.data[0].y = x2\n",
    "        g.data[0].marker['size']= list(tempDFFOrSlider['countryData'].values)\n",
    "#         g.data[0].marker['color']= tempDFFOrSlider['clusterInfo'].values\n",
    "        g.data[0].text = tempDFFOrSlider['countryData']\n",
    "        g.layout.barmode = 'overlay'\n",
    "# daySLider.observe(response, names=\"value\")\n",
    "textbox.observe(response, names=\"value\")\n",
    "\n",
    "widgets.VBox([container,g])"
   ]
  },
  {
   "cell_type": "code",
   "execution_count": null,
   "metadata": {},
   "outputs": [],
   "source": []
  }
 ],
 "metadata": {
  "kernelspec": {
   "display_name": "Python 3",
   "language": "python",
   "name": "python3"
  },
  "language_info": {
   "codemirror_mode": {
    "name": "ipython",
    "version": 3
   },
   "file_extension": ".py",
   "mimetype": "text/x-python",
   "name": "python",
   "nbconvert_exporter": "python",
   "pygments_lexer": "ipython3",
   "version": "3.6.8"
  }
 },
 "nbformat": 4,
 "nbformat_minor": 2
}
