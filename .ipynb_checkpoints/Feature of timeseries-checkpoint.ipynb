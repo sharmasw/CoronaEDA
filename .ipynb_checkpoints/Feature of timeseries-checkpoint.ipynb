{
 "cells": [
  {
   "cell_type": "code",
   "execution_count": 9,
   "metadata": {},
   "outputs": [],
   "source": [
    "import warnings\n",
    "warnings.filterwarnings('ignore')"
   ]
  },
  {
   "cell_type": "code",
   "execution_count": 1,
   "metadata": {},
   "outputs": [],
   "source": [
    "#Daywise variance and slope\n",
    "#cluser day wise\n",
    "#cluster of COuntries\n",
    "# day wise data structure D0 to Dn\n",
    "# attributes of a timeseriess\n",
    "# how we are placed compared to other countries\n",
    "#lockdown impact on graphs\n",
    "#day wise story time  graphs of countries\n",
    "#predictions of countries\n",
    "# predictions of the countries compared to actual"
   ]
  },
  {
   "cell_type": "code",
   "execution_count": 54,
   "metadata": {},
   "outputs": [],
   "source": [
    "import pandas as pd\n",
    "import numpy as np\n",
    "from sklearn import preprocessing,cross_decomposition,model_selection,metrics\n",
    "import matplotlib.pyplot as plt\n",
    "import seaborn as sns\n",
    "import xgboost as xgb\n",
    "%matplotlib inline\n",
    "import dateutil\n",
    "from tqdm import tqdm\n",
    "from sklearn import linear_model\n",
    "import datetime\n",
    "import numpy as np\n",
    "import pandas as pd\n",
    "\n",
    "import plotly.graph_objects as go\n",
    "from ipywidgets import widgets"
   ]
  },
  {
   "cell_type": "code",
   "execution_count": 8,
   "metadata": {},
   "outputs": [],
   "source": [
    "import statsmodels.api as sm\n",
    "import statsmodels.formula.api as smf\n",
    "from statsmodels import tsa"
   ]
  },
  {
   "cell_type": "code",
   "execution_count": 3,
   "metadata": {},
   "outputs": [],
   "source": [
    "import numpy as np\n",
    "import pandas as pd\n",
    "\n",
    "import plotly.graph_objects as go\n",
    "from ipywidgets import widgets"
   ]
  },
  {
   "cell_type": "code",
   "execution_count": 4,
   "metadata": {},
   "outputs": [],
   "source": [
    "confirmedGlobal=pd.read_csv('https://raw.githubusercontent.com/CSSEGISandData/COVID-19/master/csse_covid_19_data/csse_covid_19_time_series/time_series_covid19_confirmed_global.csv',encoding='utf-8',na_values=None)\n",
    "deathGLobal=pd.read_csv('https://raw.githubusercontent.com/CSSEGISandData/COVID-19/master/csse_covid_19_data/csse_covid_19_time_series/time_series_covid19_deaths_global.csv')\n",
    "recoverGlobal=pd.read_csv('https://raw.githubusercontent.com/CSSEGISandData/COVID-19/master/csse_covid_19_data/csse_covid_19_time_series/time_series_covid19_recovered_global.csv')\n",
    "confirmedGlobal['NewContryCode']=confirmedGlobal['Country/Region']+confirmedGlobal['Province/State'].fillna('')\n",
    "deathGLobal['NewContryCode']=deathGLobal['Country/Region']+deathGLobal['Province/State'].fillna('')\n",
    "recoverGlobal['NewContryCode']=recoverGlobal['Country/Region']+recoverGlobal['Province/State'].fillna('')"
   ]
  },
  {
   "cell_type": "code",
   "execution_count": 5,
   "metadata": {},
   "outputs": [
    {
     "data": {
      "text/html": [
       "<div>\n",
       "<style scoped>\n",
       "    .dataframe tbody tr th:only-of-type {\n",
       "        vertical-align: middle;\n",
       "    }\n",
       "\n",
       "    .dataframe tbody tr th {\n",
       "        vertical-align: top;\n",
       "    }\n",
       "\n",
       "    .dataframe thead th {\n",
       "        text-align: right;\n",
       "    }\n",
       "</style>\n",
       "<table border=\"1\" class=\"dataframe\">\n",
       "  <thead>\n",
       "    <tr style=\"text-align: right;\">\n",
       "      <th></th>\n",
       "      <th>Province/State</th>\n",
       "      <th>Country/Region</th>\n",
       "      <th>Lat</th>\n",
       "      <th>Long</th>\n",
       "      <th>1/22/20</th>\n",
       "      <th>1/23/20</th>\n",
       "      <th>1/24/20</th>\n",
       "      <th>1/25/20</th>\n",
       "      <th>1/26/20</th>\n",
       "      <th>1/27/20</th>\n",
       "      <th>...</th>\n",
       "      <th>3/21/20</th>\n",
       "      <th>3/22/20</th>\n",
       "      <th>3/23/20</th>\n",
       "      <th>3/24/20</th>\n",
       "      <th>3/25/20</th>\n",
       "      <th>3/26/20</th>\n",
       "      <th>3/27/20</th>\n",
       "      <th>3/28/20</th>\n",
       "      <th>3/29/20</th>\n",
       "      <th>NewContryCode</th>\n",
       "    </tr>\n",
       "  </thead>\n",
       "  <tbody>\n",
       "    <tr>\n",
       "      <th>0</th>\n",
       "      <td>NaN</td>\n",
       "      <td>Afghanistan</td>\n",
       "      <td>33.0000</td>\n",
       "      <td>65.0000</td>\n",
       "      <td>0</td>\n",
       "      <td>0</td>\n",
       "      <td>0</td>\n",
       "      <td>0</td>\n",
       "      <td>0</td>\n",
       "      <td>0</td>\n",
       "      <td>...</td>\n",
       "      <td>24</td>\n",
       "      <td>40</td>\n",
       "      <td>40</td>\n",
       "      <td>74</td>\n",
       "      <td>84</td>\n",
       "      <td>94</td>\n",
       "      <td>110</td>\n",
       "      <td>110</td>\n",
       "      <td>120</td>\n",
       "      <td>Afghanistan</td>\n",
       "    </tr>\n",
       "    <tr>\n",
       "      <th>1</th>\n",
       "      <td>NaN</td>\n",
       "      <td>Albania</td>\n",
       "      <td>41.1533</td>\n",
       "      <td>20.1683</td>\n",
       "      <td>0</td>\n",
       "      <td>0</td>\n",
       "      <td>0</td>\n",
       "      <td>0</td>\n",
       "      <td>0</td>\n",
       "      <td>0</td>\n",
       "      <td>...</td>\n",
       "      <td>76</td>\n",
       "      <td>89</td>\n",
       "      <td>104</td>\n",
       "      <td>123</td>\n",
       "      <td>146</td>\n",
       "      <td>174</td>\n",
       "      <td>186</td>\n",
       "      <td>197</td>\n",
       "      <td>212</td>\n",
       "      <td>Albania</td>\n",
       "    </tr>\n",
       "    <tr>\n",
       "      <th>2</th>\n",
       "      <td>NaN</td>\n",
       "      <td>Algeria</td>\n",
       "      <td>28.0339</td>\n",
       "      <td>1.6596</td>\n",
       "      <td>0</td>\n",
       "      <td>0</td>\n",
       "      <td>0</td>\n",
       "      <td>0</td>\n",
       "      <td>0</td>\n",
       "      <td>0</td>\n",
       "      <td>...</td>\n",
       "      <td>139</td>\n",
       "      <td>201</td>\n",
       "      <td>230</td>\n",
       "      <td>264</td>\n",
       "      <td>302</td>\n",
       "      <td>367</td>\n",
       "      <td>409</td>\n",
       "      <td>454</td>\n",
       "      <td>511</td>\n",
       "      <td>Algeria</td>\n",
       "    </tr>\n",
       "    <tr>\n",
       "      <th>3</th>\n",
       "      <td>NaN</td>\n",
       "      <td>Andorra</td>\n",
       "      <td>42.5063</td>\n",
       "      <td>1.5218</td>\n",
       "      <td>0</td>\n",
       "      <td>0</td>\n",
       "      <td>0</td>\n",
       "      <td>0</td>\n",
       "      <td>0</td>\n",
       "      <td>0</td>\n",
       "      <td>...</td>\n",
       "      <td>88</td>\n",
       "      <td>113</td>\n",
       "      <td>133</td>\n",
       "      <td>164</td>\n",
       "      <td>188</td>\n",
       "      <td>224</td>\n",
       "      <td>267</td>\n",
       "      <td>308</td>\n",
       "      <td>334</td>\n",
       "      <td>Andorra</td>\n",
       "    </tr>\n",
       "    <tr>\n",
       "      <th>4</th>\n",
       "      <td>NaN</td>\n",
       "      <td>Angola</td>\n",
       "      <td>-11.2027</td>\n",
       "      <td>17.8739</td>\n",
       "      <td>0</td>\n",
       "      <td>0</td>\n",
       "      <td>0</td>\n",
       "      <td>0</td>\n",
       "      <td>0</td>\n",
       "      <td>0</td>\n",
       "      <td>...</td>\n",
       "      <td>2</td>\n",
       "      <td>2</td>\n",
       "      <td>3</td>\n",
       "      <td>3</td>\n",
       "      <td>3</td>\n",
       "      <td>4</td>\n",
       "      <td>4</td>\n",
       "      <td>5</td>\n",
       "      <td>7</td>\n",
       "      <td>Angola</td>\n",
       "    </tr>\n",
       "  </tbody>\n",
       "</table>\n",
       "<p>5 rows × 73 columns</p>\n",
       "</div>"
      ],
      "text/plain": [
       "  Province/State Country/Region      Lat     Long  1/22/20  1/23/20  1/24/20  \\\n",
       "0            NaN    Afghanistan  33.0000  65.0000        0        0        0   \n",
       "1            NaN        Albania  41.1533  20.1683        0        0        0   \n",
       "2            NaN        Algeria  28.0339   1.6596        0        0        0   \n",
       "3            NaN        Andorra  42.5063   1.5218        0        0        0   \n",
       "4            NaN         Angola -11.2027  17.8739        0        0        0   \n",
       "\n",
       "   1/25/20  1/26/20  1/27/20  ...  3/21/20  3/22/20  3/23/20  3/24/20  \\\n",
       "0        0        0        0  ...       24       40       40       74   \n",
       "1        0        0        0  ...       76       89      104      123   \n",
       "2        0        0        0  ...      139      201      230      264   \n",
       "3        0        0        0  ...       88      113      133      164   \n",
       "4        0        0        0  ...        2        2        3        3   \n",
       "\n",
       "   3/25/20  3/26/20  3/27/20  3/28/20  3/29/20  NewContryCode  \n",
       "0       84       94      110      110      120    Afghanistan  \n",
       "1      146      174      186      197      212        Albania  \n",
       "2      302      367      409      454      511        Algeria  \n",
       "3      188      224      267      308      334        Andorra  \n",
       "4        3        4        4        5        7         Angola  \n",
       "\n",
       "[5 rows x 73 columns]"
      ]
     },
     "execution_count": 5,
     "metadata": {},
     "output_type": "execute_result"
    }
   ],
   "source": [
    "confirmedGlobal.head()"
   ]
  },
  {
   "cell_type": "code",
   "execution_count": 6,
   "metadata": {},
   "outputs": [],
   "source": [
    "def getStartPoint(country):\n",
    "    for num,i in enumerate(confirmedGlobal[confirmedGlobal['NewContryCode']==country].values[0][4:]):\n",
    "        if i > 0:\n",
    "#             print (num,i)\n",
    "            break\n",
    "    return 4+num\n",
    "\n",
    "def getSlope(dataSet):\n",
    "    df=pd.DataFrame(dataSet)\n",
    "    df=df.reset_index()\n",
    "    df.columns=['x','y']\n",
    "    model=linear_model.LinearRegression(fit_intercept=False).fit(df[['x']],df[['y']])\n",
    "    return model.coef_[0][0]\n",
    "def getDataArranged(country):\n",
    "    temp={}\n",
    "    \n",
    "\n",
    "    startPoint=getStartPoint(country)\n",
    "    temp['logValues']=[np.log(i) if i !=0  else 0 for i in confirmedGlobal[confirmedGlobal['NewContryCode']==country].values[0][startPoint:-1]]\n",
    "    temp['actualValues']=[i for i in confirmedGlobal[confirmedGlobal['NewContryCode']==country].values[0][startPoint:-1]]\n",
    "    countryData=confirmedGlobal[confirmedGlobal['NewContryCode']==country].values[0][startPoint:-1]\n",
    "    datesOfInfections=[str(dateutil.parser.parse(i))[:10] for i in confirmedGlobal[confirmedGlobal['NewContryCode']==country].columns[startPoint:-1]]\n",
    "    dayIndex=['D_'+str(i).zfill(3) for i in range(len(countryData))]\n",
    "    temp['countryData']=countryData\n",
    "    lbl=preprocessing.MinMaxScaler()\n",
    "    temp['minMaxScaledval']=np.ravel(lbl.fit_transform(countryData.reshape(len(countryData),1)))\n",
    "    temp['varianceVal']=np.var(temp['minMaxScaledval'])\n",
    "    temp['slopeData']=getSlope(countryData)\n",
    "    temp['datesOfInfections']=datesOfInfections\n",
    "    temp['dayIndex']=dayIndex\n",
    "    temp['lastValue']=countryData[-1]\n",
    "    return temp"
   ]
  },
  {
   "cell_type": "code",
   "execution_count": 10,
   "metadata": {},
   "outputs": [
    {
     "name": "stderr",
     "output_type": "stream",
     "text": [
      "100%|████████████████████████████████████████████████████████████████████████████████| 253/253 [00:02<00:00, 86.31it/s]\n"
     ]
    }
   ],
   "source": [
    "countryDataDict={}\n",
    "for con in tqdm(confirmedGlobal['NewContryCode']):\n",
    "    try:\n",
    "        countryDataDict[con]=getDataArranged(con)    \n",
    "    except:\n",
    "        pass"
   ]
  },
  {
   "cell_type": "code",
   "execution_count": 13,
   "metadata": {},
   "outputs": [
    {
     "data": {
      "text/plain": [
       "0.06038409404379196"
      ]
     },
     "execution_count": 13,
     "metadata": {},
     "output_type": "execute_result"
    }
   ],
   "source": [
    "countryDataDict['India']['varianceVal'],['slopeData'],'lastValue',"
   ]
  },
  {
   "cell_type": "code",
   "execution_count": 14,
   "metadata": {},
   "outputs": [],
   "source": [
    "countryOverallSpcaing=[]\n",
    "for i in countryDataDict:\n",
    "    temp={}\n",
    "    temp['varianceVal']=countryDataDict[i]['varianceVal']\n",
    "    temp['slopeData']=countryDataDict[i]['slopeData']\n",
    "    temp['lastValue']=countryDataDict[i]['lastValue']\n",
    "    temp['countryName']=i\n",
    "    countryOverallSpcaing.append(temp)"
   ]
  },
  {
   "cell_type": "code",
   "execution_count": 17,
   "metadata": {
    "scrolled": true
   },
   "outputs": [],
   "source": [
    "overallSpacingDF=pd.DataFrame(countryOverallSpcaing)"
   ]
  },
  {
   "cell_type": "code",
   "execution_count": 27,
   "metadata": {},
   "outputs": [
    {
     "data": {
      "application/vnd.plotly.v1+json": {
       "config": {
        "plotlyServerURL": "https://plot.ly"
       },
       "data": [
        {
         "hoverlabel": {
          "namelength": 0
         },
         "hovertemplate": "<b>%{hovertext}</b><br><br>countryName=Afghanistan<br>slopeData=%{x}<br>varianceVal=%{y}<br>lastValue=%{marker.size}",
         "hovertext": [
          "Afghanistan"
         ],
         "legendgroup": "Afghanistan",
         "marker": {
          "color": "#636efa",
          "size": [
           120
          ],
          "sizemode": "area",
          "sizeref": 39.135,
          "symbol": "circle"
         },
         "mode": "markers",
         "name": "Afghanistan",
         "showlegend": true,
         "type": "scatter",
         "x": [
          1.851662404092072
         ],
         "xaxis": "x",
         "y": [
          0.09004806244226382
         ],
         "yaxis": "y"
        },
        {
         "hoverlabel": {
          "namelength": 0
         },
         "hovertemplate": "<b>%{hovertext}</b><br><br>countryName=Albania<br>slopeData=%{x}<br>varianceVal=%{y}<br>lastValue=%{marker.size}",
         "hovertext": [
          "Albania"
         ],
         "legendgroup": "Albania",
         "marker": {
          "color": "#EF553B",
          "size": [
           212
          ],
          "sizemode": "area",
          "sizeref": 39.135,
          "symbol": "circle"
         },
         "mode": "markers",
         "name": "Albania",
         "showlegend": true,
         "type": "scatter",
         "x": [
          8.853658536585366
         ],
         "xaxis": "x",
         "y": [
          0.09097053182573107
         ],
         "yaxis": "y"
        },
        {
         "hoverlabel": {
          "namelength": 0
         },
         "hovertemplate": "<b>%{hovertext}</b><br><br>countryName=Algeria<br>slopeData=%{x}<br>varianceVal=%{y}<br>lastValue=%{marker.size}",
         "hovertext": [
          "Algeria"
         ],
         "legendgroup": "Algeria",
         "marker": {
          "color": "#00cc96",
          "size": [
           511
          ],
          "sizemode": "area",
          "sizeref": 39.135,
          "symbol": "circle"
         },
         "mode": "markers",
         "name": "Algeria",
         "showlegend": true,
         "type": "scatter",
         "x": [
          7.851464602123074
         ],
         "xaxis": "x",
         "y": [
          0.08047810996302994
         ],
         "yaxis": "y"
        },
        {
         "hoverlabel": {
          "namelength": 0
         },
         "hovertemplate": "<b>%{hovertext}</b><br><br>countryName=Andorra<br>slopeData=%{x}<br>varianceVal=%{y}<br>lastValue=%{marker.size}",
         "hovertext": [
          "Andorra"
         ],
         "legendgroup": "Andorra",
         "marker": {
          "color": "#ab63fa",
          "size": [
           334
          ],
          "sizemode": "area",
          "sizeref": 39.135,
          "symbol": "circle"
         },
         "mode": "markers",
         "name": "Andorra",
         "showlegend": true,
         "type": "scatter",
         "x": [
          6.827272727272728
         ],
         "xaxis": "x",
         "y": [
          0.09373810057529493
         ],
         "yaxis": "y"
        },
        {
         "hoverlabel": {
          "namelength": 0
         },
         "hovertemplate": "<b>%{hovertext}</b><br><br>countryName=Angola<br>slopeData=%{x}<br>varianceVal=%{y}<br>lastValue=%{marker.size}",
         "hovertext": [
          "Angola"
         ],
         "legendgroup": "Angola",
         "marker": {
          "color": "#FFA15A",
          "size": [
           7
          ],
          "sizemode": "area",
          "sizeref": 39.135,
          "symbol": "circle"
         },
         "mode": "markers",
         "name": "Angola",
         "showlegend": true,
         "type": "scatter",
         "x": [
          0.6912280701754387
         ],
         "xaxis": "x",
         "y": [
          0.07333333333333332
         ],
         "yaxis": "y"
        },
        {
         "hoverlabel": {
          "namelength": 0
         },
         "hovertemplate": "<b>%{hovertext}</b><br><br>countryName=Antigua and Barbuda<br>slopeData=%{x}<br>varianceVal=%{y}<br>lastValue=%{marker.size}",
         "hovertext": [
          "Antigua and Barbuda"
         ],
         "legendgroup": "Antigua and Barbuda",
         "marker": {
          "color": "#19d3f3",
          "size": [
           7
          ],
          "sizemode": "area",
          "sizeref": 39.135,
          "symbol": "circle"
         },
         "mode": "markers",
         "name": "Antigua and Barbuda",
         "showlegend": true,
         "type": "scatter",
         "x": [
          0.3676470588235293
         ],
         "xaxis": "x",
         "y": [
          0.16839677047289503
         ],
         "yaxis": "y"
        },
        {
         "hoverlabel": {
          "namelength": 0
         },
         "hovertemplate": "<b>%{hovertext}</b><br><br>countryName=Argentina<br>slopeData=%{x}<br>varianceVal=%{y}<br>lastValue=%{marker.size}",
         "hovertext": [
          "Argentina"
         ],
         "legendgroup": "Argentina",
         "marker": {
          "color": "#FF6692",
          "size": [
           745
          ],
          "sizemode": "area",
          "sizeref": 39.135,
          "symbol": "circle"
         },
         "mode": "markers",
         "name": "Argentina",
         "showlegend": true,
         "type": "scatter",
         "x": [
          16.334945976455412
         ],
         "xaxis": "x",
         "y": [
          0.09090770224710995
         ],
         "yaxis": "y"
        },
        {
         "hoverlabel": {
          "namelength": 0
         },
         "hovertemplate": "<b>%{hovertext}</b><br><br>countryName=Armenia<br>slopeData=%{x}<br>varianceVal=%{y}<br>lastValue=%{marker.size}",
         "hovertext": [
          "Armenia"
         ],
         "legendgroup": "Armenia",
         "marker": {
          "color": "#B6E880",
          "size": [
           424
          ],
          "sizemode": "area",
          "sizeref": 39.135,
          "symbol": "circle"
         },
         "mode": "markers",
         "name": "Armenia",
         "showlegend": true,
         "type": "scatter",
         "x": [
          9.34651283380866
         ],
         "xaxis": "x",
         "y": [
          0.0980795171088295
         ],
         "yaxis": "y"
        },
        {
         "hoverlabel": {
          "namelength": 0
         },
         "hovertemplate": "<b>%{hovertext}</b><br><br>countryName=AustraliaAustralian Capital Territory<br>slopeData=%{x}<br>varianceVal=%{y}<br>lastValue=%{marker.size}",
         "hovertext": [
          "AustraliaAustralian Capital Territory"
         ],
         "legendgroup": "AustraliaAustralian Capital Territory",
         "marker": {
          "color": "#FF97FF",
          "size": [
           77
          ],
          "sizemode": "area",
          "sizeref": 39.135,
          "symbol": "circle"
         },
         "mode": "markers",
         "name": "AustraliaAustralian Capital Territory",
         "showlegend": true,
         "type": "scatter",
         "x": [
          3.6176470588235285
         ],
         "xaxis": "x",
         "y": [
          0.11993908692693304
         ],
         "yaxis": "y"
        },
        {
         "hoverlabel": {
          "namelength": 0
         },
         "hovertemplate": "<b>%{hovertext}</b><br><br>countryName=AustraliaNew South Wales<br>slopeData=%{x}<br>varianceVal=%{y}<br>lastValue=%{marker.size}",
         "hovertext": [
          "AustraliaNew South Wales"
         ],
         "legendgroup": "AustraliaNew South Wales",
         "marker": {
          "color": "#FECB52",
          "size": [
           1791
          ],
          "sizemode": "area",
          "sizeref": 39.135,
          "symbol": "circle"
         },
         "mode": "markers",
         "name": "AustraliaNew South Wales",
         "showlegend": true,
         "type": "scatter",
         "x": [
          8.009596456692913
         ],
         "xaxis": "x",
         "y": [
          0.050482756931306896
         ],
         "yaxis": "y"
        },
        {
         "hoverlabel": {
          "namelength": 0
         },
         "hovertemplate": "<b>%{hovertext}</b><br><br>countryName=AustraliaNorthern Territory<br>slopeData=%{x}<br>varianceVal=%{y}<br>lastValue=%{marker.size}",
         "hovertext": [
          "AustraliaNorthern Territory"
         ],
         "legendgroup": "AustraliaNorthern Territory",
         "marker": {
          "color": "#636efa",
          "size": [
           15
          ],
          "sizemode": "area",
          "sizeref": 39.135,
          "symbol": "circle"
         },
         "mode": "markers",
         "name": "AustraliaNorthern Territory",
         "showlegend": true,
         "type": "scatter",
         "x": [
          0.34588235294117653
         ],
         "xaxis": "x",
         "y": [
          0.09404339250493096
         ],
         "yaxis": "y"
        },
        {
         "hoverlabel": {
          "namelength": 0
         },
         "hovertemplate": "<b>%{hovertext}</b><br><br>countryName=AustraliaQueensland<br>slopeData=%{x}<br>varianceVal=%{y}<br>lastValue=%{marker.size}",
         "hovertext": [
          "AustraliaQueensland"
         ],
         "legendgroup": "AustraliaQueensland",
         "marker": {
          "color": "#EF553B",
          "size": [
           656
          ],
          "sizemode": "area",
          "sizeref": 39.135,
          "symbol": "circle"
         },
         "mode": "markers",
         "name": "AustraliaQueensland",
         "showlegend": true,
         "type": "scatter",
         "x": [
          3.64583389784582
         ],
         "xaxis": "x",
         "y": [
          0.06191115048228532
         ],
         "yaxis": "y"
        },
        {
         "hoverlabel": {
          "namelength": 0
         },
         "hovertemplate": "<b>%{hovertext}</b><br><br>countryName=AustraliaSouth Australia<br>slopeData=%{x}<br>varianceVal=%{y}<br>lastValue=%{marker.size}",
         "hovertext": [
          "AustraliaSouth Australia"
         ],
         "legendgroup": "AustraliaSouth Australia",
         "marker": {
          "color": "#00cc96",
          "size": [
           299
          ],
          "sizemode": "area",
          "sizeref": 39.135,
          "symbol": "circle"
         },
         "mode": "markers",
         "name": "AustraliaSouth Australia",
         "showlegend": true,
         "type": "scatter",
         "x": [
          1.6931113390673087
         ],
         "xaxis": "x",
         "y": [
          0.06151455682090784
         ],
         "yaxis": "y"
        },
        {
         "hoverlabel": {
          "namelength": 0
         },
         "hovertemplate": "<b>%{hovertext}</b><br><br>countryName=AustraliaTasmania<br>slopeData=%{x}<br>varianceVal=%{y}<br>lastValue=%{marker.size}",
         "hovertext": [
          "AustraliaTasmania"
         ],
         "legendgroup": "AustraliaTasmania",
         "marker": {
          "color": "#ab63fa",
          "size": [
           66
          ],
          "sizemode": "area",
          "sizeref": 39.135,
          "symbol": "circle"
         },
         "mode": "markers",
         "name": "AustraliaTasmania",
         "showlegend": true,
         "type": "scatter",
         "x": [
          1.3698412698412699
         ],
         "xaxis": "x",
         "y": [
          0.0857010022944089
         ],
         "yaxis": "y"
        },
        {
         "hoverlabel": {
          "namelength": 0
         },
         "hovertemplate": "<b>%{hovertext}</b><br><br>countryName=AustraliaVictoria<br>slopeData=%{x}<br>varianceVal=%{y}<br>lastValue=%{marker.size}",
         "hovertext": [
          "AustraliaVictoria"
         ],
         "legendgroup": "AustraliaVictoria",
         "marker": {
          "color": "#FFA15A",
          "size": [
           769
          ],
          "sizemode": "area",
          "sizeref": 39.135,
          "symbol": "circle"
         },
         "mode": "markers",
         "name": "AustraliaVictoria",
         "showlegend": true,
         "type": "scatter",
         "x": [
          3.5664721597300337
         ],
         "xaxis": "x",
         "y": [
          0.05237912966145408
         ],
         "yaxis": "y"
        },
        {
         "hoverlabel": {
          "namelength": 0
         },
         "hovertemplate": "<b>%{hovertext}</b><br><br>countryName=AustraliaWestern Australia<br>slopeData=%{x}<br>varianceVal=%{y}<br>lastValue=%{marker.size}",
         "hovertext": [
          "AustraliaWestern Australia"
         ],
         "legendgroup": "AustraliaWestern Australia",
         "marker": {
          "color": "#19d3f3",
          "size": [
           311
          ],
          "sizemode": "area",
          "sizeref": 39.135,
          "symbol": "circle"
         },
         "mode": "markers",
         "name": "AustraliaWestern Australia",
         "showlegend": true,
         "type": "scatter",
         "x": [
          5.881940385739336
         ],
         "xaxis": "x",
         "y": [
          0.0885254541624919
         ],
         "yaxis": "y"
        },
        {
         "hoverlabel": {
          "namelength": 0
         },
         "hovertemplate": "<b>%{hovertext}</b><br><br>countryName=Austria<br>slopeData=%{x}<br>varianceVal=%{y}<br>lastValue=%{marker.size}",
         "hovertext": [
          "Austria"
         ],
         "legendgroup": "Austria",
         "marker": {
          "color": "#FF6692",
          "size": [
           8788
          ],
          "sizemode": "area",
          "sizeref": 39.135,
          "symbol": "circle"
         },
         "mode": "markers",
         "name": "Austria",
         "showlegend": true,
         "type": "scatter",
         "x": [
          146.44752174954107
         ],
         "xaxis": "x",
         "y": [
          0.09314767775865157
         ],
         "yaxis": "y"
        },
        {
         "hoverlabel": {
          "namelength": 0
         },
         "hovertemplate": "<b>%{hovertext}</b><br><br>countryName=Azerbaijan<br>slopeData=%{x}<br>varianceVal=%{y}<br>lastValue=%{marker.size}",
         "hovertext": [
          "Azerbaijan"
         ],
         "legendgroup": "Azerbaijan",
         "marker": {
          "color": "#B6E880",
          "size": [
           209
          ],
          "sizemode": "area",
          "sizeref": 39.135,
          "symbol": "circle"
         },
         "mode": "markers",
         "name": "Azerbaijan",
         "showlegend": true,
         "type": "scatter",
         "x": [
          3.9678506611355977
         ],
         "xaxis": "x",
         "y": [
          0.07456970384667674
         ],
         "yaxis": "y"
        },
        {
         "hoverlabel": {
          "namelength": 0
         },
         "hovertemplate": "<b>%{hovertext}</b><br><br>countryName=Bahamas<br>slopeData=%{x}<br>varianceVal=%{y}<br>lastValue=%{marker.size}",
         "hovertext": [
          "Bahamas"
         ],
         "legendgroup": "Bahamas",
         "marker": {
          "color": "#FF97FF",
          "size": [
           11
          ],
          "sizemode": "area",
          "sizeref": 39.135,
          "symbol": "circle"
         },
         "mode": "markers",
         "name": "Bahamas",
         "showlegend": true,
         "type": "scatter",
         "x": [
          0.7863247863247864
         ],
         "xaxis": "x",
         "y": [
          0.11494897959183671
         ],
         "yaxis": "y"
        },
        {
         "hoverlabel": {
          "namelength": 0
         },
         "hovertemplate": "<b>%{hovertext}</b><br><br>countryName=Bahrain<br>slopeData=%{x}<br>varianceVal=%{y}<br>lastValue=%{marker.size}",
         "hovertext": [
          "Bahrain"
         ],
         "legendgroup": "Bahrain",
         "marker": {
          "color": "#FECB52",
          "size": [
           499
          ],
          "sizemode": "area",
          "sizeref": 39.135,
          "symbol": "circle"
         },
         "mode": "markers",
         "name": "Bahrain",
         "showlegend": true,
         "type": "scatter",
         "x": [
          12.347314578005117
         ],
         "xaxis": "x",
         "y": [
          0.09460505739045023
         ],
         "yaxis": "y"
        },
        {
         "hoverlabel": {
          "namelength": 0
         },
         "hovertemplate": "<b>%{hovertext}</b><br><br>countryName=Bangladesh<br>slopeData=%{x}<br>varianceVal=%{y}<br>lastValue=%{marker.size}",
         "hovertext": [
          "Bangladesh"
         ],
         "legendgroup": "Bangladesh",
         "marker": {
          "color": "#636efa",
          "size": [
           48
          ],
          "sizemode": "area",
          "sizeref": 39.135,
          "symbol": "circle"
         },
         "mode": "markers",
         "name": "Bangladesh",
         "showlegend": true,
         "type": "scatter",
         "x": [
          2.1069163394744783
         ],
         "xaxis": "x",
         "y": [
          0.1442954800530558
         ],
         "yaxis": "y"
        },
        {
         "hoverlabel": {
          "namelength": 0
         },
         "hovertemplate": "<b>%{hovertext}</b><br><br>countryName=Barbados<br>slopeData=%{x}<br>varianceVal=%{y}<br>lastValue=%{marker.size}",
         "hovertext": [
          "Barbados"
         ],
         "legendgroup": "Barbados",
         "marker": {
          "color": "#EF553B",
          "size": [
           33
          ],
          "sizemode": "area",
          "sizeref": 39.135,
          "symbol": "circle"
         },
         "mode": "markers",
         "name": "Barbados",
         "showlegend": true,
         "type": "scatter",
         "x": [
          2.4261538461538468
         ],
         "xaxis": "x",
         "y": [
          0.09391105172742889
         ],
         "yaxis": "y"
        },
        {
         "hoverlabel": {
          "namelength": 0
         },
         "hovertemplate": "<b>%{hovertext}</b><br><br>countryName=Belarus<br>slopeData=%{x}<br>varianceVal=%{y}<br>lastValue=%{marker.size}",
         "hovertext": [
          "Belarus"
         ],
         "legendgroup": "Belarus",
         "marker": {
          "color": "#00cc96",
          "size": [
           94
          ],
          "sizemode": "area",
          "sizeref": 39.135,
          "symbol": "circle"
         },
         "mode": "markers",
         "name": "Belarus",
         "showlegend": true,
         "type": "scatter",
         "x": [
          2.8218931782125862
         ],
         "xaxis": "x",
         "y": [
          0.14028003213305984
         ],
         "yaxis": "y"
        },
        {
         "hoverlabel": {
          "namelength": 0
         },
         "hovertemplate": "<b>%{hovertext}</b><br><br>countryName=Belgium<br>slopeData=%{x}<br>varianceVal=%{y}<br>lastValue=%{marker.size}",
         "hovertext": [
          "Belgium"
         ],
         "legendgroup": "Belgium",
         "marker": {
          "color": "#ab63fa",
          "size": [
           10836
          ],
          "sizemode": "area",
          "sizeref": 39.135,
          "symbol": "circle"
         },
         "mode": "markers",
         "name": "Belgium",
         "showlegend": true,
         "type": "scatter",
         "x": [
          58.81781113891207
         ],
         "xaxis": "x",
         "y": [
          0.0478151479924055
         ],
         "yaxis": "y"
        },
        {
         "hoverlabel": {
          "namelength": 0
         },
         "hovertemplate": "<b>%{hovertext}</b><br><br>countryName=Benin<br>slopeData=%{x}<br>varianceVal=%{y}<br>lastValue=%{marker.size}",
         "hovertext": [
          "Benin"
         ],
         "legendgroup": "Benin",
         "marker": {
          "color": "#FFA15A",
          "size": [
           6
          ],
          "sizemode": "area",
          "sizeref": 39.135,
          "symbol": "circle"
         },
         "mode": "markers",
         "name": "Benin",
         "showlegend": true,
         "type": "scatter",
         "x": [
          0.5543345543345544
         ],
         "xaxis": "x",
         "y": [
          0.17816326530612253
         ],
         "yaxis": "y"
        },
        {
         "hoverlabel": {
          "namelength": 0
         },
         "hovertemplate": "<b>%{hovertext}</b><br><br>countryName=Bhutan<br>slopeData=%{x}<br>varianceVal=%{y}<br>lastValue=%{marker.size}",
         "hovertext": [
          "Bhutan"
         ],
         "legendgroup": "Bhutan",
         "marker": {
          "color": "#19d3f3",
          "size": [
           4
          ],
          "sizemode": "area",
          "sizeref": 39.135,
          "symbol": "circle"
         },
         "mode": "markers",
         "name": "Bhutan",
         "showlegend": true,
         "type": "scatter",
         "x": [
          0.12719703977798338
         ],
         "xaxis": "x",
         "y": [
          0.07330246913580248
         ],
         "yaxis": "y"
        },
        {
         "hoverlabel": {
          "namelength": 0
         },
         "hovertemplate": "<b>%{hovertext}</b><br><br>countryName=Bolivia<br>slopeData=%{x}<br>varianceVal=%{y}<br>lastValue=%{marker.size}",
         "hovertext": [
          "Bolivia"
         ],
         "legendgroup": "Bolivia",
         "marker": {
          "color": "#FF6692",
          "size": [
           81
          ],
          "sizemode": "area",
          "sizeref": 39.135,
          "symbol": "circle"
         },
         "mode": "markers",
         "name": "Bolivia",
         "showlegend": true,
         "type": "scatter",
         "x": [
          3.0602181128496926
         ],
         "xaxis": "x",
         "y": [
          0.08504479136937798
         ],
         "yaxis": "y"
        },
        {
         "hoverlabel": {
          "namelength": 0
         },
         "hovertemplate": "<b>%{hovertext}</b><br><br>countryName=Bosnia and Herzegovina<br>slopeData=%{x}<br>varianceVal=%{y}<br>lastValue=%{marker.size}",
         "hovertext": [
          "Bosnia and Herzegovina"
         ],
         "legendgroup": "Bosnia and Herzegovina",
         "marker": {
          "color": "#B6E880",
          "size": [
           323
          ],
          "sizemode": "area",
          "sizeref": 39.135,
          "symbol": "circle"
         },
         "mode": "markers",
         "name": "Bosnia and Herzegovina",
         "showlegend": true,
         "type": "scatter",
         "x": [
          8.089795918367345
         ],
         "xaxis": "x",
         "y": [
          0.08342009103172522
         ],
         "yaxis": "y"
        },
        {
         "hoverlabel": {
          "namelength": 0
         },
         "hovertemplate": "<b>%{hovertext}</b><br><br>countryName=Brazil<br>slopeData=%{x}<br>varianceVal=%{y}<br>lastValue=%{marker.size}",
         "hovertext": [
          "Brazil"
         ],
         "legendgroup": "Brazil",
         "marker": {
          "color": "#FF97FF",
          "size": [
           4256
          ],
          "sizemode": "area",
          "sizeref": 39.135,
          "symbol": "circle"
         },
         "mode": "markers",
         "name": "Brazil",
         "showlegend": true,
         "type": "scatter",
         "x": [
          65.73977272727272
         ],
         "xaxis": "x",
         "y": [
          0.08736574600756708
         ],
         "yaxis": "y"
        },
        {
         "hoverlabel": {
          "namelength": 0
         },
         "hovertemplate": "<b>%{hovertext}</b><br><br>countryName=Brunei<br>slopeData=%{x}<br>varianceVal=%{y}<br>lastValue=%{marker.size}",
         "hovertext": [
          "Brunei"
         ],
         "legendgroup": "Brunei",
         "marker": {
          "color": "#FECB52",
          "size": [
           126
          ],
          "sizemode": "area",
          "sizeref": 39.135,
          "symbol": "circle"
         },
         "mode": "markers",
         "name": "Brunei",
         "showlegend": true,
         "type": "scatter",
         "x": [
          6.71637630662021
         ],
         "xaxis": "x",
         "y": [
          0.0992220589569161
         ],
         "yaxis": "y"
        },
        {
         "hoverlabel": {
          "namelength": 0
         },
         "hovertemplate": "<b>%{hovertext}</b><br><br>countryName=Bulgaria<br>slopeData=%{x}<br>varianceVal=%{y}<br>lastValue=%{marker.size}",
         "hovertext": [
          "Bulgaria"
         ],
         "legendgroup": "Bulgaria",
         "marker": {
          "color": "#636efa",
          "size": [
           346
          ],
          "sizemode": "area",
          "sizeref": 39.135,
          "symbol": "circle"
         },
         "mode": "markers",
         "name": "Bulgaria",
         "showlegend": true,
         "type": "scatter",
         "x": [
          13.541226215644818
         ],
         "xaxis": "x",
         "y": [
          0.10782953347798473
         ],
         "yaxis": "y"
        },
        {
         "hoverlabel": {
          "namelength": 0
         },
         "hovertemplate": "<b>%{hovertext}</b><br><br>countryName=Burkina Faso<br>slopeData=%{x}<br>varianceVal=%{y}<br>lastValue=%{marker.size}",
         "hovertext": [
          "Burkina Faso"
         ],
         "legendgroup": "Burkina Faso",
         "marker": {
          "color": "#EF553B",
          "size": [
           222
          ],
          "sizemode": "area",
          "sizeref": 39.135,
          "symbol": "circle"
         },
         "mode": "markers",
         "name": "Burkina Faso",
         "showlegend": true,
         "type": "scatter",
         "x": [
          8.582995951417002
         ],
         "xaxis": "x",
         "y": [
          0.1104340615466514
         ],
         "yaxis": "y"
        },
        {
         "hoverlabel": {
          "namelength": 0
         },
         "hovertemplate": "<b>%{hovertext}</b><br><br>countryName=Cabo Verde<br>slopeData=%{x}<br>varianceVal=%{y}<br>lastValue=%{marker.size}",
         "hovertext": [
          "Cabo Verde"
         ],
         "legendgroup": "Cabo Verde",
         "marker": {
          "color": "#00cc96",
          "size": [
           6
          ],
          "sizemode": "area",
          "sizeref": 39.135,
          "symbol": "circle"
         },
         "mode": "markers",
         "name": "Cabo Verde",
         "showlegend": true,
         "type": "scatter",
         "x": [
          0.7122807017543861
         ],
         "xaxis": "x",
         "y": [
          0.07240000000000002
         ],
         "yaxis": "y"
        },
        {
         "hoverlabel": {
          "namelength": 0
         },
         "hovertemplate": "<b>%{hovertext}</b><br><br>countryName=Cambodia<br>slopeData=%{x}<br>varianceVal=%{y}<br>lastValue=%{marker.size}",
         "hovertext": [
          "Cambodia"
         ],
         "legendgroup": "Cambodia",
         "marker": {
          "color": "#ab63fa",
          "size": [
           103
          ],
          "sizemode": "area",
          "sizeref": 39.135,
          "symbol": "circle"
         },
         "mode": "markers",
         "name": "Cambodia",
         "showlegend": true,
         "type": "scatter",
         "x": [
          0.7100092165898617
         ],
         "xaxis": "x",
         "y": [
          0.09705906085503677
         ],
         "yaxis": "y"
        },
        {
         "hoverlabel": {
          "namelength": 0
         },
         "hovertemplate": "<b>%{hovertext}</b><br><br>countryName=Cameroon<br>slopeData=%{x}<br>varianceVal=%{y}<br>lastValue=%{marker.size}",
         "hovertext": [
          "Cameroon"
         ],
         "legendgroup": "Cameroon",
         "marker": {
          "color": "#FFA15A",
          "size": [
           139
          ],
          "sizemode": "area",
          "sizeref": 39.135,
          "symbol": "circle"
         },
         "mode": "markers",
         "name": "Cameroon",
         "showlegend": true,
         "type": "scatter",
         "x": [
          3.2442183163737286
         ],
         "xaxis": "x",
         "y": [
          0.0771538389168942
         ],
         "yaxis": "y"
        },
        {
         "hoverlabel": {
          "namelength": 0
         },
         "hovertemplate": "<b>%{hovertext}</b><br><br>countryName=CanadaAlberta<br>slopeData=%{x}<br>varianceVal=%{y}<br>lastValue=%{marker.size}",
         "hovertext": [
          "CanadaAlberta"
         ],
         "legendgroup": "CanadaAlberta",
         "marker": {
          "color": "#19d3f3",
          "size": [
           621
          ],
          "sizemode": "area",
          "sizeref": 39.135,
          "symbol": "circle"
         },
         "mode": "markers",
         "name": "CanadaAlberta",
         "showlegend": true,
         "type": "scatter",
         "x": [
          18.487974098057357
         ],
         "xaxis": "x",
         "y": [
          0.10246440610908775
         ],
         "yaxis": "y"
        },
        {
         "hoverlabel": {
          "namelength": 0
         },
         "hovertemplate": "<b>%{hovertext}</b><br><br>countryName=CanadaBritish Columbia<br>slopeData=%{x}<br>varianceVal=%{y}<br>lastValue=%{marker.size}",
         "hovertext": [
          "CanadaBritish Columbia"
         ],
         "legendgroup": "CanadaBritish Columbia",
         "marker": {
          "color": "#FF6692",
          "size": [
           884
          ],
          "sizemode": "area",
          "sizeref": 39.135,
          "symbol": "circle"
         },
         "mode": "markers",
         "name": "CanadaBritish Columbia",
         "showlegend": true,
         "type": "scatter",
         "x": [
          5.170073905921503
         ],
         "xaxis": "x",
         "y": [
          0.06848777616818906
         ],
         "yaxis": "y"
        },
        {
         "hoverlabel": {
          "namelength": 0
         },
         "hovertemplate": "<b>%{hovertext}</b><br><br>countryName=CanadaGrand Princess<br>slopeData=%{x}<br>varianceVal=%{y}<br>lastValue=%{marker.size}",
         "hovertext": [
          "CanadaGrand Princess"
         ],
         "legendgroup": "CanadaGrand Princess",
         "marker": {
          "color": "#B6E880",
          "size": [
           13
          ],
          "sizemode": "area",
          "sizeref": 39.135,
          "symbol": "circle"
         },
         "mode": "markers",
         "name": "CanadaGrand Princess",
         "showlegend": true,
         "type": "scatter",
         "x": [
          1.0648395721925132
         ],
         "xaxis": "x",
         "y": [
          0.15825445394492266
         ],
         "yaxis": "y"
        },
        {
         "hoverlabel": {
          "namelength": 0
         },
         "hovertemplate": "<b>%{hovertext}</b><br><br>countryName=CanadaManitoba<br>slopeData=%{x}<br>varianceVal=%{y}<br>lastValue=%{marker.size}",
         "hovertext": [
          "CanadaManitoba"
         ],
         "legendgroup": "CanadaManitoba",
         "marker": {
          "color": "#FF97FF",
          "size": [
           72
          ],
          "sizemode": "area",
          "sizeref": 39.135,
          "symbol": "circle"
         },
         "mode": "markers",
         "name": "CanadaManitoba",
         "showlegend": true,
         "type": "scatter",
         "x": [
          3.116310160427806
         ],
         "xaxis": "x",
         "y": [
          0.08131637552232374
         ],
         "yaxis": "y"
        },
        {
         "hoverlabel": {
          "namelength": 0
         },
         "hovertemplate": "<b>%{hovertext}</b><br><br>countryName=CanadaNew Brunswick<br>slopeData=%{x}<br>varianceVal=%{y}<br>lastValue=%{marker.size}",
         "hovertext": [
          "CanadaNew Brunswick"
         ],
         "legendgroup": "CanadaNew Brunswick",
         "marker": {
          "color": "#FECB52",
          "size": [
           66
          ],
          "sizemode": "area",
          "sizeref": 39.135,
          "symbol": "circle"
         },
         "mode": "markers",
         "name": "CanadaNew Brunswick",
         "showlegend": true,
         "type": "scatter",
         "x": [
          2.2157420578473217
         ],
         "xaxis": "x",
         "y": [
          0.07661689258961793
         ],
         "yaxis": "y"
        },
        {
         "hoverlabel": {
          "namelength": 0
         },
         "hovertemplate": "<b>%{hovertext}</b><br><br>countryName=CanadaNewfoundland and Labrador<br>slopeData=%{x}<br>varianceVal=%{y}<br>lastValue=%{marker.size}",
         "hovertext": [
          "CanadaNewfoundland and Labrador"
         ],
         "legendgroup": "CanadaNewfoundland and Labrador",
         "marker": {
          "color": "#636efa",
          "size": [
           135
          ],
          "sizemode": "area",
          "sizeref": 39.135,
          "symbol": "circle"
         },
         "mode": "markers",
         "name": "CanadaNewfoundland and Labrador",
         "showlegend": true,
         "type": "scatter",
         "x": [
          6.482758620689655
         ],
         "xaxis": "x",
         "y": [
          0.11810252221479665
         ],
         "yaxis": "y"
        },
        {
         "hoverlabel": {
          "namelength": 0
         },
         "hovertemplate": "<b>%{hovertext}</b><br><br>countryName=CanadaNova Scotia<br>slopeData=%{x}<br>varianceVal=%{y}<br>lastValue=%{marker.size}",
         "hovertext": [
          "CanadaNova Scotia"
         ],
         "legendgroup": "CanadaNova Scotia",
         "marker": {
          "color": "#EF553B",
          "size": [
           122
          ],
          "sizemode": "area",
          "sizeref": 39.135,
          "symbol": "circle"
         },
         "mode": "markers",
         "name": "CanadaNova Scotia",
         "showlegend": true,
         "type": "scatter",
         "x": [
          7.73992673992674
         ],
         "xaxis": "x",
         "y": [
          0.10619020783855951
         ],
         "yaxis": "y"
        },
        {
         "hoverlabel": {
          "namelength": 0
         },
         "hovertemplate": "<b>%{hovertext}</b><br><br>countryName=CanadaOntario<br>slopeData=%{x}<br>varianceVal=%{y}<br>lastValue=%{marker.size}",
         "hovertext": [
          "CanadaOntario"
         ],
         "legendgroup": "CanadaOntario",
         "marker": {
          "color": "#00cc96",
          "size": [
           1355
          ],
          "sizemode": "area",
          "sizeref": 39.135,
          "symbol": "circle"
         },
         "mode": "markers",
         "name": "CanadaOntario",
         "showlegend": true,
         "type": "scatter",
         "x": [
          5.9142646231721026
         ],
         "xaxis": "x",
         "y": [
          0.0457492658570505
         ],
         "yaxis": "y"
        },
        {
         "hoverlabel": {
          "namelength": 0
         },
         "hovertemplate": "<b>%{hovertext}</b><br><br>countryName=CanadaPrince Edward Island<br>slopeData=%{x}<br>varianceVal=%{y}<br>lastValue=%{marker.size}",
         "hovertext": [
          "CanadaPrince Edward Island"
         ],
         "legendgroup": "CanadaPrince Edward Island",
         "marker": {
          "color": "#ab63fa",
          "size": [
           11
          ],
          "sizemode": "area",
          "sizeref": 39.135,
          "symbol": "circle"
         },
         "mode": "markers",
         "name": "CanadaPrince Edward Island",
         "showlegend": true,
         "type": "scatter",
         "x": [
          0.6088669950738914
         ],
         "xaxis": "x",
         "y": [
          0.11733333333333333
         ],
         "yaxis": "y"
        },
        {
         "hoverlabel": {
          "namelength": 0
         },
         "hovertemplate": "<b>%{hovertext}</b><br><br>countryName=CanadaQuebec<br>slopeData=%{x}<br>varianceVal=%{y}<br>lastValue=%{marker.size}",
         "hovertext": [
          "CanadaQuebec"
         ],
         "legendgroup": "CanadaQuebec",
         "marker": {
          "color": "#FFA15A",
          "size": [
           2840
          ],
          "sizemode": "area",
          "sizeref": 39.135,
          "symbol": "circle"
         },
         "mode": "markers",
         "name": "CanadaQuebec",
         "showlegend": true,
         "type": "scatter",
         "x": [
          37.36308831306187
         ],
         "xaxis": "x",
         "y": [
          0.07606754582204889
         ],
         "yaxis": "y"
        },
        {
         "hoverlabel": {
          "namelength": 0
         },
         "hovertemplate": "<b>%{hovertext}</b><br><br>countryName=CanadaSaskatchewan<br>slopeData=%{x}<br>varianceVal=%{y}<br>lastValue=%{marker.size}",
         "hovertext": [
          "CanadaSaskatchewan"
         ],
         "legendgroup": "CanadaSaskatchewan",
         "marker": {
          "color": "#19d3f3",
          "size": [
           156
          ],
          "sizemode": "area",
          "sizeref": 39.135,
          "symbol": "circle"
         },
         "mode": "markers",
         "name": "CanadaSaskatchewan",
         "showlegend": true,
         "type": "scatter",
         "x": [
          6.9478609625668435
         ],
         "xaxis": "x",
         "y": [
          0.09563397551533985
         ],
         "yaxis": "y"
        },
        {
         "hoverlabel": {
          "namelength": 0
         },
         "hovertemplate": "<b>%{hovertext}</b><br><br>countryName=Central African Republic<br>slopeData=%{x}<br>varianceVal=%{y}<br>lastValue=%{marker.size}",
         "hovertext": [
          "Central African Republic"
         ],
         "legendgroup": "Central African Republic",
         "marker": {
          "color": "#FF6692",
          "size": [
           3
          ],
          "sizemode": "area",
          "sizeref": 39.135,
          "symbol": "circle"
         },
         "mode": "markers",
         "name": "Central African Republic",
         "showlegend": true,
         "type": "scatter",
         "x": [
          0.29064039408866993
         ],
         "xaxis": "x",
         "y": [
          0.22222222222222224
         ],
         "yaxis": "y"
        },
        {
         "hoverlabel": {
          "namelength": 0
         },
         "hovertemplate": "<b>%{hovertext}</b><br><br>countryName=Chad<br>slopeData=%{x}<br>varianceVal=%{y}<br>lastValue=%{marker.size}",
         "hovertext": [
          "Chad"
         ],
         "legendgroup": "Chad",
         "marker": {
          "color": "#B6E880",
          "size": [
           3
          ],
          "sizemode": "area",
          "sizeref": 39.135,
          "symbol": "circle"
         },
         "mode": "markers",
         "name": "Chad",
         "showlegend": true,
         "type": "scatter",
         "x": [
          0.3766233766233766
         ],
         "xaxis": "x",
         "y": [
          0.24793388429752064
         ],
         "yaxis": "y"
        },
        {
         "hoverlabel": {
          "namelength": 0
         },
         "hovertemplate": "<b>%{hovertext}</b><br><br>countryName=Chile<br>slopeData=%{x}<br>varianceVal=%{y}<br>lastValue=%{marker.size}",
         "hovertext": [
          "Chile"
         ],
         "legendgroup": "Chile",
         "marker": {
          "color": "#FF97FF",
          "size": [
           2139
          ],
          "sizemode": "area",
          "sizeref": 39.135,
          "symbol": "circle"
         },
         "mode": "markers",
         "name": "Chile",
         "showlegend": true,
         "type": "scatter",
         "x": [
          44.392517335913574
         ],
         "xaxis": "x",
         "y": [
          0.08531627325343534
         ],
         "yaxis": "y"
        },
        {
         "hoverlabel": {
          "namelength": 0
         },
         "hovertemplate": "<b>%{hovertext}</b><br><br>countryName=ChinaAnhui<br>slopeData=%{x}<br>varianceVal=%{y}<br>lastValue=%{marker.size}",
         "hovertext": [
          "ChinaAnhui"
         ],
         "legendgroup": "ChinaAnhui",
         "marker": {
          "color": "#FECB52",
          "size": [
           990
          ],
          "sizemode": "area",
          "sizeref": 39.135,
          "symbol": "circle"
         },
         "mode": "markers",
         "name": "ChinaAnhui",
         "showlegend": true,
         "type": "scatter",
         "x": [
          20.971378402107113
         ],
         "xaxis": "x",
         "y": [
          0.11368939359010884
         ],
         "yaxis": "y"
        },
        {
         "hoverlabel": {
          "namelength": 0
         },
         "hovertemplate": "<b>%{hovertext}</b><br><br>countryName=ChinaBeijing<br>slopeData=%{x}<br>varianceVal=%{y}<br>lastValue=%{marker.size}",
         "hovertext": [
          "ChinaBeijing"
         ],
         "legendgroup": "ChinaBeijing",
         "marker": {
          "color": "#636efa",
          "size": [
           577
          ],
          "sizemode": "area",
          "sizeref": 39.135,
          "symbol": "circle"
         },
         "mode": "markers",
         "name": "ChinaBeijing",
         "showlegend": true,
         "type": "scatter",
         "x": [
          9.745039508340652
         ],
         "xaxis": "x",
         "y": [
          0.06799019106591597
         ],
         "yaxis": "y"
        },
        {
         "hoverlabel": {
          "namelength": 0
         },
         "hovertemplate": "<b>%{hovertext}</b><br><br>countryName=ChinaChongqing<br>slopeData=%{x}<br>varianceVal=%{y}<br>lastValue=%{marker.size}",
         "hovertext": [
          "ChinaChongqing"
         ],
         "legendgroup": "ChinaChongqing",
         "marker": {
          "color": "#EF553B",
          "size": [
           579
          ],
          "sizemode": "area",
          "sizeref": 39.135,
          "symbol": "circle"
         },
         "mode": "markers",
         "name": "ChinaChongqing",
         "showlegend": true,
         "type": "scatter",
         "x": [
          12.289757096868598
         ],
         "xaxis": "x",
         "y": [
          0.09197450375251821
         ],
         "yaxis": "y"
        },
        {
         "hoverlabel": {
          "namelength": 0
         },
         "hovertemplate": "<b>%{hovertext}</b><br><br>countryName=ChinaFujian<br>slopeData=%{x}<br>varianceVal=%{y}<br>lastValue=%{marker.size}",
         "hovertext": [
          "ChinaFujian"
         ],
         "legendgroup": "ChinaFujian",
         "marker": {
          "color": "#00cc96",
          "size": [
           338
          ],
          "sizemode": "area",
          "sizeref": 39.135,
          "symbol": "circle"
         },
         "mode": "markers",
         "name": "ChinaFujian",
         "showlegend": true,
         "type": "scatter",
         "x": [
          6.48545507755341
         ],
         "xaxis": "x",
         "y": [
          0.07308085589538864
         ],
         "yaxis": "y"
        },
        {
         "hoverlabel": {
          "namelength": 0
         },
         "hovertemplate": "<b>%{hovertext}</b><br><br>countryName=ChinaGansu<br>slopeData=%{x}<br>varianceVal=%{y}<br>lastValue=%{marker.size}",
         "hovertext": [
          "ChinaGansu"
         ],
         "legendgroup": "ChinaGansu",
         "marker": {
          "color": "#ab63fa",
          "size": [
           138
          ],
          "sizemode": "area",
          "sizeref": 39.135,
          "symbol": "circle"
         },
         "mode": "markers",
         "name": "ChinaGansu",
         "showlegend": true,
         "type": "scatter",
         "x": [
          2.538925332326747
         ],
         "xaxis": "x",
         "y": [
          0.08292625244638761
         ],
         "yaxis": "y"
        },
        {
         "hoverlabel": {
          "namelength": 0
         },
         "hovertemplate": "<b>%{hovertext}</b><br><br>countryName=ChinaGuangdong<br>slopeData=%{x}<br>varianceVal=%{y}<br>lastValue=%{marker.size}",
         "hovertext": [
          "ChinaGuangdong"
         ],
         "legendgroup": "ChinaGuangdong",
         "marker": {
          "color": "#FFA15A",
          "size": [
           1475
          ],
          "sizemode": "area",
          "sizeref": 39.135,
          "symbol": "circle"
         },
         "mode": "markers",
         "name": "ChinaGuangdong",
         "showlegend": true,
         "type": "scatter",
         "x": [
          29.34869768803044
         ],
         "xaxis": "x",
         "y": [
          0.09008198169944263
         ],
         "yaxis": "y"
        },
        {
         "hoverlabel": {
          "namelength": 0
         },
         "hovertemplate": "<b>%{hovertext}</b><br><br>countryName=ChinaGuangxi<br>slopeData=%{x}<br>varianceVal=%{y}<br>lastValue=%{marker.size}",
         "hovertext": [
          "ChinaGuangxi"
         ],
         "legendgroup": "ChinaGuangxi",
         "marker": {
          "color": "#19d3f3",
          "size": [
           254
          ],
          "sizemode": "area",
          "sizeref": 39.135,
          "symbol": "circle"
         },
         "mode": "markers",
         "name": "ChinaGuangxi",
         "showlegend": true,
         "type": "scatter",
         "x": [
          5.354287386596431
         ],
         "xaxis": "x",
         "y": [
          0.09416075798511127
         ],
         "yaxis": "y"
        },
        {
         "hoverlabel": {
          "namelength": 0
         },
         "hovertemplate": "<b>%{hovertext}</b><br><br>countryName=ChinaGuizhou<br>slopeData=%{x}<br>varianceVal=%{y}<br>lastValue=%{marker.size}",
         "hovertext": [
          "ChinaGuizhou"
         ],
         "legendgroup": "ChinaGuizhou",
         "marker": {
          "color": "#FF6692",
          "size": [
           146
          ],
          "sizemode": "area",
          "sizeref": 39.135,
          "symbol": "circle"
         },
         "mode": "markers",
         "name": "ChinaGuizhou",
         "showlegend": true,
         "type": "scatter",
         "x": [
          3.0722368549409818
         ],
         "xaxis": "x",
         "y": [
          0.12834936725730656
         ],
         "yaxis": "y"
        },
        {
         "hoverlabel": {
          "namelength": 0
         },
         "hovertemplate": "<b>%{hovertext}</b><br><br>countryName=ChinaHainan<br>slopeData=%{x}<br>varianceVal=%{y}<br>lastValue=%{marker.size}",
         "hovertext": [
          "ChinaHainan"
         ],
         "legendgroup": "ChinaHainan",
         "marker": {
          "color": "#B6E880",
          "size": [
           168
          ],
          "sizemode": "area",
          "sizeref": 39.135,
          "symbol": "circle"
         },
         "mode": "markers",
         "name": "ChinaHainan",
         "showlegend": true,
         "type": "scatter",
         "x": [
          3.5697688030436057
         ],
         "xaxis": "x",
         "y": [
          0.10236803455679085
         ],
         "yaxis": "y"
        },
        {
         "hoverlabel": {
          "namelength": 0
         },
         "hovertemplate": "<b>%{hovertext}</b><br><br>countryName=ChinaHebei<br>slopeData=%{x}<br>varianceVal=%{y}<br>lastValue=%{marker.size}",
         "hovertext": [
          "ChinaHebei"
         ],
         "legendgroup": "ChinaHebei",
         "marker": {
          "color": "#FF97FF",
          "size": [
           319
          ],
          "sizemode": "area",
          "sizeref": 39.135,
          "symbol": "circle"
         },
         "mode": "markers",
         "name": "ChinaHebei",
         "showlegend": true,
         "type": "scatter",
         "x": [
          6.640522875816994
         ],
         "xaxis": "x",
         "y": [
          0.1170089778262571
         ],
         "yaxis": "y"
        },
        {
         "hoverlabel": {
          "namelength": 0
         },
         "hovertemplate": "<b>%{hovertext}</b><br><br>countryName=ChinaHeilongjiang<br>slopeData=%{x}<br>varianceVal=%{y}<br>lastValue=%{marker.size}",
         "hovertext": [
          "ChinaHeilongjiang"
         ],
         "legendgroup": "ChinaHeilongjiang",
         "marker": {
          "color": "#FECB52",
          "size": [
           484
          ],
          "sizemode": "area",
          "sizeref": 39.135,
          "symbol": "circle"
         },
         "mode": "markers",
         "name": "ChinaHeilongjiang",
         "showlegend": true,
         "type": "scatter",
         "x": [
          10.240866753042717
         ],
         "xaxis": "x",
         "y": [
          0.12450872441916513
         ],
         "yaxis": "y"
        },
        {
         "hoverlabel": {
          "namelength": 0
         },
         "hovertemplate": "<b>%{hovertext}</b><br><br>countryName=ChinaHenan<br>slopeData=%{x}<br>varianceVal=%{y}<br>lastValue=%{marker.size}",
         "hovertext": [
          "ChinaHenan"
         ],
         "legendgroup": "ChinaHenan",
         "marker": {
          "color": "#636efa",
          "size": [
           1276
          ],
          "sizemode": "area",
          "sizeref": 39.135,
          "symbol": "circle"
         },
         "mode": "markers",
         "name": "ChinaHenan",
         "showlegend": true,
         "type": "scatter",
         "x": [
          27.03032874841479
         ],
         "xaxis": "x",
         "y": [
          0.10913425848798561
         ],
         "yaxis": "y"
        },
        {
         "hoverlabel": {
          "namelength": 0
         },
         "hovertemplate": "<b>%{hovertext}</b><br><br>countryName=ChinaHong Kong<br>slopeData=%{x}<br>varianceVal=%{y}<br>lastValue=%{marker.size}",
         "hovertext": [
          "ChinaHong Kong"
         ],
         "legendgroup": "ChinaHong Kong",
         "marker": {
          "color": "#EF553B",
          "size": [
           641
          ],
          "sizemode": "area",
          "sizeref": 39.135,
          "symbol": "circle"
         },
         "mode": "markers",
         "name": "ChinaHong Kong",
         "showlegend": true,
         "type": "scatter",
         "x": [
          4.284969547341897
         ],
         "xaxis": "x",
         "y": [
          0.04781587715685682
         ],
         "yaxis": "y"
        },
        {
         "hoverlabel": {
          "namelength": 0
         },
         "hovertemplate": "<b>%{hovertext}</b><br><br>countryName=ChinaHubei<br>slopeData=%{x}<br>varianceVal=%{y}<br>lastValue=%{marker.size}",
         "hovertext": [
          "ChinaHubei"
         ],
         "legendgroup": "ChinaHubei",
         "marker": {
          "color": "#00cc96",
          "size": [
           67801
          ],
          "sizemode": "area",
          "sizeref": 39.135,
          "symbol": "circle"
         },
         "mode": "markers",
         "name": "ChinaHubei",
         "showlegend": true,
         "type": "scatter",
         "x": [
          1370.5105355575067
         ],
         "xaxis": "x",
         "y": [
          0.14369814106845444
         ],
         "yaxis": "y"
        },
        {
         "hoverlabel": {
          "namelength": 0
         },
         "hovertemplate": "<b>%{hovertext}</b><br><br>countryName=ChinaHunan<br>slopeData=%{x}<br>varianceVal=%{y}<br>lastValue=%{marker.size}",
         "hovertext": [
          "ChinaHunan"
         ],
         "legendgroup": "ChinaHunan",
         "marker": {
          "color": "#ab63fa",
          "size": [
           1018
          ],
          "sizemode": "area",
          "sizeref": 39.135,
          "symbol": "circle"
         },
         "mode": "markers",
         "name": "ChinaHunan",
         "showlegend": true,
         "type": "scatter",
         "x": [
          21.722749000097554
         ],
         "xaxis": "x",
         "y": [
          0.10367969237645248
         ],
         "yaxis": "y"
        },
        {
         "hoverlabel": {
          "namelength": 0
         },
         "hovertemplate": "<b>%{hovertext}</b><br><br>countryName=ChinaInner Mongolia<br>slopeData=%{x}<br>varianceVal=%{y}<br>lastValue=%{marker.size}",
         "hovertext": [
          "ChinaInner Mongolia"
         ],
         "legendgroup": "ChinaInner Mongolia",
         "marker": {
          "color": "#FFA15A",
          "size": [
           95
          ],
          "sizemode": "area",
          "sizeref": 39.135,
          "symbol": "circle"
         },
         "mode": "markers",
         "name": "ChinaInner Mongolia",
         "showlegend": true,
         "type": "scatter",
         "x": [
          1.692595953664656
         ],
         "xaxis": "x",
         "y": [
          0.06134215524519654
         ],
         "yaxis": "y"
        },
        {
         "hoverlabel": {
          "namelength": 0
         },
         "hovertemplate": "<b>%{hovertext}</b><br><br>countryName=ChinaJiangsu<br>slopeData=%{x}<br>varianceVal=%{y}<br>lastValue=%{marker.size}",
         "hovertext": [
          "ChinaJiangsu"
         ],
         "legendgroup": "ChinaJiangsu",
         "marker": {
          "color": "#19d3f3",
          "size": [
           644
          ],
          "sizemode": "area",
          "sizeref": 39.135,
          "symbol": "circle"
         },
         "mode": "markers",
         "name": "ChinaJiangsu",
         "showlegend": true,
         "type": "scatter",
         "x": [
          13.382274900009755
         ],
         "xaxis": "x",
         "y": [
          0.1088907163530862
         ],
         "yaxis": "y"
        },
        {
         "hoverlabel": {
          "namelength": 0
         },
         "hovertemplate": "<b>%{hovertext}</b><br><br>countryName=ChinaJiangxi<br>slopeData=%{x}<br>varianceVal=%{y}<br>lastValue=%{marker.size}",
         "hovertext": [
          "ChinaJiangxi"
         ],
         "legendgroup": "ChinaJiangxi",
         "marker": {
          "color": "#FF6692",
          "size": [
           937
          ],
          "sizemode": "area",
          "sizeref": 39.135,
          "symbol": "circle"
         },
         "mode": "markers",
         "name": "ChinaJiangxi",
         "showlegend": true,
         "type": "scatter",
         "x": [
          19.85019022534387
         ],
         "xaxis": "x",
         "y": [
          0.11419421809193132
         ],
         "yaxis": "y"
        },
        {
         "hoverlabel": {
          "namelength": 0
         },
         "hovertemplate": "<b>%{hovertext}</b><br><br>countryName=ChinaJilin<br>slopeData=%{x}<br>varianceVal=%{y}<br>lastValue=%{marker.size}",
         "hovertext": [
          "ChinaJilin"
         ],
         "legendgroup": "ChinaJilin",
         "marker": {
          "color": "#B6E880",
          "size": [
           98
          ],
          "sizemode": "area",
          "sizeref": 39.135,
          "symbol": "circle"
         },
         "mode": "markers",
         "name": "ChinaJilin",
         "showlegend": true,
         "type": "scatter",
         "x": [
          2.0105385580640887
         ],
         "xaxis": "x",
         "y": [
          0.10459454732593347
         ],
         "yaxis": "y"
        },
        {
         "hoverlabel": {
          "namelength": 0
         },
         "hovertemplate": "<b>%{hovertext}</b><br><br>countryName=ChinaLiaoning<br>slopeData=%{x}<br>varianceVal=%{y}<br>lastValue=%{marker.size}",
         "hovertext": [
          "ChinaLiaoning"
         ],
         "legendgroup": "ChinaLiaoning",
         "marker": {
          "color": "#FF97FF",
          "size": [
           134
          ],
          "sizemode": "area",
          "sizeref": 39.135,
          "symbol": "circle"
         },
         "mode": "markers",
         "name": "ChinaLiaoning",
         "showlegend": true,
         "type": "scatter",
         "x": [
          2.6827138815725298
         ],
         "xaxis": "x",
         "y": [
          0.07655197976938304
         ],
         "yaxis": "y"
        },
        {
         "hoverlabel": {
          "namelength": 0
         },
         "hovertemplate": "<b>%{hovertext}</b><br><br>countryName=ChinaMacau<br>slopeData=%{x}<br>varianceVal=%{y}<br>lastValue=%{marker.size}",
         "hovertext": [
          "ChinaMacau"
         ],
         "legendgroup": "ChinaMacau",
         "marker": {
          "color": "#FECB52",
          "size": [
           37
          ],
          "sizemode": "area",
          "sizeref": 39.135,
          "symbol": "circle"
         },
         "mode": "markers",
         "name": "ChinaMacau",
         "showlegend": true,
         "type": "scatter",
         "x": [
          0.33714759535655064
         ],
         "xaxis": "x",
         "y": [
          0.042613818403178266
         ],
         "yaxis": "y"
        },
        {
         "hoverlabel": {
          "namelength": 0
         },
         "hovertemplate": "<b>%{hovertext}</b><br><br>countryName=ChinaNingxia<br>slopeData=%{x}<br>varianceVal=%{y}<br>lastValue=%{marker.size}",
         "hovertext": [
          "ChinaNingxia"
         ],
         "legendgroup": "ChinaNingxia",
         "marker": {
          "color": "#636efa",
          "size": [
           75
          ],
          "sizemode": "area",
          "sizeref": 39.135,
          "symbol": "circle"
         },
         "mode": "markers",
         "name": "ChinaNingxia",
         "showlegend": true,
         "type": "scatter",
         "x": [
          1.5568920105355575
         ],
         "xaxis": "x",
         "y": [
          0.1108040496308522
         ],
         "yaxis": "y"
        },
        {
         "hoverlabel": {
          "namelength": 0
         },
         "hovertemplate": "<b>%{hovertext}</b><br><br>countryName=ChinaQinghai<br>slopeData=%{x}<br>varianceVal=%{y}<br>lastValue=%{marker.size}",
         "hovertext": [
          "ChinaQinghai"
         ],
         "legendgroup": "ChinaQinghai",
         "marker": {
          "color": "#EF553B",
          "size": [
           18
          ],
          "sizemode": "area",
          "sizeref": 39.135,
          "symbol": "circle"
         },
         "mode": "markers",
         "name": "ChinaQinghai",
         "showlegend": true,
         "type": "scatter",
         "x": [
          0.4136851520572451
         ],
         "xaxis": "x",
         "y": [
          0.06236563542925002
         ],
         "yaxis": "y"
        },
        {
         "hoverlabel": {
          "namelength": 0
         },
         "hovertemplate": "<b>%{hovertext}</b><br><br>countryName=ChinaShaanxi<br>slopeData=%{x}<br>varianceVal=%{y}<br>lastValue=%{marker.size}",
         "hovertext": [
          "ChinaShaanxi"
         ],
         "legendgroup": "ChinaShaanxi",
         "marker": {
          "color": "#00cc96",
          "size": [
           253
          ],
          "sizemode": "area",
          "sizeref": 39.135,
          "symbol": "circle"
         },
         "mode": "markers",
         "name": "ChinaShaanxi",
         "showlegend": true,
         "type": "scatter",
         "x": [
          5.363738382591486
         ],
         "xaxis": "x",
         "y": [
          0.08766305546892404
         ],
         "yaxis": "y"
        },
        {
         "hoverlabel": {
          "namelength": 0
         },
         "hovertemplate": "<b>%{hovertext}</b><br><br>countryName=ChinaShandong<br>slopeData=%{x}<br>varianceVal=%{y}<br>lastValue=%{marker.size}",
         "hovertext": [
          "ChinaShandong"
         ],
         "legendgroup": "ChinaShandong",
         "marker": {
          "color": "#ab63fa",
          "size": [
           772
          ],
          "sizemode": "area",
          "sizeref": 39.135,
          "symbol": "circle"
         },
         "mode": "markers",
         "name": "ChinaShandong",
         "showlegend": true,
         "type": "scatter",
         "x": [
          15.50092673885475
         ],
         "xaxis": "x",
         "y": [
          0.11247399409447788
         ],
         "yaxis": "y"
        },
        {
         "hoverlabel": {
          "namelength": 0
         },
         "hovertemplate": "<b>%{hovertext}</b><br><br>countryName=ChinaShanghai<br>slopeData=%{x}<br>varianceVal=%{y}<br>lastValue=%{marker.size}",
         "hovertext": [
          "ChinaShanghai"
         ],
         "legendgroup": "ChinaShanghai",
         "marker": {
          "color": "#FFA15A",
          "size": [
           492
          ],
          "sizemode": "area",
          "sizeref": 39.135,
          "symbol": "circle"
         },
         "mode": "markers",
         "name": "ChinaShanghai",
         "showlegend": true,
         "type": "scatter",
         "x": [
          7.893229928787437
         ],
         "xaxis": "x",
         "y": [
          0.05675923488488022
         ],
         "yaxis": "y"
        },
        {
         "hoverlabel": {
          "namelength": 0
         },
         "hovertemplate": "<b>%{hovertext}</b><br><br>countryName=ChinaShanxi<br>slopeData=%{x}<br>varianceVal=%{y}<br>lastValue=%{marker.size}",
         "hovertext": [
          "ChinaShanxi"
         ],
         "legendgroup": "ChinaShanxi",
         "marker": {
          "color": "#19d3f3",
          "size": [
           136
          ],
          "sizemode": "area",
          "sizeref": 39.135,
          "symbol": "circle"
         },
         "mode": "markers",
         "name": "ChinaShanxi",
         "showlegend": true,
         "type": "scatter",
         "x": [
          2.850151204760512
         ],
         "xaxis": "x",
         "y": [
          0.099838428714502
         ],
         "yaxis": "y"
        },
        {
         "hoverlabel": {
          "namelength": 0
         },
         "hovertemplate": "<b>%{hovertext}</b><br><br>countryName=ChinaSichuan<br>slopeData=%{x}<br>varianceVal=%{y}<br>lastValue=%{marker.size}",
         "hovertext": [
          "ChinaSichuan"
         ],
         "legendgroup": "ChinaSichuan",
         "marker": {
          "color": "#FF6692",
          "size": [
           550
          ],
          "sizemode": "area",
          "sizeref": 39.135,
          "symbol": "circle"
         },
         "mode": "markers",
         "name": "ChinaSichuan",
         "showlegend": true,
         "type": "scatter",
         "x": [
          11.352463174324456
         ],
         "xaxis": "x",
         "y": [
          0.09919510346111049
         ],
         "yaxis": "y"
        },
        {
         "hoverlabel": {
          "namelength": 0
         },
         "hovertemplate": "<b>%{hovertext}</b><br><br>countryName=ChinaTianjin<br>slopeData=%{x}<br>varianceVal=%{y}<br>lastValue=%{marker.size}",
         "hovertext": [
          "ChinaTianjin"
         ],
         "legendgroup": "ChinaTianjin",
         "marker": {
          "color": "#B6E880",
          "size": [
           166
          ],
          "sizemode": "area",
          "sizeref": 39.135,
          "symbol": "circle"
         },
         "mode": "markers",
         "name": "ChinaTianjin",
         "showlegend": true,
         "type": "scatter",
         "x": [
          2.925665788703541
         ],
         "xaxis": "x",
         "y": [
          0.07797834430041416
         ],
         "yaxis": "y"
        },
        {
         "hoverlabel": {
          "namelength": 0
         },
         "hovertemplate": "<b>%{hovertext}</b><br><br>countryName=ChinaTibet<br>slopeData=%{x}<br>varianceVal=%{y}<br>lastValue=%{marker.size}",
         "hovertext": [
          "ChinaTibet"
         ],
         "legendgroup": "ChinaTibet",
         "marker": {
          "color": "#FF97FF",
          "size": [
           1
          ],
          "sizemode": "area",
          "sizeref": 39.135,
          "symbol": "circle"
         },
         "mode": "markers",
         "name": "ChinaTibet",
         "showlegend": true,
         "type": "scatter",
         "x": [
          0.02521008403361344
         ],
         "xaxis": "x",
         "y": [
          0
         ],
         "yaxis": "y"
        },
        {
         "hoverlabel": {
          "namelength": 0
         },
         "hovertemplate": "<b>%{hovertext}</b><br><br>countryName=ChinaXinjiang<br>slopeData=%{x}<br>varianceVal=%{y}<br>lastValue=%{marker.size}",
         "hovertext": [
          "ChinaXinjiang"
         ],
         "legendgroup": "ChinaXinjiang",
         "marker": {
          "color": "#FECB52",
          "size": [
           76
          ],
          "sizemode": "area",
          "sizeref": 39.135,
          "symbol": "circle"
         },
         "mode": "markers",
         "name": "ChinaXinjiang",
         "showlegend": true,
         "type": "scatter",
         "x": [
          1.6191734424256032
         ],
         "xaxis": "x",
         "y": [
          0.1193863874049072
         ],
         "yaxis": "y"
        },
        {
         "hoverlabel": {
          "namelength": 0
         },
         "hovertemplate": "<b>%{hovertext}</b><br><br>countryName=ChinaYunnan<br>slopeData=%{x}<br>varianceVal=%{y}<br>lastValue=%{marker.size}",
         "hovertext": [
          "ChinaYunnan"
         ],
         "legendgroup": "ChinaYunnan",
         "marker": {
          "color": "#636efa",
          "size": [
           180
          ],
          "sizemode": "area",
          "sizeref": 39.135,
          "symbol": "circle"
         },
         "mode": "markers",
         "name": "ChinaYunnan",
         "showlegend": true,
         "type": "scatter",
         "x": [
          3.755604331284753
         ],
         "xaxis": "x",
         "y": [
          0.08388954290723316
         ],
         "yaxis": "y"
        },
        {
         "hoverlabel": {
          "namelength": 0
         },
         "hovertemplate": "<b>%{hovertext}</b><br><br>countryName=ChinaZhejiang<br>slopeData=%{x}<br>varianceVal=%{y}<br>lastValue=%{marker.size}",
         "hovertext": [
          "ChinaZhejiang"
         ],
         "legendgroup": "ChinaZhejiang",
         "marker": {
          "color": "#EF553B",
          "size": [
           1254
          ],
          "sizemode": "area",
          "sizeref": 39.135,
          "symbol": "circle"
         },
         "mode": "markers",
         "name": "ChinaZhejiang",
         "showlegend": true,
         "type": "scatter",
         "x": [
          26.220700419471275
         ],
         "xaxis": "x",
         "y": [
          0.09061178320878634
         ],
         "yaxis": "y"
        },
        {
         "hoverlabel": {
          "namelength": 0
         },
         "hovertemplate": "<b>%{hovertext}</b><br><br>countryName=Colombia<br>slopeData=%{x}<br>varianceVal=%{y}<br>lastValue=%{marker.size}",
         "hovertext": [
          "Colombia"
         ],
         "legendgroup": "Colombia",
         "marker": {
          "color": "#00cc96",
          "size": [
           702
          ],
          "sizemode": "area",
          "sizeref": 39.135,
          "symbol": "circle"
         },
         "mode": "markers",
         "name": "Colombia",
         "showlegend": true,
         "type": "scatter",
         "x": [
          19.407724329324697
         ],
         "xaxis": "x",
         "y": [
          0.09784575122964749
         ],
         "yaxis": "y"
        },
        {
         "hoverlabel": {
          "namelength": 0
         },
         "hovertemplate": "<b>%{hovertext}</b><br><br>countryName=Congo (Brazzaville)<br>slopeData=%{x}<br>varianceVal=%{y}<br>lastValue=%{marker.size}",
         "hovertext": [
          "Congo (Brazzaville)"
         ],
         "legendgroup": "Congo (Brazzaville)",
         "marker": {
          "color": "#ab63fa",
          "size": [
           19
          ],
          "sizemode": "area",
          "sizeref": 39.135,
          "symbol": "circle"
         },
         "mode": "markers",
         "name": "Congo (Brazzaville)",
         "showlegend": true,
         "type": "scatter",
         "x": [
          0.5812807881773399
         ],
         "xaxis": "x",
         "y": [
          0.054513031550068584
         ],
         "yaxis": "y"
        },
        {
         "hoverlabel": {
          "namelength": 0
         },
         "hovertemplate": "<b>%{hovertext}</b><br><br>countryName=Congo (Kinshasa)<br>slopeData=%{x}<br>varianceVal=%{y}<br>lastValue=%{marker.size}",
         "hovertext": [
          "Congo (Kinshasa)"
         ],
         "legendgroup": "Congo (Kinshasa)",
         "marker": {
          "color": "#FFA15A",
          "size": [
           65
          ],
          "sizemode": "area",
          "sizeref": 39.135,
          "symbol": "circle"
         },
         "mode": "markers",
         "name": "Congo (Kinshasa)",
         "showlegend": true,
         "type": "scatter",
         "x": [
          3.0602181128496926
         ],
         "xaxis": "x",
         "y": [
          0.12832058301592797
         ],
         "yaxis": "y"
        },
        {
         "hoverlabel": {
          "namelength": 0
         },
         "hovertemplate": "<b>%{hovertext}</b><br><br>countryName=Costa Rica<br>slopeData=%{x}<br>varianceVal=%{y}<br>lastValue=%{marker.size}",
         "hovertext": [
          "Costa Rica"
         ],
         "legendgroup": "Costa Rica",
         "marker": {
          "color": "#19d3f3",
          "size": [
           314
          ],
          "sizemode": "area",
          "sizeref": 39.135,
          "symbol": "circle"
         },
         "mode": "markers",
         "name": "Costa Rica",
         "showlegend": true,
         "type": "scatter",
         "x": [
          9.6836262719704
         ],
         "xaxis": "x",
         "y": [
          0.09995359926779557
         ],
         "yaxis": "y"
        },
        {
         "hoverlabel": {
          "namelength": 0
         },
         "hovertemplate": "<b>%{hovertext}</b><br><br>countryName=Cote d'Ivoire<br>slopeData=%{x}<br>varianceVal=%{y}<br>lastValue=%{marker.size}",
         "hovertext": [
          "Cote d'Ivoire"
         ],
         "legendgroup": "Cote d'Ivoire",
         "marker": {
          "color": "#FF6692",
          "size": [
           165
          ],
          "sizemode": "area",
          "sizeref": 39.135,
          "symbol": "circle"
         },
         "mode": "markers",
         "name": "Cote d'Ivoire",
         "showlegend": true,
         "type": "scatter",
         "x": [
          5.0478899952584175
         ],
         "xaxis": "x",
         "y": [
          0.08557904788898574
         ],
         "yaxis": "y"
        },
        {
         "hoverlabel": {
          "namelength": 0
         },
         "hovertemplate": "<b>%{hovertext}</b><br><br>countryName=Croatia<br>slopeData=%{x}<br>varianceVal=%{y}<br>lastValue=%{marker.size}",
         "hovertext": [
          "Croatia"
         ],
         "legendgroup": "Croatia",
         "marker": {
          "color": "#B6E880",
          "size": [
           713
          ],
          "sizemode": "area",
          "sizeref": 39.135,
          "symbol": "circle"
         },
         "mode": "markers",
         "name": "Croatia",
         "showlegend": true,
         "type": "scatter",
         "x": [
          10.771809402186925
         ],
         "xaxis": "x",
         "y": [
          0.08449397501069165
         ],
         "yaxis": "y"
        },
        {
         "hoverlabel": {
          "namelength": 0
         },
         "hovertemplate": "<b>%{hovertext}</b><br><br>countryName=Diamond Princess<br>slopeData=%{x}<br>varianceVal=%{y}<br>lastValue=%{marker.size}",
         "hovertext": [
          "Diamond Princess"
         ],
         "legendgroup": "Diamond Princess",
         "marker": {
          "color": "#FF97FF",
          "size": [
           712
          ],
          "sizemode": "area",
          "sizeref": 39.135,
          "symbol": "circle"
         },
         "mode": "markers",
         "name": "Diamond Princess",
         "showlegend": true,
         "type": "scatter",
         "x": [
          19.954751131221723
         ],
         "xaxis": "x",
         "y": [
          0.10887696970760626
         ],
         "yaxis": "y"
        },
        {
         "hoverlabel": {
          "namelength": 0
         },
         "hovertemplate": "<b>%{hovertext}</b><br><br>countryName=Cuba<br>slopeData=%{x}<br>varianceVal=%{y}<br>lastValue=%{marker.size}",
         "hovertext": [
          "Cuba"
         ],
         "legendgroup": "Cuba",
         "marker": {
          "color": "#FECB52",
          "size": [
           139
          ],
          "sizemode": "area",
          "sizeref": 39.135,
          "symbol": "circle"
         },
         "mode": "markers",
         "name": "Cuba",
         "showlegend": true,
         "type": "scatter",
         "x": [
          5.049299719887955
         ],
         "xaxis": "x",
         "y": [
          0.08776605685847322
         ],
         "yaxis": "y"
        },
        {
         "hoverlabel": {
          "namelength": 0
         },
         "hovertemplate": "<b>%{hovertext}</b><br><br>countryName=Cyprus<br>slopeData=%{x}<br>varianceVal=%{y}<br>lastValue=%{marker.size}",
         "hovertext": [
          "Cyprus"
         ],
         "legendgroup": "Cyprus",
         "marker": {
          "color": "#636efa",
          "size": [
           214
          ],
          "sizemode": "area",
          "sizeref": 39.135,
          "symbol": "circle"
         },
         "mode": "markers",
         "name": "Cyprus",
         "showlegend": true,
         "type": "scatter",
         "x": [
          8.271777003484319
         ],
         "xaxis": "x",
         "y": [
          0.08741349274965711
         ],
         "yaxis": "y"
        },
        {
         "hoverlabel": {
          "namelength": 0
         },
         "hovertemplate": "<b>%{hovertext}</b><br><br>countryName=Czechia<br>slopeData=%{x}<br>varianceVal=%{y}<br>lastValue=%{marker.size}",
         "hovertext": [
          "Czechia"
         ],
         "legendgroup": "Czechia",
         "marker": {
          "color": "#EF553B",
          "size": [
           2817
          ],
          "sizemode": "area",
          "sizeref": 39.135,
          "symbol": "circle"
         },
         "mode": "markers",
         "name": "Czechia",
         "showlegend": true,
         "type": "scatter",
         "x": [
          59.29906663209749
         ],
         "xaxis": "x",
         "y": [
          0.0898688883406107
         ],
         "yaxis": "y"
        },
        {
         "hoverlabel": {
          "namelength": 0
         },
         "hovertemplate": "<b>%{hovertext}</b><br><br>countryName=DenmarkFaroe Islands<br>slopeData=%{x}<br>varianceVal=%{y}<br>lastValue=%{marker.size}",
         "hovertext": [
          "DenmarkFaroe Islands"
         ],
         "legendgroup": "DenmarkFaroe Islands",
         "marker": {
          "color": "#00cc96",
          "size": [
           159
          ],
          "sizemode": "area",
          "sizeref": 39.135,
          "symbol": "circle"
         },
         "mode": "markers",
         "name": "DenmarkFaroe Islands",
         "showlegend": true,
         "type": "scatter",
         "x": [
          5.335384615384615
         ],
         "xaxis": "x",
         "y": [
          0.13866909177618136
         ],
         "yaxis": "y"
        },
        {
         "hoverlabel": {
          "namelength": 0
         },
         "hovertemplate": "<b>%{hovertext}</b><br><br>countryName=DenmarkGreenland<br>slopeData=%{x}<br>varianceVal=%{y}<br>lastValue=%{marker.size}",
         "hovertext": [
          "DenmarkGreenland"
         ],
         "legendgroup": "DenmarkGreenland",
         "marker": {
          "color": "#ab63fa",
          "size": [
           10
          ],
          "sizemode": "area",
          "sizeref": 39.135,
          "symbol": "circle"
         },
         "mode": "markers",
         "name": "DenmarkGreenland",
         "showlegend": true,
         "type": "scatter",
         "x": [
          0.724053724053724
         ],
         "xaxis": "x",
         "y": [
          0.13353489543965735
         ],
         "yaxis": "y"
        },
        {
         "hoverlabel": {
          "namelength": 0
         },
         "hovertemplate": "<b>%{hovertext}</b><br><br>countryName=Denmark<br>slopeData=%{x}<br>varianceVal=%{y}<br>lastValue=%{marker.size}",
         "hovertext": [
          "Denmark"
         ],
         "legendgroup": "Denmark",
         "marker": {
          "color": "#FFA15A",
          "size": [
           2395
          ],
          "sizemode": "area",
          "sizeref": 39.135,
          "symbol": "circle"
         },
         "mode": "markers",
         "name": "Denmark",
         "showlegend": true,
         "type": "scatter",
         "x": [
          58.333717357910906
         ],
         "xaxis": "x",
         "y": [
          0.09815911382378947
         ],
         "yaxis": "y"
        },
        {
         "hoverlabel": {
          "namelength": 0
         },
         "hovertemplate": "<b>%{hovertext}</b><br><br>countryName=Djibouti<br>slopeData=%{x}<br>varianceVal=%{y}<br>lastValue=%{marker.size}",
         "hovertext": [
          "Djibouti"
         ],
         "legendgroup": "Djibouti",
         "marker": {
          "color": "#19d3f3",
          "size": [
           18
          ],
          "sizemode": "area",
          "sizeref": 39.135,
          "symbol": "circle"
         },
         "mode": "markers",
         "name": "Djibouti",
         "showlegend": true,
         "type": "scatter",
         "x": [
          1.2924901185770754
         ],
         "xaxis": "x",
         "y": [
          0.12540849673202614
         ],
         "yaxis": "y"
        },
        {
         "hoverlabel": {
          "namelength": 0
         },
         "hovertemplate": "<b>%{hovertext}</b><br><br>countryName=Dominican Republic<br>slopeData=%{x}<br>varianceVal=%{y}<br>lastValue=%{marker.size}",
         "hovertext": [
          "Dominican Republic"
         ],
         "legendgroup": "Dominican Republic",
         "marker": {
          "color": "#FF6692",
          "size": [
           859
          ],
          "sizemode": "area",
          "sizeref": 39.135,
          "symbol": "circle"
         },
         "mode": "markers",
         "name": "Dominican Republic",
         "showlegend": true,
         "type": "scatter",
         "x": [
          13.31073373087892
         ],
         "xaxis": "x",
         "y": [
          0.0756253448436414
         ],
         "yaxis": "y"
        },
        {
         "hoverlabel": {
          "namelength": 0
         },
         "hovertemplate": "<b>%{hovertext}</b><br><br>countryName=Ecuador<br>slopeData=%{x}<br>varianceVal=%{y}<br>lastValue=%{marker.size}",
         "hovertext": [
          "Ecuador"
         ],
         "legendgroup": "Ecuador",
         "marker": {
          "color": "#B6E880",
          "size": [
           1924
          ],
          "sizemode": "area",
          "sizeref": 39.135,
          "symbol": "circle"
         },
         "mode": "markers",
         "name": "Ecuador",
         "showlegend": true,
         "type": "scatter",
         "x": [
          38.47381384495722
         ],
         "xaxis": "x",
         "y": [
          0.10246545756926437
         ],
         "yaxis": "y"
        },
        {
         "hoverlabel": {
          "namelength": 0
         },
         "hovertemplate": "<b>%{hovertext}</b><br><br>countryName=Egypt<br>slopeData=%{x}<br>varianceVal=%{y}<br>lastValue=%{marker.size}",
         "hovertext": [
          "Egypt"
         ],
         "legendgroup": "Egypt",
         "marker": {
          "color": "#FF97FF",
          "size": [
           609
          ],
          "sizemode": "area",
          "sizeref": 39.135,
          "symbol": "circle"
         },
         "mode": "markers",
         "name": "Egypt",
         "showlegend": true,
         "type": "scatter",
         "x": [
          7.419339462036092
         ],
         "xaxis": "x",
         "y": [
          0.0890189769929209
         ],
         "yaxis": "y"
        },
        {
         "hoverlabel": {
          "namelength": 0
         },
         "hovertemplate": "<b>%{hovertext}</b><br><br>countryName=El Salvador<br>slopeData=%{x}<br>varianceVal=%{y}<br>lastValue=%{marker.size}",
         "hovertext": [
          "El Salvador"
         ],
         "legendgroup": "El Salvador",
         "marker": {
          "color": "#FECB52",
          "size": [
           24
          ],
          "sizemode": "area",
          "sizeref": 39.135,
          "symbol": "circle"
         },
         "mode": "markers",
         "name": "El Salvador",
         "showlegend": true,
         "type": "scatter",
         "x": [
          1.8519480519480513
         ],
         "xaxis": "x",
         "y": [
          0.10426658751113126
         ],
         "yaxis": "y"
        },
        {
         "hoverlabel": {
          "namelength": 0
         },
         "hovertemplate": "<b>%{hovertext}</b><br><br>countryName=Equatorial Guinea<br>slopeData=%{x}<br>varianceVal=%{y}<br>lastValue=%{marker.size}",
         "hovertext": [
          "Equatorial Guinea"
         ],
         "legendgroup": "Equatorial Guinea",
         "marker": {
          "color": "#636efa",
          "size": [
           12
          ],
          "sizemode": "area",
          "sizeref": 39.135,
          "symbol": "circle"
         },
         "mode": "markers",
         "name": "Equatorial Guinea",
         "showlegend": true,
         "type": "scatter",
         "x": [
          0.9753694581280787
         ],
         "xaxis": "x",
         "y": [
          0.128337924701561
         ],
         "yaxis": "y"
        },
        {
         "hoverlabel": {
          "namelength": 0
         },
         "hovertemplate": "<b>%{hovertext}</b><br><br>countryName=Eritrea<br>slopeData=%{x}<br>varianceVal=%{y}<br>lastValue=%{marker.size}",
         "hovertext": [
          "Eritrea"
         ],
         "legendgroup": "Eritrea",
         "marker": {
          "color": "#EF553B",
          "size": [
           12
          ],
          "sizemode": "area",
          "sizeref": 39.135,
          "symbol": "circle"
         },
         "mode": "markers",
         "name": "Eritrea",
         "showlegend": true,
         "type": "scatter",
         "x": [
          1.1078431372549018
         ],
         "xaxis": "x",
         "y": [
          0.1024385266809509
         ],
         "yaxis": "y"
        },
        {
         "hoverlabel": {
          "namelength": 0
         },
         "hovertemplate": "<b>%{hovertext}</b><br><br>countryName=Estonia<br>slopeData=%{x}<br>varianceVal=%{y}<br>lastValue=%{marker.size}",
         "hovertext": [
          "Estonia"
         ],
         "legendgroup": "Estonia",
         "marker": {
          "color": "#00cc96",
          "size": [
           679
          ],
          "sizemode": "area",
          "sizeref": 39.135,
          "symbol": "circle"
         },
         "mode": "markers",
         "name": "Estonia",
         "showlegend": true,
         "type": "scatter",
         "x": [
          14.228206605222736
         ],
         "xaxis": "x",
         "y": [
          0.09486627082068878
         ],
         "yaxis": "y"
        },
        {
         "hoverlabel": {
          "namelength": 0
         },
         "hovertemplate": "<b>%{hovertext}</b><br><br>countryName=Eswatini<br>slopeData=%{x}<br>varianceVal=%{y}<br>lastValue=%{marker.size}",
         "hovertext": [
          "Eswatini"
         ],
         "legendgroup": "Eswatini",
         "marker": {
          "color": "#ab63fa",
          "size": [
           9
          ],
          "sizemode": "area",
          "sizeref": 39.135,
          "symbol": "circle"
         },
         "mode": "markers",
         "name": "Eswatini",
         "showlegend": true,
         "type": "scatter",
         "x": [
          0.5080645161290323
         ],
         "xaxis": "x",
         "y": [
          0.14447021484375
         ],
         "yaxis": "y"
        },
        {
         "hoverlabel": {
          "namelength": 0
         },
         "hovertemplate": "<b>%{hovertext}</b><br><br>countryName=Ethiopia<br>slopeData=%{x}<br>varianceVal=%{y}<br>lastValue=%{marker.size}",
         "hovertext": [
          "Ethiopia"
         ],
         "legendgroup": "Ethiopia",
         "marker": {
          "color": "#FFA15A",
          "size": [
           21
          ],
          "sizemode": "area",
          "sizeref": 39.135,
          "symbol": "circle"
         },
         "mode": "markers",
         "name": "Ethiopia",
         "showlegend": true,
         "type": "scatter",
         "x": [
          1.1229946524064167
         ],
         "xaxis": "x",
         "y": [
          0.07631487889273357
         ],
         "yaxis": "y"
        },
        {
         "hoverlabel": {
          "namelength": 0
         },
         "hovertemplate": "<b>%{hovertext}</b><br><br>countryName=Fiji<br>slopeData=%{x}<br>varianceVal=%{y}<br>lastValue=%{marker.size}",
         "hovertext": [
          "Fiji"
         ],
         "legendgroup": "Fiji",
         "marker": {
          "color": "#19d3f3",
          "size": [
           5
          ],
          "sizemode": "area",
          "sizeref": 39.135,
          "symbol": "circle"
         },
         "mode": "markers",
         "name": "Fiji",
         "showlegend": true,
         "type": "scatter",
         "x": [
          0.6259740259740258
         ],
         "xaxis": "x",
         "y": [
          0.18491735537190082
         ],
         "yaxis": "y"
        },
        {
         "hoverlabel": {
          "namelength": 0
         },
         "hovertemplate": "<b>%{hovertext}</b><br><br>countryName=Finland<br>slopeData=%{x}<br>varianceVal=%{y}<br>lastValue=%{marker.size}",
         "hovertext": [
          "Finland"
         ],
         "legendgroup": "Finland",
         "marker": {
          "color": "#FF6692",
          "size": [
           1240
          ],
          "sizemode": "area",
          "sizeref": 39.135,
          "symbol": "circle"
         },
         "mode": "markers",
         "name": "Finland",
         "showlegend": true,
         "type": "scatter",
         "x": [
          7.817626337894595
         ],
         "xaxis": "x",
         "y": [
          0.06833547854825249
         ],
         "yaxis": "y"
        },
        {
         "hoverlabel": {
          "namelength": 0
         },
         "hovertemplate": "<b>%{hovertext}</b><br><br>countryName=FranceFrench Guiana<br>slopeData=%{x}<br>varianceVal=%{y}<br>lastValue=%{marker.size}",
         "hovertext": [
          "FranceFrench Guiana"
         ],
         "legendgroup": "FranceFrench Guiana",
         "marker": {
          "color": "#B6E880",
          "size": [
           28
          ],
          "sizemode": "area",
          "sizeref": 39.135,
          "symbol": "circle"
         },
         "mode": "markers",
         "name": "FranceFrench Guiana",
         "showlegend": true,
         "type": "scatter",
         "x": [
          1.2874835309617922
         ],
         "xaxis": "x",
         "y": [
          0.15308693150753463
         ],
         "yaxis": "y"
        },
        {
         "hoverlabel": {
          "namelength": 0
         },
         "hovertemplate": "<b>%{hovertext}</b><br><br>countryName=FranceFrench Polynesia<br>slopeData=%{x}<br>varianceVal=%{y}<br>lastValue=%{marker.size}",
         "hovertext": [
          "FranceFrench Polynesia"
         ],
         "legendgroup": "FranceFrench Polynesia",
         "marker": {
          "color": "#FF97FF",
          "size": [
           30
          ],
          "sizemode": "area",
          "sizeref": 39.135,
          "symbol": "circle"
         },
         "mode": "markers",
         "name": "FranceFrench Polynesia",
         "showlegend": true,
         "type": "scatter",
         "x": [
          1.9618983957219243
         ],
         "xaxis": "x",
         "y": [
          0.16775124477290307
         ],
         "yaxis": "y"
        },
        {
         "hoverlabel": {
          "namelength": 0
         },
         "hovertemplate": "<b>%{hovertext}</b><br><br>countryName=FranceGuadeloupe<br>slopeData=%{x}<br>varianceVal=%{y}<br>lastValue=%{marker.size}",
         "hovertext": [
          "FranceGuadeloupe"
         ],
         "legendgroup": "FranceGuadeloupe",
         "marker": {
          "color": "#FECB52",
          "size": [
           106
          ],
          "sizemode": "area",
          "sizeref": 39.135,
          "symbol": "circle"
         },
         "mode": "markers",
         "name": "FranceGuadeloupe",
         "showlegend": true,
         "type": "scatter",
         "x": [
          6.060160427807484
         ],
         "xaxis": "x",
         "y": [
          0.0983351772081382
         ],
         "yaxis": "y"
        },
        {
         "hoverlabel": {
          "namelength": 0
         },
         "hovertemplate": "<b>%{hovertext}</b><br><br>countryName=FranceMayotte<br>slopeData=%{x}<br>varianceVal=%{y}<br>lastValue=%{marker.size}",
         "hovertext": [
          "FranceMayotte"
         ],
         "legendgroup": "FranceMayotte",
         "marker": {
          "color": "#636efa",
          "size": [
           63
          ],
          "sizemode": "area",
          "sizeref": 39.135,
          "symbol": "circle"
         },
         "mode": "markers",
         "name": "FranceMayotte",
         "showlegend": true,
         "type": "scatter",
         "x": [
          3.6906403940886694
         ],
         "xaxis": "x",
         "y": [
          0.12793848999884375
         ],
         "yaxis": "y"
        },
        {
         "hoverlabel": {
          "namelength": 0
         },
         "hovertemplate": "<b>%{hovertext}</b><br><br>countryName=FranceNew Caledonia<br>slopeData=%{x}<br>varianceVal=%{y}<br>lastValue=%{marker.size}",
         "hovertext": [
          "FranceNew Caledonia"
         ],
         "legendgroup": "FranceNew Caledonia",
         "marker": {
          "color": "#EF553B",
          "size": [
           15
          ],
          "sizemode": "area",
          "sizeref": 39.135,
          "symbol": "circle"
         },
         "mode": "markers",
         "name": "FranceNew Caledonia",
         "showlegend": true,
         "type": "scatter",
         "x": [
          1.7948051948051944
         ],
         "xaxis": "x",
         "y": [
          0.16489803902391317
         ],
         "yaxis": "y"
        },
        {
         "hoverlabel": {
          "namelength": 0
         },
         "hovertemplate": "<b>%{hovertext}</b><br><br>countryName=FranceReunion<br>slopeData=%{x}<br>varianceVal=%{y}<br>lastValue=%{marker.size}",
         "hovertext": [
          "FranceReunion"
         ],
         "legendgroup": "FranceReunion",
         "marker": {
          "color": "#00cc96",
          "size": [
           183
          ],
          "sizemode": "area",
          "sizeref": 39.135,
          "symbol": "circle"
         },
         "mode": "markers",
         "name": "FranceReunion",
         "showlegend": true,
         "type": "scatter",
         "x": [
          7.651019440493126
         ],
         "xaxis": "x",
         "y": [
          0.11689693825701862
         ],
         "yaxis": "y"
        },
        {
         "hoverlabel": {
          "namelength": 0
         },
         "hovertemplate": "<b>%{hovertext}</b><br><br>countryName=FranceSaint Barthelemy<br>slopeData=%{x}<br>varianceVal=%{y}<br>lastValue=%{marker.size}",
         "hovertext": [
          "FranceSaint Barthelemy"
         ],
         "legendgroup": "FranceSaint Barthelemy",
         "marker": {
          "color": "#ab63fa",
          "size": [
           5
          ],
          "sizemode": "area",
          "sizeref": 39.135,
          "symbol": "circle"
         },
         "mode": "markers",
         "name": "FranceSaint Barthelemy",
         "showlegend": true,
         "type": "scatter",
         "x": [
          0.18226244343891404
         ],
         "xaxis": "x",
         "y": [
          0.09023668639053253
         ],
         "yaxis": "y"
        },
        {
         "hoverlabel": {
          "namelength": 0
         },
         "hovertemplate": "<b>%{hovertext}</b><br><br>countryName=FranceSt Martin<br>slopeData=%{x}<br>varianceVal=%{y}<br>lastValue=%{marker.size}",
         "hovertext": [
          "FranceSt Martin"
         ],
         "legendgroup": "FranceSt Martin",
         "marker": {
          "color": "#FFA15A",
          "size": [
           11
          ],
          "sizemode": "area",
          "sizeref": 39.135,
          "symbol": "circle"
         },
         "mode": "markers",
         "name": "FranceSt Martin",
         "showlegend": true,
         "type": "scatter",
         "x": [
          0.5289198606271777
         ],
         "xaxis": "x",
         "y": [
          0.1676884745667814
         ],
         "yaxis": "y"
        },
        {
         "hoverlabel": {
          "namelength": 0
         },
         "hovertemplate": "<b>%{hovertext}</b><br><br>countryName=FranceMartinique<br>slopeData=%{x}<br>varianceVal=%{y}<br>lastValue=%{marker.size}",
         "hovertext": [
          "FranceMartinique"
         ],
         "legendgroup": "FranceMartinique",
         "marker": {
          "color": "#19d3f3",
          "size": [
           93
          ],
          "sizemode": "area",
          "sizeref": 39.135,
          "symbol": "circle"
         },
         "mode": "markers",
         "name": "FranceMartinique",
         "showlegend": true,
         "type": "scatter",
         "x": [
          3.260606060606061
         ],
         "xaxis": "x",
         "y": [
          0.11202038784664102
         ],
         "yaxis": "y"
        },
        {
         "hoverlabel": {
          "namelength": 0
         },
         "hovertemplate": "<b>%{hovertext}</b><br><br>countryName=France<br>slopeData=%{x}<br>varianceVal=%{y}<br>lastValue=%{marker.size}",
         "hovertext": [
          "France"
         ],
         "legendgroup": "France",
         "marker": {
          "color": "#FF6692",
          "size": [
           40174
          ],
          "sizemode": "area",
          "sizeref": 39.135,
          "symbol": "circle"
         },
         "mode": "markers",
         "name": "France",
         "showlegend": true,
         "type": "scatter",
         "x": [
          196.43077990711578
         ],
         "xaxis": "x",
         "y": [
          0.05669176956154041
         ],
         "yaxis": "y"
        },
        {
         "hoverlabel": {
          "namelength": 0
         },
         "hovertemplate": "<b>%{hovertext}</b><br><br>countryName=Gabon<br>slopeData=%{x}<br>varianceVal=%{y}<br>lastValue=%{marker.size}",
         "hovertext": [
          "Gabon"
         ],
         "legendgroup": "Gabon",
         "marker": {
          "color": "#B6E880",
          "size": [
           7
          ],
          "sizemode": "area",
          "sizeref": 39.135,
          "symbol": "circle"
         },
         "mode": "markers",
         "name": "Gabon",
         "showlegend": true,
         "type": "scatter",
         "x": [
          0.5241935483870968
         ],
         "xaxis": "x",
         "y": [
          0.17523871527777773
         ],
         "yaxis": "y"
        },
        {
         "hoverlabel": {
          "namelength": 0
         },
         "hovertemplate": "<b>%{hovertext}</b><br><br>countryName=Gambia<br>slopeData=%{x}<br>varianceVal=%{y}<br>lastValue=%{marker.size}",
         "hovertext": [
          "Gambia"
         ],
         "legendgroup": "Gambia",
         "marker": {
          "color": "#FF97FF",
          "size": [
           4
          ],
          "sizemode": "area",
          "sizeref": 39.135,
          "symbol": "circle"
         },
         "mode": "markers",
         "name": "Gambia",
         "showlegend": true,
         "type": "scatter",
         "x": [
          0.32307692307692315
         ],
         "xaxis": "x",
         "y": [
          0.12754766600920447
         ],
         "yaxis": "y"
        },
        {
         "hoverlabel": {
          "namelength": 0
         },
         "hovertemplate": "<b>%{hovertext}</b><br><br>countryName=Georgia<br>slopeData=%{x}<br>varianceVal=%{y}<br>lastValue=%{marker.size}",
         "hovertext": [
          "Georgia"
         ],
         "legendgroup": "Georgia",
         "marker": {
          "color": "#FECB52",
          "size": [
           91
          ],
          "sizemode": "area",
          "sizeref": 39.135,
          "symbol": "circle"
         },
         "mode": "markers",
         "name": "Georgia",
         "showlegend": true,
         "type": "scatter",
         "x": [
          2.2252622377622377
         ],
         "xaxis": "x",
         "y": [
          0.10275550113933954
         ],
         "yaxis": "y"
        },
        {
         "hoverlabel": {
          "namelength": 0
         },
         "hovertemplate": "<b>%{hovertext}</b><br><br>countryName=Germany<br>slopeData=%{x}<br>varianceVal=%{y}<br>lastValue=%{marker.size}",
         "hovertext": [
          "Germany"
         ],
         "legendgroup": "Germany",
         "marker": {
          "color": "#636efa",
          "size": [
           62095
          ],
          "sizemode": "area",
          "sizeref": 39.135,
          "symbol": "circle"
         },
         "mode": "markers",
         "name": "Germany",
         "showlegend": true,
         "type": "scatter",
         "x": [
          315.34037480798776
         ],
         "xaxis": "x",
         "y": [
          0.057332369756652075
         ],
         "yaxis": "y"
        },
        {
         "hoverlabel": {
          "namelength": 0
         },
         "hovertemplate": "<b>%{hovertext}</b><br><br>countryName=Ghana<br>slopeData=%{x}<br>varianceVal=%{y}<br>lastValue=%{marker.size}",
         "hovertext": [
          "Ghana"
         ],
         "legendgroup": "Ghana",
         "marker": {
          "color": "#EF553B",
          "size": [
           152
          ],
          "sizemode": "area",
          "sizeref": 39.135,
          "symbol": "circle"
         },
         "mode": "markers",
         "name": "Ghana",
         "showlegend": true,
         "type": "scatter",
         "x": [
          8.024193548387096
         ],
         "xaxis": "x",
         "y": [
          0.13919118930453583
         ],
         "yaxis": "y"
        },
        {
         "hoverlabel": {
          "namelength": 0
         },
         "hovertemplate": "<b>%{hovertext}</b><br><br>countryName=Greece<br>slopeData=%{x}<br>varianceVal=%{y}<br>lastValue=%{marker.size}",
         "hovertext": [
          "Greece"
         ],
         "legendgroup": "Greece",
         "marker": {
          "color": "#00cc96",
          "size": [
           1156
          ],
          "sizemode": "area",
          "sizeref": 39.135,
          "symbol": "circle"
         },
         "mode": "markers",
         "name": "Greece",
         "showlegend": true,
         "type": "scatter",
         "x": [
          24.25201048951049
         ],
         "xaxis": "x",
         "y": [
          0.09259259293676665
         ],
         "yaxis": "y"
        },
        {
         "hoverlabel": {
          "namelength": 0
         },
         "hovertemplate": "<b>%{hovertext}</b><br><br>countryName=Guatemala<br>slopeData=%{x}<br>varianceVal=%{y}<br>lastValue=%{marker.size}",
         "hovertext": [
          "Guatemala"
         ],
         "legendgroup": "Guatemala",
         "marker": {
          "color": "#ab63fa",
          "size": [
           34
          ],
          "sizemode": "area",
          "sizeref": 39.135,
          "symbol": "circle"
         },
         "mode": "markers",
         "name": "Guatemala",
         "showlegend": true,
         "type": "scatter",
         "x": [
          2.208870967741935
         ],
         "xaxis": "x",
         "y": [
          0.10895532024793389
         ],
         "yaxis": "y"
        },
        {
         "hoverlabel": {
          "namelength": 0
         },
         "hovertemplate": "<b>%{hovertext}</b><br><br>countryName=Guinea<br>slopeData=%{x}<br>varianceVal=%{y}<br>lastValue=%{marker.size}",
         "hovertext": [
          "Guinea"
         ],
         "legendgroup": "Guinea",
         "marker": {
          "color": "#FFA15A",
          "size": [
           16
          ],
          "sizemode": "area",
          "sizeref": 39.135,
          "symbol": "circle"
         },
         "mode": "markers",
         "name": "Guinea",
         "showlegend": true,
         "type": "scatter",
         "x": [
          0.4906417112299464
         ],
         "xaxis": "x",
         "y": [
          0.06594386774317569
         ],
         "yaxis": "y"
        },
        {
         "hoverlabel": {
          "namelength": 0
         },
         "hovertemplate": "<b>%{hovertext}</b><br><br>countryName=Guyana<br>slopeData=%{x}<br>varianceVal=%{y}<br>lastValue=%{marker.size}",
         "hovertext": [
          "Guyana"
         ],
         "legendgroup": "Guyana",
         "marker": {
          "color": "#19d3f3",
          "size": [
           8
          ],
          "sizemode": "area",
          "sizeref": 39.135,
          "symbol": "circle"
         },
         "mode": "markers",
         "name": "Guyana",
         "showlegend": true,
         "type": "scatter",
         "x": [
          0.6834733893557422
         ],
         "xaxis": "x",
         "y": [
          0.07011559112205465
         ],
         "yaxis": "y"
        },
        {
         "hoverlabel": {
          "namelength": 0
         },
         "hovertemplate": "<b>%{hovertext}</b><br><br>countryName=Haiti<br>slopeData=%{x}<br>varianceVal=%{y}<br>lastValue=%{marker.size}",
         "hovertext": [
          "Haiti"
         ],
         "legendgroup": "Haiti",
         "marker": {
          "color": "#FF6692",
          "size": [
           15
          ],
          "sizemode": "area",
          "sizeref": 39.135,
          "symbol": "circle"
         },
         "mode": "markers",
         "name": "Haiti",
         "showlegend": true,
         "type": "scatter",
         "x": [
          1.3859649122807018
         ],
         "xaxis": "x",
         "y": [
          0.0842603550295858
         ],
         "yaxis": "y"
        },
        {
         "hoverlabel": {
          "namelength": 0
         },
         "hovertemplate": "<b>%{hovertext}</b><br><br>countryName=Holy See<br>slopeData=%{x}<br>varianceVal=%{y}<br>lastValue=%{marker.size}",
         "hovertext": [
          "Holy See"
         ],
         "legendgroup": "Holy See",
         "marker": {
          "color": "#B6E880",
          "size": [
           6
          ],
          "sizemode": "area",
          "sizeref": 39.135,
          "symbol": "circle"
         },
         "mode": "markers",
         "name": "Holy See",
         "showlegend": true,
         "type": "scatter",
         "x": [
          0.16998149861239595
         ],
         "xaxis": "x",
         "y": [
          0.10972222222222228
         ],
         "yaxis": "y"
        },
        {
         "hoverlabel": {
          "namelength": 0
         },
         "hovertemplate": "<b>%{hovertext}</b><br><br>countryName=Honduras<br>slopeData=%{x}<br>varianceVal=%{y}<br>lastValue=%{marker.size}",
         "hovertext": [
          "Honduras"
         ],
         "legendgroup": "Honduras",
         "marker": {
          "color": "#FF97FF",
          "size": [
           110
          ],
          "sizemode": "area",
          "sizeref": 39.135,
          "symbol": "circle"
         },
         "mode": "markers",
         "name": "Honduras",
         "showlegend": true,
         "type": "scatter",
         "x": [
          3.66050260787103
         ],
         "xaxis": "x",
         "y": [
          0.08267786099426604
         ],
         "yaxis": "y"
        },
        {
         "hoverlabel": {
          "namelength": 0
         },
         "hovertemplate": "<b>%{hovertext}</b><br><br>countryName=Hungary<br>slopeData=%{x}<br>varianceVal=%{y}<br>lastValue=%{marker.size}",
         "hovertext": [
          "Hungary"
         ],
         "legendgroup": "Hungary",
         "marker": {
          "color": "#FECB52",
          "size": [
           408
          ],
          "sizemode": "area",
          "sizeref": 39.135,
          "symbol": "circle"
         },
         "mode": "markers",
         "name": "Hungary",
         "showlegend": true,
         "type": "scatter",
         "x": [
          9.482352941176472
         ],
         "xaxis": "x",
         "y": [
          0.08215880808768006
         ],
         "yaxis": "y"
        },
        {
         "hoverlabel": {
          "namelength": 0
         },
         "hovertemplate": "<b>%{hovertext}</b><br><br>countryName=Iceland<br>slopeData=%{x}<br>varianceVal=%{y}<br>lastValue=%{marker.size}",
         "hovertext": [
          "Iceland"
         ],
         "legendgroup": "Iceland",
         "marker": {
          "color": "#636efa",
          "size": [
           1020
          ],
          "sizemode": "area",
          "sizeref": 39.135,
          "symbol": "circle"
         },
         "mode": "markers",
         "name": "Iceland",
         "showlegend": true,
         "type": "scatter",
         "x": [
          22.972818614489682
         ],
         "xaxis": "x",
         "y": [
          0.09708505826912416
         ],
         "yaxis": "y"
        },
        {
         "hoverlabel": {
          "namelength": 0
         },
         "hovertemplate": "<b>%{hovertext}</b><br><br>countryName=India<br>slopeData=%{x}<br>varianceVal=%{y}<br>lastValue=%{marker.size}",
         "hovertext": [
          "India"
         ],
         "legendgroup": "India",
         "marker": {
          "color": "#EF553B",
          "size": [
           1024
          ],
          "sizemode": "area",
          "sizeref": 39.135,
          "symbol": "circle"
         },
         "mode": "markers",
         "name": "India",
         "showlegend": true,
         "type": "scatter",
         "x": [
          5.832630679390399
         ],
         "xaxis": "x",
         "y": [
          0.06038409404379196
         ],
         "yaxis": "y"
        },
        {
         "hoverlabel": {
          "namelength": 0
         },
         "hovertemplate": "<b>%{hovertext}</b><br><br>countryName=Indonesia<br>slopeData=%{x}<br>varianceVal=%{y}<br>lastValue=%{marker.size}",
         "hovertext": [
          "Indonesia"
         ],
         "legendgroup": "Indonesia",
         "marker": {
          "color": "#00cc96",
          "size": [
           1285
          ],
          "sizemode": "area",
          "sizeref": 39.135,
          "symbol": "circle"
         },
         "mode": "markers",
         "name": "Indonesia",
         "showlegend": true,
         "type": "scatter",
         "x": [
          29.016738816738822
         ],
         "xaxis": "x",
         "y": [
          0.09166795104477761
         ],
         "yaxis": "y"
        },
        {
         "hoverlabel": {
          "namelength": 0
         },
         "hovertemplate": "<b>%{hovertext}</b><br><br>countryName=Iran<br>slopeData=%{x}<br>varianceVal=%{y}<br>lastValue=%{marker.size}",
         "hovertext": [
          "Iran"
         ],
         "legendgroup": "Iran",
         "marker": {
          "color": "#ab63fa",
          "size": [
           38309
          ],
          "sizemode": "area",
          "sizeref": 39.135,
          "symbol": "circle"
         },
         "mode": "markers",
         "name": "Iran",
         "showlegend": true,
         "type": "scatter",
         "x": [
          656.9324732229795
         ],
         "xaxis": "x",
         "y": [
          0.0844117041482744
         ],
         "yaxis": "y"
        },
        {
         "hoverlabel": {
          "namelength": 0
         },
         "hovertemplate": "<b>%{hovertext}</b><br><br>countryName=Iraq<br>slopeData=%{x}<br>varianceVal=%{y}<br>lastValue=%{marker.size}",
         "hovertext": [
          "Iraq"
         ],
         "legendgroup": "Iraq",
         "marker": {
          "color": "#FFA15A",
          "size": [
           547
          ],
          "sizemode": "area",
          "sizeref": 39.135,
          "symbol": "circle"
         },
         "mode": "markers",
         "name": "Iraq",
         "showlegend": true,
         "type": "scatter",
         "x": [
          9.784362440628428
         ],
         "xaxis": "x",
         "y": [
          0.07548953003090703
         ],
         "yaxis": "y"
        },
        {
         "hoverlabel": {
          "namelength": 0
         },
         "hovertemplate": "<b>%{hovertext}</b><br><br>countryName=Ireland<br>slopeData=%{x}<br>varianceVal=%{y}<br>lastValue=%{marker.size}",
         "hovertext": [
          "Ireland"
         ],
         "legendgroup": "Ireland",
         "marker": {
          "color": "#19d3f3",
          "size": [
           2615
          ],
          "sizemode": "area",
          "sizeref": 39.135,
          "symbol": "circle"
         },
         "mode": "markers",
         "name": "Ireland",
         "showlegend": true,
         "type": "scatter",
         "x": [
          49.582232612507305
         ],
         "xaxis": "x",
         "y": [
          0.09054513065067732
         ],
         "yaxis": "y"
        },
        {
         "hoverlabel": {
          "namelength": 0
         },
         "hovertemplate": "<b>%{hovertext}</b><br><br>countryName=Israel<br>slopeData=%{x}<br>varianceVal=%{y}<br>lastValue=%{marker.size}",
         "hovertext": [
          "Israel"
         ],
         "legendgroup": "Israel",
         "marker": {
          "color": "#FF6692",
          "size": [
           4247
          ],
          "sizemode": "area",
          "sizeref": 39.135,
          "symbol": "circle"
         },
         "mode": "markers",
         "name": "Israel",
         "showlegend": true,
         "type": "scatter",
         "x": [
          42.613655761024205
         ],
         "xaxis": "x",
         "y": [
          0.06492528292830993
         ],
         "yaxis": "y"
        },
        {
         "hoverlabel": {
          "namelength": 0
         },
         "hovertemplate": "<b>%{hovertext}</b><br><br>countryName=Italy<br>slopeData=%{x}<br>varianceVal=%{y}<br>lastValue=%{marker.size}",
         "hovertext": [
          "Italy"
         ],
         "legendgroup": "Italy",
         "marker": {
          "color": "#B6E880",
          "size": [
           97689
          ],
          "sizemode": "area",
          "sizeref": 39.135,
          "symbol": "circle"
         },
         "mode": "markers",
         "name": "Italy",
         "showlegend": true,
         "type": "scatter",
         "x": [
          768.0430097858501
         ],
         "xaxis": "x",
         "y": [
          0.0794646617784376
         ],
         "yaxis": "y"
        },
        {
         "hoverlabel": {
          "namelength": 0
         },
         "hovertemplate": "<b>%{hovertext}</b><br><br>countryName=Jamaica<br>slopeData=%{x}<br>varianceVal=%{y}<br>lastValue=%{marker.size}",
         "hovertext": [
          "Jamaica"
         ],
         "legendgroup": "Jamaica",
         "marker": {
          "color": "#FF97FF",
          "size": [
           32
          ],
          "sizemode": "area",
          "sizeref": 39.135,
          "symbol": "circle"
         },
         "mode": "markers",
         "name": "Jamaica",
         "showlegend": true,
         "type": "scatter",
         "x": [
          1.7472735893788531
         ],
         "xaxis": "x",
         "y": [
          0.07887098215443862
         ],
         "yaxis": "y"
        },
        {
         "hoverlabel": {
          "namelength": 0
         },
         "hovertemplate": "<b>%{hovertext}</b><br><br>countryName=Japan<br>slopeData=%{x}<br>varianceVal=%{y}<br>lastValue=%{marker.size}",
         "hovertext": [
          "Japan"
         ],
         "legendgroup": "Japan",
         "marker": {
          "color": "#FECB52",
          "size": [
           1866
          ],
          "sizemode": "area",
          "sizeref": 39.135,
          "symbol": "circle"
         },
         "mode": "markers",
         "name": "Japan",
         "showlegend": true,
         "type": "scatter",
         "x": [
          14.200302409521026
         ],
         "xaxis": "x",
         "y": [
          0.06490921022969327
         ],
         "yaxis": "y"
        },
        {
         "hoverlabel": {
          "namelength": 0
         },
         "hovertemplate": "<b>%{hovertext}</b><br><br>countryName=Jordan<br>slopeData=%{x}<br>varianceVal=%{y}<br>lastValue=%{marker.size}",
         "hovertext": [
          "Jordan"
         ],
         "legendgroup": "Jordan",
         "marker": {
          "color": "#636efa",
          "size": [
           259
          ],
          "sizemode": "area",
          "sizeref": 39.135,
          "symbol": "circle"
         },
         "mode": "markers",
         "name": "Jordan",
         "showlegend": true,
         "type": "scatter",
         "x": [
          6.580228995323336
         ],
         "xaxis": "x",
         "y": [
          0.11262372860789978
         ],
         "yaxis": "y"
        },
        {
         "hoverlabel": {
          "namelength": 0
         },
         "hovertemplate": "<b>%{hovertext}</b><br><br>countryName=Kazakhstan<br>slopeData=%{x}<br>varianceVal=%{y}<br>lastValue=%{marker.size}",
         "hovertext": [
          "Kazakhstan"
         ],
         "legendgroup": "Kazakhstan",
         "marker": {
          "color": "#EF553B",
          "size": [
           284
          ],
          "sizemode": "area",
          "sizeref": 39.135,
          "symbol": "circle"
         },
         "mode": "markers",
         "name": "Kazakhstan",
         "showlegend": true,
         "type": "scatter",
         "x": [
          10.576871657754008
         ],
         "xaxis": "x",
         "y": [
          0.07375670856577925
         ],
         "yaxis": "y"
        },
        {
         "hoverlabel": {
          "namelength": 0
         },
         "hovertemplate": "<b>%{hovertext}</b><br><br>countryName=Kenya<br>slopeData=%{x}<br>varianceVal=%{y}<br>lastValue=%{marker.size}",
         "hovertext": [
          "Kenya"
         ],
         "legendgroup": "Kenya",
         "marker": {
          "color": "#00cc96",
          "size": [
           42
          ],
          "sizemode": "area",
          "sizeref": 39.135,
          "symbol": "circle"
         },
         "mode": "markers",
         "name": "Kenya",
         "showlegend": true,
         "type": "scatter",
         "x": [
          2.1223262032085555
         ],
         "xaxis": "x",
         "y": [
          0.11190406106103429
         ],
         "yaxis": "y"
        },
        {
         "hoverlabel": {
          "namelength": 0
         },
         "hovertemplate": "<b>%{hovertext}</b><br><br>countryName=Korea, South<br>slopeData=%{x}<br>varianceVal=%{y}<br>lastValue=%{marker.size}",
         "hovertext": [
          "Korea, South"
         ],
         "legendgroup": "Korea, South",
         "marker": {
          "color": "#ab63fa",
          "size": [
           9583
          ],
          "sizemode": "area",
          "sizeref": 39.135,
          "symbol": "circle"
         },
         "mode": "markers",
         "name": "Korea, South",
         "showlegend": true,
         "type": "scatter",
         "x": [
          124.01635937957273
         ],
         "xaxis": "x",
         "y": [
          0.16180519660198303
         ],
         "yaxis": "y"
        },
        {
         "hoverlabel": {
          "namelength": 0
         },
         "hovertemplate": "<b>%{hovertext}</b><br><br>countryName=Kuwait<br>slopeData=%{x}<br>varianceVal=%{y}<br>lastValue=%{marker.size}",
         "hovertext": [
          "Kuwait"
         ],
         "legendgroup": "Kuwait",
         "marker": {
          "color": "#FFA15A",
          "size": [
           255
          ],
          "sizemode": "area",
          "sizeref": 39.135,
          "symbol": "circle"
         },
         "mode": "markers",
         "name": "Kuwait",
         "showlegend": true,
         "type": "scatter",
         "x": [
          6.410960906101573
         ],
         "xaxis": "x",
         "y": [
          0.07389402533907108
         ],
         "yaxis": "y"
        },
        {
         "hoverlabel": {
          "namelength": 0
         },
         "hovertemplate": "<b>%{hovertext}</b><br><br>countryName=Kyrgyzstan<br>slopeData=%{x}<br>varianceVal=%{y}<br>lastValue=%{marker.size}",
         "hovertext": [
          "Kyrgyzstan"
         ],
         "legendgroup": "Kyrgyzstan",
         "marker": {
          "color": "#19d3f3",
          "size": [
           84
          ],
          "sizemode": "area",
          "sizeref": 39.135,
          "symbol": "circle"
         },
         "mode": "markers",
         "name": "Kyrgyzstan",
         "showlegend": true,
         "type": "scatter",
         "x": [
          6.187747035573124
         ],
         "xaxis": "x",
         "y": [
          0.09787210621687074
         ],
         "yaxis": "y"
        },
        {
         "hoverlabel": {
          "namelength": 0
         },
         "hovertemplate": "<b>%{hovertext}</b><br><br>countryName=Latvia<br>slopeData=%{x}<br>varianceVal=%{y}<br>lastValue=%{marker.size}",
         "hovertext": [
          "Latvia"
         ],
         "legendgroup": "Latvia",
         "marker": {
          "color": "#FF6692",
          "size": [
           347
          ],
          "sizemode": "area",
          "sizeref": 39.135,
          "symbol": "circle"
         },
         "mode": "markers",
         "name": "Latvia",
         "showlegend": true,
         "type": "scatter",
         "x": [
          8.00966810966811
         ],
         "xaxis": "x",
         "y": [
          0.09333299480539316
         ],
         "yaxis": "y"
        },
        {
         "hoverlabel": {
          "namelength": 0
         },
         "hovertemplate": "<b>%{hovertext}</b><br><br>countryName=Lebanon<br>slopeData=%{x}<br>varianceVal=%{y}<br>lastValue=%{marker.size}",
         "hovertext": [
          "Lebanon"
         ],
         "legendgroup": "Lebanon",
         "marker": {
          "color": "#B6E880",
          "size": [
           438
          ],
          "sizemode": "area",
          "sizeref": 39.135,
          "symbol": "circle"
         },
         "mode": "markers",
         "name": "Lebanon",
         "showlegend": true,
         "type": "scatter",
         "x": [
          7.354196301564724
         ],
         "xaxis": "x",
         "y": [
          0.09420452557389593
         ],
         "yaxis": "y"
        },
        {
         "hoverlabel": {
          "namelength": 0
         },
         "hovertemplate": "<b>%{hovertext}</b><br><br>countryName=Liberia<br>slopeData=%{x}<br>varianceVal=%{y}<br>lastValue=%{marker.size}",
         "hovertext": [
          "Liberia"
         ],
         "legendgroup": "Liberia",
         "marker": {
          "color": "#FF97FF",
          "size": [
           3
          ],
          "sizemode": "area",
          "sizeref": 39.135,
          "symbol": "circle"
         },
         "mode": "markers",
         "name": "Liberia",
         "showlegend": true,
         "type": "scatter",
         "x": [
          0.3199023199023199
         ],
         "xaxis": "x",
         "y": [
          0.13392857142857142
         ],
         "yaxis": "y"
        },
        {
         "hoverlabel": {
          "namelength": 0
         },
         "hovertemplate": "<b>%{hovertext}</b><br><br>countryName=Liechtenstein<br>slopeData=%{x}<br>varianceVal=%{y}<br>lastValue=%{marker.size}",
         "hovertext": [
          "Liechtenstein"
         ],
         "legendgroup": "Liechtenstein",
         "marker": {
          "color": "#FECB52",
          "size": [
           56
          ],
          "sizemode": "area",
          "sizeref": 39.135,
          "symbol": "circle"
         },
         "mode": "markers",
         "name": "Liechtenstein",
         "showlegend": true,
         "type": "scatter",
         "x": [
          2.0175565610859727
         ],
         "xaxis": "x",
         "y": [
          0.16922490097315274
         ],
         "yaxis": "y"
        },
        {
         "hoverlabel": {
          "namelength": 0
         },
         "hovertemplate": "<b>%{hovertext}</b><br><br>countryName=Lithuania<br>slopeData=%{x}<br>varianceVal=%{y}<br>lastValue=%{marker.size}",
         "hovertext": [
          "Lithuania"
         ],
         "legendgroup": "Lithuania",
         "marker": {
          "color": "#636efa",
          "size": [
           460
          ],
          "sizemode": "area",
          "sizeref": 39.135,
          "symbol": "circle"
         },
         "mode": "markers",
         "name": "Lithuania",
         "showlegend": true,
         "type": "scatter",
         "x": [
          7.257641459545214
         ],
         "xaxis": "x",
         "y": [
          0.08430256649363925
         ],
         "yaxis": "y"
        },
        {
         "hoverlabel": {
          "namelength": 0
         },
         "hovertemplate": "<b>%{hovertext}</b><br><br>countryName=Luxembourg<br>slopeData=%{x}<br>varianceVal=%{y}<br>lastValue=%{marker.size}",
         "hovertext": [
          "Luxembourg"
         ],
         "legendgroup": "Luxembourg",
         "marker": {
          "color": "#EF553B",
          "size": [
           1950
          ],
          "sizemode": "area",
          "sizeref": 39.135,
          "symbol": "circle"
         },
         "mode": "markers",
         "name": "Luxembourg",
         "showlegend": true,
         "type": "scatter",
         "x": [
          38.12764465225015
         ],
         "xaxis": "x",
         "y": [
          0.10027996096457616
         ],
         "yaxis": "y"
        },
        {
         "hoverlabel": {
          "namelength": 0
         },
         "hovertemplate": "<b>%{hovertext}</b><br><br>countryName=Madagascar<br>slopeData=%{x}<br>varianceVal=%{y}<br>lastValue=%{marker.size}",
         "hovertext": [
          "Madagascar"
         ],
         "legendgroup": "Madagascar",
         "marker": {
          "color": "#00cc96",
          "size": [
           39
          ],
          "sizemode": "area",
          "sizeref": 39.135,
          "symbol": "circle"
         },
         "mode": "markers",
         "name": "Madagascar",
         "showlegend": true,
         "type": "scatter",
         "x": [
          3.8140350877192986
         ],
         "xaxis": "x",
         "y": [
          0.10022376543209872
         ],
         "yaxis": "y"
        },
        {
         "hoverlabel": {
          "namelength": 0
         },
         "hovertemplate": "<b>%{hovertext}</b><br><br>countryName=Malaysia<br>slopeData=%{x}<br>varianceVal=%{y}<br>lastValue=%{marker.size}",
         "hovertext": [
          "Malaysia"
         ],
         "legendgroup": "Malaysia",
         "marker": {
          "color": "#ab63fa",
          "size": [
           2470
          ],
          "sizemode": "area",
          "sizeref": 39.135,
          "symbol": "circle"
         },
         "mode": "markers",
         "name": "Malaysia",
         "showlegend": true,
         "type": "scatter",
         "x": [
          14.581093470483008
         ],
         "xaxis": "x",
         "y": [
          0.06878483741642027
         ],
         "yaxis": "y"
        },
        {
         "hoverlabel": {
          "namelength": 0
         },
         "hovertemplate": "<b>%{hovertext}</b><br><br>countryName=Maldives<br>slopeData=%{x}<br>varianceVal=%{y}<br>lastValue=%{marker.size}",
         "hovertext": [
          "Maldives"
         ],
         "legendgroup": "Maldives",
         "marker": {
          "color": "#FFA15A",
          "size": [
           17
          ],
          "sizemode": "area",
          "sizeref": 39.135,
          "symbol": "circle"
         },
         "mode": "markers",
         "name": "Maldives",
         "showlegend": true,
         "type": "scatter",
         "x": [
          0.9386892177589848
         ],
         "xaxis": "x",
         "y": [
          0.07354882879358403
         ],
         "yaxis": "y"
        },
        {
         "hoverlabel": {
          "namelength": 0
         },
         "hovertemplate": "<b>%{hovertext}</b><br><br>countryName=Malta<br>slopeData=%{x}<br>varianceVal=%{y}<br>lastValue=%{marker.size}",
         "hovertext": [
          "Malta"
         ],
         "legendgroup": "Malta",
         "marker": {
          "color": "#19d3f3",
          "size": [
           151
          ],
          "sizemode": "area",
          "sizeref": 39.135,
          "symbol": "circle"
         },
         "mode": "markers",
         "name": "Malta",
         "showlegend": true,
         "type": "scatter",
         "x": [
          6.069301712779975
         ],
         "xaxis": "x",
         "y": [
          0.12819541812286922
         ],
         "yaxis": "y"
        },
        {
         "hoverlabel": {
          "namelength": 0
         },
         "hovertemplate": "<b>%{hovertext}</b><br><br>countryName=Mauritania<br>slopeData=%{x}<br>varianceVal=%{y}<br>lastValue=%{marker.size}",
         "hovertext": [
          "Mauritania"
         ],
         "legendgroup": "Mauritania",
         "marker": {
          "color": "#FF6692",
          "size": [
           5
          ],
          "sizemode": "area",
          "sizeref": 39.135,
          "symbol": "circle"
         },
         "mode": "markers",
         "name": "Mauritania",
         "showlegend": true,
         "type": "scatter",
         "x": [
          0.27580645161290324
         ],
         "xaxis": "x",
         "y": [
          0.095458984375
         ],
         "yaxis": "y"
        },
        {
         "hoverlabel": {
          "namelength": 0
         },
         "hovertemplate": "<b>%{hovertext}</b><br><br>countryName=Mauritius<br>slopeData=%{x}<br>varianceVal=%{y}<br>lastValue=%{marker.size}",
         "hovertext": [
          "Mauritius"
         ],
         "legendgroup": "Mauritius",
         "marker": {
          "color": "#B6E880",
          "size": [
           107
          ],
          "sizemode": "area",
          "sizeref": 39.135,
          "symbol": "circle"
         },
         "mode": "markers",
         "name": "Mauritius",
         "showlegend": true,
         "type": "scatter",
         "x": [
          9.169960474308304
         ],
         "xaxis": "x",
         "y": [
          0.12852101824457596
         ],
         "yaxis": "y"
        },
        {
         "hoverlabel": {
          "namelength": 0
         },
         "hovertemplate": "<b>%{hovertext}</b><br><br>countryName=Mexico<br>slopeData=%{x}<br>varianceVal=%{y}<br>lastValue=%{marker.size}",
         "hovertext": [
          "Mexico"
         ],
         "legendgroup": "Mexico",
         "marker": {
          "color": "#FF97FF",
          "size": [
           848
          ],
          "sizemode": "area",
          "sizeref": 39.135,
          "symbol": "circle"
         },
         "mode": "markers",
         "name": "Mexico",
         "showlegend": true,
         "type": "scatter",
         "x": [
          13.197673188788999
         ],
         "xaxis": "x",
         "y": [
          0.07241753397957854
         ],
         "yaxis": "y"
        },
        {
         "hoverlabel": {
          "namelength": 0
         },
         "hovertemplate": "<b>%{hovertext}</b><br><br>countryName=Moldova<br>slopeData=%{x}<br>varianceVal=%{y}<br>lastValue=%{marker.size}",
         "hovertext": [
          "Moldova"
         ],
         "legendgroup": "Moldova",
         "marker": {
          "color": "#FECB52",
          "size": [
           263
          ],
          "sizemode": "area",
          "sizeref": 39.135,
          "symbol": "circle"
         },
         "mode": "markers",
         "name": "Moldova",
         "showlegend": true,
         "type": "scatter",
         "x": [
          8.45967985502869
         ],
         "xaxis": "x",
         "y": [
          0.09296572542681586
         ],
         "yaxis": "y"
        },
        {
         "hoverlabel": {
          "namelength": 0
         },
         "hovertemplate": "<b>%{hovertext}</b><br><br>countryName=Monaco<br>slopeData=%{x}<br>varianceVal=%{y}<br>lastValue=%{marker.size}",
         "hovertext": [
          "Monaco"
         ],
         "legendgroup": "Monaco",
         "marker": {
          "color": "#636efa",
          "size": [
           46
          ],
          "sizemode": "area",
          "sizeref": 39.135,
          "symbol": "circle"
         },
         "mode": "markers",
         "name": "Monaco",
         "showlegend": true,
         "type": "scatter",
         "x": [
          0.9326709526592637
         ],
         "xaxis": "x",
         "y": [
          0.09960000000000001
         ],
         "yaxis": "y"
        },
        {
         "hoverlabel": {
          "namelength": 0
         },
         "hovertemplate": "<b>%{hovertext}</b><br><br>countryName=Mongolia<br>slopeData=%{x}<br>varianceVal=%{y}<br>lastValue=%{marker.size}",
         "hovertext": [
          "Mongolia"
         ],
         "legendgroup": "Mongolia",
         "marker": {
          "color": "#EF553B",
          "size": [
           12
          ],
          "sizemode": "area",
          "sizeref": 39.135,
          "symbol": "circle"
         },
         "mode": "markers",
         "name": "Mongolia",
         "showlegend": true,
         "type": "scatter",
         "x": [
          0.6781376518218623
         ],
         "xaxis": "x",
         "y": [
          0.15545454545454546
         ],
         "yaxis": "y"
        },
        {
         "hoverlabel": {
          "namelength": 0
         },
         "hovertemplate": "<b>%{hovertext}</b><br><br>countryName=Montenegro<br>slopeData=%{x}<br>varianceVal=%{y}<br>lastValue=%{marker.size}",
         "hovertext": [
          "Montenegro"
         ],
         "legendgroup": "Montenegro",
         "marker": {
          "color": "#00cc96",
          "size": [
           85
          ],
          "sizemode": "area",
          "sizeref": 39.135,
          "symbol": "circle"
         },
         "mode": "markers",
         "name": "Montenegro",
         "showlegend": true,
         "type": "scatter",
         "x": [
          6.9276923076923085
         ],
         "xaxis": "x",
         "y": [
          0.1437417167064208
         ],
         "yaxis": "y"
        },
        {
         "hoverlabel": {
          "namelength": 0
         },
         "hovertemplate": "<b>%{hovertext}</b><br><br>countryName=Morocco<br>slopeData=%{x}<br>varianceVal=%{y}<br>lastValue=%{marker.size}",
         "hovertext": [
          "Morocco"
         ],
         "legendgroup": "Morocco",
         "marker": {
          "color": "#ab63fa",
          "size": [
           479
          ],
          "sizemode": "area",
          "sizeref": 39.135,
          "symbol": "circle"
         },
         "mode": "markers",
         "name": "Morocco",
         "showlegend": true,
         "type": "scatter",
         "x": [
          8.614141414141415
         ],
         "xaxis": "x",
         "y": [
          0.07585059209254684
         ],
         "yaxis": "y"
        },
        {
         "hoverlabel": {
          "namelength": 0
         },
         "hovertemplate": "<b>%{hovertext}</b><br><br>countryName=Namibia<br>slopeData=%{x}<br>varianceVal=%{y}<br>lastValue=%{marker.size}",
         "hovertext": [
          "Namibia"
         ],
         "legendgroup": "Namibia",
         "marker": {
          "color": "#FFA15A",
          "size": [
           11
          ],
          "sizemode": "area",
          "sizeref": 39.135,
          "symbol": "circle"
         },
         "mode": "markers",
         "name": "Namibia",
         "showlegend": true,
         "type": "scatter",
         "x": [
          0.6112903225806452
         ],
         "xaxis": "x",
         "y": [
          0.10141782407407404
         ],
         "yaxis": "y"
        },
        {
         "hoverlabel": {
          "namelength": 0
         },
         "hovertemplate": "<b>%{hovertext}</b><br><br>countryName=Nepal<br>slopeData=%{x}<br>varianceVal=%{y}<br>lastValue=%{marker.size}",
         "hovertext": [
          "Nepal"
         ],
         "legendgroup": "Nepal",
         "marker": {
          "color": "#19d3f3",
          "size": [
           5
          ],
          "sizemode": "area",
          "sizeref": 39.135,
          "symbol": "circle"
         },
         "mode": "markers",
         "name": "Nepal",
         "showlegend": true,
         "type": "scatter",
         "x": [
          0.03502906976744186
         ],
         "xaxis": "x",
         "y": [
          0.04476331360946746
         ],
         "yaxis": "y"
        },
        {
         "hoverlabel": {
          "namelength": 0
         },
         "hovertemplate": "<b>%{hovertext}</b><br><br>countryName=NetherlandsAruba<br>slopeData=%{x}<br>varianceVal=%{y}<br>lastValue=%{marker.size}",
         "hovertext": [
          "NetherlandsAruba"
         ],
         "legendgroup": "NetherlandsAruba",
         "marker": {
          "color": "#FF6692",
          "size": [
           50
          ],
          "sizemode": "area",
          "sizeref": 39.135,
          "symbol": "circle"
         },
         "mode": "markers",
         "name": "NetherlandsAruba",
         "showlegend": true,
         "type": "scatter",
         "x": [
          1.9826203208556148
         ],
         "xaxis": "x",
         "y": [
          0.10206110630526717
         ],
         "yaxis": "y"
        },
        {
         "hoverlabel": {
          "namelength": 0
         },
         "hovertemplate": "<b>%{hovertext}</b><br><br>countryName=NetherlandsCuracao<br>slopeData=%{x}<br>varianceVal=%{y}<br>lastValue=%{marker.size}",
         "hovertext": [
          "NetherlandsCuracao"
         ],
         "legendgroup": "NetherlandsCuracao",
         "marker": {
          "color": "#B6E880",
          "size": [
           8
          ],
          "sizemode": "area",
          "sizeref": 39.135,
          "symbol": "circle"
         },
         "mode": "markers",
         "name": "NetherlandsCuracao",
         "showlegend": true,
         "type": "scatter",
         "x": [
          0.5419354838709677
         ],
         "xaxis": "x",
         "y": [
          0.11790497448979591
         ],
         "yaxis": "y"
        },
        {
         "hoverlabel": {
          "namelength": 0
         },
         "hovertemplate": "<b>%{hovertext}</b><br><br>countryName=NetherlandsSint Maarten<br>slopeData=%{x}<br>varianceVal=%{y}<br>lastValue=%{marker.size}",
         "hovertext": [
          "NetherlandsSint Maarten"
         ],
         "legendgroup": "NetherlandsSint Maarten",
         "marker": {
          "color": "#FF97FF",
          "size": [
           6
          ],
          "sizemode": "area",
          "sizeref": 39.135,
          "symbol": "circle"
         },
         "mode": "markers",
         "name": "NetherlandsSint Maarten",
         "showlegend": true,
         "type": "scatter",
         "x": [
          0.5228070175438597
         ],
         "xaxis": "x",
         "y": [
          0.08200000000000005
         ],
         "yaxis": "y"
        },
        {
         "hoverlabel": {
          "namelength": 0
         },
         "hovertemplate": "<b>%{hovertext}</b><br><br>countryName=Netherlands<br>slopeData=%{x}<br>varianceVal=%{y}<br>lastValue=%{marker.size}",
         "hovertext": [
          "Netherlands"
         ],
         "legendgroup": "Netherlands",
         "marker": {
          "color": "#FECB52",
          "size": [
           10866
          ],
          "sizemode": "area",
          "sizeref": 39.135,
          "symbol": "circle"
         },
         "mode": "markers",
         "name": "Netherlands",
         "showlegend": true,
         "type": "scatter",
         "x": [
          191.940668202765
         ],
         "xaxis": "x",
         "y": [
          0.0819617256709996
         ],
         "yaxis": "y"
        },
        {
         "hoverlabel": {
          "namelength": 0
         },
         "hovertemplate": "<b>%{hovertext}</b><br><br>countryName=New Zealand<br>slopeData=%{x}<br>varianceVal=%{y}<br>lastValue=%{marker.size}",
         "hovertext": [
          "New Zealand"
         ],
         "legendgroup": "New Zealand",
         "marker": {
          "color": "#636efa",
          "size": [
           514
          ],
          "sizemode": "area",
          "sizeref": 39.135,
          "symbol": "circle"
         },
         "mode": "markers",
         "name": "New Zealand",
         "showlegend": true,
         "type": "scatter",
         "x": [
          6.808249603384453
         ],
         "xaxis": "x",
         "y": [
          0.07227389905290636
         ],
         "yaxis": "y"
        },
        {
         "hoverlabel": {
          "namelength": 0
         },
         "hovertemplate": "<b>%{hovertext}</b><br><br>countryName=Nicaragua<br>slopeData=%{x}<br>varianceVal=%{y}<br>lastValue=%{marker.size}",
         "hovertext": [
          "Nicaragua"
         ],
         "legendgroup": "Nicaragua",
         "marker": {
          "color": "#EF553B",
          "size": [
           4
          ],
          "sizemode": "area",
          "sizeref": 39.135,
          "symbol": "circle"
         },
         "mode": "markers",
         "name": "Nicaragua",
         "showlegend": true,
         "type": "scatter",
         "x": [
          0.3818181818181817
         ],
         "xaxis": "x",
         "y": [
          0.0973370064279155
         ],
         "yaxis": "y"
        },
        {
         "hoverlabel": {
          "namelength": 0
         },
         "hovertemplate": "<b>%{hovertext}</b><br><br>countryName=Niger<br>slopeData=%{x}<br>varianceVal=%{y}<br>lastValue=%{marker.size}",
         "hovertext": [
          "Niger"
         ],
         "legendgroup": "Niger",
         "marker": {
          "color": "#00cc96",
          "size": [
           18
          ],
          "sizemode": "area",
          "sizeref": 39.135,
          "symbol": "circle"
         },
         "mode": "markers",
         "name": "Niger",
         "showlegend": true,
         "type": "scatter",
         "x": [
          1.5192982456140351
         ],
         "xaxis": "x",
         "y": [
          0.09498269896193773
         ],
         "yaxis": "y"
        },
        {
         "hoverlabel": {
          "namelength": 0
         },
         "hovertemplate": "<b>%{hovertext}</b><br><br>countryName=Nigeria<br>slopeData=%{x}<br>varianceVal=%{y}<br>lastValue=%{marker.size}",
         "hovertext": [
          "Nigeria"
         ],
         "legendgroup": "Nigeria",
         "marker": {
          "color": "#ab63fa",
          "size": [
           111
          ],
          "sizemode": "area",
          "sizeref": 39.135,
          "symbol": "circle"
         },
         "mode": "markers",
         "name": "Nigeria",
         "showlegend": true,
         "type": "scatter",
         "x": [
          1.593336858804865
         ],
         "xaxis": "x",
         "y": [
          0.07037263181431187
         ],
         "yaxis": "y"
        },
        {
         "hoverlabel": {
          "namelength": 0
         },
         "hovertemplate": "<b>%{hovertext}</b><br><br>countryName=North Macedonia<br>slopeData=%{x}<br>varianceVal=%{y}<br>lastValue=%{marker.size}",
         "hovertext": [
          "North Macedonia"
         ],
         "legendgroup": "North Macedonia",
         "marker": {
          "color": "#FFA15A",
          "size": [
           259
          ],
          "sizemode": "area",
          "sizeref": 39.135,
          "symbol": "circle"
         },
         "mode": "markers",
         "name": "North Macedonia",
         "showlegend": true,
         "type": "scatter",
         "x": [
          4.451486013986014
         ],
         "xaxis": "x",
         "y": [
          0.09595565048963284
         ],
         "yaxis": "y"
        },
        {
         "hoverlabel": {
          "namelength": 0
         },
         "hovertemplate": "<b>%{hovertext}</b><br><br>countryName=Norway<br>slopeData=%{x}<br>varianceVal=%{y}<br>lastValue=%{marker.size}",
         "hovertext": [
          "Norway"
         ],
         "legendgroup": "Norway",
         "marker": {
          "color": "#19d3f3",
          "size": [
           4284
          ],
          "sizemode": "area",
          "sizeref": 39.135,
          "symbol": "circle"
         },
         "mode": "markers",
         "name": "Norway",
         "showlegend": true,
         "type": "scatter",
         "x": [
          93.76346153846154
         ],
         "xaxis": "x",
         "y": [
          0.09592377682844914
         ],
         "yaxis": "y"
        },
        {
         "hoverlabel": {
          "namelength": 0
         },
         "hovertemplate": "<b>%{hovertext}</b><br><br>countryName=Oman<br>slopeData=%{x}<br>varianceVal=%{y}<br>lastValue=%{marker.size}",
         "hovertext": [
          "Oman"
         ],
         "legendgroup": "Oman",
         "marker": {
          "color": "#FF6692",
          "size": [
           167
          ],
          "sizemode": "area",
          "sizeref": 39.135,
          "symbol": "circle"
         },
         "mode": "markers",
         "name": "Oman",
         "showlegend": true,
         "type": "scatter",
         "x": [
          2.626160029229083
         ],
         "xaxis": "x",
         "y": [
          0.06927288469106652
         ],
         "yaxis": "y"
        },
        {
         "hoverlabel": {
          "namelength": 0
         },
         "hovertemplate": "<b>%{hovertext}</b><br><br>countryName=Pakistan<br>slopeData=%{x}<br>varianceVal=%{y}<br>lastValue=%{marker.size}",
         "hovertext": [
          "Pakistan"
         ],
         "legendgroup": "Pakistan",
         "marker": {
          "color": "#B6E880",
          "size": [
           1597
          ],
          "sizemode": "area",
          "sizeref": 39.135,
          "symbol": "circle"
         },
         "mode": "markers",
         "name": "Pakistan",
         "showlegend": true,
         "type": "scatter",
         "x": [
          28.614860139860138
         ],
         "xaxis": "x",
         "y": [
          0.10006400690633177
         ],
         "yaxis": "y"
        },
        {
         "hoverlabel": {
          "namelength": 0
         },
         "hovertemplate": "<b>%{hovertext}</b><br><br>countryName=Panama<br>slopeData=%{x}<br>varianceVal=%{y}<br>lastValue=%{marker.size}",
         "hovertext": [
          "Panama"
         ],
         "legendgroup": "Panama",
         "marker": {
          "color": "#FF97FF",
          "size": [
           901
          ],
          "sizemode": "area",
          "sizeref": 39.135,
          "symbol": "circle"
         },
         "mode": "markers",
         "name": "Panama",
         "showlegend": true,
         "type": "scatter",
         "x": [
          31.534817813765176
         ],
         "xaxis": "x",
         "y": [
          0.09214916975308643
         ],
         "yaxis": "y"
        },
        {
         "hoverlabel": {
          "namelength": 0
         },
         "hovertemplate": "<b>%{hovertext}</b><br><br>countryName=Papua New Guinea<br>slopeData=%{x}<br>varianceVal=%{y}<br>lastValue=%{marker.size}",
         "hovertext": [
          "Papua New Guinea"
         ],
         "legendgroup": "Papua New Guinea",
         "marker": {
          "color": "#FECB52",
          "size": [
           1
          ],
          "sizemode": "area",
          "sizeref": 39.135,
          "symbol": "circle"
         },
         "mode": "markers",
         "name": "Papua New Guinea",
         "showlegend": true,
         "type": "scatter",
         "x": [
          0.15789473684210528
         ],
         "xaxis": "x",
         "y": [
          0
         ],
         "yaxis": "y"
        },
        {
         "hoverlabel": {
          "namelength": 0
         },
         "hovertemplate": "<b>%{hovertext}</b><br><br>countryName=Paraguay<br>slopeData=%{x}<br>varianceVal=%{y}<br>lastValue=%{marker.size}",
         "hovertext": [
          "Paraguay"
         ],
         "legendgroup": "Paraguay",
         "marker": {
          "color": "#636efa",
          "size": [
           59
          ],
          "sizemode": "area",
          "sizeref": 39.135,
          "symbol": "circle"
         },
         "mode": "markers",
         "name": "Paraguay",
         "showlegend": true,
         "type": "scatter",
         "x": [
          2.0223497432799755
         ],
         "xaxis": "x",
         "y": [
          0.09735372588712767
         ],
         "yaxis": "y"
        },
        {
         "hoverlabel": {
          "namelength": 0
         },
         "hovertemplate": "<b>%{hovertext}</b><br><br>countryName=Peru<br>slopeData=%{x}<br>varianceVal=%{y}<br>lastValue=%{marker.size}",
         "hovertext": [
          "Peru"
         ],
         "legendgroup": "Peru",
         "marker": {
          "color": "#EF553B",
          "size": [
           852
          ],
          "sizemode": "area",
          "sizeref": 39.135,
          "symbol": "circle"
         },
         "mode": "markers",
         "name": "Peru",
         "showlegend": true,
         "type": "scatter",
         "x": [
          24.169518963922297
         ],
         "xaxis": "x",
         "y": [
          0.087269450420379
         ],
         "yaxis": "y"
        },
        {
         "hoverlabel": {
          "namelength": 0
         },
         "hovertemplate": "<b>%{hovertext}</b><br><br>countryName=Philippines<br>slopeData=%{x}<br>varianceVal=%{y}<br>lastValue=%{marker.size}",
         "hovertext": [
          "Philippines"
         ],
         "legendgroup": "Philippines",
         "marker": {
          "color": "#00cc96",
          "size": [
           1418
          ],
          "sizemode": "area",
          "sizeref": 39.135,
          "symbol": "circle"
         },
         "mode": "markers",
         "name": "Philippines",
         "showlegend": true,
         "type": "scatter",
         "x": [
          6.068736647201252
         ],
         "xaxis": "x",
         "y": [
          0.03876201365380923
         ],
         "yaxis": "y"
        },
        {
         "hoverlabel": {
          "namelength": 0
         },
         "hovertemplate": "<b>%{hovertext}</b><br><br>countryName=Poland<br>slopeData=%{x}<br>varianceVal=%{y}<br>lastValue=%{marker.size}",
         "hovertext": [
          "Poland"
         ],
         "legendgroup": "Poland",
         "marker": {
          "color": "#ab63fa",
          "size": [
           1862
          ],
          "sizemode": "area",
          "sizeref": 39.135,
          "symbol": "circle"
         },
         "mode": "markers",
         "name": "Poland",
         "showlegend": true,
         "type": "scatter",
         "x": [
          44.20199095022625
         ],
         "xaxis": "x",
         "y": [
          0.08684458829849516
         ],
         "yaxis": "y"
        },
        {
         "hoverlabel": {
          "namelength": 0
         },
         "hovertemplate": "<b>%{hovertext}</b><br><br>countryName=Portugal<br>slopeData=%{x}<br>varianceVal=%{y}<br>lastValue=%{marker.size}",
         "hovertext": [
          "Portugal"
         ],
         "legendgroup": "Portugal",
         "marker": {
          "color": "#FFA15A",
          "size": [
           5962
          ],
          "sizemode": "area",
          "sizeref": 39.135,
          "symbol": "circle"
         },
         "mode": "markers",
         "name": "Portugal",
         "showlegend": true,
         "type": "scatter",
         "x": [
          110.574025974026
         ],
         "xaxis": "x",
         "y": [
          0.07969768293899245
         ],
         "yaxis": "y"
        },
        {
         "hoverlabel": {
          "namelength": 0
         },
         "hovertemplate": "<b>%{hovertext}</b><br><br>countryName=Qatar<br>slopeData=%{x}<br>varianceVal=%{y}<br>lastValue=%{marker.size}",
         "hovertext": [
          "Qatar"
         ],
         "legendgroup": "Qatar",
         "marker": {
          "color": "#19d3f3",
          "size": [
           634
          ],
          "sizemode": "area",
          "sizeref": 39.135,
          "symbol": "circle"
         },
         "mode": "markers",
         "name": "Qatar",
         "showlegend": true,
         "type": "scatter",
         "x": [
          21.6604324956166
         ],
         "xaxis": "x",
         "y": [
          0.1334372349184086
         ],
         "yaxis": "y"
        },
        {
         "hoverlabel": {
          "namelength": 0
         },
         "hovertemplate": "<b>%{hovertext}</b><br><br>countryName=Romania<br>slopeData=%{x}<br>varianceVal=%{y}<br>lastValue=%{marker.size}",
         "hovertext": [
          "Romania"
         ],
         "legendgroup": "Romania",
         "marker": {
          "color": "#FF6692",
          "size": [
           1815
          ],
          "sizemode": "area",
          "sizeref": 39.135,
          "symbol": "circle"
         },
         "mode": "markers",
         "name": "Romania",
         "showlegend": true,
         "type": "scatter",
         "x": [
          25.056293706293705
         ],
         "xaxis": "x",
         "y": [
          0.0673160683680469
         ],
         "yaxis": "y"
        },
        {
         "hoverlabel": {
          "namelength": 0
         },
         "hovertemplate": "<b>%{hovertext}</b><br><br>countryName=Russia<br>slopeData=%{x}<br>varianceVal=%{y}<br>lastValue=%{marker.size}",
         "hovertext": [
          "Russia"
         ],
         "legendgroup": "Russia",
         "marker": {
          "color": "#B6E880",
          "size": [
           1534
          ],
          "sizemode": "area",
          "sizeref": 39.135,
          "symbol": "circle"
         },
         "mode": "markers",
         "name": "Russia",
         "showlegend": true,
         "type": "scatter",
         "x": [
          6.525303840908749
         ],
         "xaxis": "x",
         "y": [
          0.04239993842519189
         ],
         "yaxis": "y"
        },
        {
         "hoverlabel": {
          "namelength": 0
         },
         "hovertemplate": "<b>%{hovertext}</b><br><br>countryName=Rwanda<br>slopeData=%{x}<br>varianceVal=%{y}<br>lastValue=%{marker.size}",
         "hovertext": [
          "Rwanda"
         ],
         "legendgroup": "Rwanda",
         "marker": {
          "color": "#FF97FF",
          "size": [
           70
          ],
          "sizemode": "area",
          "sizeref": 39.135,
          "symbol": "circle"
         },
         "mode": "markers",
         "name": "Rwanda",
         "showlegend": true,
         "type": "scatter",
         "x": [
          3.906451612903225
         ],
         "xaxis": "x",
         "y": [
          0.10323133270321362
         ],
         "yaxis": "y"
        },
        {
         "hoverlabel": {
          "namelength": 0
         },
         "hovertemplate": "<b>%{hovertext}</b><br><br>countryName=Saint Lucia<br>slopeData=%{x}<br>varianceVal=%{y}<br>lastValue=%{marker.size}",
         "hovertext": [
          "Saint Lucia"
         ],
         "legendgroup": "Saint Lucia",
         "marker": {
          "color": "#FECB52",
          "size": [
           9
          ],
          "sizemode": "area",
          "sizeref": 39.135,
          "symbol": "circle"
         },
         "mode": "markers",
         "name": "Saint Lucia",
         "showlegend": true,
         "type": "scatter",
         "x": [
          0.3338709677419354
         ],
         "xaxis": "x",
         "y": [
          0.0458984375
         ],
         "yaxis": "y"
        },
        {
         "hoverlabel": {
          "namelength": 0
         },
         "hovertemplate": "<b>%{hovertext}</b><br><br>countryName=Saint Vincent and the Grenadines<br>slopeData=%{x}<br>varianceVal=%{y}<br>lastValue=%{marker.size}",
         "hovertext": [
          "Saint Vincent and the Grenadines"
         ],
         "legendgroup": "Saint Vincent and the Grenadines",
         "marker": {
          "color": "#636efa",
          "size": [
           1
          ],
          "sizemode": "area",
          "sizeref": 39.135,
          "symbol": "circle"
         },
         "mode": "markers",
         "name": "Saint Vincent and the Grenadines",
         "showlegend": true,
         "type": "scatter",
         "x": [
          0.0967741935483871
         ],
         "xaxis": "x",
         "y": [
          0
         ],
         "yaxis": "y"
        },
        {
         "hoverlabel": {
          "namelength": 0
         },
         "hovertemplate": "<b>%{hovertext}</b><br><br>countryName=San Marino<br>slopeData=%{x}<br>varianceVal=%{y}<br>lastValue=%{marker.size}",
         "hovertext": [
          "San Marino"
         ],
         "legendgroup": "San Marino",
         "marker": {
          "color": "#EF553B",
          "size": [
           224
          ],
          "sizemode": "area",
          "sizeref": 39.135,
          "symbol": "circle"
         },
         "mode": "markers",
         "name": "San Marino",
         "showlegend": true,
         "type": "scatter",
         "x": [
          6.5997503840245795
         ],
         "xaxis": "x",
         "y": [
          0.11844627568923566
         ],
         "yaxis": "y"
        },
        {
         "hoverlabel": {
          "namelength": 0
         },
         "hovertemplate": "<b>%{hovertext}</b><br><br>countryName=Saudi Arabia<br>slopeData=%{x}<br>varianceVal=%{y}<br>lastValue=%{marker.size}",
         "hovertext": [
          "Saudi Arabia"
         ],
         "legendgroup": "Saudi Arabia",
         "marker": {
          "color": "#00cc96",
          "size": [
           1299
          ],
          "sizemode": "area",
          "sizeref": 39.135,
          "symbol": "circle"
         },
         "mode": "markers",
         "name": "Saudi Arabia",
         "showlegend": true,
         "type": "scatter",
         "x": [
          29.962481962481966
         ],
         "xaxis": "x",
         "y": [
          0.10065618545394658
         ],
         "yaxis": "y"
        },
        {
         "hoverlabel": {
          "namelength": 0
         },
         "hovertemplate": "<b>%{hovertext}</b><br><br>countryName=Senegal<br>slopeData=%{x}<br>varianceVal=%{y}<br>lastValue=%{marker.size}",
         "hovertext": [
          "Senegal"
         ],
         "legendgroup": "Senegal",
         "marker": {
          "color": "#ab63fa",
          "size": [
           142
          ],
          "sizemode": "area",
          "sizeref": 39.135,
          "symbol": "circle"
         },
         "mode": "markers",
         "name": "Senegal",
         "showlegend": true,
         "type": "scatter",
         "x": [
          3.4578643578643584
         ],
         "xaxis": "x",
         "y": [
          0.09729850518749829
         ],
         "yaxis": "y"
        },
        {
         "hoverlabel": {
          "namelength": 0
         },
         "hovertemplate": "<b>%{hovertext}</b><br><br>countryName=Serbia<br>slopeData=%{x}<br>varianceVal=%{y}<br>lastValue=%{marker.size}",
         "hovertext": [
          "Serbia"
         ],
         "legendgroup": "Serbia",
         "marker": {
          "color": "#FFA15A",
          "size": [
           741
          ],
          "sizemode": "area",
          "sizeref": 39.135,
          "symbol": "circle"
         },
         "mode": "markers",
         "name": "Serbia",
         "showlegend": true,
         "type": "scatter",
         "x": [
          18.189870490286776
         ],
         "xaxis": "x",
         "y": [
          0.07917833373914455
         ],
         "yaxis": "y"
        },
        {
         "hoverlabel": {
          "namelength": 0
         },
         "hovertemplate": "<b>%{hovertext}</b><br><br>countryName=Seychelles<br>slopeData=%{x}<br>varianceVal=%{y}<br>lastValue=%{marker.size}",
         "hovertext": [
          "Seychelles"
         ],
         "legendgroup": "Seychelles",
         "marker": {
          "color": "#19d3f3",
          "size": [
           8
          ],
          "sizemode": "area",
          "sizeref": 39.135,
          "symbol": "circle"
         },
         "mode": "markers",
         "name": "Seychelles",
         "showlegend": true,
         "type": "scatter",
         "x": [
          0.6693548387096774
         ],
         "xaxis": "x",
         "y": [
          0.1118706597222222
         ],
         "yaxis": "y"
        },
        {
         "hoverlabel": {
          "namelength": 0
         },
         "hovertemplate": "<b>%{hovertext}</b><br><br>countryName=Singapore<br>slopeData=%{x}<br>varianceVal=%{y}<br>lastValue=%{marker.size}",
         "hovertext": [
          "Singapore"
         ],
         "legendgroup": "Singapore",
         "marker": {
          "color": "#FF6692",
          "size": [
           844
          ],
          "sizemode": "area",
          "sizeref": 39.135,
          "symbol": "circle"
         },
         "mode": "markers",
         "name": "Singapore",
         "showlegend": true,
         "type": "scatter",
         "x": [
          6.038940635170016
         ],
         "xaxis": "x",
         "y": [
          0.058882559824368026
         ],
         "yaxis": "y"
        },
        {
         "hoverlabel": {
          "namelength": 0
         },
         "hovertemplate": "<b>%{hovertext}</b><br><br>countryName=Slovakia<br>slopeData=%{x}<br>varianceVal=%{y}<br>lastValue=%{marker.size}",
         "hovertext": [
          "Slovakia"
         ],
         "legendgroup": "Slovakia",
         "marker": {
          "color": "#B6E880",
          "size": [
           314
          ],
          "sizemode": "area",
          "sizeref": 39.135,
          "symbol": "circle"
         },
         "mode": "markers",
         "name": "Slovakia",
         "showlegend": true,
         "type": "scatter",
         "x": [
          11.06244218316374
         ],
         "xaxis": "x",
         "y": [
          0.10352167451495424
         ],
         "yaxis": "y"
        },
        {
         "hoverlabel": {
          "namelength": 0
         },
         "hovertemplate": "<b>%{hovertext}</b><br><br>countryName=Slovenia<br>slopeData=%{x}<br>varianceVal=%{y}<br>lastValue=%{marker.size}",
         "hovertext": [
          "Slovenia"
         ],
         "legendgroup": "Slovenia",
         "marker": {
          "color": "#FF97FF",
          "size": [
           730
          ],
          "sizemode": "area",
          "sizeref": 39.135,
          "symbol": "circle"
         },
         "mode": "markers",
         "name": "Slovenia",
         "showlegend": true,
         "type": "scatter",
         "x": [
          25.456530612244897
         ],
         "xaxis": "x",
         "y": [
          0.0963558869701727
         ],
         "yaxis": "y"
        },
        {
         "hoverlabel": {
          "namelength": 0
         },
         "hovertemplate": "<b>%{hovertext}</b><br><br>countryName=Somalia<br>slopeData=%{x}<br>varianceVal=%{y}<br>lastValue=%{marker.size}",
         "hovertext": [
          "Somalia"
         ],
         "legendgroup": "Somalia",
         "marker": {
          "color": "#FECB52",
          "size": [
           3
          ],
          "sizemode": "area",
          "sizeref": 39.135,
          "symbol": "circle"
         },
         "mode": "markers",
         "name": "Somalia",
         "showlegend": true,
         "type": "scatter",
         "x": [
          0.21123321123321123
         ],
         "xaxis": "x",
         "y": [
          0.16964285714285715
         ],
         "yaxis": "y"
        },
        {
         "hoverlabel": {
          "namelength": 0
         },
         "hovertemplate": "<b>%{hovertext}</b><br><br>countryName=South Africa<br>slopeData=%{x}<br>varianceVal=%{y}<br>lastValue=%{marker.size}",
         "hovertext": [
          "South Africa"
         ],
         "legendgroup": "South Africa",
         "marker": {
          "color": "#636efa",
          "size": [
           1280
          ],
          "sizemode": "area",
          "sizeref": 39.135,
          "symbol": "circle"
         },
         "mode": "markers",
         "name": "South Africa",
         "showlegend": true,
         "type": "scatter",
         "x": [
          31.23102040816326
         ],
         "xaxis": "x",
         "y": [
          0.10325381403204835
         ],
         "yaxis": "y"
        },
        {
         "hoverlabel": {
          "namelength": 0
         },
         "hovertemplate": "<b>%{hovertext}</b><br><br>countryName=Spain<br>slopeData=%{x}<br>varianceVal=%{y}<br>lastValue=%{marker.size}",
         "hovertext": [
          "Spain"
         ],
         "legendgroup": "Spain",
         "marker": {
          "color": "#EF553B",
          "size": [
           80110
          ],
          "sizemode": "area",
          "sizeref": 39.135,
          "symbol": "circle"
         },
         "mode": "markers",
         "name": "Spain",
         "showlegend": true,
         "type": "scatter",
         "x": [
          460.6988716168232
         ],
         "xaxis": "x",
         "y": [
          0.05942215665927785
         ],
         "yaxis": "y"
        },
        {
         "hoverlabel": {
          "namelength": 0
         },
         "hovertemplate": "<b>%{hovertext}</b><br><br>countryName=Sri Lanka<br>slopeData=%{x}<br>varianceVal=%{y}<br>lastValue=%{marker.size}",
         "hovertext": [
          "Sri Lanka"
         ],
         "legendgroup": "Sri Lanka",
         "marker": {
          "color": "#00cc96",
          "size": [
           117
          ],
          "sizemode": "area",
          "sizeref": 39.135,
          "symbol": "circle"
         },
         "mode": "markers",
         "name": "Sri Lanka",
         "showlegend": true,
         "type": "scatter",
         "x": [
          0.8416221198156681
         ],
         "xaxis": "x",
         "y": [
          0.0969127488931011
         ],
         "yaxis": "y"
        },
        {
         "hoverlabel": {
          "namelength": 0
         },
         "hovertemplate": "<b>%{hovertext}</b><br><br>countryName=Sudan<br>slopeData=%{x}<br>varianceVal=%{y}<br>lastValue=%{marker.size}",
         "hovertext": [
          "Sudan"
         ],
         "legendgroup": "Sudan",
         "marker": {
          "color": "#ab63fa",
          "size": [
           6
          ],
          "sizemode": "area",
          "sizeref": 39.135,
          "symbol": "circle"
         },
         "mode": "markers",
         "name": "Sudan",
         "showlegend": true,
         "type": "scatter",
         "x": [
          0.28141711229946514
         ],
         "xaxis": "x",
         "y": [
          0.0750173010380623
         ],
         "yaxis": "y"
        },
        {
         "hoverlabel": {
          "namelength": 0
         },
         "hovertemplate": "<b>%{hovertext}</b><br><br>countryName=Suriname<br>slopeData=%{x}<br>varianceVal=%{y}<br>lastValue=%{marker.size}",
         "hovertext": [
          "Suriname"
         ],
         "legendgroup": "Suriname",
         "marker": {
          "color": "#FFA15A",
          "size": [
           8
          ],
          "sizemode": "area",
          "sizeref": 39.135,
          "symbol": "circle"
         },
         "mode": "markers",
         "name": "Suriname",
         "showlegend": true,
         "type": "scatter",
         "x": [
          0.5983870967741935
         ],
         "xaxis": "x",
         "y": [
          0.18104272959183673
         ],
         "yaxis": "y"
        },
        {
         "hoverlabel": {
          "namelength": 0
         },
         "hovertemplate": "<b>%{hovertext}</b><br><br>countryName=Sweden<br>slopeData=%{x}<br>varianceVal=%{y}<br>lastValue=%{marker.size}",
         "hovertext": [
          "Sweden"
         ],
         "legendgroup": "Sweden",
         "marker": {
          "color": "#19d3f3",
          "size": [
           3700
          ],
          "sizemode": "area",
          "sizeref": 39.135,
          "symbol": "circle"
         },
         "mode": "markers",
         "name": "Sweden",
         "showlegend": true,
         "type": "scatter",
         "x": [
          27.213340526607617
         ],
         "xaxis": "x",
         "y": [
          0.07051969112618978
         ],
         "yaxis": "y"
        },
        {
         "hoverlabel": {
          "namelength": 0
         },
         "hovertemplate": "<b>%{hovertext}</b><br><br>countryName=Switzerland<br>slopeData=%{x}<br>varianceVal=%{y}<br>lastValue=%{marker.size}",
         "hovertext": [
          "Switzerland"
         ],
         "legendgroup": "Switzerland",
         "marker": {
          "color": "#FF6692",
          "size": [
           14829
          ],
          "sizemode": "area",
          "sizeref": 39.135,
          "symbol": "circle"
         },
         "mode": "markers",
         "name": "Switzerland",
         "showlegend": true,
         "type": "scatter",
         "x": [
          271.455024343523
         ],
         "xaxis": "x",
         "y": [
          0.10041517704491698
         ],
         "yaxis": "y"
        },
        {
         "hoverlabel": {
          "namelength": 0
         },
         "hovertemplate": "<b>%{hovertext}</b><br><br>countryName=Taiwan*<br>slopeData=%{x}<br>varianceVal=%{y}<br>lastValue=%{marker.size}",
         "hovertext": [
          "Taiwan*"
         ],
         "legendgroup": "Taiwan*",
         "marker": {
          "color": "#B6E880",
          "size": [
           298
          ],
          "sizemode": "area",
          "sizeref": 39.135,
          "symbol": "circle"
         },
         "mode": "markers",
         "name": "Taiwan*",
         "showlegend": true,
         "type": "scatter",
         "x": [
          2.0285533118720127
         ],
         "xaxis": "x",
         "y": [
          0.06127363944651583
         ],
         "yaxis": "y"
        },
        {
         "hoverlabel": {
          "namelength": 0
         },
         "hovertemplate": "<b>%{hovertext}</b><br><br>countryName=Tanzania<br>slopeData=%{x}<br>varianceVal=%{y}<br>lastValue=%{marker.size}",
         "hovertext": [
          "Tanzania"
         ],
         "legendgroup": "Tanzania",
         "marker": {
          "color": "#FF97FF",
          "size": [
           14
          ],
          "sizemode": "area",
          "sizeref": 39.135,
          "symbol": "circle"
         },
         "mode": "markers",
         "name": "Tanzania",
         "showlegend": true,
         "type": "scatter",
         "x": [
          1.296703296703297
         ],
         "xaxis": "x",
         "y": [
          0.13056997947107843
         ],
         "yaxis": "y"
        },
        {
         "hoverlabel": {
          "namelength": 0
         },
         "hovertemplate": "<b>%{hovertext}</b><br><br>countryName=Thailand<br>slopeData=%{x}<br>varianceVal=%{y}<br>lastValue=%{marker.size}",
         "hovertext": [
          "Thailand"
         ],
         "legendgroup": "Thailand",
         "marker": {
          "color": "#FECB52",
          "size": [
           1388
          ],
          "sizemode": "area",
          "sizeref": 39.135,
          "symbol": "circle"
         },
         "mode": "markers",
         "name": "Thailand",
         "showlegend": true,
         "type": "scatter",
         "x": [
          6.431079894644425
         ],
         "xaxis": "x",
         "y": [
          0.053116362927352834
         ],
         "yaxis": "y"
        },
        {
         "hoverlabel": {
          "namelength": 0
         },
         "hovertemplate": "<b>%{hovertext}</b><br><br>countryName=Togo<br>slopeData=%{x}<br>varianceVal=%{y}<br>lastValue=%{marker.size}",
         "hovertext": [
          "Togo"
         ],
         "legendgroup": "Togo",
         "marker": {
          "color": "#636efa",
          "size": [
           25
          ],
          "sizemode": "area",
          "sizeref": 39.135,
          "symbol": "circle"
         },
         "mode": "markers",
         "name": "Togo",
         "showlegend": true,
         "type": "scatter",
         "x": [
          0.9079555966697505
         ],
         "xaxis": "x",
         "y": [
          0.17041618441358022
         ],
         "yaxis": "y"
        },
        {
         "hoverlabel": {
          "namelength": 0
         },
         "hovertemplate": "<b>%{hovertext}</b><br><br>countryName=Trinidad and Tobago<br>slopeData=%{x}<br>varianceVal=%{y}<br>lastValue=%{marker.size}",
         "hovertext": [
          "Trinidad and Tobago"
         ],
         "legendgroup": "Trinidad and Tobago",
         "marker": {
          "color": "#EF553B",
          "size": [
           78
          ],
          "sizemode": "area",
          "sizeref": 39.135,
          "symbol": "circle"
         },
         "mode": "markers",
         "name": "Trinidad and Tobago",
         "showlegend": true,
         "type": "scatter",
         "x": [
          5.183870967741935
         ],
         "xaxis": "x",
         "y": [
          0.1422156336565097
         ],
         "yaxis": "y"
        },
        {
         "hoverlabel": {
          "namelength": 0
         },
         "hovertemplate": "<b>%{hovertext}</b><br><br>countryName=Tunisia<br>slopeData=%{x}<br>varianceVal=%{y}<br>lastValue=%{marker.size}",
         "hovertext": [
          "Tunisia"
         ],
         "legendgroup": "Tunisia",
         "marker": {
          "color": "#00cc96",
          "size": [
           312
          ],
          "sizemode": "area",
          "sizeref": 39.135,
          "symbol": "circle"
         },
         "mode": "markers",
         "name": "Tunisia",
         "showlegend": true,
         "type": "scatter",
         "x": [
          6.712941176470588
         ],
         "xaxis": "x",
         "y": [
          0.08423667684682515
         ],
         "yaxis": "y"
        },
        {
         "hoverlabel": {
          "namelength": 0
         },
         "hovertemplate": "<b>%{hovertext}</b><br><br>countryName=Turkey<br>slopeData=%{x}<br>varianceVal=%{y}<br>lastValue=%{marker.size}",
         "hovertext": [
          "Turkey"
         ],
         "legendgroup": "Turkey",
         "marker": {
          "color": "#ab63fa",
          "size": [
           9217
          ],
          "sizemode": "area",
          "sizeref": 39.135,
          "symbol": "circle"
         },
         "mode": "markers",
         "name": "Turkey",
         "showlegend": true,
         "type": "scatter",
         "x": [
          256.1688003793268
         ],
         "xaxis": "x",
         "y": [
          0.08486308192453396
         ],
         "yaxis": "y"
        },
        {
         "hoverlabel": {
          "namelength": 0
         },
         "hovertemplate": "<b>%{hovertext}</b><br><br>countryName=Uganda<br>slopeData=%{x}<br>varianceVal=%{y}<br>lastValue=%{marker.size}",
         "hovertext": [
          "Uganda"
         ],
         "legendgroup": "Uganda",
         "marker": {
          "color": "#FFA15A",
          "size": [
           33
          ],
          "sizemode": "area",
          "sizeref": 39.135,
          "symbol": "circle"
         },
         "mode": "markers",
         "name": "Uganda",
         "showlegend": true,
         "type": "scatter",
         "x": [
          3.8431372549019605
         ],
         "xaxis": "x",
         "y": [
          0.11706693672839506
         ],
         "yaxis": "y"
        },
        {
         "hoverlabel": {
          "namelength": 0
         },
         "hovertemplate": "<b>%{hovertext}</b><br><br>countryName=Ukraine<br>slopeData=%{x}<br>varianceVal=%{y}<br>lastValue=%{marker.size}",
         "hovertext": [
          "Ukraine"
         ],
         "legendgroup": "Ukraine",
         "marker": {
          "color": "#19d3f3",
          "size": [
           475
          ],
          "sizemode": "area",
          "sizeref": 39.135,
          "symbol": "circle"
         },
         "mode": "markers",
         "name": "Ukraine",
         "showlegend": true,
         "type": "scatter",
         "x": [
          7.01628769553298
         ],
         "xaxis": "x",
         "y": [
          0.06628468939793955
         ],
         "yaxis": "y"
        },
        {
         "hoverlabel": {
          "namelength": 0
         },
         "hovertemplate": "<b>%{hovertext}</b><br><br>countryName=United Arab Emirates<br>slopeData=%{x}<br>varianceVal=%{y}<br>lastValue=%{marker.size}",
         "hovertext": [
          "United Arab Emirates"
         ],
         "legendgroup": "United Arab Emirates",
         "marker": {
          "color": "#FF6692",
          "size": [
           570
          ],
          "sizemode": "area",
          "sizeref": 39.135,
          "symbol": "circle"
         },
         "mode": "markers",
         "name": "United Arab Emirates",
         "showlegend": true,
         "type": "scatter",
         "x": [
          3.1195230998509684
         ],
         "xaxis": "x",
         "y": [
          0.044460343699400065
         ],
         "yaxis": "y"
        },
        {
         "hoverlabel": {
          "namelength": 0
         },
         "hovertemplate": "<b>%{hovertext}</b><br><br>countryName=United KingdomBermuda<br>slopeData=%{x}<br>varianceVal=%{y}<br>lastValue=%{marker.size}",
         "hovertext": [
          "United KingdomBermuda"
         ],
         "legendgroup": "United KingdomBermuda",
         "marker": {
          "color": "#B6E880",
          "size": [
           22
          ],
          "sizemode": "area",
          "sizeref": 39.135,
          "symbol": "circle"
         },
         "mode": "markers",
         "name": "United KingdomBermuda",
         "showlegend": true,
         "type": "scatter",
         "x": [
          1.906493506493506
         ],
         "xaxis": "x",
         "y": [
          0.1159504132231405
         ],
         "yaxis": "y"
        },
        {
         "hoverlabel": {
          "namelength": 0
         },
         "hovertemplate": "<b>%{hovertext}</b><br><br>countryName=United KingdomCayman Islands<br>slopeData=%{x}<br>varianceVal=%{y}<br>lastValue=%{marker.size}",
         "hovertext": [
          "United KingdomCayman Islands"
         ],
         "legendgroup": "United KingdomCayman Islands",
         "marker": {
          "color": "#FF97FF",
          "size": [
           8
          ],
          "sizemode": "area",
          "sizeref": 39.135,
          "symbol": "circle"
         },
         "mode": "markers",
         "name": "United KingdomCayman Islands",
         "showlegend": true,
         "type": "scatter",
         "x": [
          0.5220588235294116
         ],
         "xaxis": "x",
         "y": [
          0.1715980509850999
         ],
         "yaxis": "y"
        },
        {
         "hoverlabel": {
          "namelength": 0
         },
         "hovertemplate": "<b>%{hovertext}</b><br><br>countryName=United KingdomChannel Islands<br>slopeData=%{x}<br>varianceVal=%{y}<br>lastValue=%{marker.size}",
         "hovertext": [
          "United KingdomChannel Islands"
         ],
         "legendgroup": "United KingdomChannel Islands",
         "marker": {
          "color": "#FECB52",
          "size": [
           108
          ],
          "sizemode": "area",
          "sizeref": 39.135,
          "symbol": "circle"
         },
         "mode": "markers",
         "name": "United KingdomChannel Islands",
         "showlegend": true,
         "type": "scatter",
         "x": [
          3.703643724696356
         ],
         "xaxis": "x",
         "y": [
          0.09878242641278712
         ],
         "yaxis": "y"
        },
        {
         "hoverlabel": {
          "namelength": 0
         },
         "hovertemplate": "<b>%{hovertext}</b><br><br>countryName=United KingdomGibraltar<br>slopeData=%{x}<br>varianceVal=%{y}<br>lastValue=%{marker.size}",
         "hovertext": [
          "United KingdomGibraltar"
         ],
         "legendgroup": "United KingdomGibraltar",
         "marker": {
          "color": "#636efa",
          "size": [
           65
          ],
          "sizemode": "area",
          "sizeref": 39.135,
          "symbol": "circle"
         },
         "mode": "markers",
         "name": "United KingdomGibraltar",
         "showlegend": true,
         "type": "scatter",
         "x": [
          1.2876018099547513
         ],
         "xaxis": "x",
         "y": [
          0.08456511187130178
         ],
         "yaxis": "y"
        },
        {
         "hoverlabel": {
          "namelength": 0
         },
         "hovertemplate": "<b>%{hovertext}</b><br><br>countryName=United KingdomIsle of Man<br>slopeData=%{x}<br>varianceVal=%{y}<br>lastValue=%{marker.size}",
         "hovertext": [
          "United KingdomIsle of Man"
         ],
         "legendgroup": "United KingdomIsle of Man",
         "marker": {
          "color": "#EF553B",
          "size": [
           42
          ],
          "sizemode": "area",
          "sizeref": 39.135,
          "symbol": "circle"
         },
         "mode": "markers",
         "name": "United KingdomIsle of Man",
         "showlegend": true,
         "type": "scatter",
         "x": [
          4.364912280701755
         ],
         "xaxis": "x",
         "y": [
          0.10377156454491374
         ],
         "yaxis": "y"
        },
        {
         "hoverlabel": {
          "namelength": 0
         },
         "hovertemplate": "<b>%{hovertext}</b><br><br>countryName=United KingdomMontserrat<br>slopeData=%{x}<br>varianceVal=%{y}<br>lastValue=%{marker.size}",
         "hovertext": [
          "United KingdomMontserrat"
         ],
         "legendgroup": "United KingdomMontserrat",
         "marker": {
          "color": "#00cc96",
          "size": [
           5
          ],
          "sizemode": "area",
          "sizeref": 39.135,
          "symbol": "circle"
         },
         "mode": "markers",
         "name": "United KingdomMontserrat",
         "showlegend": true,
         "type": "scatter",
         "x": [
          0.4308300395256918
         ],
         "xaxis": "x",
         "y": [
          0.2222222222222223
         ],
         "yaxis": "y"
        },
        {
         "hoverlabel": {
          "namelength": 0
         },
         "hovertemplate": "<b>%{hovertext}</b><br><br>countryName=United Kingdom<br>slopeData=%{x}<br>varianceVal=%{y}<br>lastValue=%{marker.size}",
         "hovertext": [
          "United Kingdom"
         ],
         "legendgroup": "United Kingdom",
         "marker": {
          "color": "#ab63fa",
          "size": [
           19522
          ],
          "sizemode": "area",
          "sizeref": 39.135,
          "symbol": "circle"
         },
         "mode": "markers",
         "name": "United Kingdom",
         "showlegend": true,
         "type": "scatter",
         "x": [
          93.41244436451916
         ],
         "xaxis": "x",
         "y": [
          0.048425016010110955
         ],
         "yaxis": "y"
        },
        {
         "hoverlabel": {
          "namelength": 0
         },
         "hovertemplate": "<b>%{hovertext}</b><br><br>countryName=Uruguay<br>slopeData=%{x}<br>varianceVal=%{y}<br>lastValue=%{marker.size}",
         "hovertext": [
          "Uruguay"
         ],
         "legendgroup": "Uruguay",
         "marker": {
          "color": "#FFA15A",
          "size": [
           304
          ],
          "sizemode": "area",
          "sizeref": 39.135,
          "symbol": "circle"
         },
         "mode": "markers",
         "name": "Uruguay",
         "showlegend": true,
         "type": "scatter",
         "x": [
          18.186290322580643
         ],
         "xaxis": "x",
         "y": [
          0.1000637152777778
         ],
         "yaxis": "y"
        },
        {
         "hoverlabel": {
          "namelength": 0
         },
         "hovertemplate": "<b>%{hovertext}</b><br><br>countryName=US<br>slopeData=%{x}<br>varianceVal=%{y}<br>lastValue=%{marker.size}",
         "hovertext": [
          "US"
         ],
         "legendgroup": "US",
         "marker": {
          "color": "#19d3f3",
          "size": [
           140886
          ],
          "sizemode": "area",
          "sizeref": 39.135,
          "symbol": "circle"
         },
         "mode": "markers",
         "name": "US",
         "showlegend": true,
         "type": "scatter",
         "x": [
          456.1956979806848
         ],
         "xaxis": "x",
         "y": [
          0.041180126106688066
         ],
         "yaxis": "y"
        },
        {
         "hoverlabel": {
          "namelength": 0
         },
         "hovertemplate": "<b>%{hovertext}</b><br><br>countryName=Uzbekistan<br>slopeData=%{x}<br>varianceVal=%{y}<br>lastValue=%{marker.size}",
         "hovertext": [
          "Uzbekistan"
         ],
         "legendgroup": "Uzbekistan",
         "marker": {
          "color": "#FF6692",
          "size": [
           144
          ],
          "sizemode": "area",
          "sizeref": 39.135,
          "symbol": "circle"
         },
         "mode": "markers",
         "name": "Uzbekistan",
         "showlegend": true,
         "type": "scatter",
         "x": [
          7.442364532019703
         ],
         "xaxis": "x",
         "y": [
          0.0724064746442369
         ],
         "yaxis": "y"
        },
        {
         "hoverlabel": {
          "namelength": 0
         },
         "hovertemplate": "<b>%{hovertext}</b><br><br>countryName=Venezuela<br>slopeData=%{x}<br>varianceVal=%{y}<br>lastValue=%{marker.size}",
         "hovertext": [
          "Venezuela"
         ],
         "legendgroup": "Venezuela",
         "marker": {
          "color": "#B6E880",
          "size": [
           119
          ],
          "sizemode": "area",
          "sizeref": 39.135,
          "symbol": "circle"
         },
         "mode": "markers",
         "name": "Venezuela",
         "showlegend": true,
         "type": "scatter",
         "x": [
          8.434677419354838
         ],
         "xaxis": "x",
         "y": [
          0.1040970395938345
         ],
         "yaxis": "y"
        },
        {
         "hoverlabel": {
          "namelength": 0
         },
         "hovertemplate": "<b>%{hovertext}</b><br><br>countryName=Vietnam<br>slopeData=%{x}<br>varianceVal=%{y}<br>lastValue=%{marker.size}",
         "hovertext": [
          "Vietnam"
         ],
         "legendgroup": "Vietnam",
         "marker": {
          "color": "#FF97FF",
          "size": [
           188
          ],
          "sizemode": "area",
          "sizeref": 39.135,
          "symbol": "circle"
         },
         "mode": "markers",
         "name": "Vietnam",
         "showlegend": true,
         "type": "scatter",
         "x": [
          1.3421409697921878
         ],
         "xaxis": "x",
         "y": [
          0.06322301806800973
         ],
         "yaxis": "y"
        },
        {
         "hoverlabel": {
          "namelength": 0
         },
         "hovertemplate": "<b>%{hovertext}</b><br><br>countryName=Zambia<br>slopeData=%{x}<br>varianceVal=%{y}<br>lastValue=%{marker.size}",
         "hovertext": [
          "Zambia"
         ],
         "legendgroup": "Zambia",
         "marker": {
          "color": "#FECB52",
          "size": [
           29
          ],
          "sizemode": "area",
          "sizeref": 39.135,
          "symbol": "circle"
         },
         "mode": "markers",
         "name": "Zambia",
         "showlegend": true,
         "type": "scatter",
         "x": [
          2.1067193675889335
         ],
         "xaxis": "x",
         "y": [
          0.14525224813290658
         ],
         "yaxis": "y"
        },
        {
         "hoverlabel": {
          "namelength": 0
         },
         "hovertemplate": "<b>%{hovertext}</b><br><br>countryName=Zimbabwe<br>slopeData=%{x}<br>varianceVal=%{y}<br>lastValue=%{marker.size}",
         "hovertext": [
          "Zimbabwe"
         ],
         "legendgroup": "Zimbabwe",
         "marker": {
          "color": "#636efa",
          "size": [
           7
          ],
          "sizemode": "area",
          "sizeref": 39.135,
          "symbol": "circle"
         },
         "mode": "markers",
         "name": "Zimbabwe",
         "showlegend": true,
         "type": "scatter",
         "x": [
          0.76140350877193
         ],
         "xaxis": "x",
         "y": [
          0.09333333333333331
         ],
         "yaxis": "y"
        },
        {
         "hoverlabel": {
          "namelength": 0
         },
         "hovertemplate": "<b>%{hovertext}</b><br><br>countryName=Dominica<br>slopeData=%{x}<br>varianceVal=%{y}<br>lastValue=%{marker.size}",
         "hovertext": [
          "Dominica"
         ],
         "legendgroup": "Dominica",
         "marker": {
          "color": "#EF553B",
          "size": [
           11
          ],
          "sizemode": "area",
          "sizeref": 39.135,
          "symbol": "circle"
         },
         "mode": "markers",
         "name": "Dominica",
         "showlegend": true,
         "type": "scatter",
         "x": [
          1.9214285714285713
         ],
         "xaxis": "x",
         "y": [
          0.1875
         ],
         "yaxis": "y"
        },
        {
         "hoverlabel": {
          "namelength": 0
         },
         "hovertemplate": "<b>%{hovertext}</b><br><br>countryName=Grenada<br>slopeData=%{x}<br>varianceVal=%{y}<br>lastValue=%{marker.size}",
         "hovertext": [
          "Grenada"
         ],
         "legendgroup": "Grenada",
         "marker": {
          "color": "#00cc96",
          "size": [
           9
          ],
          "sizemode": "area",
          "sizeref": 39.135,
          "symbol": "circle"
         },
         "mode": "markers",
         "name": "Grenada",
         "showlegend": true,
         "type": "scatter",
         "x": [
          1.2428571428571429
         ],
         "xaxis": "x",
         "y": [
          0.1708984375
         ],
         "yaxis": "y"
        },
        {
         "hoverlabel": {
          "namelength": 0
         },
         "hovertemplate": "<b>%{hovertext}</b><br><br>countryName=Mozambique<br>slopeData=%{x}<br>varianceVal=%{y}<br>lastValue=%{marker.size}",
         "hovertext": [
          "Mozambique"
         ],
         "legendgroup": "Mozambique",
         "marker": {
          "color": "#ab63fa",
          "size": [
           8
          ],
          "sizemode": "area",
          "sizeref": 39.135,
          "symbol": "circle"
         },
         "mode": "markers",
         "name": "Mozambique",
         "showlegend": true,
         "type": "scatter",
         "x": [
          1.3499999999999996
         ],
         "xaxis": "x",
         "y": [
          0.15816326530612246
         ],
         "yaxis": "y"
        },
        {
         "hoverlabel": {
          "namelength": 0
         },
         "hovertemplate": "<b>%{hovertext}</b><br><br>countryName=Syria<br>slopeData=%{x}<br>varianceVal=%{y}<br>lastValue=%{marker.size}",
         "hovertext": [
          "Syria"
         ],
         "legendgroup": "Syria",
         "marker": {
          "color": "#FFA15A",
          "size": [
           9
          ],
          "sizemode": "area",
          "sizeref": 39.135,
          "symbol": "circle"
         },
         "mode": "markers",
         "name": "Syria",
         "showlegend": true,
         "type": "scatter",
         "x": [
          1.114285714285714
         ],
         "xaxis": "x",
         "y": [
          0.109375
         ],
         "yaxis": "y"
        },
        {
         "hoverlabel": {
          "namelength": 0
         },
         "hovertemplate": "<b>%{hovertext}</b><br><br>countryName=Timor-Leste<br>slopeData=%{x}<br>varianceVal=%{y}<br>lastValue=%{marker.size}",
         "hovertext": [
          "Timor-Leste"
         ],
         "legendgroup": "Timor-Leste",
         "marker": {
          "color": "#19d3f3",
          "size": [
           1
          ],
          "sizemode": "area",
          "sizeref": 39.135,
          "symbol": "circle"
         },
         "mode": "markers",
         "name": "Timor-Leste",
         "showlegend": true,
         "type": "scatter",
         "x": [
          0.19999999999999998
         ],
         "xaxis": "x",
         "y": [
          0
         ],
         "yaxis": "y"
        },
        {
         "hoverlabel": {
          "namelength": 0
         },
         "hovertemplate": "<b>%{hovertext}</b><br><br>countryName=Belize<br>slopeData=%{x}<br>varianceVal=%{y}<br>lastValue=%{marker.size}",
         "hovertext": [
          "Belize"
         ],
         "legendgroup": "Belize",
         "marker": {
          "color": "#FF6692",
          "size": [
           2
          ],
          "sizemode": "area",
          "sizeref": 39.135,
          "symbol": "circle"
         },
         "mode": "markers",
         "name": "Belize",
         "showlegend": true,
         "type": "scatter",
         "x": [
          0.4505494505494504
         ],
         "xaxis": "x",
         "y": [
          0.20408163265306128
         ],
         "yaxis": "y"
        },
        {
         "hoverlabel": {
          "namelength": 0
         },
         "hovertemplate": "<b>%{hovertext}</b><br><br>countryName=Laos<br>slopeData=%{x}<br>varianceVal=%{y}<br>lastValue=%{marker.size}",
         "hovertext": [
          "Laos"
         ],
         "legendgroup": "Laos",
         "marker": {
          "color": "#B6E880",
          "size": [
           8
          ],
          "sizemode": "area",
          "sizeref": 39.135,
          "symbol": "circle"
         },
         "mode": "markers",
         "name": "Laos",
         "showlegend": true,
         "type": "scatter",
         "x": [
          1.9090909090909094
         ],
         "xaxis": "x",
         "y": [
          0.14583333333333331
         ],
         "yaxis": "y"
        },
        {
         "hoverlabel": {
          "namelength": 0
         },
         "hovertemplate": "<b>%{hovertext}</b><br><br>countryName=Libya<br>slopeData=%{x}<br>varianceVal=%{y}<br>lastValue=%{marker.size}",
         "hovertext": [
          "Libya"
         ],
         "legendgroup": "Libya",
         "marker": {
          "color": "#FF97FF",
          "size": [
           8
          ],
          "sizemode": "area",
          "sizeref": 39.135,
          "symbol": "circle"
         },
         "mode": "markers",
         "name": "Libya",
         "showlegend": true,
         "type": "scatter",
         "x": [
          1.0545454545454545
         ],
         "xaxis": "x",
         "y": [
          0.13435374149659862
         ],
         "yaxis": "y"
        },
        {
         "hoverlabel": {
          "namelength": 0
         },
         "hovertemplate": "<b>%{hovertext}</b><br><br>countryName=West Bank and Gaza<br>slopeData=%{x}<br>varianceVal=%{y}<br>lastValue=%{marker.size}",
         "hovertext": [
          "West Bank and Gaza"
         ],
         "legendgroup": "West Bank and Gaza",
         "marker": {
          "color": "#FECB52",
          "size": [
           109
          ],
          "sizemode": "area",
          "sizeref": 39.135,
          "symbol": "circle"
         },
         "mode": "markers",
         "name": "West Bank and Gaza",
         "showlegend": true,
         "type": "scatter",
         "x": [
          3.6769387755102034
         ],
         "xaxis": "x",
         "y": [
          0.06505941043083902
         ],
         "yaxis": "y"
        },
        {
         "hoverlabel": {
          "namelength": 0
         },
         "hovertemplate": "<b>%{hovertext}</b><br><br>countryName=Guinea-Bissau<br>slopeData=%{x}<br>varianceVal=%{y}<br>lastValue=%{marker.size}",
         "hovertext": [
          "Guinea-Bissau"
         ],
         "legendgroup": "Guinea-Bissau",
         "marker": {
          "color": "#636efa",
          "size": [
           2
          ],
          "sizemode": "area",
          "sizeref": 39.135,
          "symbol": "circle"
         },
         "mode": "markers",
         "name": "Guinea-Bissau",
         "showlegend": true,
         "type": "scatter",
         "x": [
          0.6666666666666665
         ],
         "xaxis": "x",
         "y": [
          0
         ],
         "yaxis": "y"
        },
        {
         "hoverlabel": {
          "namelength": 0
         },
         "hovertemplate": "<b>%{hovertext}</b><br><br>countryName=Mali<br>slopeData=%{x}<br>varianceVal=%{y}<br>lastValue=%{marker.size}",
         "hovertext": [
          "Mali"
         ],
         "legendgroup": "Mali",
         "marker": {
          "color": "#EF553B",
          "size": [
           18
          ],
          "sizemode": "area",
          "sizeref": 39.135,
          "symbol": "circle"
         },
         "mode": "markers",
         "name": "Mali",
         "showlegend": true,
         "type": "scatter",
         "x": [
          5.066666666666666
         ],
         "xaxis": "x",
         "y": [
          0.1775
         ],
         "yaxis": "y"
        },
        {
         "hoverlabel": {
          "namelength": 0
         },
         "hovertemplate": "<b>%{hovertext}</b><br><br>countryName=Saint Kitts and Nevis<br>slopeData=%{x}<br>varianceVal=%{y}<br>lastValue=%{marker.size}",
         "hovertext": [
          "Saint Kitts and Nevis"
         ],
         "legendgroup": "Saint Kitts and Nevis",
         "marker": {
          "color": "#00cc96",
          "size": [
           2
          ],
          "sizemode": "area",
          "sizeref": 39.135,
          "symbol": "circle"
         },
         "mode": "markers",
         "name": "Saint Kitts and Nevis",
         "showlegend": true,
         "type": "scatter",
         "x": [
          0.6666666666666665
         ],
         "xaxis": "x",
         "y": [
          0
         ],
         "yaxis": "y"
        },
        {
         "hoverlabel": {
          "namelength": 0
         },
         "hovertemplate": "<b>%{hovertext}</b><br><br>countryName=CanadaNorthwest Territories<br>slopeData=%{x}<br>varianceVal=%{y}<br>lastValue=%{marker.size}",
         "hovertext": [
          "CanadaNorthwest Territories"
         ],
         "legendgroup": "CanadaNorthwest Territories",
         "marker": {
          "color": "#ab63fa",
          "size": [
           1
          ],
          "sizemode": "area",
          "sizeref": 39.135,
          "symbol": "circle"
         },
         "mode": "markers",
         "name": "CanadaNorthwest Territories",
         "showlegend": true,
         "type": "scatter",
         "x": [
          0.42857142857142866
         ],
         "xaxis": "x",
         "y": [
          0
         ],
         "yaxis": "y"
        },
        {
         "hoverlabel": {
          "namelength": 0
         },
         "hovertemplate": "<b>%{hovertext}</b><br><br>countryName=CanadaYukon<br>slopeData=%{x}<br>varianceVal=%{y}<br>lastValue=%{marker.size}",
         "hovertext": [
          "CanadaYukon"
         ],
         "legendgroup": "CanadaYukon",
         "marker": {
          "color": "#FFA15A",
          "size": [
           4
          ],
          "sizemode": "area",
          "sizeref": 39.135,
          "symbol": "circle"
         },
         "mode": "markers",
         "name": "CanadaYukon",
         "showlegend": true,
         "type": "scatter",
         "x": [
          1.642857142857143
         ],
         "xaxis": "x",
         "y": [
          0.25
         ],
         "yaxis": "y"
        },
        {
         "hoverlabel": {
          "namelength": 0
         },
         "hovertemplate": "<b>%{hovertext}</b><br><br>countryName=Kosovo<br>slopeData=%{x}<br>varianceVal=%{y}<br>lastValue=%{marker.size}",
         "hovertext": [
          "Kosovo"
         ],
         "legendgroup": "Kosovo",
         "marker": {
          "color": "#19d3f3",
          "size": [
           94
          ],
          "sizemode": "area",
          "sizeref": 39.135,
          "symbol": "circle"
         },
         "mode": "markers",
         "name": "Kosovo",
         "showlegend": true,
         "type": "scatter",
         "x": [
          39.2857142857143
         ],
         "xaxis": "x",
         "y": [
          0.14792060491493375
         ],
         "yaxis": "y"
        },
        {
         "hoverlabel": {
          "namelength": 0
         },
         "hovertemplate": "<b>%{hovertext}</b><br><br>countryName=Burma<br>slopeData=%{x}<br>varianceVal=%{y}<br>lastValue=%{marker.size}",
         "hovertext": [
          "Burma"
         ],
         "legendgroup": "Burma",
         "marker": {
          "color": "#FF6692",
          "size": [
           10
          ],
          "sizemode": "area",
          "sizeref": 39.135,
          "symbol": "circle"
         },
         "mode": "markers",
         "name": "Burma",
         "showlegend": true,
         "type": "scatter",
         "x": [
          5.6
         ],
         "xaxis": "x",
         "y": [
          0.22222222222222224
         ],
         "yaxis": "y"
        },
        {
         "hoverlabel": {
          "namelength": 0
         },
         "hovertemplate": "<b>%{hovertext}</b><br><br>countryName=United KingdomAnguilla<br>slopeData=%{x}<br>varianceVal=%{y}<br>lastValue=%{marker.size}",
         "hovertext": [
          "United KingdomAnguilla"
         ],
         "legendgroup": "United KingdomAnguilla",
         "marker": {
          "color": "#B6E880",
          "size": [
           2
          ],
          "sizemode": "area",
          "sizeref": 39.135,
          "symbol": "circle"
         },
         "mode": "markers",
         "name": "United KingdomAnguilla",
         "showlegend": true,
         "type": "scatter",
         "x": [
          2
         ],
         "xaxis": "x",
         "y": [
          0
         ],
         "yaxis": "y"
        },
        {
         "hoverlabel": {
          "namelength": 0
         },
         "hovertemplate": "<b>%{hovertext}</b><br><br>countryName=United KingdomBritish Virgin Islands<br>slopeData=%{x}<br>varianceVal=%{y}<br>lastValue=%{marker.size}",
         "hovertext": [
          "United KingdomBritish Virgin Islands"
         ],
         "legendgroup": "United KingdomBritish Virgin Islands",
         "marker": {
          "color": "#FF97FF",
          "size": [
           2
          ],
          "sizemode": "area",
          "sizeref": 39.135,
          "symbol": "circle"
         },
         "mode": "markers",
         "name": "United KingdomBritish Virgin Islands",
         "showlegend": true,
         "type": "scatter",
         "x": [
          2
         ],
         "xaxis": "x",
         "y": [
          0
         ],
         "yaxis": "y"
        },
        {
         "hoverlabel": {
          "namelength": 0
         },
         "hovertemplate": "<b>%{hovertext}</b><br><br>countryName=United KingdomTurks and Caicos Islands<br>slopeData=%{x}<br>varianceVal=%{y}<br>lastValue=%{marker.size}",
         "hovertext": [
          "United KingdomTurks and Caicos Islands"
         ],
         "legendgroup": "United KingdomTurks and Caicos Islands",
         "marker": {
          "color": "#FECB52",
          "size": [
           4
          ],
          "sizemode": "area",
          "sizeref": 39.135,
          "symbol": "circle"
         },
         "mode": "markers",
         "name": "United KingdomTurks and Caicos Islands",
         "showlegend": true,
         "type": "scatter",
         "x": [
          4
         ],
         "xaxis": "x",
         "y": [
          0
         ],
         "yaxis": "y"
        },
        {
         "hoverlabel": {
          "namelength": 0
         },
         "hovertemplate": "<b>%{hovertext}</b><br><br>countryName=MS Zaandam<br>slopeData=%{x}<br>varianceVal=%{y}<br>lastValue=%{marker.size}",
         "hovertext": [
          "MS Zaandam"
         ],
         "legendgroup": "MS Zaandam",
         "marker": {
          "color": "#636efa",
          "size": [
           2
          ],
          "sizemode": "area",
          "sizeref": 39.135,
          "symbol": "circle"
         },
         "mode": "markers",
         "name": "MS Zaandam",
         "showlegend": true,
         "type": "scatter",
         "x": [
          2
         ],
         "xaxis": "x",
         "y": [
          0
         ],
         "yaxis": "y"
        }
       ],
       "layout": {
        "legend": {
         "itemsizing": "constant",
         "title": {
          "text": "countryName"
         },
         "tracegroupgap": 0
        },
        "margin": {
         "t": 60
        },
        "showlegend": false,
        "template": {
         "data": {
          "bar": [
           {
            "error_x": {
             "color": "#2a3f5f"
            },
            "error_y": {
             "color": "#2a3f5f"
            },
            "marker": {
             "line": {
              "color": "#E5ECF6",
              "width": 0.5
             }
            },
            "type": "bar"
           }
          ],
          "barpolar": [
           {
            "marker": {
             "line": {
              "color": "#E5ECF6",
              "width": 0.5
             }
            },
            "type": "barpolar"
           }
          ],
          "carpet": [
           {
            "aaxis": {
             "endlinecolor": "#2a3f5f",
             "gridcolor": "white",
             "linecolor": "white",
             "minorgridcolor": "white",
             "startlinecolor": "#2a3f5f"
            },
            "baxis": {
             "endlinecolor": "#2a3f5f",
             "gridcolor": "white",
             "linecolor": "white",
             "minorgridcolor": "white",
             "startlinecolor": "#2a3f5f"
            },
            "type": "carpet"
           }
          ],
          "choropleth": [
           {
            "colorbar": {
             "outlinewidth": 0,
             "ticks": ""
            },
            "type": "choropleth"
           }
          ],
          "contour": [
           {
            "colorbar": {
             "outlinewidth": 0,
             "ticks": ""
            },
            "colorscale": [
             [
              0,
              "#0d0887"
             ],
             [
              0.1111111111111111,
              "#46039f"
             ],
             [
              0.2222222222222222,
              "#7201a8"
             ],
             [
              0.3333333333333333,
              "#9c179e"
             ],
             [
              0.4444444444444444,
              "#bd3786"
             ],
             [
              0.5555555555555556,
              "#d8576b"
             ],
             [
              0.6666666666666666,
              "#ed7953"
             ],
             [
              0.7777777777777778,
              "#fb9f3a"
             ],
             [
              0.8888888888888888,
              "#fdca26"
             ],
             [
              1,
              "#f0f921"
             ]
            ],
            "type": "contour"
           }
          ],
          "contourcarpet": [
           {
            "colorbar": {
             "outlinewidth": 0,
             "ticks": ""
            },
            "type": "contourcarpet"
           }
          ],
          "heatmap": [
           {
            "colorbar": {
             "outlinewidth": 0,
             "ticks": ""
            },
            "colorscale": [
             [
              0,
              "#0d0887"
             ],
             [
              0.1111111111111111,
              "#46039f"
             ],
             [
              0.2222222222222222,
              "#7201a8"
             ],
             [
              0.3333333333333333,
              "#9c179e"
             ],
             [
              0.4444444444444444,
              "#bd3786"
             ],
             [
              0.5555555555555556,
              "#d8576b"
             ],
             [
              0.6666666666666666,
              "#ed7953"
             ],
             [
              0.7777777777777778,
              "#fb9f3a"
             ],
             [
              0.8888888888888888,
              "#fdca26"
             ],
             [
              1,
              "#f0f921"
             ]
            ],
            "type": "heatmap"
           }
          ],
          "heatmapgl": [
           {
            "colorbar": {
             "outlinewidth": 0,
             "ticks": ""
            },
            "colorscale": [
             [
              0,
              "#0d0887"
             ],
             [
              0.1111111111111111,
              "#46039f"
             ],
             [
              0.2222222222222222,
              "#7201a8"
             ],
             [
              0.3333333333333333,
              "#9c179e"
             ],
             [
              0.4444444444444444,
              "#bd3786"
             ],
             [
              0.5555555555555556,
              "#d8576b"
             ],
             [
              0.6666666666666666,
              "#ed7953"
             ],
             [
              0.7777777777777778,
              "#fb9f3a"
             ],
             [
              0.8888888888888888,
              "#fdca26"
             ],
             [
              1,
              "#f0f921"
             ]
            ],
            "type": "heatmapgl"
           }
          ],
          "histogram": [
           {
            "marker": {
             "colorbar": {
              "outlinewidth": 0,
              "ticks": ""
             }
            },
            "type": "histogram"
           }
          ],
          "histogram2d": [
           {
            "colorbar": {
             "outlinewidth": 0,
             "ticks": ""
            },
            "colorscale": [
             [
              0,
              "#0d0887"
             ],
             [
              0.1111111111111111,
              "#46039f"
             ],
             [
              0.2222222222222222,
              "#7201a8"
             ],
             [
              0.3333333333333333,
              "#9c179e"
             ],
             [
              0.4444444444444444,
              "#bd3786"
             ],
             [
              0.5555555555555556,
              "#d8576b"
             ],
             [
              0.6666666666666666,
              "#ed7953"
             ],
             [
              0.7777777777777778,
              "#fb9f3a"
             ],
             [
              0.8888888888888888,
              "#fdca26"
             ],
             [
              1,
              "#f0f921"
             ]
            ],
            "type": "histogram2d"
           }
          ],
          "histogram2dcontour": [
           {
            "colorbar": {
             "outlinewidth": 0,
             "ticks": ""
            },
            "colorscale": [
             [
              0,
              "#0d0887"
             ],
             [
              0.1111111111111111,
              "#46039f"
             ],
             [
              0.2222222222222222,
              "#7201a8"
             ],
             [
              0.3333333333333333,
              "#9c179e"
             ],
             [
              0.4444444444444444,
              "#bd3786"
             ],
             [
              0.5555555555555556,
              "#d8576b"
             ],
             [
              0.6666666666666666,
              "#ed7953"
             ],
             [
              0.7777777777777778,
              "#fb9f3a"
             ],
             [
              0.8888888888888888,
              "#fdca26"
             ],
             [
              1,
              "#f0f921"
             ]
            ],
            "type": "histogram2dcontour"
           }
          ],
          "mesh3d": [
           {
            "colorbar": {
             "outlinewidth": 0,
             "ticks": ""
            },
            "type": "mesh3d"
           }
          ],
          "parcoords": [
           {
            "line": {
             "colorbar": {
              "outlinewidth": 0,
              "ticks": ""
             }
            },
            "type": "parcoords"
           }
          ],
          "pie": [
           {
            "automargin": true,
            "type": "pie"
           }
          ],
          "scatter": [
           {
            "marker": {
             "colorbar": {
              "outlinewidth": 0,
              "ticks": ""
             }
            },
            "type": "scatter"
           }
          ],
          "scatter3d": [
           {
            "line": {
             "colorbar": {
              "outlinewidth": 0,
              "ticks": ""
             }
            },
            "marker": {
             "colorbar": {
              "outlinewidth": 0,
              "ticks": ""
             }
            },
            "type": "scatter3d"
           }
          ],
          "scattercarpet": [
           {
            "marker": {
             "colorbar": {
              "outlinewidth": 0,
              "ticks": ""
             }
            },
            "type": "scattercarpet"
           }
          ],
          "scattergeo": [
           {
            "marker": {
             "colorbar": {
              "outlinewidth": 0,
              "ticks": ""
             }
            },
            "type": "scattergeo"
           }
          ],
          "scattergl": [
           {
            "marker": {
             "colorbar": {
              "outlinewidth": 0,
              "ticks": ""
             }
            },
            "type": "scattergl"
           }
          ],
          "scattermapbox": [
           {
            "marker": {
             "colorbar": {
              "outlinewidth": 0,
              "ticks": ""
             }
            },
            "type": "scattermapbox"
           }
          ],
          "scatterpolar": [
           {
            "marker": {
             "colorbar": {
              "outlinewidth": 0,
              "ticks": ""
             }
            },
            "type": "scatterpolar"
           }
          ],
          "scatterpolargl": [
           {
            "marker": {
             "colorbar": {
              "outlinewidth": 0,
              "ticks": ""
             }
            },
            "type": "scatterpolargl"
           }
          ],
          "scatterternary": [
           {
            "marker": {
             "colorbar": {
              "outlinewidth": 0,
              "ticks": ""
             }
            },
            "type": "scatterternary"
           }
          ],
          "surface": [
           {
            "colorbar": {
             "outlinewidth": 0,
             "ticks": ""
            },
            "colorscale": [
             [
              0,
              "#0d0887"
             ],
             [
              0.1111111111111111,
              "#46039f"
             ],
             [
              0.2222222222222222,
              "#7201a8"
             ],
             [
              0.3333333333333333,
              "#9c179e"
             ],
             [
              0.4444444444444444,
              "#bd3786"
             ],
             [
              0.5555555555555556,
              "#d8576b"
             ],
             [
              0.6666666666666666,
              "#ed7953"
             ],
             [
              0.7777777777777778,
              "#fb9f3a"
             ],
             [
              0.8888888888888888,
              "#fdca26"
             ],
             [
              1,
              "#f0f921"
             ]
            ],
            "type": "surface"
           }
          ],
          "table": [
           {
            "cells": {
             "fill": {
              "color": "#EBF0F8"
             },
             "line": {
              "color": "white"
             }
            },
            "header": {
             "fill": {
              "color": "#C8D4E3"
             },
             "line": {
              "color": "white"
             }
            },
            "type": "table"
           }
          ]
         },
         "layout": {
          "annotationdefaults": {
           "arrowcolor": "#2a3f5f",
           "arrowhead": 0,
           "arrowwidth": 1
          },
          "coloraxis": {
           "colorbar": {
            "outlinewidth": 0,
            "ticks": ""
           }
          },
          "colorscale": {
           "diverging": [
            [
             0,
             "#8e0152"
            ],
            [
             0.1,
             "#c51b7d"
            ],
            [
             0.2,
             "#de77ae"
            ],
            [
             0.3,
             "#f1b6da"
            ],
            [
             0.4,
             "#fde0ef"
            ],
            [
             0.5,
             "#f7f7f7"
            ],
            [
             0.6,
             "#e6f5d0"
            ],
            [
             0.7,
             "#b8e186"
            ],
            [
             0.8,
             "#7fbc41"
            ],
            [
             0.9,
             "#4d9221"
            ],
            [
             1,
             "#276419"
            ]
           ],
           "sequential": [
            [
             0,
             "#0d0887"
            ],
            [
             0.1111111111111111,
             "#46039f"
            ],
            [
             0.2222222222222222,
             "#7201a8"
            ],
            [
             0.3333333333333333,
             "#9c179e"
            ],
            [
             0.4444444444444444,
             "#bd3786"
            ],
            [
             0.5555555555555556,
             "#d8576b"
            ],
            [
             0.6666666666666666,
             "#ed7953"
            ],
            [
             0.7777777777777778,
             "#fb9f3a"
            ],
            [
             0.8888888888888888,
             "#fdca26"
            ],
            [
             1,
             "#f0f921"
            ]
           ],
           "sequentialminus": [
            [
             0,
             "#0d0887"
            ],
            [
             0.1111111111111111,
             "#46039f"
            ],
            [
             0.2222222222222222,
             "#7201a8"
            ],
            [
             0.3333333333333333,
             "#9c179e"
            ],
            [
             0.4444444444444444,
             "#bd3786"
            ],
            [
             0.5555555555555556,
             "#d8576b"
            ],
            [
             0.6666666666666666,
             "#ed7953"
            ],
            [
             0.7777777777777778,
             "#fb9f3a"
            ],
            [
             0.8888888888888888,
             "#fdca26"
            ],
            [
             1,
             "#f0f921"
            ]
           ]
          },
          "colorway": [
           "#636efa",
           "#EF553B",
           "#00cc96",
           "#ab63fa",
           "#FFA15A",
           "#19d3f3",
           "#FF6692",
           "#B6E880",
           "#FF97FF",
           "#FECB52"
          ],
          "font": {
           "color": "#2a3f5f"
          },
          "geo": {
           "bgcolor": "white",
           "lakecolor": "white",
           "landcolor": "#E5ECF6",
           "showlakes": true,
           "showland": true,
           "subunitcolor": "white"
          },
          "hoverlabel": {
           "align": "left"
          },
          "hovermode": "closest",
          "mapbox": {
           "style": "light"
          },
          "paper_bgcolor": "white",
          "plot_bgcolor": "#E5ECF6",
          "polar": {
           "angularaxis": {
            "gridcolor": "white",
            "linecolor": "white",
            "ticks": ""
           },
           "bgcolor": "#E5ECF6",
           "radialaxis": {
            "gridcolor": "white",
            "linecolor": "white",
            "ticks": ""
           }
          },
          "scene": {
           "xaxis": {
            "backgroundcolor": "#E5ECF6",
            "gridcolor": "white",
            "gridwidth": 2,
            "linecolor": "white",
            "showbackground": true,
            "ticks": "",
            "zerolinecolor": "white"
           },
           "yaxis": {
            "backgroundcolor": "#E5ECF6",
            "gridcolor": "white",
            "gridwidth": 2,
            "linecolor": "white",
            "showbackground": true,
            "ticks": "",
            "zerolinecolor": "white"
           },
           "zaxis": {
            "backgroundcolor": "#E5ECF6",
            "gridcolor": "white",
            "gridwidth": 2,
            "linecolor": "white",
            "showbackground": true,
            "ticks": "",
            "zerolinecolor": "white"
           }
          },
          "shapedefaults": {
           "line": {
            "color": "#2a3f5f"
           }
          },
          "ternary": {
           "aaxis": {
            "gridcolor": "white",
            "linecolor": "white",
            "ticks": ""
           },
           "baxis": {
            "gridcolor": "white",
            "linecolor": "white",
            "ticks": ""
           },
           "bgcolor": "#E5ECF6",
           "caxis": {
            "gridcolor": "white",
            "linecolor": "white",
            "ticks": ""
           }
          },
          "title": {
           "x": 0.05
          },
          "xaxis": {
           "automargin": true,
           "gridcolor": "white",
           "linecolor": "white",
           "ticks": "",
           "title": {
            "standoff": 15
           },
           "zerolinecolor": "white",
           "zerolinewidth": 2
          },
          "yaxis": {
           "automargin": true,
           "gridcolor": "white",
           "linecolor": "white",
           "ticks": "",
           "title": {
            "standoff": 15
           },
           "zerolinecolor": "white",
           "zerolinewidth": 2
          }
         }
        },
        "xaxis": {
         "anchor": "y",
         "domain": [
          0,
          1
         ],
         "title": {
          "text": "slopeData"
         },
         "type": "log"
        },
        "yaxis": {
         "anchor": "x",
         "domain": [
          0,
          1
         ],
         "title": {
          "text": "varianceVal"
         }
        }
       }
      },
      "text/html": [
       "<div>\n",
       "        \n",
       "        \n",
       "            <div id=\"4be03e19-0769-4584-ab0f-26e515730768\" class=\"plotly-graph-div\" style=\"height:525px; width:100%;\"></div>\n",
       "            <script type=\"text/javascript\">\n",
       "                require([\"plotly\"], function(Plotly) {\n",
       "                    window.PLOTLYENV=window.PLOTLYENV || {};\n",
       "                    \n",
       "                if (document.getElementById(\"4be03e19-0769-4584-ab0f-26e515730768\")) {\n",
       "                    Plotly.newPlot(\n",
       "                        '4be03e19-0769-4584-ab0f-26e515730768',\n",
       "                        [{\"hoverlabel\": {\"namelength\": 0}, \"hovertemplate\": \"<b>%{hovertext}</b><br><br>countryName=Afghanistan<br>slopeData=%{x}<br>varianceVal=%{y}<br>lastValue=%{marker.size}\", \"hovertext\": [\"Afghanistan\"], \"legendgroup\": \"Afghanistan\", \"marker\": {\"color\": \"#636efa\", \"size\": [120], \"sizemode\": \"area\", \"sizeref\": 39.135, \"symbol\": \"circle\"}, \"mode\": \"markers\", \"name\": \"Afghanistan\", \"showlegend\": true, \"type\": \"scatter\", \"x\": [1.851662404092072], \"xaxis\": \"x\", \"y\": [0.09004806244226382], \"yaxis\": \"y\"}, {\"hoverlabel\": {\"namelength\": 0}, \"hovertemplate\": \"<b>%{hovertext}</b><br><br>countryName=Albania<br>slopeData=%{x}<br>varianceVal=%{y}<br>lastValue=%{marker.size}\", \"hovertext\": [\"Albania\"], \"legendgroup\": \"Albania\", \"marker\": {\"color\": \"#EF553B\", \"size\": [212], \"sizemode\": \"area\", \"sizeref\": 39.135, \"symbol\": \"circle\"}, \"mode\": \"markers\", \"name\": \"Albania\", \"showlegend\": true, \"type\": \"scatter\", \"x\": [8.853658536585366], \"xaxis\": \"x\", \"y\": [0.09097053182573107], \"yaxis\": \"y\"}, {\"hoverlabel\": {\"namelength\": 0}, \"hovertemplate\": \"<b>%{hovertext}</b><br><br>countryName=Algeria<br>slopeData=%{x}<br>varianceVal=%{y}<br>lastValue=%{marker.size}\", \"hovertext\": [\"Algeria\"], \"legendgroup\": \"Algeria\", \"marker\": {\"color\": \"#00cc96\", \"size\": [511], \"sizemode\": \"area\", \"sizeref\": 39.135, \"symbol\": \"circle\"}, \"mode\": \"markers\", \"name\": \"Algeria\", \"showlegend\": true, \"type\": \"scatter\", \"x\": [7.851464602123074], \"xaxis\": \"x\", \"y\": [0.08047810996302994], \"yaxis\": \"y\"}, {\"hoverlabel\": {\"namelength\": 0}, \"hovertemplate\": \"<b>%{hovertext}</b><br><br>countryName=Andorra<br>slopeData=%{x}<br>varianceVal=%{y}<br>lastValue=%{marker.size}\", \"hovertext\": [\"Andorra\"], \"legendgroup\": \"Andorra\", \"marker\": {\"color\": \"#ab63fa\", \"size\": [334], \"sizemode\": \"area\", \"sizeref\": 39.135, \"symbol\": \"circle\"}, \"mode\": \"markers\", \"name\": \"Andorra\", \"showlegend\": true, \"type\": \"scatter\", \"x\": [6.827272727272728], \"xaxis\": \"x\", \"y\": [0.09373810057529493], \"yaxis\": \"y\"}, {\"hoverlabel\": {\"namelength\": 0}, \"hovertemplate\": \"<b>%{hovertext}</b><br><br>countryName=Angola<br>slopeData=%{x}<br>varianceVal=%{y}<br>lastValue=%{marker.size}\", \"hovertext\": [\"Angola\"], \"legendgroup\": \"Angola\", \"marker\": {\"color\": \"#FFA15A\", \"size\": [7], \"sizemode\": \"area\", \"sizeref\": 39.135, \"symbol\": \"circle\"}, \"mode\": \"markers\", \"name\": \"Angola\", \"showlegend\": true, \"type\": \"scatter\", \"x\": [0.6912280701754387], \"xaxis\": \"x\", \"y\": [0.07333333333333332], \"yaxis\": \"y\"}, {\"hoverlabel\": {\"namelength\": 0}, \"hovertemplate\": \"<b>%{hovertext}</b><br><br>countryName=Antigua and Barbuda<br>slopeData=%{x}<br>varianceVal=%{y}<br>lastValue=%{marker.size}\", \"hovertext\": [\"Antigua and Barbuda\"], \"legendgroup\": \"Antigua and Barbuda\", \"marker\": {\"color\": \"#19d3f3\", \"size\": [7], \"sizemode\": \"area\", \"sizeref\": 39.135, \"symbol\": \"circle\"}, \"mode\": \"markers\", \"name\": \"Antigua and Barbuda\", \"showlegend\": true, \"type\": \"scatter\", \"x\": [0.3676470588235293], \"xaxis\": \"x\", \"y\": [0.16839677047289503], \"yaxis\": \"y\"}, {\"hoverlabel\": {\"namelength\": 0}, \"hovertemplate\": \"<b>%{hovertext}</b><br><br>countryName=Argentina<br>slopeData=%{x}<br>varianceVal=%{y}<br>lastValue=%{marker.size}\", \"hovertext\": [\"Argentina\"], \"legendgroup\": \"Argentina\", \"marker\": {\"color\": \"#FF6692\", \"size\": [745], \"sizemode\": \"area\", \"sizeref\": 39.135, \"symbol\": \"circle\"}, \"mode\": \"markers\", \"name\": \"Argentina\", \"showlegend\": true, \"type\": \"scatter\", \"x\": [16.334945976455412], \"xaxis\": \"x\", \"y\": [0.09090770224710995], \"yaxis\": \"y\"}, {\"hoverlabel\": {\"namelength\": 0}, \"hovertemplate\": \"<b>%{hovertext}</b><br><br>countryName=Armenia<br>slopeData=%{x}<br>varianceVal=%{y}<br>lastValue=%{marker.size}\", \"hovertext\": [\"Armenia\"], \"legendgroup\": \"Armenia\", \"marker\": {\"color\": \"#B6E880\", \"size\": [424], \"sizemode\": \"area\", \"sizeref\": 39.135, \"symbol\": \"circle\"}, \"mode\": \"markers\", \"name\": \"Armenia\", \"showlegend\": true, \"type\": \"scatter\", \"x\": [9.34651283380866], \"xaxis\": \"x\", \"y\": [0.0980795171088295], \"yaxis\": \"y\"}, {\"hoverlabel\": {\"namelength\": 0}, \"hovertemplate\": \"<b>%{hovertext}</b><br><br>countryName=AustraliaAustralian Capital Territory<br>slopeData=%{x}<br>varianceVal=%{y}<br>lastValue=%{marker.size}\", \"hovertext\": [\"AustraliaAustralian Capital Territory\"], \"legendgroup\": \"AustraliaAustralian Capital Territory\", \"marker\": {\"color\": \"#FF97FF\", \"size\": [77], \"sizemode\": \"area\", \"sizeref\": 39.135, \"symbol\": \"circle\"}, \"mode\": \"markers\", \"name\": \"AustraliaAustralian Capital Territory\", \"showlegend\": true, \"type\": \"scatter\", \"x\": [3.6176470588235285], \"xaxis\": \"x\", \"y\": [0.11993908692693304], \"yaxis\": \"y\"}, {\"hoverlabel\": {\"namelength\": 0}, \"hovertemplate\": \"<b>%{hovertext}</b><br><br>countryName=AustraliaNew South Wales<br>slopeData=%{x}<br>varianceVal=%{y}<br>lastValue=%{marker.size}\", \"hovertext\": [\"AustraliaNew South Wales\"], \"legendgroup\": \"AustraliaNew South Wales\", \"marker\": {\"color\": \"#FECB52\", \"size\": [1791], \"sizemode\": \"area\", \"sizeref\": 39.135, \"symbol\": \"circle\"}, \"mode\": \"markers\", \"name\": \"AustraliaNew South Wales\", \"showlegend\": true, \"type\": \"scatter\", \"x\": [8.009596456692913], \"xaxis\": \"x\", \"y\": [0.050482756931306896], \"yaxis\": \"y\"}, {\"hoverlabel\": {\"namelength\": 0}, \"hovertemplate\": \"<b>%{hovertext}</b><br><br>countryName=AustraliaNorthern Territory<br>slopeData=%{x}<br>varianceVal=%{y}<br>lastValue=%{marker.size}\", \"hovertext\": [\"AustraliaNorthern Territory\"], \"legendgroup\": \"AustraliaNorthern Territory\", \"marker\": {\"color\": \"#636efa\", \"size\": [15], \"sizemode\": \"area\", \"sizeref\": 39.135, \"symbol\": \"circle\"}, \"mode\": \"markers\", \"name\": \"AustraliaNorthern Territory\", \"showlegend\": true, \"type\": \"scatter\", \"x\": [0.34588235294117653], \"xaxis\": \"x\", \"y\": [0.09404339250493096], \"yaxis\": \"y\"}, {\"hoverlabel\": {\"namelength\": 0}, \"hovertemplate\": \"<b>%{hovertext}</b><br><br>countryName=AustraliaQueensland<br>slopeData=%{x}<br>varianceVal=%{y}<br>lastValue=%{marker.size}\", \"hovertext\": [\"AustraliaQueensland\"], \"legendgroup\": \"AustraliaQueensland\", \"marker\": {\"color\": \"#EF553B\", \"size\": [656], \"sizemode\": \"area\", \"sizeref\": 39.135, \"symbol\": \"circle\"}, \"mode\": \"markers\", \"name\": \"AustraliaQueensland\", \"showlegend\": true, \"type\": \"scatter\", \"x\": [3.64583389784582], \"xaxis\": \"x\", \"y\": [0.06191115048228532], \"yaxis\": \"y\"}, {\"hoverlabel\": {\"namelength\": 0}, \"hovertemplate\": \"<b>%{hovertext}</b><br><br>countryName=AustraliaSouth Australia<br>slopeData=%{x}<br>varianceVal=%{y}<br>lastValue=%{marker.size}\", \"hovertext\": [\"AustraliaSouth Australia\"], \"legendgroup\": \"AustraliaSouth Australia\", \"marker\": {\"color\": \"#00cc96\", \"size\": [299], \"sizemode\": \"area\", \"sizeref\": 39.135, \"symbol\": \"circle\"}, \"mode\": \"markers\", \"name\": \"AustraliaSouth Australia\", \"showlegend\": true, \"type\": \"scatter\", \"x\": [1.6931113390673087], \"xaxis\": \"x\", \"y\": [0.06151455682090784], \"yaxis\": \"y\"}, {\"hoverlabel\": {\"namelength\": 0}, \"hovertemplate\": \"<b>%{hovertext}</b><br><br>countryName=AustraliaTasmania<br>slopeData=%{x}<br>varianceVal=%{y}<br>lastValue=%{marker.size}\", \"hovertext\": [\"AustraliaTasmania\"], \"legendgroup\": \"AustraliaTasmania\", \"marker\": {\"color\": \"#ab63fa\", \"size\": [66], \"sizemode\": \"area\", \"sizeref\": 39.135, \"symbol\": \"circle\"}, \"mode\": \"markers\", \"name\": \"AustraliaTasmania\", \"showlegend\": true, \"type\": \"scatter\", \"x\": [1.3698412698412699], \"xaxis\": \"x\", \"y\": [0.0857010022944089], \"yaxis\": \"y\"}, {\"hoverlabel\": {\"namelength\": 0}, \"hovertemplate\": \"<b>%{hovertext}</b><br><br>countryName=AustraliaVictoria<br>slopeData=%{x}<br>varianceVal=%{y}<br>lastValue=%{marker.size}\", \"hovertext\": [\"AustraliaVictoria\"], \"legendgroup\": \"AustraliaVictoria\", \"marker\": {\"color\": \"#FFA15A\", \"size\": [769], \"sizemode\": \"area\", \"sizeref\": 39.135, \"symbol\": \"circle\"}, \"mode\": \"markers\", \"name\": \"AustraliaVictoria\", \"showlegend\": true, \"type\": \"scatter\", \"x\": [3.5664721597300337], \"xaxis\": \"x\", \"y\": [0.05237912966145408], \"yaxis\": \"y\"}, {\"hoverlabel\": {\"namelength\": 0}, \"hovertemplate\": \"<b>%{hovertext}</b><br><br>countryName=AustraliaWestern Australia<br>slopeData=%{x}<br>varianceVal=%{y}<br>lastValue=%{marker.size}\", \"hovertext\": [\"AustraliaWestern Australia\"], \"legendgroup\": \"AustraliaWestern Australia\", \"marker\": {\"color\": \"#19d3f3\", \"size\": [311], \"sizemode\": \"area\", \"sizeref\": 39.135, \"symbol\": \"circle\"}, \"mode\": \"markers\", \"name\": \"AustraliaWestern Australia\", \"showlegend\": true, \"type\": \"scatter\", \"x\": [5.881940385739336], \"xaxis\": \"x\", \"y\": [0.0885254541624919], \"yaxis\": \"y\"}, {\"hoverlabel\": {\"namelength\": 0}, \"hovertemplate\": \"<b>%{hovertext}</b><br><br>countryName=Austria<br>slopeData=%{x}<br>varianceVal=%{y}<br>lastValue=%{marker.size}\", \"hovertext\": [\"Austria\"], \"legendgroup\": \"Austria\", \"marker\": {\"color\": \"#FF6692\", \"size\": [8788], \"sizemode\": \"area\", \"sizeref\": 39.135, \"symbol\": \"circle\"}, \"mode\": \"markers\", \"name\": \"Austria\", \"showlegend\": true, \"type\": \"scatter\", \"x\": [146.44752174954107], \"xaxis\": \"x\", \"y\": [0.09314767775865157], \"yaxis\": \"y\"}, {\"hoverlabel\": {\"namelength\": 0}, \"hovertemplate\": \"<b>%{hovertext}</b><br><br>countryName=Azerbaijan<br>slopeData=%{x}<br>varianceVal=%{y}<br>lastValue=%{marker.size}\", \"hovertext\": [\"Azerbaijan\"], \"legendgroup\": \"Azerbaijan\", \"marker\": {\"color\": \"#B6E880\", \"size\": [209], \"sizemode\": \"area\", \"sizeref\": 39.135, \"symbol\": \"circle\"}, \"mode\": \"markers\", \"name\": \"Azerbaijan\", \"showlegend\": true, \"type\": \"scatter\", \"x\": [3.9678506611355977], \"xaxis\": \"x\", \"y\": [0.07456970384667674], \"yaxis\": \"y\"}, {\"hoverlabel\": {\"namelength\": 0}, \"hovertemplate\": \"<b>%{hovertext}</b><br><br>countryName=Bahamas<br>slopeData=%{x}<br>varianceVal=%{y}<br>lastValue=%{marker.size}\", \"hovertext\": [\"Bahamas\"], \"legendgroup\": \"Bahamas\", \"marker\": {\"color\": \"#FF97FF\", \"size\": [11], \"sizemode\": \"area\", \"sizeref\": 39.135, \"symbol\": \"circle\"}, \"mode\": \"markers\", \"name\": \"Bahamas\", \"showlegend\": true, \"type\": \"scatter\", \"x\": [0.7863247863247864], \"xaxis\": \"x\", \"y\": [0.11494897959183671], \"yaxis\": \"y\"}, {\"hoverlabel\": {\"namelength\": 0}, \"hovertemplate\": \"<b>%{hovertext}</b><br><br>countryName=Bahrain<br>slopeData=%{x}<br>varianceVal=%{y}<br>lastValue=%{marker.size}\", \"hovertext\": [\"Bahrain\"], \"legendgroup\": \"Bahrain\", \"marker\": {\"color\": \"#FECB52\", \"size\": [499], \"sizemode\": \"area\", \"sizeref\": 39.135, \"symbol\": \"circle\"}, \"mode\": \"markers\", \"name\": \"Bahrain\", \"showlegend\": true, \"type\": \"scatter\", \"x\": [12.347314578005117], \"xaxis\": \"x\", \"y\": [0.09460505739045023], \"yaxis\": \"y\"}, {\"hoverlabel\": {\"namelength\": 0}, \"hovertemplate\": \"<b>%{hovertext}</b><br><br>countryName=Bangladesh<br>slopeData=%{x}<br>varianceVal=%{y}<br>lastValue=%{marker.size}\", \"hovertext\": [\"Bangladesh\"], \"legendgroup\": \"Bangladesh\", \"marker\": {\"color\": \"#636efa\", \"size\": [48], \"sizemode\": \"area\", \"sizeref\": 39.135, \"symbol\": \"circle\"}, \"mode\": \"markers\", \"name\": \"Bangladesh\", \"showlegend\": true, \"type\": \"scatter\", \"x\": [2.1069163394744783], \"xaxis\": \"x\", \"y\": [0.1442954800530558], \"yaxis\": \"y\"}, {\"hoverlabel\": {\"namelength\": 0}, \"hovertemplate\": \"<b>%{hovertext}</b><br><br>countryName=Barbados<br>slopeData=%{x}<br>varianceVal=%{y}<br>lastValue=%{marker.size}\", \"hovertext\": [\"Barbados\"], \"legendgroup\": \"Barbados\", \"marker\": {\"color\": \"#EF553B\", \"size\": [33], \"sizemode\": \"area\", \"sizeref\": 39.135, \"symbol\": \"circle\"}, \"mode\": \"markers\", \"name\": \"Barbados\", \"showlegend\": true, \"type\": \"scatter\", \"x\": [2.4261538461538468], \"xaxis\": \"x\", \"y\": [0.09391105172742889], \"yaxis\": \"y\"}, {\"hoverlabel\": {\"namelength\": 0}, \"hovertemplate\": \"<b>%{hovertext}</b><br><br>countryName=Belarus<br>slopeData=%{x}<br>varianceVal=%{y}<br>lastValue=%{marker.size}\", \"hovertext\": [\"Belarus\"], \"legendgroup\": \"Belarus\", \"marker\": {\"color\": \"#00cc96\", \"size\": [94], \"sizemode\": \"area\", \"sizeref\": 39.135, \"symbol\": \"circle\"}, \"mode\": \"markers\", \"name\": \"Belarus\", \"showlegend\": true, \"type\": \"scatter\", \"x\": [2.8218931782125862], \"xaxis\": \"x\", \"y\": [0.14028003213305984], \"yaxis\": \"y\"}, {\"hoverlabel\": {\"namelength\": 0}, \"hovertemplate\": \"<b>%{hovertext}</b><br><br>countryName=Belgium<br>slopeData=%{x}<br>varianceVal=%{y}<br>lastValue=%{marker.size}\", \"hovertext\": [\"Belgium\"], \"legendgroup\": \"Belgium\", \"marker\": {\"color\": \"#ab63fa\", \"size\": [10836], \"sizemode\": \"area\", \"sizeref\": 39.135, \"symbol\": \"circle\"}, \"mode\": \"markers\", \"name\": \"Belgium\", \"showlegend\": true, \"type\": \"scatter\", \"x\": [58.81781113891207], \"xaxis\": \"x\", \"y\": [0.0478151479924055], \"yaxis\": \"y\"}, {\"hoverlabel\": {\"namelength\": 0}, \"hovertemplate\": \"<b>%{hovertext}</b><br><br>countryName=Benin<br>slopeData=%{x}<br>varianceVal=%{y}<br>lastValue=%{marker.size}\", \"hovertext\": [\"Benin\"], \"legendgroup\": \"Benin\", \"marker\": {\"color\": \"#FFA15A\", \"size\": [6], \"sizemode\": \"area\", \"sizeref\": 39.135, \"symbol\": \"circle\"}, \"mode\": \"markers\", \"name\": \"Benin\", \"showlegend\": true, \"type\": \"scatter\", \"x\": [0.5543345543345544], \"xaxis\": \"x\", \"y\": [0.17816326530612253], \"yaxis\": \"y\"}, {\"hoverlabel\": {\"namelength\": 0}, \"hovertemplate\": \"<b>%{hovertext}</b><br><br>countryName=Bhutan<br>slopeData=%{x}<br>varianceVal=%{y}<br>lastValue=%{marker.size}\", \"hovertext\": [\"Bhutan\"], \"legendgroup\": \"Bhutan\", \"marker\": {\"color\": \"#19d3f3\", \"size\": [4], \"sizemode\": \"area\", \"sizeref\": 39.135, \"symbol\": \"circle\"}, \"mode\": \"markers\", \"name\": \"Bhutan\", \"showlegend\": true, \"type\": \"scatter\", \"x\": [0.12719703977798338], \"xaxis\": \"x\", \"y\": [0.07330246913580248], \"yaxis\": \"y\"}, {\"hoverlabel\": {\"namelength\": 0}, \"hovertemplate\": \"<b>%{hovertext}</b><br><br>countryName=Bolivia<br>slopeData=%{x}<br>varianceVal=%{y}<br>lastValue=%{marker.size}\", \"hovertext\": [\"Bolivia\"], \"legendgroup\": \"Bolivia\", \"marker\": {\"color\": \"#FF6692\", \"size\": [81], \"sizemode\": \"area\", \"sizeref\": 39.135, \"symbol\": \"circle\"}, \"mode\": \"markers\", \"name\": \"Bolivia\", \"showlegend\": true, \"type\": \"scatter\", \"x\": [3.0602181128496926], \"xaxis\": \"x\", \"y\": [0.08504479136937798], \"yaxis\": \"y\"}, {\"hoverlabel\": {\"namelength\": 0}, \"hovertemplate\": \"<b>%{hovertext}</b><br><br>countryName=Bosnia and Herzegovina<br>slopeData=%{x}<br>varianceVal=%{y}<br>lastValue=%{marker.size}\", \"hovertext\": [\"Bosnia and Herzegovina\"], \"legendgroup\": \"Bosnia and Herzegovina\", \"marker\": {\"color\": \"#B6E880\", \"size\": [323], \"sizemode\": \"area\", \"sizeref\": 39.135, \"symbol\": \"circle\"}, \"mode\": \"markers\", \"name\": \"Bosnia and Herzegovina\", \"showlegend\": true, \"type\": \"scatter\", \"x\": [8.089795918367345], \"xaxis\": \"x\", \"y\": [0.08342009103172522], \"yaxis\": \"y\"}, {\"hoverlabel\": {\"namelength\": 0}, \"hovertemplate\": \"<b>%{hovertext}</b><br><br>countryName=Brazil<br>slopeData=%{x}<br>varianceVal=%{y}<br>lastValue=%{marker.size}\", \"hovertext\": [\"Brazil\"], \"legendgroup\": \"Brazil\", \"marker\": {\"color\": \"#FF97FF\", \"size\": [4256], \"sizemode\": \"area\", \"sizeref\": 39.135, \"symbol\": \"circle\"}, \"mode\": \"markers\", \"name\": \"Brazil\", \"showlegend\": true, \"type\": \"scatter\", \"x\": [65.73977272727272], \"xaxis\": \"x\", \"y\": [0.08736574600756708], \"yaxis\": \"y\"}, {\"hoverlabel\": {\"namelength\": 0}, \"hovertemplate\": \"<b>%{hovertext}</b><br><br>countryName=Brunei<br>slopeData=%{x}<br>varianceVal=%{y}<br>lastValue=%{marker.size}\", \"hovertext\": [\"Brunei\"], \"legendgroup\": \"Brunei\", \"marker\": {\"color\": \"#FECB52\", \"size\": [126], \"sizemode\": \"area\", \"sizeref\": 39.135, \"symbol\": \"circle\"}, \"mode\": \"markers\", \"name\": \"Brunei\", \"showlegend\": true, \"type\": \"scatter\", \"x\": [6.71637630662021], \"xaxis\": \"x\", \"y\": [0.0992220589569161], \"yaxis\": \"y\"}, {\"hoverlabel\": {\"namelength\": 0}, \"hovertemplate\": \"<b>%{hovertext}</b><br><br>countryName=Bulgaria<br>slopeData=%{x}<br>varianceVal=%{y}<br>lastValue=%{marker.size}\", \"hovertext\": [\"Bulgaria\"], \"legendgroup\": \"Bulgaria\", \"marker\": {\"color\": \"#636efa\", \"size\": [346], \"sizemode\": \"area\", \"sizeref\": 39.135, \"symbol\": \"circle\"}, \"mode\": \"markers\", \"name\": \"Bulgaria\", \"showlegend\": true, \"type\": \"scatter\", \"x\": [13.541226215644818], \"xaxis\": \"x\", \"y\": [0.10782953347798473], \"yaxis\": \"y\"}, {\"hoverlabel\": {\"namelength\": 0}, \"hovertemplate\": \"<b>%{hovertext}</b><br><br>countryName=Burkina Faso<br>slopeData=%{x}<br>varianceVal=%{y}<br>lastValue=%{marker.size}\", \"hovertext\": [\"Burkina Faso\"], \"legendgroup\": \"Burkina Faso\", \"marker\": {\"color\": \"#EF553B\", \"size\": [222], \"sizemode\": \"area\", \"sizeref\": 39.135, \"symbol\": \"circle\"}, \"mode\": \"markers\", \"name\": \"Burkina Faso\", \"showlegend\": true, \"type\": \"scatter\", \"x\": [8.582995951417002], \"xaxis\": \"x\", \"y\": [0.1104340615466514], \"yaxis\": \"y\"}, {\"hoverlabel\": {\"namelength\": 0}, \"hovertemplate\": \"<b>%{hovertext}</b><br><br>countryName=Cabo Verde<br>slopeData=%{x}<br>varianceVal=%{y}<br>lastValue=%{marker.size}\", \"hovertext\": [\"Cabo Verde\"], \"legendgroup\": \"Cabo Verde\", \"marker\": {\"color\": \"#00cc96\", \"size\": [6], \"sizemode\": \"area\", \"sizeref\": 39.135, \"symbol\": \"circle\"}, \"mode\": \"markers\", \"name\": \"Cabo Verde\", \"showlegend\": true, \"type\": \"scatter\", \"x\": [0.7122807017543861], \"xaxis\": \"x\", \"y\": [0.07240000000000002], \"yaxis\": \"y\"}, {\"hoverlabel\": {\"namelength\": 0}, \"hovertemplate\": \"<b>%{hovertext}</b><br><br>countryName=Cambodia<br>slopeData=%{x}<br>varianceVal=%{y}<br>lastValue=%{marker.size}\", \"hovertext\": [\"Cambodia\"], \"legendgroup\": \"Cambodia\", \"marker\": {\"color\": \"#ab63fa\", \"size\": [103], \"sizemode\": \"area\", \"sizeref\": 39.135, \"symbol\": \"circle\"}, \"mode\": \"markers\", \"name\": \"Cambodia\", \"showlegend\": true, \"type\": \"scatter\", \"x\": [0.7100092165898617], \"xaxis\": \"x\", \"y\": [0.09705906085503677], \"yaxis\": \"y\"}, {\"hoverlabel\": {\"namelength\": 0}, \"hovertemplate\": \"<b>%{hovertext}</b><br><br>countryName=Cameroon<br>slopeData=%{x}<br>varianceVal=%{y}<br>lastValue=%{marker.size}\", \"hovertext\": [\"Cameroon\"], \"legendgroup\": \"Cameroon\", \"marker\": {\"color\": \"#FFA15A\", \"size\": [139], \"sizemode\": \"area\", \"sizeref\": 39.135, \"symbol\": \"circle\"}, \"mode\": \"markers\", \"name\": \"Cameroon\", \"showlegend\": true, \"type\": \"scatter\", \"x\": [3.2442183163737286], \"xaxis\": \"x\", \"y\": [0.0771538389168942], \"yaxis\": \"y\"}, {\"hoverlabel\": {\"namelength\": 0}, \"hovertemplate\": \"<b>%{hovertext}</b><br><br>countryName=CanadaAlberta<br>slopeData=%{x}<br>varianceVal=%{y}<br>lastValue=%{marker.size}\", \"hovertext\": [\"CanadaAlberta\"], \"legendgroup\": \"CanadaAlberta\", \"marker\": {\"color\": \"#19d3f3\", \"size\": [621], \"sizemode\": \"area\", \"sizeref\": 39.135, \"symbol\": \"circle\"}, \"mode\": \"markers\", \"name\": \"CanadaAlberta\", \"showlegend\": true, \"type\": \"scatter\", \"x\": [18.487974098057357], \"xaxis\": \"x\", \"y\": [0.10246440610908775], \"yaxis\": \"y\"}, {\"hoverlabel\": {\"namelength\": 0}, \"hovertemplate\": \"<b>%{hovertext}</b><br><br>countryName=CanadaBritish Columbia<br>slopeData=%{x}<br>varianceVal=%{y}<br>lastValue=%{marker.size}\", \"hovertext\": [\"CanadaBritish Columbia\"], \"legendgroup\": \"CanadaBritish Columbia\", \"marker\": {\"color\": \"#FF6692\", \"size\": [884], \"sizemode\": \"area\", \"sizeref\": 39.135, \"symbol\": \"circle\"}, \"mode\": \"markers\", \"name\": \"CanadaBritish Columbia\", \"showlegend\": true, \"type\": \"scatter\", \"x\": [5.170073905921503], \"xaxis\": \"x\", \"y\": [0.06848777616818906], \"yaxis\": \"y\"}, {\"hoverlabel\": {\"namelength\": 0}, \"hovertemplate\": \"<b>%{hovertext}</b><br><br>countryName=CanadaGrand Princess<br>slopeData=%{x}<br>varianceVal=%{y}<br>lastValue=%{marker.size}\", \"hovertext\": [\"CanadaGrand Princess\"], \"legendgroup\": \"CanadaGrand Princess\", \"marker\": {\"color\": \"#B6E880\", \"size\": [13], \"sizemode\": \"area\", \"sizeref\": 39.135, \"symbol\": \"circle\"}, \"mode\": \"markers\", \"name\": \"CanadaGrand Princess\", \"showlegend\": true, \"type\": \"scatter\", \"x\": [1.0648395721925132], \"xaxis\": \"x\", \"y\": [0.15825445394492266], \"yaxis\": \"y\"}, {\"hoverlabel\": {\"namelength\": 0}, \"hovertemplate\": \"<b>%{hovertext}</b><br><br>countryName=CanadaManitoba<br>slopeData=%{x}<br>varianceVal=%{y}<br>lastValue=%{marker.size}\", \"hovertext\": [\"CanadaManitoba\"], \"legendgroup\": \"CanadaManitoba\", \"marker\": {\"color\": \"#FF97FF\", \"size\": [72], \"sizemode\": \"area\", \"sizeref\": 39.135, \"symbol\": \"circle\"}, \"mode\": \"markers\", \"name\": \"CanadaManitoba\", \"showlegend\": true, \"type\": \"scatter\", \"x\": [3.116310160427806], \"xaxis\": \"x\", \"y\": [0.08131637552232374], \"yaxis\": \"y\"}, {\"hoverlabel\": {\"namelength\": 0}, \"hovertemplate\": \"<b>%{hovertext}</b><br><br>countryName=CanadaNew Brunswick<br>slopeData=%{x}<br>varianceVal=%{y}<br>lastValue=%{marker.size}\", \"hovertext\": [\"CanadaNew Brunswick\"], \"legendgroup\": \"CanadaNew Brunswick\", \"marker\": {\"color\": \"#FECB52\", \"size\": [66], \"sizemode\": \"area\", \"sizeref\": 39.135, \"symbol\": \"circle\"}, \"mode\": \"markers\", \"name\": \"CanadaNew Brunswick\", \"showlegend\": true, \"type\": \"scatter\", \"x\": [2.2157420578473217], \"xaxis\": \"x\", \"y\": [0.07661689258961793], \"yaxis\": \"y\"}, {\"hoverlabel\": {\"namelength\": 0}, \"hovertemplate\": \"<b>%{hovertext}</b><br><br>countryName=CanadaNewfoundland and Labrador<br>slopeData=%{x}<br>varianceVal=%{y}<br>lastValue=%{marker.size}\", \"hovertext\": [\"CanadaNewfoundland and Labrador\"], \"legendgroup\": \"CanadaNewfoundland and Labrador\", \"marker\": {\"color\": \"#636efa\", \"size\": [135], \"sizemode\": \"area\", \"sizeref\": 39.135, \"symbol\": \"circle\"}, \"mode\": \"markers\", \"name\": \"CanadaNewfoundland and Labrador\", \"showlegend\": true, \"type\": \"scatter\", \"x\": [6.482758620689655], \"xaxis\": \"x\", \"y\": [0.11810252221479665], \"yaxis\": \"y\"}, {\"hoverlabel\": {\"namelength\": 0}, \"hovertemplate\": \"<b>%{hovertext}</b><br><br>countryName=CanadaNova Scotia<br>slopeData=%{x}<br>varianceVal=%{y}<br>lastValue=%{marker.size}\", \"hovertext\": [\"CanadaNova Scotia\"], \"legendgroup\": \"CanadaNova Scotia\", \"marker\": {\"color\": \"#EF553B\", \"size\": [122], \"sizemode\": \"area\", \"sizeref\": 39.135, \"symbol\": \"circle\"}, \"mode\": \"markers\", \"name\": \"CanadaNova Scotia\", \"showlegend\": true, \"type\": \"scatter\", \"x\": [7.73992673992674], \"xaxis\": \"x\", \"y\": [0.10619020783855951], \"yaxis\": \"y\"}, {\"hoverlabel\": {\"namelength\": 0}, \"hovertemplate\": \"<b>%{hovertext}</b><br><br>countryName=CanadaOntario<br>slopeData=%{x}<br>varianceVal=%{y}<br>lastValue=%{marker.size}\", \"hovertext\": [\"CanadaOntario\"], \"legendgroup\": \"CanadaOntario\", \"marker\": {\"color\": \"#00cc96\", \"size\": [1355], \"sizemode\": \"area\", \"sizeref\": 39.135, \"symbol\": \"circle\"}, \"mode\": \"markers\", \"name\": \"CanadaOntario\", \"showlegend\": true, \"type\": \"scatter\", \"x\": [5.9142646231721026], \"xaxis\": \"x\", \"y\": [0.0457492658570505], \"yaxis\": \"y\"}, {\"hoverlabel\": {\"namelength\": 0}, \"hovertemplate\": \"<b>%{hovertext}</b><br><br>countryName=CanadaPrince Edward Island<br>slopeData=%{x}<br>varianceVal=%{y}<br>lastValue=%{marker.size}\", \"hovertext\": [\"CanadaPrince Edward Island\"], \"legendgroup\": \"CanadaPrince Edward Island\", \"marker\": {\"color\": \"#ab63fa\", \"size\": [11], \"sizemode\": \"area\", \"sizeref\": 39.135, \"symbol\": \"circle\"}, \"mode\": \"markers\", \"name\": \"CanadaPrince Edward Island\", \"showlegend\": true, \"type\": \"scatter\", \"x\": [0.6088669950738914], \"xaxis\": \"x\", \"y\": [0.11733333333333333], \"yaxis\": \"y\"}, {\"hoverlabel\": {\"namelength\": 0}, \"hovertemplate\": \"<b>%{hovertext}</b><br><br>countryName=CanadaQuebec<br>slopeData=%{x}<br>varianceVal=%{y}<br>lastValue=%{marker.size}\", \"hovertext\": [\"CanadaQuebec\"], \"legendgroup\": \"CanadaQuebec\", \"marker\": {\"color\": \"#FFA15A\", \"size\": [2840], \"sizemode\": \"area\", \"sizeref\": 39.135, \"symbol\": \"circle\"}, \"mode\": \"markers\", \"name\": \"CanadaQuebec\", \"showlegend\": true, \"type\": \"scatter\", \"x\": [37.36308831306187], \"xaxis\": \"x\", \"y\": [0.07606754582204889], \"yaxis\": \"y\"}, {\"hoverlabel\": {\"namelength\": 0}, \"hovertemplate\": \"<b>%{hovertext}</b><br><br>countryName=CanadaSaskatchewan<br>slopeData=%{x}<br>varianceVal=%{y}<br>lastValue=%{marker.size}\", \"hovertext\": [\"CanadaSaskatchewan\"], \"legendgroup\": \"CanadaSaskatchewan\", \"marker\": {\"color\": \"#19d3f3\", \"size\": [156], \"sizemode\": \"area\", \"sizeref\": 39.135, \"symbol\": \"circle\"}, \"mode\": \"markers\", \"name\": \"CanadaSaskatchewan\", \"showlegend\": true, \"type\": \"scatter\", \"x\": [6.9478609625668435], \"xaxis\": \"x\", \"y\": [0.09563397551533985], \"yaxis\": \"y\"}, {\"hoverlabel\": {\"namelength\": 0}, \"hovertemplate\": \"<b>%{hovertext}</b><br><br>countryName=Central African Republic<br>slopeData=%{x}<br>varianceVal=%{y}<br>lastValue=%{marker.size}\", \"hovertext\": [\"Central African Republic\"], \"legendgroup\": \"Central African Republic\", \"marker\": {\"color\": \"#FF6692\", \"size\": [3], \"sizemode\": \"area\", \"sizeref\": 39.135, \"symbol\": \"circle\"}, \"mode\": \"markers\", \"name\": \"Central African Republic\", \"showlegend\": true, \"type\": \"scatter\", \"x\": [0.29064039408866993], \"xaxis\": \"x\", \"y\": [0.22222222222222224], \"yaxis\": \"y\"}, {\"hoverlabel\": {\"namelength\": 0}, \"hovertemplate\": \"<b>%{hovertext}</b><br><br>countryName=Chad<br>slopeData=%{x}<br>varianceVal=%{y}<br>lastValue=%{marker.size}\", \"hovertext\": [\"Chad\"], \"legendgroup\": \"Chad\", \"marker\": {\"color\": \"#B6E880\", \"size\": [3], \"sizemode\": \"area\", \"sizeref\": 39.135, \"symbol\": \"circle\"}, \"mode\": \"markers\", \"name\": \"Chad\", \"showlegend\": true, \"type\": \"scatter\", \"x\": [0.3766233766233766], \"xaxis\": \"x\", \"y\": [0.24793388429752064], \"yaxis\": \"y\"}, {\"hoverlabel\": {\"namelength\": 0}, \"hovertemplate\": \"<b>%{hovertext}</b><br><br>countryName=Chile<br>slopeData=%{x}<br>varianceVal=%{y}<br>lastValue=%{marker.size}\", \"hovertext\": [\"Chile\"], \"legendgroup\": \"Chile\", \"marker\": {\"color\": \"#FF97FF\", \"size\": [2139], \"sizemode\": \"area\", \"sizeref\": 39.135, \"symbol\": \"circle\"}, \"mode\": \"markers\", \"name\": \"Chile\", \"showlegend\": true, \"type\": \"scatter\", \"x\": [44.392517335913574], \"xaxis\": \"x\", \"y\": [0.08531627325343534], \"yaxis\": \"y\"}, {\"hoverlabel\": {\"namelength\": 0}, \"hovertemplate\": \"<b>%{hovertext}</b><br><br>countryName=ChinaAnhui<br>slopeData=%{x}<br>varianceVal=%{y}<br>lastValue=%{marker.size}\", \"hovertext\": [\"ChinaAnhui\"], \"legendgroup\": \"ChinaAnhui\", \"marker\": {\"color\": \"#FECB52\", \"size\": [990], \"sizemode\": \"area\", \"sizeref\": 39.135, \"symbol\": \"circle\"}, \"mode\": \"markers\", \"name\": \"ChinaAnhui\", \"showlegend\": true, \"type\": \"scatter\", \"x\": [20.971378402107113], \"xaxis\": \"x\", \"y\": [0.11368939359010884], \"yaxis\": \"y\"}, {\"hoverlabel\": {\"namelength\": 0}, \"hovertemplate\": \"<b>%{hovertext}</b><br><br>countryName=ChinaBeijing<br>slopeData=%{x}<br>varianceVal=%{y}<br>lastValue=%{marker.size}\", \"hovertext\": [\"ChinaBeijing\"], \"legendgroup\": \"ChinaBeijing\", \"marker\": {\"color\": \"#636efa\", \"size\": [577], \"sizemode\": \"area\", \"sizeref\": 39.135, \"symbol\": \"circle\"}, \"mode\": \"markers\", \"name\": \"ChinaBeijing\", \"showlegend\": true, \"type\": \"scatter\", \"x\": [9.745039508340652], \"xaxis\": \"x\", \"y\": [0.06799019106591597], \"yaxis\": \"y\"}, {\"hoverlabel\": {\"namelength\": 0}, \"hovertemplate\": \"<b>%{hovertext}</b><br><br>countryName=ChinaChongqing<br>slopeData=%{x}<br>varianceVal=%{y}<br>lastValue=%{marker.size}\", \"hovertext\": [\"ChinaChongqing\"], \"legendgroup\": \"ChinaChongqing\", \"marker\": {\"color\": \"#EF553B\", \"size\": [579], \"sizemode\": \"area\", \"sizeref\": 39.135, \"symbol\": \"circle\"}, \"mode\": \"markers\", \"name\": \"ChinaChongqing\", \"showlegend\": true, \"type\": \"scatter\", \"x\": [12.289757096868598], \"xaxis\": \"x\", \"y\": [0.09197450375251821], \"yaxis\": \"y\"}, {\"hoverlabel\": {\"namelength\": 0}, \"hovertemplate\": \"<b>%{hovertext}</b><br><br>countryName=ChinaFujian<br>slopeData=%{x}<br>varianceVal=%{y}<br>lastValue=%{marker.size}\", \"hovertext\": [\"ChinaFujian\"], \"legendgroup\": \"ChinaFujian\", \"marker\": {\"color\": \"#00cc96\", \"size\": [338], \"sizemode\": \"area\", \"sizeref\": 39.135, \"symbol\": \"circle\"}, \"mode\": \"markers\", \"name\": \"ChinaFujian\", \"showlegend\": true, \"type\": \"scatter\", \"x\": [6.48545507755341], \"xaxis\": \"x\", \"y\": [0.07308085589538864], \"yaxis\": \"y\"}, {\"hoverlabel\": {\"namelength\": 0}, \"hovertemplate\": \"<b>%{hovertext}</b><br><br>countryName=ChinaGansu<br>slopeData=%{x}<br>varianceVal=%{y}<br>lastValue=%{marker.size}\", \"hovertext\": [\"ChinaGansu\"], \"legendgroup\": \"ChinaGansu\", \"marker\": {\"color\": \"#ab63fa\", \"size\": [138], \"sizemode\": \"area\", \"sizeref\": 39.135, \"symbol\": \"circle\"}, \"mode\": \"markers\", \"name\": \"ChinaGansu\", \"showlegend\": true, \"type\": \"scatter\", \"x\": [2.538925332326747], \"xaxis\": \"x\", \"y\": [0.08292625244638761], \"yaxis\": \"y\"}, {\"hoverlabel\": {\"namelength\": 0}, \"hovertemplate\": \"<b>%{hovertext}</b><br><br>countryName=ChinaGuangdong<br>slopeData=%{x}<br>varianceVal=%{y}<br>lastValue=%{marker.size}\", \"hovertext\": [\"ChinaGuangdong\"], \"legendgroup\": \"ChinaGuangdong\", \"marker\": {\"color\": \"#FFA15A\", \"size\": [1475], \"sizemode\": \"area\", \"sizeref\": 39.135, \"symbol\": \"circle\"}, \"mode\": \"markers\", \"name\": \"ChinaGuangdong\", \"showlegend\": true, \"type\": \"scatter\", \"x\": [29.34869768803044], \"xaxis\": \"x\", \"y\": [0.09008198169944263], \"yaxis\": \"y\"}, {\"hoverlabel\": {\"namelength\": 0}, \"hovertemplate\": \"<b>%{hovertext}</b><br><br>countryName=ChinaGuangxi<br>slopeData=%{x}<br>varianceVal=%{y}<br>lastValue=%{marker.size}\", \"hovertext\": [\"ChinaGuangxi\"], \"legendgroup\": \"ChinaGuangxi\", \"marker\": {\"color\": \"#19d3f3\", \"size\": [254], \"sizemode\": \"area\", \"sizeref\": 39.135, \"symbol\": \"circle\"}, \"mode\": \"markers\", \"name\": \"ChinaGuangxi\", \"showlegend\": true, \"type\": \"scatter\", \"x\": [5.354287386596431], \"xaxis\": \"x\", \"y\": [0.09416075798511127], \"yaxis\": \"y\"}, {\"hoverlabel\": {\"namelength\": 0}, \"hovertemplate\": \"<b>%{hovertext}</b><br><br>countryName=ChinaGuizhou<br>slopeData=%{x}<br>varianceVal=%{y}<br>lastValue=%{marker.size}\", \"hovertext\": [\"ChinaGuizhou\"], \"legendgroup\": \"ChinaGuizhou\", \"marker\": {\"color\": \"#FF6692\", \"size\": [146], \"sizemode\": \"area\", \"sizeref\": 39.135, \"symbol\": \"circle\"}, \"mode\": \"markers\", \"name\": \"ChinaGuizhou\", \"showlegend\": true, \"type\": \"scatter\", \"x\": [3.0722368549409818], \"xaxis\": \"x\", \"y\": [0.12834936725730656], \"yaxis\": \"y\"}, {\"hoverlabel\": {\"namelength\": 0}, \"hovertemplate\": \"<b>%{hovertext}</b><br><br>countryName=ChinaHainan<br>slopeData=%{x}<br>varianceVal=%{y}<br>lastValue=%{marker.size}\", \"hovertext\": [\"ChinaHainan\"], \"legendgroup\": \"ChinaHainan\", \"marker\": {\"color\": \"#B6E880\", \"size\": [168], \"sizemode\": \"area\", \"sizeref\": 39.135, \"symbol\": \"circle\"}, \"mode\": \"markers\", \"name\": \"ChinaHainan\", \"showlegend\": true, \"type\": \"scatter\", \"x\": [3.5697688030436057], \"xaxis\": \"x\", \"y\": [0.10236803455679085], \"yaxis\": \"y\"}, {\"hoverlabel\": {\"namelength\": 0}, \"hovertemplate\": \"<b>%{hovertext}</b><br><br>countryName=ChinaHebei<br>slopeData=%{x}<br>varianceVal=%{y}<br>lastValue=%{marker.size}\", \"hovertext\": [\"ChinaHebei\"], \"legendgroup\": \"ChinaHebei\", \"marker\": {\"color\": \"#FF97FF\", \"size\": [319], \"sizemode\": \"area\", \"sizeref\": 39.135, \"symbol\": \"circle\"}, \"mode\": \"markers\", \"name\": \"ChinaHebei\", \"showlegend\": true, \"type\": \"scatter\", \"x\": [6.640522875816994], \"xaxis\": \"x\", \"y\": [0.1170089778262571], \"yaxis\": \"y\"}, {\"hoverlabel\": {\"namelength\": 0}, \"hovertemplate\": \"<b>%{hovertext}</b><br><br>countryName=ChinaHeilongjiang<br>slopeData=%{x}<br>varianceVal=%{y}<br>lastValue=%{marker.size}\", \"hovertext\": [\"ChinaHeilongjiang\"], \"legendgroup\": \"ChinaHeilongjiang\", \"marker\": {\"color\": \"#FECB52\", \"size\": [484], \"sizemode\": \"area\", \"sizeref\": 39.135, \"symbol\": \"circle\"}, \"mode\": \"markers\", \"name\": \"ChinaHeilongjiang\", \"showlegend\": true, \"type\": \"scatter\", \"x\": [10.240866753042717], \"xaxis\": \"x\", \"y\": [0.12450872441916513], \"yaxis\": \"y\"}, {\"hoverlabel\": {\"namelength\": 0}, \"hovertemplate\": \"<b>%{hovertext}</b><br><br>countryName=ChinaHenan<br>slopeData=%{x}<br>varianceVal=%{y}<br>lastValue=%{marker.size}\", \"hovertext\": [\"ChinaHenan\"], \"legendgroup\": \"ChinaHenan\", \"marker\": {\"color\": \"#636efa\", \"size\": [1276], \"sizemode\": \"area\", \"sizeref\": 39.135, \"symbol\": \"circle\"}, \"mode\": \"markers\", \"name\": \"ChinaHenan\", \"showlegend\": true, \"type\": \"scatter\", \"x\": [27.03032874841479], \"xaxis\": \"x\", \"y\": [0.10913425848798561], \"yaxis\": \"y\"}, {\"hoverlabel\": {\"namelength\": 0}, \"hovertemplate\": \"<b>%{hovertext}</b><br><br>countryName=ChinaHong Kong<br>slopeData=%{x}<br>varianceVal=%{y}<br>lastValue=%{marker.size}\", \"hovertext\": [\"ChinaHong Kong\"], \"legendgroup\": \"ChinaHong Kong\", \"marker\": {\"color\": \"#EF553B\", \"size\": [641], \"sizemode\": \"area\", \"sizeref\": 39.135, \"symbol\": \"circle\"}, \"mode\": \"markers\", \"name\": \"ChinaHong Kong\", \"showlegend\": true, \"type\": \"scatter\", \"x\": [4.284969547341897], \"xaxis\": \"x\", \"y\": [0.04781587715685682], \"yaxis\": \"y\"}, {\"hoverlabel\": {\"namelength\": 0}, \"hovertemplate\": \"<b>%{hovertext}</b><br><br>countryName=ChinaHubei<br>slopeData=%{x}<br>varianceVal=%{y}<br>lastValue=%{marker.size}\", \"hovertext\": [\"ChinaHubei\"], \"legendgroup\": \"ChinaHubei\", \"marker\": {\"color\": \"#00cc96\", \"size\": [67801], \"sizemode\": \"area\", \"sizeref\": 39.135, \"symbol\": \"circle\"}, \"mode\": \"markers\", \"name\": \"ChinaHubei\", \"showlegend\": true, \"type\": \"scatter\", \"x\": [1370.5105355575067], \"xaxis\": \"x\", \"y\": [0.14369814106845444], \"yaxis\": \"y\"}, {\"hoverlabel\": {\"namelength\": 0}, \"hovertemplate\": \"<b>%{hovertext}</b><br><br>countryName=ChinaHunan<br>slopeData=%{x}<br>varianceVal=%{y}<br>lastValue=%{marker.size}\", \"hovertext\": [\"ChinaHunan\"], \"legendgroup\": \"ChinaHunan\", \"marker\": {\"color\": \"#ab63fa\", \"size\": [1018], \"sizemode\": \"area\", \"sizeref\": 39.135, \"symbol\": \"circle\"}, \"mode\": \"markers\", \"name\": \"ChinaHunan\", \"showlegend\": true, \"type\": \"scatter\", \"x\": [21.722749000097554], \"xaxis\": \"x\", \"y\": [0.10367969237645248], \"yaxis\": \"y\"}, {\"hoverlabel\": {\"namelength\": 0}, \"hovertemplate\": \"<b>%{hovertext}</b><br><br>countryName=ChinaInner Mongolia<br>slopeData=%{x}<br>varianceVal=%{y}<br>lastValue=%{marker.size}\", \"hovertext\": [\"ChinaInner Mongolia\"], \"legendgroup\": \"ChinaInner Mongolia\", \"marker\": {\"color\": \"#FFA15A\", \"size\": [95], \"sizemode\": \"area\", \"sizeref\": 39.135, \"symbol\": \"circle\"}, \"mode\": \"markers\", \"name\": \"ChinaInner Mongolia\", \"showlegend\": true, \"type\": \"scatter\", \"x\": [1.692595953664656], \"xaxis\": \"x\", \"y\": [0.06134215524519654], \"yaxis\": \"y\"}, {\"hoverlabel\": {\"namelength\": 0}, \"hovertemplate\": \"<b>%{hovertext}</b><br><br>countryName=ChinaJiangsu<br>slopeData=%{x}<br>varianceVal=%{y}<br>lastValue=%{marker.size}\", \"hovertext\": [\"ChinaJiangsu\"], \"legendgroup\": \"ChinaJiangsu\", \"marker\": {\"color\": \"#19d3f3\", \"size\": [644], \"sizemode\": \"area\", \"sizeref\": 39.135, \"symbol\": \"circle\"}, \"mode\": \"markers\", \"name\": \"ChinaJiangsu\", \"showlegend\": true, \"type\": \"scatter\", \"x\": [13.382274900009755], \"xaxis\": \"x\", \"y\": [0.1088907163530862], \"yaxis\": \"y\"}, {\"hoverlabel\": {\"namelength\": 0}, \"hovertemplate\": \"<b>%{hovertext}</b><br><br>countryName=ChinaJiangxi<br>slopeData=%{x}<br>varianceVal=%{y}<br>lastValue=%{marker.size}\", \"hovertext\": [\"ChinaJiangxi\"], \"legendgroup\": \"ChinaJiangxi\", \"marker\": {\"color\": \"#FF6692\", \"size\": [937], \"sizemode\": \"area\", \"sizeref\": 39.135, \"symbol\": \"circle\"}, \"mode\": \"markers\", \"name\": \"ChinaJiangxi\", \"showlegend\": true, \"type\": \"scatter\", \"x\": [19.85019022534387], \"xaxis\": \"x\", \"y\": [0.11419421809193132], \"yaxis\": \"y\"}, {\"hoverlabel\": {\"namelength\": 0}, \"hovertemplate\": \"<b>%{hovertext}</b><br><br>countryName=ChinaJilin<br>slopeData=%{x}<br>varianceVal=%{y}<br>lastValue=%{marker.size}\", \"hovertext\": [\"ChinaJilin\"], \"legendgroup\": \"ChinaJilin\", \"marker\": {\"color\": \"#B6E880\", \"size\": [98], \"sizemode\": \"area\", \"sizeref\": 39.135, \"symbol\": \"circle\"}, \"mode\": \"markers\", \"name\": \"ChinaJilin\", \"showlegend\": true, \"type\": \"scatter\", \"x\": [2.0105385580640887], \"xaxis\": \"x\", \"y\": [0.10459454732593347], \"yaxis\": \"y\"}, {\"hoverlabel\": {\"namelength\": 0}, \"hovertemplate\": \"<b>%{hovertext}</b><br><br>countryName=ChinaLiaoning<br>slopeData=%{x}<br>varianceVal=%{y}<br>lastValue=%{marker.size}\", \"hovertext\": [\"ChinaLiaoning\"], \"legendgroup\": \"ChinaLiaoning\", \"marker\": {\"color\": \"#FF97FF\", \"size\": [134], \"sizemode\": \"area\", \"sizeref\": 39.135, \"symbol\": \"circle\"}, \"mode\": \"markers\", \"name\": \"ChinaLiaoning\", \"showlegend\": true, \"type\": \"scatter\", \"x\": [2.6827138815725298], \"xaxis\": \"x\", \"y\": [0.07655197976938304], \"yaxis\": \"y\"}, {\"hoverlabel\": {\"namelength\": 0}, \"hovertemplate\": \"<b>%{hovertext}</b><br><br>countryName=ChinaMacau<br>slopeData=%{x}<br>varianceVal=%{y}<br>lastValue=%{marker.size}\", \"hovertext\": [\"ChinaMacau\"], \"legendgroup\": \"ChinaMacau\", \"marker\": {\"color\": \"#FECB52\", \"size\": [37], \"sizemode\": \"area\", \"sizeref\": 39.135, \"symbol\": \"circle\"}, \"mode\": \"markers\", \"name\": \"ChinaMacau\", \"showlegend\": true, \"type\": \"scatter\", \"x\": [0.33714759535655064], \"xaxis\": \"x\", \"y\": [0.042613818403178266], \"yaxis\": \"y\"}, {\"hoverlabel\": {\"namelength\": 0}, \"hovertemplate\": \"<b>%{hovertext}</b><br><br>countryName=ChinaNingxia<br>slopeData=%{x}<br>varianceVal=%{y}<br>lastValue=%{marker.size}\", \"hovertext\": [\"ChinaNingxia\"], \"legendgroup\": \"ChinaNingxia\", \"marker\": {\"color\": \"#636efa\", \"size\": [75], \"sizemode\": \"area\", \"sizeref\": 39.135, \"symbol\": \"circle\"}, \"mode\": \"markers\", \"name\": \"ChinaNingxia\", \"showlegend\": true, \"type\": \"scatter\", \"x\": [1.5568920105355575], \"xaxis\": \"x\", \"y\": [0.1108040496308522], \"yaxis\": \"y\"}, {\"hoverlabel\": {\"namelength\": 0}, \"hovertemplate\": \"<b>%{hovertext}</b><br><br>countryName=ChinaQinghai<br>slopeData=%{x}<br>varianceVal=%{y}<br>lastValue=%{marker.size}\", \"hovertext\": [\"ChinaQinghai\"], \"legendgroup\": \"ChinaQinghai\", \"marker\": {\"color\": \"#EF553B\", \"size\": [18], \"sizemode\": \"area\", \"sizeref\": 39.135, \"symbol\": \"circle\"}, \"mode\": \"markers\", \"name\": \"ChinaQinghai\", \"showlegend\": true, \"type\": \"scatter\", \"x\": [0.4136851520572451], \"xaxis\": \"x\", \"y\": [0.06236563542925002], \"yaxis\": \"y\"}, {\"hoverlabel\": {\"namelength\": 0}, \"hovertemplate\": \"<b>%{hovertext}</b><br><br>countryName=ChinaShaanxi<br>slopeData=%{x}<br>varianceVal=%{y}<br>lastValue=%{marker.size}\", \"hovertext\": [\"ChinaShaanxi\"], \"legendgroup\": \"ChinaShaanxi\", \"marker\": {\"color\": \"#00cc96\", \"size\": [253], \"sizemode\": \"area\", \"sizeref\": 39.135, \"symbol\": \"circle\"}, \"mode\": \"markers\", \"name\": \"ChinaShaanxi\", \"showlegend\": true, \"type\": \"scatter\", \"x\": [5.363738382591486], \"xaxis\": \"x\", \"y\": [0.08766305546892404], \"yaxis\": \"y\"}, {\"hoverlabel\": {\"namelength\": 0}, \"hovertemplate\": \"<b>%{hovertext}</b><br><br>countryName=ChinaShandong<br>slopeData=%{x}<br>varianceVal=%{y}<br>lastValue=%{marker.size}\", \"hovertext\": [\"ChinaShandong\"], \"legendgroup\": \"ChinaShandong\", \"marker\": {\"color\": \"#ab63fa\", \"size\": [772], \"sizemode\": \"area\", \"sizeref\": 39.135, \"symbol\": \"circle\"}, \"mode\": \"markers\", \"name\": \"ChinaShandong\", \"showlegend\": true, \"type\": \"scatter\", \"x\": [15.50092673885475], \"xaxis\": \"x\", \"y\": [0.11247399409447788], \"yaxis\": \"y\"}, {\"hoverlabel\": {\"namelength\": 0}, \"hovertemplate\": \"<b>%{hovertext}</b><br><br>countryName=ChinaShanghai<br>slopeData=%{x}<br>varianceVal=%{y}<br>lastValue=%{marker.size}\", \"hovertext\": [\"ChinaShanghai\"], \"legendgroup\": \"ChinaShanghai\", \"marker\": {\"color\": \"#FFA15A\", \"size\": [492], \"sizemode\": \"area\", \"sizeref\": 39.135, \"symbol\": \"circle\"}, \"mode\": \"markers\", \"name\": \"ChinaShanghai\", \"showlegend\": true, \"type\": \"scatter\", \"x\": [7.893229928787437], \"xaxis\": \"x\", \"y\": [0.05675923488488022], \"yaxis\": \"y\"}, {\"hoverlabel\": {\"namelength\": 0}, \"hovertemplate\": \"<b>%{hovertext}</b><br><br>countryName=ChinaShanxi<br>slopeData=%{x}<br>varianceVal=%{y}<br>lastValue=%{marker.size}\", \"hovertext\": [\"ChinaShanxi\"], \"legendgroup\": \"ChinaShanxi\", \"marker\": {\"color\": \"#19d3f3\", \"size\": [136], \"sizemode\": \"area\", \"sizeref\": 39.135, \"symbol\": \"circle\"}, \"mode\": \"markers\", \"name\": \"ChinaShanxi\", \"showlegend\": true, \"type\": \"scatter\", \"x\": [2.850151204760512], \"xaxis\": \"x\", \"y\": [0.099838428714502], \"yaxis\": \"y\"}, {\"hoverlabel\": {\"namelength\": 0}, \"hovertemplate\": \"<b>%{hovertext}</b><br><br>countryName=ChinaSichuan<br>slopeData=%{x}<br>varianceVal=%{y}<br>lastValue=%{marker.size}\", \"hovertext\": [\"ChinaSichuan\"], \"legendgroup\": \"ChinaSichuan\", \"marker\": {\"color\": \"#FF6692\", \"size\": [550], \"sizemode\": \"area\", \"sizeref\": 39.135, \"symbol\": \"circle\"}, \"mode\": \"markers\", \"name\": \"ChinaSichuan\", \"showlegend\": true, \"type\": \"scatter\", \"x\": [11.352463174324456], \"xaxis\": \"x\", \"y\": [0.09919510346111049], \"yaxis\": \"y\"}, {\"hoverlabel\": {\"namelength\": 0}, \"hovertemplate\": \"<b>%{hovertext}</b><br><br>countryName=ChinaTianjin<br>slopeData=%{x}<br>varianceVal=%{y}<br>lastValue=%{marker.size}\", \"hovertext\": [\"ChinaTianjin\"], \"legendgroup\": \"ChinaTianjin\", \"marker\": {\"color\": \"#B6E880\", \"size\": [166], \"sizemode\": \"area\", \"sizeref\": 39.135, \"symbol\": \"circle\"}, \"mode\": \"markers\", \"name\": \"ChinaTianjin\", \"showlegend\": true, \"type\": \"scatter\", \"x\": [2.925665788703541], \"xaxis\": \"x\", \"y\": [0.07797834430041416], \"yaxis\": \"y\"}, {\"hoverlabel\": {\"namelength\": 0}, \"hovertemplate\": \"<b>%{hovertext}</b><br><br>countryName=ChinaTibet<br>slopeData=%{x}<br>varianceVal=%{y}<br>lastValue=%{marker.size}\", \"hovertext\": [\"ChinaTibet\"], \"legendgroup\": \"ChinaTibet\", \"marker\": {\"color\": \"#FF97FF\", \"size\": [1], \"sizemode\": \"area\", \"sizeref\": 39.135, \"symbol\": \"circle\"}, \"mode\": \"markers\", \"name\": \"ChinaTibet\", \"showlegend\": true, \"type\": \"scatter\", \"x\": [0.02521008403361344], \"xaxis\": \"x\", \"y\": [0.0], \"yaxis\": \"y\"}, {\"hoverlabel\": {\"namelength\": 0}, \"hovertemplate\": \"<b>%{hovertext}</b><br><br>countryName=ChinaXinjiang<br>slopeData=%{x}<br>varianceVal=%{y}<br>lastValue=%{marker.size}\", \"hovertext\": [\"ChinaXinjiang\"], \"legendgroup\": \"ChinaXinjiang\", \"marker\": {\"color\": \"#FECB52\", \"size\": [76], \"sizemode\": \"area\", \"sizeref\": 39.135, \"symbol\": \"circle\"}, \"mode\": \"markers\", \"name\": \"ChinaXinjiang\", \"showlegend\": true, \"type\": \"scatter\", \"x\": [1.6191734424256032], \"xaxis\": \"x\", \"y\": [0.1193863874049072], \"yaxis\": \"y\"}, {\"hoverlabel\": {\"namelength\": 0}, \"hovertemplate\": \"<b>%{hovertext}</b><br><br>countryName=ChinaYunnan<br>slopeData=%{x}<br>varianceVal=%{y}<br>lastValue=%{marker.size}\", \"hovertext\": [\"ChinaYunnan\"], \"legendgroup\": \"ChinaYunnan\", \"marker\": {\"color\": \"#636efa\", \"size\": [180], \"sizemode\": \"area\", \"sizeref\": 39.135, \"symbol\": \"circle\"}, \"mode\": \"markers\", \"name\": \"ChinaYunnan\", \"showlegend\": true, \"type\": \"scatter\", \"x\": [3.755604331284753], \"xaxis\": \"x\", \"y\": [0.08388954290723316], \"yaxis\": \"y\"}, {\"hoverlabel\": {\"namelength\": 0}, \"hovertemplate\": \"<b>%{hovertext}</b><br><br>countryName=ChinaZhejiang<br>slopeData=%{x}<br>varianceVal=%{y}<br>lastValue=%{marker.size}\", \"hovertext\": [\"ChinaZhejiang\"], \"legendgroup\": \"ChinaZhejiang\", \"marker\": {\"color\": \"#EF553B\", \"size\": [1254], \"sizemode\": \"area\", \"sizeref\": 39.135, \"symbol\": \"circle\"}, \"mode\": \"markers\", \"name\": \"ChinaZhejiang\", \"showlegend\": true, \"type\": \"scatter\", \"x\": [26.220700419471275], \"xaxis\": \"x\", \"y\": [0.09061178320878634], \"yaxis\": \"y\"}, {\"hoverlabel\": {\"namelength\": 0}, \"hovertemplate\": \"<b>%{hovertext}</b><br><br>countryName=Colombia<br>slopeData=%{x}<br>varianceVal=%{y}<br>lastValue=%{marker.size}\", \"hovertext\": [\"Colombia\"], \"legendgroup\": \"Colombia\", \"marker\": {\"color\": \"#00cc96\", \"size\": [702], \"sizemode\": \"area\", \"sizeref\": 39.135, \"symbol\": \"circle\"}, \"mode\": \"markers\", \"name\": \"Colombia\", \"showlegend\": true, \"type\": \"scatter\", \"x\": [19.407724329324697], \"xaxis\": \"x\", \"y\": [0.09784575122964749], \"yaxis\": \"y\"}, {\"hoverlabel\": {\"namelength\": 0}, \"hovertemplate\": \"<b>%{hovertext}</b><br><br>countryName=Congo (Brazzaville)<br>slopeData=%{x}<br>varianceVal=%{y}<br>lastValue=%{marker.size}\", \"hovertext\": [\"Congo (Brazzaville)\"], \"legendgroup\": \"Congo (Brazzaville)\", \"marker\": {\"color\": \"#ab63fa\", \"size\": [19], \"sizemode\": \"area\", \"sizeref\": 39.135, \"symbol\": \"circle\"}, \"mode\": \"markers\", \"name\": \"Congo (Brazzaville)\", \"showlegend\": true, \"type\": \"scatter\", \"x\": [0.5812807881773399], \"xaxis\": \"x\", \"y\": [0.054513031550068584], \"yaxis\": \"y\"}, {\"hoverlabel\": {\"namelength\": 0}, \"hovertemplate\": \"<b>%{hovertext}</b><br><br>countryName=Congo (Kinshasa)<br>slopeData=%{x}<br>varianceVal=%{y}<br>lastValue=%{marker.size}\", \"hovertext\": [\"Congo (Kinshasa)\"], \"legendgroup\": \"Congo (Kinshasa)\", \"marker\": {\"color\": \"#FFA15A\", \"size\": [65], \"sizemode\": \"area\", \"sizeref\": 39.135, \"symbol\": \"circle\"}, \"mode\": \"markers\", \"name\": \"Congo (Kinshasa)\", \"showlegend\": true, \"type\": \"scatter\", \"x\": [3.0602181128496926], \"xaxis\": \"x\", \"y\": [0.12832058301592797], \"yaxis\": \"y\"}, {\"hoverlabel\": {\"namelength\": 0}, \"hovertemplate\": \"<b>%{hovertext}</b><br><br>countryName=Costa Rica<br>slopeData=%{x}<br>varianceVal=%{y}<br>lastValue=%{marker.size}\", \"hovertext\": [\"Costa Rica\"], \"legendgroup\": \"Costa Rica\", \"marker\": {\"color\": \"#19d3f3\", \"size\": [314], \"sizemode\": \"area\", \"sizeref\": 39.135, \"symbol\": \"circle\"}, \"mode\": \"markers\", \"name\": \"Costa Rica\", \"showlegend\": true, \"type\": \"scatter\", \"x\": [9.6836262719704], \"xaxis\": \"x\", \"y\": [0.09995359926779557], \"yaxis\": \"y\"}, {\"hoverlabel\": {\"namelength\": 0}, \"hovertemplate\": \"<b>%{hovertext}</b><br><br>countryName=Cote d'Ivoire<br>slopeData=%{x}<br>varianceVal=%{y}<br>lastValue=%{marker.size}\", \"hovertext\": [\"Cote d'Ivoire\"], \"legendgroup\": \"Cote d'Ivoire\", \"marker\": {\"color\": \"#FF6692\", \"size\": [165], \"sizemode\": \"area\", \"sizeref\": 39.135, \"symbol\": \"circle\"}, \"mode\": \"markers\", \"name\": \"Cote d'Ivoire\", \"showlegend\": true, \"type\": \"scatter\", \"x\": [5.0478899952584175], \"xaxis\": \"x\", \"y\": [0.08557904788898574], \"yaxis\": \"y\"}, {\"hoverlabel\": {\"namelength\": 0}, \"hovertemplate\": \"<b>%{hovertext}</b><br><br>countryName=Croatia<br>slopeData=%{x}<br>varianceVal=%{y}<br>lastValue=%{marker.size}\", \"hovertext\": [\"Croatia\"], \"legendgroup\": \"Croatia\", \"marker\": {\"color\": \"#B6E880\", \"size\": [713], \"sizemode\": \"area\", \"sizeref\": 39.135, \"symbol\": \"circle\"}, \"mode\": \"markers\", \"name\": \"Croatia\", \"showlegend\": true, \"type\": \"scatter\", \"x\": [10.771809402186925], \"xaxis\": \"x\", \"y\": [0.08449397501069165], \"yaxis\": \"y\"}, {\"hoverlabel\": {\"namelength\": 0}, \"hovertemplate\": \"<b>%{hovertext}</b><br><br>countryName=Diamond Princess<br>slopeData=%{x}<br>varianceVal=%{y}<br>lastValue=%{marker.size}\", \"hovertext\": [\"Diamond Princess\"], \"legendgroup\": \"Diamond Princess\", \"marker\": {\"color\": \"#FF97FF\", \"size\": [712], \"sizemode\": \"area\", \"sizeref\": 39.135, \"symbol\": \"circle\"}, \"mode\": \"markers\", \"name\": \"Diamond Princess\", \"showlegend\": true, \"type\": \"scatter\", \"x\": [19.954751131221723], \"xaxis\": \"x\", \"y\": [0.10887696970760626], \"yaxis\": \"y\"}, {\"hoverlabel\": {\"namelength\": 0}, \"hovertemplate\": \"<b>%{hovertext}</b><br><br>countryName=Cuba<br>slopeData=%{x}<br>varianceVal=%{y}<br>lastValue=%{marker.size}\", \"hovertext\": [\"Cuba\"], \"legendgroup\": \"Cuba\", \"marker\": {\"color\": \"#FECB52\", \"size\": [139], \"sizemode\": \"area\", \"sizeref\": 39.135, \"symbol\": \"circle\"}, \"mode\": \"markers\", \"name\": \"Cuba\", \"showlegend\": true, \"type\": \"scatter\", \"x\": [5.049299719887955], \"xaxis\": \"x\", \"y\": [0.08776605685847322], \"yaxis\": \"y\"}, {\"hoverlabel\": {\"namelength\": 0}, \"hovertemplate\": \"<b>%{hovertext}</b><br><br>countryName=Cyprus<br>slopeData=%{x}<br>varianceVal=%{y}<br>lastValue=%{marker.size}\", \"hovertext\": [\"Cyprus\"], \"legendgroup\": \"Cyprus\", \"marker\": {\"color\": \"#636efa\", \"size\": [214], \"sizemode\": \"area\", \"sizeref\": 39.135, \"symbol\": \"circle\"}, \"mode\": \"markers\", \"name\": \"Cyprus\", \"showlegend\": true, \"type\": \"scatter\", \"x\": [8.271777003484319], \"xaxis\": \"x\", \"y\": [0.08741349274965711], \"yaxis\": \"y\"}, {\"hoverlabel\": {\"namelength\": 0}, \"hovertemplate\": \"<b>%{hovertext}</b><br><br>countryName=Czechia<br>slopeData=%{x}<br>varianceVal=%{y}<br>lastValue=%{marker.size}\", \"hovertext\": [\"Czechia\"], \"legendgroup\": \"Czechia\", \"marker\": {\"color\": \"#EF553B\", \"size\": [2817], \"sizemode\": \"area\", \"sizeref\": 39.135, \"symbol\": \"circle\"}, \"mode\": \"markers\", \"name\": \"Czechia\", \"showlegend\": true, \"type\": \"scatter\", \"x\": [59.29906663209749], \"xaxis\": \"x\", \"y\": [0.0898688883406107], \"yaxis\": \"y\"}, {\"hoverlabel\": {\"namelength\": 0}, \"hovertemplate\": \"<b>%{hovertext}</b><br><br>countryName=DenmarkFaroe Islands<br>slopeData=%{x}<br>varianceVal=%{y}<br>lastValue=%{marker.size}\", \"hovertext\": [\"DenmarkFaroe Islands\"], \"legendgroup\": \"DenmarkFaroe Islands\", \"marker\": {\"color\": \"#00cc96\", \"size\": [159], \"sizemode\": \"area\", \"sizeref\": 39.135, \"symbol\": \"circle\"}, \"mode\": \"markers\", \"name\": \"DenmarkFaroe Islands\", \"showlegend\": true, \"type\": \"scatter\", \"x\": [5.335384615384615], \"xaxis\": \"x\", \"y\": [0.13866909177618136], \"yaxis\": \"y\"}, {\"hoverlabel\": {\"namelength\": 0}, \"hovertemplate\": \"<b>%{hovertext}</b><br><br>countryName=DenmarkGreenland<br>slopeData=%{x}<br>varianceVal=%{y}<br>lastValue=%{marker.size}\", \"hovertext\": [\"DenmarkGreenland\"], \"legendgroup\": \"DenmarkGreenland\", \"marker\": {\"color\": \"#ab63fa\", \"size\": [10], \"sizemode\": \"area\", \"sizeref\": 39.135, \"symbol\": \"circle\"}, \"mode\": \"markers\", \"name\": \"DenmarkGreenland\", \"showlegend\": true, \"type\": \"scatter\", \"x\": [0.724053724053724], \"xaxis\": \"x\", \"y\": [0.13353489543965735], \"yaxis\": \"y\"}, {\"hoverlabel\": {\"namelength\": 0}, \"hovertemplate\": \"<b>%{hovertext}</b><br><br>countryName=Denmark<br>slopeData=%{x}<br>varianceVal=%{y}<br>lastValue=%{marker.size}\", \"hovertext\": [\"Denmark\"], \"legendgroup\": \"Denmark\", \"marker\": {\"color\": \"#FFA15A\", \"size\": [2395], \"sizemode\": \"area\", \"sizeref\": 39.135, \"symbol\": \"circle\"}, \"mode\": \"markers\", \"name\": \"Denmark\", \"showlegend\": true, \"type\": \"scatter\", \"x\": [58.333717357910906], \"xaxis\": \"x\", \"y\": [0.09815911382378947], \"yaxis\": \"y\"}, {\"hoverlabel\": {\"namelength\": 0}, \"hovertemplate\": \"<b>%{hovertext}</b><br><br>countryName=Djibouti<br>slopeData=%{x}<br>varianceVal=%{y}<br>lastValue=%{marker.size}\", \"hovertext\": [\"Djibouti\"], \"legendgroup\": \"Djibouti\", \"marker\": {\"color\": \"#19d3f3\", \"size\": [18], \"sizemode\": \"area\", \"sizeref\": 39.135, \"symbol\": \"circle\"}, \"mode\": \"markers\", \"name\": \"Djibouti\", \"showlegend\": true, \"type\": \"scatter\", \"x\": [1.2924901185770754], \"xaxis\": \"x\", \"y\": [0.12540849673202614], \"yaxis\": \"y\"}, {\"hoverlabel\": {\"namelength\": 0}, \"hovertemplate\": \"<b>%{hovertext}</b><br><br>countryName=Dominican Republic<br>slopeData=%{x}<br>varianceVal=%{y}<br>lastValue=%{marker.size}\", \"hovertext\": [\"Dominican Republic\"], \"legendgroup\": \"Dominican Republic\", \"marker\": {\"color\": \"#FF6692\", \"size\": [859], \"sizemode\": \"area\", \"sizeref\": 39.135, \"symbol\": \"circle\"}, \"mode\": \"markers\", \"name\": \"Dominican Republic\", \"showlegend\": true, \"type\": \"scatter\", \"x\": [13.31073373087892], \"xaxis\": \"x\", \"y\": [0.0756253448436414], \"yaxis\": \"y\"}, {\"hoverlabel\": {\"namelength\": 0}, \"hovertemplate\": \"<b>%{hovertext}</b><br><br>countryName=Ecuador<br>slopeData=%{x}<br>varianceVal=%{y}<br>lastValue=%{marker.size}\", \"hovertext\": [\"Ecuador\"], \"legendgroup\": \"Ecuador\", \"marker\": {\"color\": \"#B6E880\", \"size\": [1924], \"sizemode\": \"area\", \"sizeref\": 39.135, \"symbol\": \"circle\"}, \"mode\": \"markers\", \"name\": \"Ecuador\", \"showlegend\": true, \"type\": \"scatter\", \"x\": [38.47381384495722], \"xaxis\": \"x\", \"y\": [0.10246545756926437], \"yaxis\": \"y\"}, {\"hoverlabel\": {\"namelength\": 0}, \"hovertemplate\": \"<b>%{hovertext}</b><br><br>countryName=Egypt<br>slopeData=%{x}<br>varianceVal=%{y}<br>lastValue=%{marker.size}\", \"hovertext\": [\"Egypt\"], \"legendgroup\": \"Egypt\", \"marker\": {\"color\": \"#FF97FF\", \"size\": [609], \"sizemode\": \"area\", \"sizeref\": 39.135, \"symbol\": \"circle\"}, \"mode\": \"markers\", \"name\": \"Egypt\", \"showlegend\": true, \"type\": \"scatter\", \"x\": [7.419339462036092], \"xaxis\": \"x\", \"y\": [0.0890189769929209], \"yaxis\": \"y\"}, {\"hoverlabel\": {\"namelength\": 0}, \"hovertemplate\": \"<b>%{hovertext}</b><br><br>countryName=El Salvador<br>slopeData=%{x}<br>varianceVal=%{y}<br>lastValue=%{marker.size}\", \"hovertext\": [\"El Salvador\"], \"legendgroup\": \"El Salvador\", \"marker\": {\"color\": \"#FECB52\", \"size\": [24], \"sizemode\": \"area\", \"sizeref\": 39.135, \"symbol\": \"circle\"}, \"mode\": \"markers\", \"name\": \"El Salvador\", \"showlegend\": true, \"type\": \"scatter\", \"x\": [1.8519480519480513], \"xaxis\": \"x\", \"y\": [0.10426658751113126], \"yaxis\": \"y\"}, {\"hoverlabel\": {\"namelength\": 0}, \"hovertemplate\": \"<b>%{hovertext}</b><br><br>countryName=Equatorial Guinea<br>slopeData=%{x}<br>varianceVal=%{y}<br>lastValue=%{marker.size}\", \"hovertext\": [\"Equatorial Guinea\"], \"legendgroup\": \"Equatorial Guinea\", \"marker\": {\"color\": \"#636efa\", \"size\": [12], \"sizemode\": \"area\", \"sizeref\": 39.135, \"symbol\": \"circle\"}, \"mode\": \"markers\", \"name\": \"Equatorial Guinea\", \"showlegend\": true, \"type\": \"scatter\", \"x\": [0.9753694581280787], \"xaxis\": \"x\", \"y\": [0.128337924701561], \"yaxis\": \"y\"}, {\"hoverlabel\": {\"namelength\": 0}, \"hovertemplate\": \"<b>%{hovertext}</b><br><br>countryName=Eritrea<br>slopeData=%{x}<br>varianceVal=%{y}<br>lastValue=%{marker.size}\", \"hovertext\": [\"Eritrea\"], \"legendgroup\": \"Eritrea\", \"marker\": {\"color\": \"#EF553B\", \"size\": [12], \"sizemode\": \"area\", \"sizeref\": 39.135, \"symbol\": \"circle\"}, \"mode\": \"markers\", \"name\": \"Eritrea\", \"showlegend\": true, \"type\": \"scatter\", \"x\": [1.1078431372549018], \"xaxis\": \"x\", \"y\": [0.1024385266809509], \"yaxis\": \"y\"}, {\"hoverlabel\": {\"namelength\": 0}, \"hovertemplate\": \"<b>%{hovertext}</b><br><br>countryName=Estonia<br>slopeData=%{x}<br>varianceVal=%{y}<br>lastValue=%{marker.size}\", \"hovertext\": [\"Estonia\"], \"legendgroup\": \"Estonia\", \"marker\": {\"color\": \"#00cc96\", \"size\": [679], \"sizemode\": \"area\", \"sizeref\": 39.135, \"symbol\": \"circle\"}, \"mode\": \"markers\", \"name\": \"Estonia\", \"showlegend\": true, \"type\": \"scatter\", \"x\": [14.228206605222736], \"xaxis\": \"x\", \"y\": [0.09486627082068878], \"yaxis\": \"y\"}, {\"hoverlabel\": {\"namelength\": 0}, \"hovertemplate\": \"<b>%{hovertext}</b><br><br>countryName=Eswatini<br>slopeData=%{x}<br>varianceVal=%{y}<br>lastValue=%{marker.size}\", \"hovertext\": [\"Eswatini\"], \"legendgroup\": \"Eswatini\", \"marker\": {\"color\": \"#ab63fa\", \"size\": [9], \"sizemode\": \"area\", \"sizeref\": 39.135, \"symbol\": \"circle\"}, \"mode\": \"markers\", \"name\": \"Eswatini\", \"showlegend\": true, \"type\": \"scatter\", \"x\": [0.5080645161290323], \"xaxis\": \"x\", \"y\": [0.14447021484375], \"yaxis\": \"y\"}, {\"hoverlabel\": {\"namelength\": 0}, \"hovertemplate\": \"<b>%{hovertext}</b><br><br>countryName=Ethiopia<br>slopeData=%{x}<br>varianceVal=%{y}<br>lastValue=%{marker.size}\", \"hovertext\": [\"Ethiopia\"], \"legendgroup\": \"Ethiopia\", \"marker\": {\"color\": \"#FFA15A\", \"size\": [21], \"sizemode\": \"area\", \"sizeref\": 39.135, \"symbol\": \"circle\"}, \"mode\": \"markers\", \"name\": \"Ethiopia\", \"showlegend\": true, \"type\": \"scatter\", \"x\": [1.1229946524064167], \"xaxis\": \"x\", \"y\": [0.07631487889273357], \"yaxis\": \"y\"}, {\"hoverlabel\": {\"namelength\": 0}, \"hovertemplate\": \"<b>%{hovertext}</b><br><br>countryName=Fiji<br>slopeData=%{x}<br>varianceVal=%{y}<br>lastValue=%{marker.size}\", \"hovertext\": [\"Fiji\"], \"legendgroup\": \"Fiji\", \"marker\": {\"color\": \"#19d3f3\", \"size\": [5], \"sizemode\": \"area\", \"sizeref\": 39.135, \"symbol\": \"circle\"}, \"mode\": \"markers\", \"name\": \"Fiji\", \"showlegend\": true, \"type\": \"scatter\", \"x\": [0.6259740259740258], \"xaxis\": \"x\", \"y\": [0.18491735537190082], \"yaxis\": \"y\"}, {\"hoverlabel\": {\"namelength\": 0}, \"hovertemplate\": \"<b>%{hovertext}</b><br><br>countryName=Finland<br>slopeData=%{x}<br>varianceVal=%{y}<br>lastValue=%{marker.size}\", \"hovertext\": [\"Finland\"], \"legendgroup\": \"Finland\", \"marker\": {\"color\": \"#FF6692\", \"size\": [1240], \"sizemode\": \"area\", \"sizeref\": 39.135, \"symbol\": \"circle\"}, \"mode\": \"markers\", \"name\": \"Finland\", \"showlegend\": true, \"type\": \"scatter\", \"x\": [7.817626337894595], \"xaxis\": \"x\", \"y\": [0.06833547854825249], \"yaxis\": \"y\"}, {\"hoverlabel\": {\"namelength\": 0}, \"hovertemplate\": \"<b>%{hovertext}</b><br><br>countryName=FranceFrench Guiana<br>slopeData=%{x}<br>varianceVal=%{y}<br>lastValue=%{marker.size}\", \"hovertext\": [\"FranceFrench Guiana\"], \"legendgroup\": \"FranceFrench Guiana\", \"marker\": {\"color\": \"#B6E880\", \"size\": [28], \"sizemode\": \"area\", \"sizeref\": 39.135, \"symbol\": \"circle\"}, \"mode\": \"markers\", \"name\": \"FranceFrench Guiana\", \"showlegend\": true, \"type\": \"scatter\", \"x\": [1.2874835309617922], \"xaxis\": \"x\", \"y\": [0.15308693150753463], \"yaxis\": \"y\"}, {\"hoverlabel\": {\"namelength\": 0}, \"hovertemplate\": \"<b>%{hovertext}</b><br><br>countryName=FranceFrench Polynesia<br>slopeData=%{x}<br>varianceVal=%{y}<br>lastValue=%{marker.size}\", \"hovertext\": [\"FranceFrench Polynesia\"], \"legendgroup\": \"FranceFrench Polynesia\", \"marker\": {\"color\": \"#FF97FF\", \"size\": [30], \"sizemode\": \"area\", \"sizeref\": 39.135, \"symbol\": \"circle\"}, \"mode\": \"markers\", \"name\": \"FranceFrench Polynesia\", \"showlegend\": true, \"type\": \"scatter\", \"x\": [1.9618983957219243], \"xaxis\": \"x\", \"y\": [0.16775124477290307], \"yaxis\": \"y\"}, {\"hoverlabel\": {\"namelength\": 0}, \"hovertemplate\": \"<b>%{hovertext}</b><br><br>countryName=FranceGuadeloupe<br>slopeData=%{x}<br>varianceVal=%{y}<br>lastValue=%{marker.size}\", \"hovertext\": [\"FranceGuadeloupe\"], \"legendgroup\": \"FranceGuadeloupe\", \"marker\": {\"color\": \"#FECB52\", \"size\": [106], \"sizemode\": \"area\", \"sizeref\": 39.135, \"symbol\": \"circle\"}, \"mode\": \"markers\", \"name\": \"FranceGuadeloupe\", \"showlegend\": true, \"type\": \"scatter\", \"x\": [6.060160427807484], \"xaxis\": \"x\", \"y\": [0.0983351772081382], \"yaxis\": \"y\"}, {\"hoverlabel\": {\"namelength\": 0}, \"hovertemplate\": \"<b>%{hovertext}</b><br><br>countryName=FranceMayotte<br>slopeData=%{x}<br>varianceVal=%{y}<br>lastValue=%{marker.size}\", \"hovertext\": [\"FranceMayotte\"], \"legendgroup\": \"FranceMayotte\", \"marker\": {\"color\": \"#636efa\", \"size\": [63], \"sizemode\": \"area\", \"sizeref\": 39.135, \"symbol\": \"circle\"}, \"mode\": \"markers\", \"name\": \"FranceMayotte\", \"showlegend\": true, \"type\": \"scatter\", \"x\": [3.6906403940886694], \"xaxis\": \"x\", \"y\": [0.12793848999884375], \"yaxis\": \"y\"}, {\"hoverlabel\": {\"namelength\": 0}, \"hovertemplate\": \"<b>%{hovertext}</b><br><br>countryName=FranceNew Caledonia<br>slopeData=%{x}<br>varianceVal=%{y}<br>lastValue=%{marker.size}\", \"hovertext\": [\"FranceNew Caledonia\"], \"legendgroup\": \"FranceNew Caledonia\", \"marker\": {\"color\": \"#EF553B\", \"size\": [15], \"sizemode\": \"area\", \"sizeref\": 39.135, \"symbol\": \"circle\"}, \"mode\": \"markers\", \"name\": \"FranceNew Caledonia\", \"showlegend\": true, \"type\": \"scatter\", \"x\": [1.7948051948051944], \"xaxis\": \"x\", \"y\": [0.16489803902391317], \"yaxis\": \"y\"}, {\"hoverlabel\": {\"namelength\": 0}, \"hovertemplate\": \"<b>%{hovertext}</b><br><br>countryName=FranceReunion<br>slopeData=%{x}<br>varianceVal=%{y}<br>lastValue=%{marker.size}\", \"hovertext\": [\"FranceReunion\"], \"legendgroup\": \"FranceReunion\", \"marker\": {\"color\": \"#00cc96\", \"size\": [183], \"sizemode\": \"area\", \"sizeref\": 39.135, \"symbol\": \"circle\"}, \"mode\": \"markers\", \"name\": \"FranceReunion\", \"showlegend\": true, \"type\": \"scatter\", \"x\": [7.651019440493126], \"xaxis\": \"x\", \"y\": [0.11689693825701862], \"yaxis\": \"y\"}, {\"hoverlabel\": {\"namelength\": 0}, \"hovertemplate\": \"<b>%{hovertext}</b><br><br>countryName=FranceSaint Barthelemy<br>slopeData=%{x}<br>varianceVal=%{y}<br>lastValue=%{marker.size}\", \"hovertext\": [\"FranceSaint Barthelemy\"], \"legendgroup\": \"FranceSaint Barthelemy\", \"marker\": {\"color\": \"#ab63fa\", \"size\": [5], \"sizemode\": \"area\", \"sizeref\": 39.135, \"symbol\": \"circle\"}, \"mode\": \"markers\", \"name\": \"FranceSaint Barthelemy\", \"showlegend\": true, \"type\": \"scatter\", \"x\": [0.18226244343891404], \"xaxis\": \"x\", \"y\": [0.09023668639053253], \"yaxis\": \"y\"}, {\"hoverlabel\": {\"namelength\": 0}, \"hovertemplate\": \"<b>%{hovertext}</b><br><br>countryName=FranceSt Martin<br>slopeData=%{x}<br>varianceVal=%{y}<br>lastValue=%{marker.size}\", \"hovertext\": [\"FranceSt Martin\"], \"legendgroup\": \"FranceSt Martin\", \"marker\": {\"color\": \"#FFA15A\", \"size\": [11], \"sizemode\": \"area\", \"sizeref\": 39.135, \"symbol\": \"circle\"}, \"mode\": \"markers\", \"name\": \"FranceSt Martin\", \"showlegend\": true, \"type\": \"scatter\", \"x\": [0.5289198606271777], \"xaxis\": \"x\", \"y\": [0.1676884745667814], \"yaxis\": \"y\"}, {\"hoverlabel\": {\"namelength\": 0}, \"hovertemplate\": \"<b>%{hovertext}</b><br><br>countryName=FranceMartinique<br>slopeData=%{x}<br>varianceVal=%{y}<br>lastValue=%{marker.size}\", \"hovertext\": [\"FranceMartinique\"], \"legendgroup\": \"FranceMartinique\", \"marker\": {\"color\": \"#19d3f3\", \"size\": [93], \"sizemode\": \"area\", \"sizeref\": 39.135, \"symbol\": \"circle\"}, \"mode\": \"markers\", \"name\": \"FranceMartinique\", \"showlegend\": true, \"type\": \"scatter\", \"x\": [3.260606060606061], \"xaxis\": \"x\", \"y\": [0.11202038784664102], \"yaxis\": \"y\"}, {\"hoverlabel\": {\"namelength\": 0}, \"hovertemplate\": \"<b>%{hovertext}</b><br><br>countryName=France<br>slopeData=%{x}<br>varianceVal=%{y}<br>lastValue=%{marker.size}\", \"hovertext\": [\"France\"], \"legendgroup\": \"France\", \"marker\": {\"color\": \"#FF6692\", \"size\": [40174], \"sizemode\": \"area\", \"sizeref\": 39.135, \"symbol\": \"circle\"}, \"mode\": \"markers\", \"name\": \"France\", \"showlegend\": true, \"type\": \"scatter\", \"x\": [196.43077990711578], \"xaxis\": \"x\", \"y\": [0.05669176956154041], \"yaxis\": \"y\"}, {\"hoverlabel\": {\"namelength\": 0}, \"hovertemplate\": \"<b>%{hovertext}</b><br><br>countryName=Gabon<br>slopeData=%{x}<br>varianceVal=%{y}<br>lastValue=%{marker.size}\", \"hovertext\": [\"Gabon\"], \"legendgroup\": \"Gabon\", \"marker\": {\"color\": \"#B6E880\", \"size\": [7], \"sizemode\": \"area\", \"sizeref\": 39.135, \"symbol\": \"circle\"}, \"mode\": \"markers\", \"name\": \"Gabon\", \"showlegend\": true, \"type\": \"scatter\", \"x\": [0.5241935483870968], \"xaxis\": \"x\", \"y\": [0.17523871527777773], \"yaxis\": \"y\"}, {\"hoverlabel\": {\"namelength\": 0}, \"hovertemplate\": \"<b>%{hovertext}</b><br><br>countryName=Gambia<br>slopeData=%{x}<br>varianceVal=%{y}<br>lastValue=%{marker.size}\", \"hovertext\": [\"Gambia\"], \"legendgroup\": \"Gambia\", \"marker\": {\"color\": \"#FF97FF\", \"size\": [4], \"sizemode\": \"area\", \"sizeref\": 39.135, \"symbol\": \"circle\"}, \"mode\": \"markers\", \"name\": \"Gambia\", \"showlegend\": true, \"type\": \"scatter\", \"x\": [0.32307692307692315], \"xaxis\": \"x\", \"y\": [0.12754766600920447], \"yaxis\": \"y\"}, {\"hoverlabel\": {\"namelength\": 0}, \"hovertemplate\": \"<b>%{hovertext}</b><br><br>countryName=Georgia<br>slopeData=%{x}<br>varianceVal=%{y}<br>lastValue=%{marker.size}\", \"hovertext\": [\"Georgia\"], \"legendgroup\": \"Georgia\", \"marker\": {\"color\": \"#FECB52\", \"size\": [91], \"sizemode\": \"area\", \"sizeref\": 39.135, \"symbol\": \"circle\"}, \"mode\": \"markers\", \"name\": \"Georgia\", \"showlegend\": true, \"type\": \"scatter\", \"x\": [2.2252622377622377], \"xaxis\": \"x\", \"y\": [0.10275550113933954], \"yaxis\": \"y\"}, {\"hoverlabel\": {\"namelength\": 0}, \"hovertemplate\": \"<b>%{hovertext}</b><br><br>countryName=Germany<br>slopeData=%{x}<br>varianceVal=%{y}<br>lastValue=%{marker.size}\", \"hovertext\": [\"Germany\"], \"legendgroup\": \"Germany\", \"marker\": {\"color\": \"#636efa\", \"size\": [62095], \"sizemode\": \"area\", \"sizeref\": 39.135, \"symbol\": \"circle\"}, \"mode\": \"markers\", \"name\": \"Germany\", \"showlegend\": true, \"type\": \"scatter\", \"x\": [315.34037480798776], \"xaxis\": \"x\", \"y\": [0.057332369756652075], \"yaxis\": \"y\"}, {\"hoverlabel\": {\"namelength\": 0}, \"hovertemplate\": \"<b>%{hovertext}</b><br><br>countryName=Ghana<br>slopeData=%{x}<br>varianceVal=%{y}<br>lastValue=%{marker.size}\", \"hovertext\": [\"Ghana\"], \"legendgroup\": \"Ghana\", \"marker\": {\"color\": \"#EF553B\", \"size\": [152], \"sizemode\": \"area\", \"sizeref\": 39.135, \"symbol\": \"circle\"}, \"mode\": \"markers\", \"name\": \"Ghana\", \"showlegend\": true, \"type\": \"scatter\", \"x\": [8.024193548387096], \"xaxis\": \"x\", \"y\": [0.13919118930453583], \"yaxis\": \"y\"}, {\"hoverlabel\": {\"namelength\": 0}, \"hovertemplate\": \"<b>%{hovertext}</b><br><br>countryName=Greece<br>slopeData=%{x}<br>varianceVal=%{y}<br>lastValue=%{marker.size}\", \"hovertext\": [\"Greece\"], \"legendgroup\": \"Greece\", \"marker\": {\"color\": \"#00cc96\", \"size\": [1156], \"sizemode\": \"area\", \"sizeref\": 39.135, \"symbol\": \"circle\"}, \"mode\": \"markers\", \"name\": \"Greece\", \"showlegend\": true, \"type\": \"scatter\", \"x\": [24.25201048951049], \"xaxis\": \"x\", \"y\": [0.09259259293676665], \"yaxis\": \"y\"}, {\"hoverlabel\": {\"namelength\": 0}, \"hovertemplate\": \"<b>%{hovertext}</b><br><br>countryName=Guatemala<br>slopeData=%{x}<br>varianceVal=%{y}<br>lastValue=%{marker.size}\", \"hovertext\": [\"Guatemala\"], \"legendgroup\": \"Guatemala\", \"marker\": {\"color\": \"#ab63fa\", \"size\": [34], \"sizemode\": \"area\", \"sizeref\": 39.135, \"symbol\": \"circle\"}, \"mode\": \"markers\", \"name\": \"Guatemala\", \"showlegend\": true, \"type\": \"scatter\", \"x\": [2.208870967741935], \"xaxis\": \"x\", \"y\": [0.10895532024793389], \"yaxis\": \"y\"}, {\"hoverlabel\": {\"namelength\": 0}, \"hovertemplate\": \"<b>%{hovertext}</b><br><br>countryName=Guinea<br>slopeData=%{x}<br>varianceVal=%{y}<br>lastValue=%{marker.size}\", \"hovertext\": [\"Guinea\"], \"legendgroup\": \"Guinea\", \"marker\": {\"color\": \"#FFA15A\", \"size\": [16], \"sizemode\": \"area\", \"sizeref\": 39.135, \"symbol\": \"circle\"}, \"mode\": \"markers\", \"name\": \"Guinea\", \"showlegend\": true, \"type\": \"scatter\", \"x\": [0.4906417112299464], \"xaxis\": \"x\", \"y\": [0.06594386774317569], \"yaxis\": \"y\"}, {\"hoverlabel\": {\"namelength\": 0}, \"hovertemplate\": \"<b>%{hovertext}</b><br><br>countryName=Guyana<br>slopeData=%{x}<br>varianceVal=%{y}<br>lastValue=%{marker.size}\", \"hovertext\": [\"Guyana\"], \"legendgroup\": \"Guyana\", \"marker\": {\"color\": \"#19d3f3\", \"size\": [8], \"sizemode\": \"area\", \"sizeref\": 39.135, \"symbol\": \"circle\"}, \"mode\": \"markers\", \"name\": \"Guyana\", \"showlegend\": true, \"type\": \"scatter\", \"x\": [0.6834733893557422], \"xaxis\": \"x\", \"y\": [0.07011559112205465], \"yaxis\": \"y\"}, {\"hoverlabel\": {\"namelength\": 0}, \"hovertemplate\": \"<b>%{hovertext}</b><br><br>countryName=Haiti<br>slopeData=%{x}<br>varianceVal=%{y}<br>lastValue=%{marker.size}\", \"hovertext\": [\"Haiti\"], \"legendgroup\": \"Haiti\", \"marker\": {\"color\": \"#FF6692\", \"size\": [15], \"sizemode\": \"area\", \"sizeref\": 39.135, \"symbol\": \"circle\"}, \"mode\": \"markers\", \"name\": \"Haiti\", \"showlegend\": true, \"type\": \"scatter\", \"x\": [1.3859649122807018], \"xaxis\": \"x\", \"y\": [0.0842603550295858], \"yaxis\": \"y\"}, {\"hoverlabel\": {\"namelength\": 0}, \"hovertemplate\": \"<b>%{hovertext}</b><br><br>countryName=Holy See<br>slopeData=%{x}<br>varianceVal=%{y}<br>lastValue=%{marker.size}\", \"hovertext\": [\"Holy See\"], \"legendgroup\": \"Holy See\", \"marker\": {\"color\": \"#B6E880\", \"size\": [6], \"sizemode\": \"area\", \"sizeref\": 39.135, \"symbol\": \"circle\"}, \"mode\": \"markers\", \"name\": \"Holy See\", \"showlegend\": true, \"type\": \"scatter\", \"x\": [0.16998149861239595], \"xaxis\": \"x\", \"y\": [0.10972222222222228], \"yaxis\": \"y\"}, {\"hoverlabel\": {\"namelength\": 0}, \"hovertemplate\": \"<b>%{hovertext}</b><br><br>countryName=Honduras<br>slopeData=%{x}<br>varianceVal=%{y}<br>lastValue=%{marker.size}\", \"hovertext\": [\"Honduras\"], \"legendgroup\": \"Honduras\", \"marker\": {\"color\": \"#FF97FF\", \"size\": [110], \"sizemode\": \"area\", \"sizeref\": 39.135, \"symbol\": \"circle\"}, \"mode\": \"markers\", \"name\": \"Honduras\", \"showlegend\": true, \"type\": \"scatter\", \"x\": [3.66050260787103], \"xaxis\": \"x\", \"y\": [0.08267786099426604], \"yaxis\": \"y\"}, {\"hoverlabel\": {\"namelength\": 0}, \"hovertemplate\": \"<b>%{hovertext}</b><br><br>countryName=Hungary<br>slopeData=%{x}<br>varianceVal=%{y}<br>lastValue=%{marker.size}\", \"hovertext\": [\"Hungary\"], \"legendgroup\": \"Hungary\", \"marker\": {\"color\": \"#FECB52\", \"size\": [408], \"sizemode\": \"area\", \"sizeref\": 39.135, \"symbol\": \"circle\"}, \"mode\": \"markers\", \"name\": \"Hungary\", \"showlegend\": true, \"type\": \"scatter\", \"x\": [9.482352941176472], \"xaxis\": \"x\", \"y\": [0.08215880808768006], \"yaxis\": \"y\"}, {\"hoverlabel\": {\"namelength\": 0}, \"hovertemplate\": \"<b>%{hovertext}</b><br><br>countryName=Iceland<br>slopeData=%{x}<br>varianceVal=%{y}<br>lastValue=%{marker.size}\", \"hovertext\": [\"Iceland\"], \"legendgroup\": \"Iceland\", \"marker\": {\"color\": \"#636efa\", \"size\": [1020], \"sizemode\": \"area\", \"sizeref\": 39.135, \"symbol\": \"circle\"}, \"mode\": \"markers\", \"name\": \"Iceland\", \"showlegend\": true, \"type\": \"scatter\", \"x\": [22.972818614489682], \"xaxis\": \"x\", \"y\": [0.09708505826912416], \"yaxis\": \"y\"}, {\"hoverlabel\": {\"namelength\": 0}, \"hovertemplate\": \"<b>%{hovertext}</b><br><br>countryName=India<br>slopeData=%{x}<br>varianceVal=%{y}<br>lastValue=%{marker.size}\", \"hovertext\": [\"India\"], \"legendgroup\": \"India\", \"marker\": {\"color\": \"#EF553B\", \"size\": [1024], \"sizemode\": \"area\", \"sizeref\": 39.135, \"symbol\": \"circle\"}, \"mode\": \"markers\", \"name\": \"India\", \"showlegend\": true, \"type\": \"scatter\", \"x\": [5.832630679390399], \"xaxis\": \"x\", \"y\": [0.06038409404379196], \"yaxis\": \"y\"}, {\"hoverlabel\": {\"namelength\": 0}, \"hovertemplate\": \"<b>%{hovertext}</b><br><br>countryName=Indonesia<br>slopeData=%{x}<br>varianceVal=%{y}<br>lastValue=%{marker.size}\", \"hovertext\": [\"Indonesia\"], \"legendgroup\": \"Indonesia\", \"marker\": {\"color\": \"#00cc96\", \"size\": [1285], \"sizemode\": \"area\", \"sizeref\": 39.135, \"symbol\": \"circle\"}, \"mode\": \"markers\", \"name\": \"Indonesia\", \"showlegend\": true, \"type\": \"scatter\", \"x\": [29.016738816738822], \"xaxis\": \"x\", \"y\": [0.09166795104477761], \"yaxis\": \"y\"}, {\"hoverlabel\": {\"namelength\": 0}, \"hovertemplate\": \"<b>%{hovertext}</b><br><br>countryName=Iran<br>slopeData=%{x}<br>varianceVal=%{y}<br>lastValue=%{marker.size}\", \"hovertext\": [\"Iran\"], \"legendgroup\": \"Iran\", \"marker\": {\"color\": \"#ab63fa\", \"size\": [38309], \"sizemode\": \"area\", \"sizeref\": 39.135, \"symbol\": \"circle\"}, \"mode\": \"markers\", \"name\": \"Iran\", \"showlegend\": true, \"type\": \"scatter\", \"x\": [656.9324732229795], \"xaxis\": \"x\", \"y\": [0.0844117041482744], \"yaxis\": \"y\"}, {\"hoverlabel\": {\"namelength\": 0}, \"hovertemplate\": \"<b>%{hovertext}</b><br><br>countryName=Iraq<br>slopeData=%{x}<br>varianceVal=%{y}<br>lastValue=%{marker.size}\", \"hovertext\": [\"Iraq\"], \"legendgroup\": \"Iraq\", \"marker\": {\"color\": \"#FFA15A\", \"size\": [547], \"sizemode\": \"area\", \"sizeref\": 39.135, \"symbol\": \"circle\"}, \"mode\": \"markers\", \"name\": \"Iraq\", \"showlegend\": true, \"type\": \"scatter\", \"x\": [9.784362440628428], \"xaxis\": \"x\", \"y\": [0.07548953003090703], \"yaxis\": \"y\"}, {\"hoverlabel\": {\"namelength\": 0}, \"hovertemplate\": \"<b>%{hovertext}</b><br><br>countryName=Ireland<br>slopeData=%{x}<br>varianceVal=%{y}<br>lastValue=%{marker.size}\", \"hovertext\": [\"Ireland\"], \"legendgroup\": \"Ireland\", \"marker\": {\"color\": \"#19d3f3\", \"size\": [2615], \"sizemode\": \"area\", \"sizeref\": 39.135, \"symbol\": \"circle\"}, \"mode\": \"markers\", \"name\": \"Ireland\", \"showlegend\": true, \"type\": \"scatter\", \"x\": [49.582232612507305], \"xaxis\": \"x\", \"y\": [0.09054513065067732], \"yaxis\": \"y\"}, {\"hoverlabel\": {\"namelength\": 0}, \"hovertemplate\": \"<b>%{hovertext}</b><br><br>countryName=Israel<br>slopeData=%{x}<br>varianceVal=%{y}<br>lastValue=%{marker.size}\", \"hovertext\": [\"Israel\"], \"legendgroup\": \"Israel\", \"marker\": {\"color\": \"#FF6692\", \"size\": [4247], \"sizemode\": \"area\", \"sizeref\": 39.135, \"symbol\": \"circle\"}, \"mode\": \"markers\", \"name\": \"Israel\", \"showlegend\": true, \"type\": \"scatter\", \"x\": [42.613655761024205], \"xaxis\": \"x\", \"y\": [0.06492528292830993], \"yaxis\": \"y\"}, {\"hoverlabel\": {\"namelength\": 0}, \"hovertemplate\": \"<b>%{hovertext}</b><br><br>countryName=Italy<br>slopeData=%{x}<br>varianceVal=%{y}<br>lastValue=%{marker.size}\", \"hovertext\": [\"Italy\"], \"legendgroup\": \"Italy\", \"marker\": {\"color\": \"#B6E880\", \"size\": [97689], \"sizemode\": \"area\", \"sizeref\": 39.135, \"symbol\": \"circle\"}, \"mode\": \"markers\", \"name\": \"Italy\", \"showlegend\": true, \"type\": \"scatter\", \"x\": [768.0430097858501], \"xaxis\": \"x\", \"y\": [0.0794646617784376], \"yaxis\": \"y\"}, {\"hoverlabel\": {\"namelength\": 0}, \"hovertemplate\": \"<b>%{hovertext}</b><br><br>countryName=Jamaica<br>slopeData=%{x}<br>varianceVal=%{y}<br>lastValue=%{marker.size}\", \"hovertext\": [\"Jamaica\"], \"legendgroup\": \"Jamaica\", \"marker\": {\"color\": \"#FF97FF\", \"size\": [32], \"sizemode\": \"area\", \"sizeref\": 39.135, \"symbol\": \"circle\"}, \"mode\": \"markers\", \"name\": \"Jamaica\", \"showlegend\": true, \"type\": \"scatter\", \"x\": [1.7472735893788531], \"xaxis\": \"x\", \"y\": [0.07887098215443862], \"yaxis\": \"y\"}, {\"hoverlabel\": {\"namelength\": 0}, \"hovertemplate\": \"<b>%{hovertext}</b><br><br>countryName=Japan<br>slopeData=%{x}<br>varianceVal=%{y}<br>lastValue=%{marker.size}\", \"hovertext\": [\"Japan\"], \"legendgroup\": \"Japan\", \"marker\": {\"color\": \"#FECB52\", \"size\": [1866], \"sizemode\": \"area\", \"sizeref\": 39.135, \"symbol\": \"circle\"}, \"mode\": \"markers\", \"name\": \"Japan\", \"showlegend\": true, \"type\": \"scatter\", \"x\": [14.200302409521026], \"xaxis\": \"x\", \"y\": [0.06490921022969327], \"yaxis\": \"y\"}, {\"hoverlabel\": {\"namelength\": 0}, \"hovertemplate\": \"<b>%{hovertext}</b><br><br>countryName=Jordan<br>slopeData=%{x}<br>varianceVal=%{y}<br>lastValue=%{marker.size}\", \"hovertext\": [\"Jordan\"], \"legendgroup\": \"Jordan\", \"marker\": {\"color\": \"#636efa\", \"size\": [259], \"sizemode\": \"area\", \"sizeref\": 39.135, \"symbol\": \"circle\"}, \"mode\": \"markers\", \"name\": \"Jordan\", \"showlegend\": true, \"type\": \"scatter\", \"x\": [6.580228995323336], \"xaxis\": \"x\", \"y\": [0.11262372860789978], \"yaxis\": \"y\"}, {\"hoverlabel\": {\"namelength\": 0}, \"hovertemplate\": \"<b>%{hovertext}</b><br><br>countryName=Kazakhstan<br>slopeData=%{x}<br>varianceVal=%{y}<br>lastValue=%{marker.size}\", \"hovertext\": [\"Kazakhstan\"], \"legendgroup\": \"Kazakhstan\", \"marker\": {\"color\": \"#EF553B\", \"size\": [284], \"sizemode\": \"area\", \"sizeref\": 39.135, \"symbol\": \"circle\"}, \"mode\": \"markers\", \"name\": \"Kazakhstan\", \"showlegend\": true, \"type\": \"scatter\", \"x\": [10.576871657754008], \"xaxis\": \"x\", \"y\": [0.07375670856577925], \"yaxis\": \"y\"}, {\"hoverlabel\": {\"namelength\": 0}, \"hovertemplate\": \"<b>%{hovertext}</b><br><br>countryName=Kenya<br>slopeData=%{x}<br>varianceVal=%{y}<br>lastValue=%{marker.size}\", \"hovertext\": [\"Kenya\"], \"legendgroup\": \"Kenya\", \"marker\": {\"color\": \"#00cc96\", \"size\": [42], \"sizemode\": \"area\", \"sizeref\": 39.135, \"symbol\": \"circle\"}, \"mode\": \"markers\", \"name\": \"Kenya\", \"showlegend\": true, \"type\": \"scatter\", \"x\": [2.1223262032085555], \"xaxis\": \"x\", \"y\": [0.11190406106103429], \"yaxis\": \"y\"}, {\"hoverlabel\": {\"namelength\": 0}, \"hovertemplate\": \"<b>%{hovertext}</b><br><br>countryName=Korea, South<br>slopeData=%{x}<br>varianceVal=%{y}<br>lastValue=%{marker.size}\", \"hovertext\": [\"Korea, South\"], \"legendgroup\": \"Korea, South\", \"marker\": {\"color\": \"#ab63fa\", \"size\": [9583], \"sizemode\": \"area\", \"sizeref\": 39.135, \"symbol\": \"circle\"}, \"mode\": \"markers\", \"name\": \"Korea, South\", \"showlegend\": true, \"type\": \"scatter\", \"x\": [124.01635937957273], \"xaxis\": \"x\", \"y\": [0.16180519660198303], \"yaxis\": \"y\"}, {\"hoverlabel\": {\"namelength\": 0}, \"hovertemplate\": \"<b>%{hovertext}</b><br><br>countryName=Kuwait<br>slopeData=%{x}<br>varianceVal=%{y}<br>lastValue=%{marker.size}\", \"hovertext\": [\"Kuwait\"], \"legendgroup\": \"Kuwait\", \"marker\": {\"color\": \"#FFA15A\", \"size\": [255], \"sizemode\": \"area\", \"sizeref\": 39.135, \"symbol\": \"circle\"}, \"mode\": \"markers\", \"name\": \"Kuwait\", \"showlegend\": true, \"type\": \"scatter\", \"x\": [6.410960906101573], \"xaxis\": \"x\", \"y\": [0.07389402533907108], \"yaxis\": \"y\"}, {\"hoverlabel\": {\"namelength\": 0}, \"hovertemplate\": \"<b>%{hovertext}</b><br><br>countryName=Kyrgyzstan<br>slopeData=%{x}<br>varianceVal=%{y}<br>lastValue=%{marker.size}\", \"hovertext\": [\"Kyrgyzstan\"], \"legendgroup\": \"Kyrgyzstan\", \"marker\": {\"color\": \"#19d3f3\", \"size\": [84], \"sizemode\": \"area\", \"sizeref\": 39.135, \"symbol\": \"circle\"}, \"mode\": \"markers\", \"name\": \"Kyrgyzstan\", \"showlegend\": true, \"type\": \"scatter\", \"x\": [6.187747035573124], \"xaxis\": \"x\", \"y\": [0.09787210621687074], \"yaxis\": \"y\"}, {\"hoverlabel\": {\"namelength\": 0}, \"hovertemplate\": \"<b>%{hovertext}</b><br><br>countryName=Latvia<br>slopeData=%{x}<br>varianceVal=%{y}<br>lastValue=%{marker.size}\", \"hovertext\": [\"Latvia\"], \"legendgroup\": \"Latvia\", \"marker\": {\"color\": \"#FF6692\", \"size\": [347], \"sizemode\": \"area\", \"sizeref\": 39.135, \"symbol\": \"circle\"}, \"mode\": \"markers\", \"name\": \"Latvia\", \"showlegend\": true, \"type\": \"scatter\", \"x\": [8.00966810966811], \"xaxis\": \"x\", \"y\": [0.09333299480539316], \"yaxis\": \"y\"}, {\"hoverlabel\": {\"namelength\": 0}, \"hovertemplate\": \"<b>%{hovertext}</b><br><br>countryName=Lebanon<br>slopeData=%{x}<br>varianceVal=%{y}<br>lastValue=%{marker.size}\", \"hovertext\": [\"Lebanon\"], \"legendgroup\": \"Lebanon\", \"marker\": {\"color\": \"#B6E880\", \"size\": [438], \"sizemode\": \"area\", \"sizeref\": 39.135, \"symbol\": \"circle\"}, \"mode\": \"markers\", \"name\": \"Lebanon\", \"showlegend\": true, \"type\": \"scatter\", \"x\": [7.354196301564724], \"xaxis\": \"x\", \"y\": [0.09420452557389593], \"yaxis\": \"y\"}, {\"hoverlabel\": {\"namelength\": 0}, \"hovertemplate\": \"<b>%{hovertext}</b><br><br>countryName=Liberia<br>slopeData=%{x}<br>varianceVal=%{y}<br>lastValue=%{marker.size}\", \"hovertext\": [\"Liberia\"], \"legendgroup\": \"Liberia\", \"marker\": {\"color\": \"#FF97FF\", \"size\": [3], \"sizemode\": \"area\", \"sizeref\": 39.135, \"symbol\": \"circle\"}, \"mode\": \"markers\", \"name\": \"Liberia\", \"showlegend\": true, \"type\": \"scatter\", \"x\": [0.3199023199023199], \"xaxis\": \"x\", \"y\": [0.13392857142857142], \"yaxis\": \"y\"}, {\"hoverlabel\": {\"namelength\": 0}, \"hovertemplate\": \"<b>%{hovertext}</b><br><br>countryName=Liechtenstein<br>slopeData=%{x}<br>varianceVal=%{y}<br>lastValue=%{marker.size}\", \"hovertext\": [\"Liechtenstein\"], \"legendgroup\": \"Liechtenstein\", \"marker\": {\"color\": \"#FECB52\", \"size\": [56], \"sizemode\": \"area\", \"sizeref\": 39.135, \"symbol\": \"circle\"}, \"mode\": \"markers\", \"name\": \"Liechtenstein\", \"showlegend\": true, \"type\": \"scatter\", \"x\": [2.0175565610859727], \"xaxis\": \"x\", \"y\": [0.16922490097315274], \"yaxis\": \"y\"}, {\"hoverlabel\": {\"namelength\": 0}, \"hovertemplate\": \"<b>%{hovertext}</b><br><br>countryName=Lithuania<br>slopeData=%{x}<br>varianceVal=%{y}<br>lastValue=%{marker.size}\", \"hovertext\": [\"Lithuania\"], \"legendgroup\": \"Lithuania\", \"marker\": {\"color\": \"#636efa\", \"size\": [460], \"sizemode\": \"area\", \"sizeref\": 39.135, \"symbol\": \"circle\"}, \"mode\": \"markers\", \"name\": \"Lithuania\", \"showlegend\": true, \"type\": \"scatter\", \"x\": [7.257641459545214], \"xaxis\": \"x\", \"y\": [0.08430256649363925], \"yaxis\": \"y\"}, {\"hoverlabel\": {\"namelength\": 0}, \"hovertemplate\": \"<b>%{hovertext}</b><br><br>countryName=Luxembourg<br>slopeData=%{x}<br>varianceVal=%{y}<br>lastValue=%{marker.size}\", \"hovertext\": [\"Luxembourg\"], \"legendgroup\": \"Luxembourg\", \"marker\": {\"color\": \"#EF553B\", \"size\": [1950], \"sizemode\": \"area\", \"sizeref\": 39.135, \"symbol\": \"circle\"}, \"mode\": \"markers\", \"name\": \"Luxembourg\", \"showlegend\": true, \"type\": \"scatter\", \"x\": [38.12764465225015], \"xaxis\": \"x\", \"y\": [0.10027996096457616], \"yaxis\": \"y\"}, {\"hoverlabel\": {\"namelength\": 0}, \"hovertemplate\": \"<b>%{hovertext}</b><br><br>countryName=Madagascar<br>slopeData=%{x}<br>varianceVal=%{y}<br>lastValue=%{marker.size}\", \"hovertext\": [\"Madagascar\"], \"legendgroup\": \"Madagascar\", \"marker\": {\"color\": \"#00cc96\", \"size\": [39], \"sizemode\": \"area\", \"sizeref\": 39.135, \"symbol\": \"circle\"}, \"mode\": \"markers\", \"name\": \"Madagascar\", \"showlegend\": true, \"type\": \"scatter\", \"x\": [3.8140350877192986], \"xaxis\": \"x\", \"y\": [0.10022376543209872], \"yaxis\": \"y\"}, {\"hoverlabel\": {\"namelength\": 0}, \"hovertemplate\": \"<b>%{hovertext}</b><br><br>countryName=Malaysia<br>slopeData=%{x}<br>varianceVal=%{y}<br>lastValue=%{marker.size}\", \"hovertext\": [\"Malaysia\"], \"legendgroup\": \"Malaysia\", \"marker\": {\"color\": \"#ab63fa\", \"size\": [2470], \"sizemode\": \"area\", \"sizeref\": 39.135, \"symbol\": \"circle\"}, \"mode\": \"markers\", \"name\": \"Malaysia\", \"showlegend\": true, \"type\": \"scatter\", \"x\": [14.581093470483008], \"xaxis\": \"x\", \"y\": [0.06878483741642027], \"yaxis\": \"y\"}, {\"hoverlabel\": {\"namelength\": 0}, \"hovertemplate\": \"<b>%{hovertext}</b><br><br>countryName=Maldives<br>slopeData=%{x}<br>varianceVal=%{y}<br>lastValue=%{marker.size}\", \"hovertext\": [\"Maldives\"], \"legendgroup\": \"Maldives\", \"marker\": {\"color\": \"#FFA15A\", \"size\": [17], \"sizemode\": \"area\", \"sizeref\": 39.135, \"symbol\": \"circle\"}, \"mode\": \"markers\", \"name\": \"Maldives\", \"showlegend\": true, \"type\": \"scatter\", \"x\": [0.9386892177589848], \"xaxis\": \"x\", \"y\": [0.07354882879358403], \"yaxis\": \"y\"}, {\"hoverlabel\": {\"namelength\": 0}, \"hovertemplate\": \"<b>%{hovertext}</b><br><br>countryName=Malta<br>slopeData=%{x}<br>varianceVal=%{y}<br>lastValue=%{marker.size}\", \"hovertext\": [\"Malta\"], \"legendgroup\": \"Malta\", \"marker\": {\"color\": \"#19d3f3\", \"size\": [151], \"sizemode\": \"area\", \"sizeref\": 39.135, \"symbol\": \"circle\"}, \"mode\": \"markers\", \"name\": \"Malta\", \"showlegend\": true, \"type\": \"scatter\", \"x\": [6.069301712779975], \"xaxis\": \"x\", \"y\": [0.12819541812286922], \"yaxis\": \"y\"}, {\"hoverlabel\": {\"namelength\": 0}, \"hovertemplate\": \"<b>%{hovertext}</b><br><br>countryName=Mauritania<br>slopeData=%{x}<br>varianceVal=%{y}<br>lastValue=%{marker.size}\", \"hovertext\": [\"Mauritania\"], \"legendgroup\": \"Mauritania\", \"marker\": {\"color\": \"#FF6692\", \"size\": [5], \"sizemode\": \"area\", \"sizeref\": 39.135, \"symbol\": \"circle\"}, \"mode\": \"markers\", \"name\": \"Mauritania\", \"showlegend\": true, \"type\": \"scatter\", \"x\": [0.27580645161290324], \"xaxis\": \"x\", \"y\": [0.095458984375], \"yaxis\": \"y\"}, {\"hoverlabel\": {\"namelength\": 0}, \"hovertemplate\": \"<b>%{hovertext}</b><br><br>countryName=Mauritius<br>slopeData=%{x}<br>varianceVal=%{y}<br>lastValue=%{marker.size}\", \"hovertext\": [\"Mauritius\"], \"legendgroup\": \"Mauritius\", \"marker\": {\"color\": \"#B6E880\", \"size\": [107], \"sizemode\": \"area\", \"sizeref\": 39.135, \"symbol\": \"circle\"}, \"mode\": \"markers\", \"name\": \"Mauritius\", \"showlegend\": true, \"type\": \"scatter\", \"x\": [9.169960474308304], \"xaxis\": \"x\", \"y\": [0.12852101824457596], \"yaxis\": \"y\"}, {\"hoverlabel\": {\"namelength\": 0}, \"hovertemplate\": \"<b>%{hovertext}</b><br><br>countryName=Mexico<br>slopeData=%{x}<br>varianceVal=%{y}<br>lastValue=%{marker.size}\", \"hovertext\": [\"Mexico\"], \"legendgroup\": \"Mexico\", \"marker\": {\"color\": \"#FF97FF\", \"size\": [848], \"sizemode\": \"area\", \"sizeref\": 39.135, \"symbol\": \"circle\"}, \"mode\": \"markers\", \"name\": \"Mexico\", \"showlegend\": true, \"type\": \"scatter\", \"x\": [13.197673188788999], \"xaxis\": \"x\", \"y\": [0.07241753397957854], \"yaxis\": \"y\"}, {\"hoverlabel\": {\"namelength\": 0}, \"hovertemplate\": \"<b>%{hovertext}</b><br><br>countryName=Moldova<br>slopeData=%{x}<br>varianceVal=%{y}<br>lastValue=%{marker.size}\", \"hovertext\": [\"Moldova\"], \"legendgroup\": \"Moldova\", \"marker\": {\"color\": \"#FECB52\", \"size\": [263], \"sizemode\": \"area\", \"sizeref\": 39.135, \"symbol\": \"circle\"}, \"mode\": \"markers\", \"name\": \"Moldova\", \"showlegend\": true, \"type\": \"scatter\", \"x\": [8.45967985502869], \"xaxis\": \"x\", \"y\": [0.09296572542681586], \"yaxis\": \"y\"}, {\"hoverlabel\": {\"namelength\": 0}, \"hovertemplate\": \"<b>%{hovertext}</b><br><br>countryName=Monaco<br>slopeData=%{x}<br>varianceVal=%{y}<br>lastValue=%{marker.size}\", \"hovertext\": [\"Monaco\"], \"legendgroup\": \"Monaco\", \"marker\": {\"color\": \"#636efa\", \"size\": [46], \"sizemode\": \"area\", \"sizeref\": 39.135, \"symbol\": \"circle\"}, \"mode\": \"markers\", \"name\": \"Monaco\", \"showlegend\": true, \"type\": \"scatter\", \"x\": [0.9326709526592637], \"xaxis\": \"x\", \"y\": [0.09960000000000001], \"yaxis\": \"y\"}, {\"hoverlabel\": {\"namelength\": 0}, \"hovertemplate\": \"<b>%{hovertext}</b><br><br>countryName=Mongolia<br>slopeData=%{x}<br>varianceVal=%{y}<br>lastValue=%{marker.size}\", \"hovertext\": [\"Mongolia\"], \"legendgroup\": \"Mongolia\", \"marker\": {\"color\": \"#EF553B\", \"size\": [12], \"sizemode\": \"area\", \"sizeref\": 39.135, \"symbol\": \"circle\"}, \"mode\": \"markers\", \"name\": \"Mongolia\", \"showlegend\": true, \"type\": \"scatter\", \"x\": [0.6781376518218623], \"xaxis\": \"x\", \"y\": [0.15545454545454546], \"yaxis\": \"y\"}, {\"hoverlabel\": {\"namelength\": 0}, \"hovertemplate\": \"<b>%{hovertext}</b><br><br>countryName=Montenegro<br>slopeData=%{x}<br>varianceVal=%{y}<br>lastValue=%{marker.size}\", \"hovertext\": [\"Montenegro\"], \"legendgroup\": \"Montenegro\", \"marker\": {\"color\": \"#00cc96\", \"size\": [85], \"sizemode\": \"area\", \"sizeref\": 39.135, \"symbol\": \"circle\"}, \"mode\": \"markers\", \"name\": \"Montenegro\", \"showlegend\": true, \"type\": \"scatter\", \"x\": [6.9276923076923085], \"xaxis\": \"x\", \"y\": [0.1437417167064208], \"yaxis\": \"y\"}, {\"hoverlabel\": {\"namelength\": 0}, \"hovertemplate\": \"<b>%{hovertext}</b><br><br>countryName=Morocco<br>slopeData=%{x}<br>varianceVal=%{y}<br>lastValue=%{marker.size}\", \"hovertext\": [\"Morocco\"], \"legendgroup\": \"Morocco\", \"marker\": {\"color\": \"#ab63fa\", \"size\": [479], \"sizemode\": \"area\", \"sizeref\": 39.135, \"symbol\": \"circle\"}, \"mode\": \"markers\", \"name\": \"Morocco\", \"showlegend\": true, \"type\": \"scatter\", \"x\": [8.614141414141415], \"xaxis\": \"x\", \"y\": [0.07585059209254684], \"yaxis\": \"y\"}, {\"hoverlabel\": {\"namelength\": 0}, \"hovertemplate\": \"<b>%{hovertext}</b><br><br>countryName=Namibia<br>slopeData=%{x}<br>varianceVal=%{y}<br>lastValue=%{marker.size}\", \"hovertext\": [\"Namibia\"], \"legendgroup\": \"Namibia\", \"marker\": {\"color\": \"#FFA15A\", \"size\": [11], \"sizemode\": \"area\", \"sizeref\": 39.135, \"symbol\": \"circle\"}, \"mode\": \"markers\", \"name\": \"Namibia\", \"showlegend\": true, \"type\": \"scatter\", \"x\": [0.6112903225806452], \"xaxis\": \"x\", \"y\": [0.10141782407407404], \"yaxis\": \"y\"}, {\"hoverlabel\": {\"namelength\": 0}, \"hovertemplate\": \"<b>%{hovertext}</b><br><br>countryName=Nepal<br>slopeData=%{x}<br>varianceVal=%{y}<br>lastValue=%{marker.size}\", \"hovertext\": [\"Nepal\"], \"legendgroup\": \"Nepal\", \"marker\": {\"color\": \"#19d3f3\", \"size\": [5], \"sizemode\": \"area\", \"sizeref\": 39.135, \"symbol\": \"circle\"}, \"mode\": \"markers\", \"name\": \"Nepal\", \"showlegend\": true, \"type\": \"scatter\", \"x\": [0.03502906976744186], \"xaxis\": \"x\", \"y\": [0.04476331360946746], \"yaxis\": \"y\"}, {\"hoverlabel\": {\"namelength\": 0}, \"hovertemplate\": \"<b>%{hovertext}</b><br><br>countryName=NetherlandsAruba<br>slopeData=%{x}<br>varianceVal=%{y}<br>lastValue=%{marker.size}\", \"hovertext\": [\"NetherlandsAruba\"], \"legendgroup\": \"NetherlandsAruba\", \"marker\": {\"color\": \"#FF6692\", \"size\": [50], \"sizemode\": \"area\", \"sizeref\": 39.135, \"symbol\": \"circle\"}, \"mode\": \"markers\", \"name\": \"NetherlandsAruba\", \"showlegend\": true, \"type\": \"scatter\", \"x\": [1.9826203208556148], \"xaxis\": \"x\", \"y\": [0.10206110630526717], \"yaxis\": \"y\"}, {\"hoverlabel\": {\"namelength\": 0}, \"hovertemplate\": \"<b>%{hovertext}</b><br><br>countryName=NetherlandsCuracao<br>slopeData=%{x}<br>varianceVal=%{y}<br>lastValue=%{marker.size}\", \"hovertext\": [\"NetherlandsCuracao\"], \"legendgroup\": \"NetherlandsCuracao\", \"marker\": {\"color\": \"#B6E880\", \"size\": [8], \"sizemode\": \"area\", \"sizeref\": 39.135, \"symbol\": \"circle\"}, \"mode\": \"markers\", \"name\": \"NetherlandsCuracao\", \"showlegend\": true, \"type\": \"scatter\", \"x\": [0.5419354838709677], \"xaxis\": \"x\", \"y\": [0.11790497448979591], \"yaxis\": \"y\"}, {\"hoverlabel\": {\"namelength\": 0}, \"hovertemplate\": \"<b>%{hovertext}</b><br><br>countryName=NetherlandsSint Maarten<br>slopeData=%{x}<br>varianceVal=%{y}<br>lastValue=%{marker.size}\", \"hovertext\": [\"NetherlandsSint Maarten\"], \"legendgroup\": \"NetherlandsSint Maarten\", \"marker\": {\"color\": \"#FF97FF\", \"size\": [6], \"sizemode\": \"area\", \"sizeref\": 39.135, \"symbol\": \"circle\"}, \"mode\": \"markers\", \"name\": \"NetherlandsSint Maarten\", \"showlegend\": true, \"type\": \"scatter\", \"x\": [0.5228070175438597], \"xaxis\": \"x\", \"y\": [0.08200000000000005], \"yaxis\": \"y\"}, {\"hoverlabel\": {\"namelength\": 0}, \"hovertemplate\": \"<b>%{hovertext}</b><br><br>countryName=Netherlands<br>slopeData=%{x}<br>varianceVal=%{y}<br>lastValue=%{marker.size}\", \"hovertext\": [\"Netherlands\"], \"legendgroup\": \"Netherlands\", \"marker\": {\"color\": \"#FECB52\", \"size\": [10866], \"sizemode\": \"area\", \"sizeref\": 39.135, \"symbol\": \"circle\"}, \"mode\": \"markers\", \"name\": \"Netherlands\", \"showlegend\": true, \"type\": \"scatter\", \"x\": [191.940668202765], \"xaxis\": \"x\", \"y\": [0.0819617256709996], \"yaxis\": \"y\"}, {\"hoverlabel\": {\"namelength\": 0}, \"hovertemplate\": \"<b>%{hovertext}</b><br><br>countryName=New Zealand<br>slopeData=%{x}<br>varianceVal=%{y}<br>lastValue=%{marker.size}\", \"hovertext\": [\"New Zealand\"], \"legendgroup\": \"New Zealand\", \"marker\": {\"color\": \"#636efa\", \"size\": [514], \"sizemode\": \"area\", \"sizeref\": 39.135, \"symbol\": \"circle\"}, \"mode\": \"markers\", \"name\": \"New Zealand\", \"showlegend\": true, \"type\": \"scatter\", \"x\": [6.808249603384453], \"xaxis\": \"x\", \"y\": [0.07227389905290636], \"yaxis\": \"y\"}, {\"hoverlabel\": {\"namelength\": 0}, \"hovertemplate\": \"<b>%{hovertext}</b><br><br>countryName=Nicaragua<br>slopeData=%{x}<br>varianceVal=%{y}<br>lastValue=%{marker.size}\", \"hovertext\": [\"Nicaragua\"], \"legendgroup\": \"Nicaragua\", \"marker\": {\"color\": \"#EF553B\", \"size\": [4], \"sizemode\": \"area\", \"sizeref\": 39.135, \"symbol\": \"circle\"}, \"mode\": \"markers\", \"name\": \"Nicaragua\", \"showlegend\": true, \"type\": \"scatter\", \"x\": [0.3818181818181817], \"xaxis\": \"x\", \"y\": [0.0973370064279155], \"yaxis\": \"y\"}, {\"hoverlabel\": {\"namelength\": 0}, \"hovertemplate\": \"<b>%{hovertext}</b><br><br>countryName=Niger<br>slopeData=%{x}<br>varianceVal=%{y}<br>lastValue=%{marker.size}\", \"hovertext\": [\"Niger\"], \"legendgroup\": \"Niger\", \"marker\": {\"color\": \"#00cc96\", \"size\": [18], \"sizemode\": \"area\", \"sizeref\": 39.135, \"symbol\": \"circle\"}, \"mode\": \"markers\", \"name\": \"Niger\", \"showlegend\": true, \"type\": \"scatter\", \"x\": [1.5192982456140351], \"xaxis\": \"x\", \"y\": [0.09498269896193773], \"yaxis\": \"y\"}, {\"hoverlabel\": {\"namelength\": 0}, \"hovertemplate\": \"<b>%{hovertext}</b><br><br>countryName=Nigeria<br>slopeData=%{x}<br>varianceVal=%{y}<br>lastValue=%{marker.size}\", \"hovertext\": [\"Nigeria\"], \"legendgroup\": \"Nigeria\", \"marker\": {\"color\": \"#ab63fa\", \"size\": [111], \"sizemode\": \"area\", \"sizeref\": 39.135, \"symbol\": \"circle\"}, \"mode\": \"markers\", \"name\": \"Nigeria\", \"showlegend\": true, \"type\": \"scatter\", \"x\": [1.593336858804865], \"xaxis\": \"x\", \"y\": [0.07037263181431187], \"yaxis\": \"y\"}, {\"hoverlabel\": {\"namelength\": 0}, \"hovertemplate\": \"<b>%{hovertext}</b><br><br>countryName=North Macedonia<br>slopeData=%{x}<br>varianceVal=%{y}<br>lastValue=%{marker.size}\", \"hovertext\": [\"North Macedonia\"], \"legendgroup\": \"North Macedonia\", \"marker\": {\"color\": \"#FFA15A\", \"size\": [259], \"sizemode\": \"area\", \"sizeref\": 39.135, \"symbol\": \"circle\"}, \"mode\": \"markers\", \"name\": \"North Macedonia\", \"showlegend\": true, \"type\": \"scatter\", \"x\": [4.451486013986014], \"xaxis\": \"x\", \"y\": [0.09595565048963284], \"yaxis\": \"y\"}, {\"hoverlabel\": {\"namelength\": 0}, \"hovertemplate\": \"<b>%{hovertext}</b><br><br>countryName=Norway<br>slopeData=%{x}<br>varianceVal=%{y}<br>lastValue=%{marker.size}\", \"hovertext\": [\"Norway\"], \"legendgroup\": \"Norway\", \"marker\": {\"color\": \"#19d3f3\", \"size\": [4284], \"sizemode\": \"area\", \"sizeref\": 39.135, \"symbol\": \"circle\"}, \"mode\": \"markers\", \"name\": \"Norway\", \"showlegend\": true, \"type\": \"scatter\", \"x\": [93.76346153846154], \"xaxis\": \"x\", \"y\": [0.09592377682844914], \"yaxis\": \"y\"}, {\"hoverlabel\": {\"namelength\": 0}, \"hovertemplate\": \"<b>%{hovertext}</b><br><br>countryName=Oman<br>slopeData=%{x}<br>varianceVal=%{y}<br>lastValue=%{marker.size}\", \"hovertext\": [\"Oman\"], \"legendgroup\": \"Oman\", \"marker\": {\"color\": \"#FF6692\", \"size\": [167], \"sizemode\": \"area\", \"sizeref\": 39.135, \"symbol\": \"circle\"}, \"mode\": \"markers\", \"name\": \"Oman\", \"showlegend\": true, \"type\": \"scatter\", \"x\": [2.626160029229083], \"xaxis\": \"x\", \"y\": [0.06927288469106652], \"yaxis\": \"y\"}, {\"hoverlabel\": {\"namelength\": 0}, \"hovertemplate\": \"<b>%{hovertext}</b><br><br>countryName=Pakistan<br>slopeData=%{x}<br>varianceVal=%{y}<br>lastValue=%{marker.size}\", \"hovertext\": [\"Pakistan\"], \"legendgroup\": \"Pakistan\", \"marker\": {\"color\": \"#B6E880\", \"size\": [1597], \"sizemode\": \"area\", \"sizeref\": 39.135, \"symbol\": \"circle\"}, \"mode\": \"markers\", \"name\": \"Pakistan\", \"showlegend\": true, \"type\": \"scatter\", \"x\": [28.614860139860138], \"xaxis\": \"x\", \"y\": [0.10006400690633177], \"yaxis\": \"y\"}, {\"hoverlabel\": {\"namelength\": 0}, \"hovertemplate\": \"<b>%{hovertext}</b><br><br>countryName=Panama<br>slopeData=%{x}<br>varianceVal=%{y}<br>lastValue=%{marker.size}\", \"hovertext\": [\"Panama\"], \"legendgroup\": \"Panama\", \"marker\": {\"color\": \"#FF97FF\", \"size\": [901], \"sizemode\": \"area\", \"sizeref\": 39.135, \"symbol\": \"circle\"}, \"mode\": \"markers\", \"name\": \"Panama\", \"showlegend\": true, \"type\": \"scatter\", \"x\": [31.534817813765176], \"xaxis\": \"x\", \"y\": [0.09214916975308643], \"yaxis\": \"y\"}, {\"hoverlabel\": {\"namelength\": 0}, \"hovertemplate\": \"<b>%{hovertext}</b><br><br>countryName=Papua New Guinea<br>slopeData=%{x}<br>varianceVal=%{y}<br>lastValue=%{marker.size}\", \"hovertext\": [\"Papua New Guinea\"], \"legendgroup\": \"Papua New Guinea\", \"marker\": {\"color\": \"#FECB52\", \"size\": [1], \"sizemode\": \"area\", \"sizeref\": 39.135, \"symbol\": \"circle\"}, \"mode\": \"markers\", \"name\": \"Papua New Guinea\", \"showlegend\": true, \"type\": \"scatter\", \"x\": [0.15789473684210528], \"xaxis\": \"x\", \"y\": [0.0], \"yaxis\": \"y\"}, {\"hoverlabel\": {\"namelength\": 0}, \"hovertemplate\": \"<b>%{hovertext}</b><br><br>countryName=Paraguay<br>slopeData=%{x}<br>varianceVal=%{y}<br>lastValue=%{marker.size}\", \"hovertext\": [\"Paraguay\"], \"legendgroup\": \"Paraguay\", \"marker\": {\"color\": \"#636efa\", \"size\": [59], \"sizemode\": \"area\", \"sizeref\": 39.135, \"symbol\": \"circle\"}, \"mode\": \"markers\", \"name\": \"Paraguay\", \"showlegend\": true, \"type\": \"scatter\", \"x\": [2.0223497432799755], \"xaxis\": \"x\", \"y\": [0.09735372588712767], \"yaxis\": \"y\"}, {\"hoverlabel\": {\"namelength\": 0}, \"hovertemplate\": \"<b>%{hovertext}</b><br><br>countryName=Peru<br>slopeData=%{x}<br>varianceVal=%{y}<br>lastValue=%{marker.size}\", \"hovertext\": [\"Peru\"], \"legendgroup\": \"Peru\", \"marker\": {\"color\": \"#EF553B\", \"size\": [852], \"sizemode\": \"area\", \"sizeref\": 39.135, \"symbol\": \"circle\"}, \"mode\": \"markers\", \"name\": \"Peru\", \"showlegend\": true, \"type\": \"scatter\", \"x\": [24.169518963922297], \"xaxis\": \"x\", \"y\": [0.087269450420379], \"yaxis\": \"y\"}, {\"hoverlabel\": {\"namelength\": 0}, \"hovertemplate\": \"<b>%{hovertext}</b><br><br>countryName=Philippines<br>slopeData=%{x}<br>varianceVal=%{y}<br>lastValue=%{marker.size}\", \"hovertext\": [\"Philippines\"], \"legendgroup\": \"Philippines\", \"marker\": {\"color\": \"#00cc96\", \"size\": [1418], \"sizemode\": \"area\", \"sizeref\": 39.135, \"symbol\": \"circle\"}, \"mode\": \"markers\", \"name\": \"Philippines\", \"showlegend\": true, \"type\": \"scatter\", \"x\": [6.068736647201252], \"xaxis\": \"x\", \"y\": [0.03876201365380923], \"yaxis\": \"y\"}, {\"hoverlabel\": {\"namelength\": 0}, \"hovertemplate\": \"<b>%{hovertext}</b><br><br>countryName=Poland<br>slopeData=%{x}<br>varianceVal=%{y}<br>lastValue=%{marker.size}\", \"hovertext\": [\"Poland\"], \"legendgroup\": \"Poland\", \"marker\": {\"color\": \"#ab63fa\", \"size\": [1862], \"sizemode\": \"area\", \"sizeref\": 39.135, \"symbol\": \"circle\"}, \"mode\": \"markers\", \"name\": \"Poland\", \"showlegend\": true, \"type\": \"scatter\", \"x\": [44.20199095022625], \"xaxis\": \"x\", \"y\": [0.08684458829849516], \"yaxis\": \"y\"}, {\"hoverlabel\": {\"namelength\": 0}, \"hovertemplate\": \"<b>%{hovertext}</b><br><br>countryName=Portugal<br>slopeData=%{x}<br>varianceVal=%{y}<br>lastValue=%{marker.size}\", \"hovertext\": [\"Portugal\"], \"legendgroup\": \"Portugal\", \"marker\": {\"color\": \"#FFA15A\", \"size\": [5962], \"sizemode\": \"area\", \"sizeref\": 39.135, \"symbol\": \"circle\"}, \"mode\": \"markers\", \"name\": \"Portugal\", \"showlegend\": true, \"type\": \"scatter\", \"x\": [110.574025974026], \"xaxis\": \"x\", \"y\": [0.07969768293899245], \"yaxis\": \"y\"}, {\"hoverlabel\": {\"namelength\": 0}, \"hovertemplate\": \"<b>%{hovertext}</b><br><br>countryName=Qatar<br>slopeData=%{x}<br>varianceVal=%{y}<br>lastValue=%{marker.size}\", \"hovertext\": [\"Qatar\"], \"legendgroup\": \"Qatar\", \"marker\": {\"color\": \"#19d3f3\", \"size\": [634], \"sizemode\": \"area\", \"sizeref\": 39.135, \"symbol\": \"circle\"}, \"mode\": \"markers\", \"name\": \"Qatar\", \"showlegend\": true, \"type\": \"scatter\", \"x\": [21.6604324956166], \"xaxis\": \"x\", \"y\": [0.1334372349184086], \"yaxis\": \"y\"}, {\"hoverlabel\": {\"namelength\": 0}, \"hovertemplate\": \"<b>%{hovertext}</b><br><br>countryName=Romania<br>slopeData=%{x}<br>varianceVal=%{y}<br>lastValue=%{marker.size}\", \"hovertext\": [\"Romania\"], \"legendgroup\": \"Romania\", \"marker\": {\"color\": \"#FF6692\", \"size\": [1815], \"sizemode\": \"area\", \"sizeref\": 39.135, \"symbol\": \"circle\"}, \"mode\": \"markers\", \"name\": \"Romania\", \"showlegend\": true, \"type\": \"scatter\", \"x\": [25.056293706293705], \"xaxis\": \"x\", \"y\": [0.0673160683680469], \"yaxis\": \"y\"}, {\"hoverlabel\": {\"namelength\": 0}, \"hovertemplate\": \"<b>%{hovertext}</b><br><br>countryName=Russia<br>slopeData=%{x}<br>varianceVal=%{y}<br>lastValue=%{marker.size}\", \"hovertext\": [\"Russia\"], \"legendgroup\": \"Russia\", \"marker\": {\"color\": \"#B6E880\", \"size\": [1534], \"sizemode\": \"area\", \"sizeref\": 39.135, \"symbol\": \"circle\"}, \"mode\": \"markers\", \"name\": \"Russia\", \"showlegend\": true, \"type\": \"scatter\", \"x\": [6.525303840908749], \"xaxis\": \"x\", \"y\": [0.04239993842519189], \"yaxis\": \"y\"}, {\"hoverlabel\": {\"namelength\": 0}, \"hovertemplate\": \"<b>%{hovertext}</b><br><br>countryName=Rwanda<br>slopeData=%{x}<br>varianceVal=%{y}<br>lastValue=%{marker.size}\", \"hovertext\": [\"Rwanda\"], \"legendgroup\": \"Rwanda\", \"marker\": {\"color\": \"#FF97FF\", \"size\": [70], \"sizemode\": \"area\", \"sizeref\": 39.135, \"symbol\": \"circle\"}, \"mode\": \"markers\", \"name\": \"Rwanda\", \"showlegend\": true, \"type\": \"scatter\", \"x\": [3.906451612903225], \"xaxis\": \"x\", \"y\": [0.10323133270321362], \"yaxis\": \"y\"}, {\"hoverlabel\": {\"namelength\": 0}, \"hovertemplate\": \"<b>%{hovertext}</b><br><br>countryName=Saint Lucia<br>slopeData=%{x}<br>varianceVal=%{y}<br>lastValue=%{marker.size}\", \"hovertext\": [\"Saint Lucia\"], \"legendgroup\": \"Saint Lucia\", \"marker\": {\"color\": \"#FECB52\", \"size\": [9], \"sizemode\": \"area\", \"sizeref\": 39.135, \"symbol\": \"circle\"}, \"mode\": \"markers\", \"name\": \"Saint Lucia\", \"showlegend\": true, \"type\": \"scatter\", \"x\": [0.3338709677419354], \"xaxis\": \"x\", \"y\": [0.0458984375], \"yaxis\": \"y\"}, {\"hoverlabel\": {\"namelength\": 0}, \"hovertemplate\": \"<b>%{hovertext}</b><br><br>countryName=Saint Vincent and the Grenadines<br>slopeData=%{x}<br>varianceVal=%{y}<br>lastValue=%{marker.size}\", \"hovertext\": [\"Saint Vincent and the Grenadines\"], \"legendgroup\": \"Saint Vincent and the Grenadines\", \"marker\": {\"color\": \"#636efa\", \"size\": [1], \"sizemode\": \"area\", \"sizeref\": 39.135, \"symbol\": \"circle\"}, \"mode\": \"markers\", \"name\": \"Saint Vincent and the Grenadines\", \"showlegend\": true, \"type\": \"scatter\", \"x\": [0.0967741935483871], \"xaxis\": \"x\", \"y\": [0.0], \"yaxis\": \"y\"}, {\"hoverlabel\": {\"namelength\": 0}, \"hovertemplate\": \"<b>%{hovertext}</b><br><br>countryName=San Marino<br>slopeData=%{x}<br>varianceVal=%{y}<br>lastValue=%{marker.size}\", \"hovertext\": [\"San Marino\"], \"legendgroup\": \"San Marino\", \"marker\": {\"color\": \"#EF553B\", \"size\": [224], \"sizemode\": \"area\", \"sizeref\": 39.135, \"symbol\": \"circle\"}, \"mode\": \"markers\", \"name\": \"San Marino\", \"showlegend\": true, \"type\": \"scatter\", \"x\": [6.5997503840245795], \"xaxis\": \"x\", \"y\": [0.11844627568923566], \"yaxis\": \"y\"}, {\"hoverlabel\": {\"namelength\": 0}, \"hovertemplate\": \"<b>%{hovertext}</b><br><br>countryName=Saudi Arabia<br>slopeData=%{x}<br>varianceVal=%{y}<br>lastValue=%{marker.size}\", \"hovertext\": [\"Saudi Arabia\"], \"legendgroup\": \"Saudi Arabia\", \"marker\": {\"color\": \"#00cc96\", \"size\": [1299], \"sizemode\": \"area\", \"sizeref\": 39.135, \"symbol\": \"circle\"}, \"mode\": \"markers\", \"name\": \"Saudi Arabia\", \"showlegend\": true, \"type\": \"scatter\", \"x\": [29.962481962481966], \"xaxis\": \"x\", \"y\": [0.10065618545394658], \"yaxis\": \"y\"}, {\"hoverlabel\": {\"namelength\": 0}, \"hovertemplate\": \"<b>%{hovertext}</b><br><br>countryName=Senegal<br>slopeData=%{x}<br>varianceVal=%{y}<br>lastValue=%{marker.size}\", \"hovertext\": [\"Senegal\"], \"legendgroup\": \"Senegal\", \"marker\": {\"color\": \"#ab63fa\", \"size\": [142], \"sizemode\": \"area\", \"sizeref\": 39.135, \"symbol\": \"circle\"}, \"mode\": \"markers\", \"name\": \"Senegal\", \"showlegend\": true, \"type\": \"scatter\", \"x\": [3.4578643578643584], \"xaxis\": \"x\", \"y\": [0.09729850518749829], \"yaxis\": \"y\"}, {\"hoverlabel\": {\"namelength\": 0}, \"hovertemplate\": \"<b>%{hovertext}</b><br><br>countryName=Serbia<br>slopeData=%{x}<br>varianceVal=%{y}<br>lastValue=%{marker.size}\", \"hovertext\": [\"Serbia\"], \"legendgroup\": \"Serbia\", \"marker\": {\"color\": \"#FFA15A\", \"size\": [741], \"sizemode\": \"area\", \"sizeref\": 39.135, \"symbol\": \"circle\"}, \"mode\": \"markers\", \"name\": \"Serbia\", \"showlegend\": true, \"type\": \"scatter\", \"x\": [18.189870490286776], \"xaxis\": \"x\", \"y\": [0.07917833373914455], \"yaxis\": \"y\"}, {\"hoverlabel\": {\"namelength\": 0}, \"hovertemplate\": \"<b>%{hovertext}</b><br><br>countryName=Seychelles<br>slopeData=%{x}<br>varianceVal=%{y}<br>lastValue=%{marker.size}\", \"hovertext\": [\"Seychelles\"], \"legendgroup\": \"Seychelles\", \"marker\": {\"color\": \"#19d3f3\", \"size\": [8], \"sizemode\": \"area\", \"sizeref\": 39.135, \"symbol\": \"circle\"}, \"mode\": \"markers\", \"name\": \"Seychelles\", \"showlegend\": true, \"type\": \"scatter\", \"x\": [0.6693548387096774], \"xaxis\": \"x\", \"y\": [0.1118706597222222], \"yaxis\": \"y\"}, {\"hoverlabel\": {\"namelength\": 0}, \"hovertemplate\": \"<b>%{hovertext}</b><br><br>countryName=Singapore<br>slopeData=%{x}<br>varianceVal=%{y}<br>lastValue=%{marker.size}\", \"hovertext\": [\"Singapore\"], \"legendgroup\": \"Singapore\", \"marker\": {\"color\": \"#FF6692\", \"size\": [844], \"sizemode\": \"area\", \"sizeref\": 39.135, \"symbol\": \"circle\"}, \"mode\": \"markers\", \"name\": \"Singapore\", \"showlegend\": true, \"type\": \"scatter\", \"x\": [6.038940635170016], \"xaxis\": \"x\", \"y\": [0.058882559824368026], \"yaxis\": \"y\"}, {\"hoverlabel\": {\"namelength\": 0}, \"hovertemplate\": \"<b>%{hovertext}</b><br><br>countryName=Slovakia<br>slopeData=%{x}<br>varianceVal=%{y}<br>lastValue=%{marker.size}\", \"hovertext\": [\"Slovakia\"], \"legendgroup\": \"Slovakia\", \"marker\": {\"color\": \"#B6E880\", \"size\": [314], \"sizemode\": \"area\", \"sizeref\": 39.135, \"symbol\": \"circle\"}, \"mode\": \"markers\", \"name\": \"Slovakia\", \"showlegend\": true, \"type\": \"scatter\", \"x\": [11.06244218316374], \"xaxis\": \"x\", \"y\": [0.10352167451495424], \"yaxis\": \"y\"}, {\"hoverlabel\": {\"namelength\": 0}, \"hovertemplate\": \"<b>%{hovertext}</b><br><br>countryName=Slovenia<br>slopeData=%{x}<br>varianceVal=%{y}<br>lastValue=%{marker.size}\", \"hovertext\": [\"Slovenia\"], \"legendgroup\": \"Slovenia\", \"marker\": {\"color\": \"#FF97FF\", \"size\": [730], \"sizemode\": \"area\", \"sizeref\": 39.135, \"symbol\": \"circle\"}, \"mode\": \"markers\", \"name\": \"Slovenia\", \"showlegend\": true, \"type\": \"scatter\", \"x\": [25.456530612244897], \"xaxis\": \"x\", \"y\": [0.0963558869701727], \"yaxis\": \"y\"}, {\"hoverlabel\": {\"namelength\": 0}, \"hovertemplate\": \"<b>%{hovertext}</b><br><br>countryName=Somalia<br>slopeData=%{x}<br>varianceVal=%{y}<br>lastValue=%{marker.size}\", \"hovertext\": [\"Somalia\"], \"legendgroup\": \"Somalia\", \"marker\": {\"color\": \"#FECB52\", \"size\": [3], \"sizemode\": \"area\", \"sizeref\": 39.135, \"symbol\": \"circle\"}, \"mode\": \"markers\", \"name\": \"Somalia\", \"showlegend\": true, \"type\": \"scatter\", \"x\": [0.21123321123321123], \"xaxis\": \"x\", \"y\": [0.16964285714285715], \"yaxis\": \"y\"}, {\"hoverlabel\": {\"namelength\": 0}, \"hovertemplate\": \"<b>%{hovertext}</b><br><br>countryName=South Africa<br>slopeData=%{x}<br>varianceVal=%{y}<br>lastValue=%{marker.size}\", \"hovertext\": [\"South Africa\"], \"legendgroup\": \"South Africa\", \"marker\": {\"color\": \"#636efa\", \"size\": [1280], \"sizemode\": \"area\", \"sizeref\": 39.135, \"symbol\": \"circle\"}, \"mode\": \"markers\", \"name\": \"South Africa\", \"showlegend\": true, \"type\": \"scatter\", \"x\": [31.23102040816326], \"xaxis\": \"x\", \"y\": [0.10325381403204835], \"yaxis\": \"y\"}, {\"hoverlabel\": {\"namelength\": 0}, \"hovertemplate\": \"<b>%{hovertext}</b><br><br>countryName=Spain<br>slopeData=%{x}<br>varianceVal=%{y}<br>lastValue=%{marker.size}\", \"hovertext\": [\"Spain\"], \"legendgroup\": \"Spain\", \"marker\": {\"color\": \"#EF553B\", \"size\": [80110], \"sizemode\": \"area\", \"sizeref\": 39.135, \"symbol\": \"circle\"}, \"mode\": \"markers\", \"name\": \"Spain\", \"showlegend\": true, \"type\": \"scatter\", \"x\": [460.6988716168232], \"xaxis\": \"x\", \"y\": [0.05942215665927785], \"yaxis\": \"y\"}, {\"hoverlabel\": {\"namelength\": 0}, \"hovertemplate\": \"<b>%{hovertext}</b><br><br>countryName=Sri Lanka<br>slopeData=%{x}<br>varianceVal=%{y}<br>lastValue=%{marker.size}\", \"hovertext\": [\"Sri Lanka\"], \"legendgroup\": \"Sri Lanka\", \"marker\": {\"color\": \"#00cc96\", \"size\": [117], \"sizemode\": \"area\", \"sizeref\": 39.135, \"symbol\": \"circle\"}, \"mode\": \"markers\", \"name\": \"Sri Lanka\", \"showlegend\": true, \"type\": \"scatter\", \"x\": [0.8416221198156681], \"xaxis\": \"x\", \"y\": [0.0969127488931011], \"yaxis\": \"y\"}, {\"hoverlabel\": {\"namelength\": 0}, \"hovertemplate\": \"<b>%{hovertext}</b><br><br>countryName=Sudan<br>slopeData=%{x}<br>varianceVal=%{y}<br>lastValue=%{marker.size}\", \"hovertext\": [\"Sudan\"], \"legendgroup\": \"Sudan\", \"marker\": {\"color\": \"#ab63fa\", \"size\": [6], \"sizemode\": \"area\", \"sizeref\": 39.135, \"symbol\": \"circle\"}, \"mode\": \"markers\", \"name\": \"Sudan\", \"showlegend\": true, \"type\": \"scatter\", \"x\": [0.28141711229946514], \"xaxis\": \"x\", \"y\": [0.0750173010380623], \"yaxis\": \"y\"}, {\"hoverlabel\": {\"namelength\": 0}, \"hovertemplate\": \"<b>%{hovertext}</b><br><br>countryName=Suriname<br>slopeData=%{x}<br>varianceVal=%{y}<br>lastValue=%{marker.size}\", \"hovertext\": [\"Suriname\"], \"legendgroup\": \"Suriname\", \"marker\": {\"color\": \"#FFA15A\", \"size\": [8], \"sizemode\": \"area\", \"sizeref\": 39.135, \"symbol\": \"circle\"}, \"mode\": \"markers\", \"name\": \"Suriname\", \"showlegend\": true, \"type\": \"scatter\", \"x\": [0.5983870967741935], \"xaxis\": \"x\", \"y\": [0.18104272959183673], \"yaxis\": \"y\"}, {\"hoverlabel\": {\"namelength\": 0}, \"hovertemplate\": \"<b>%{hovertext}</b><br><br>countryName=Sweden<br>slopeData=%{x}<br>varianceVal=%{y}<br>lastValue=%{marker.size}\", \"hovertext\": [\"Sweden\"], \"legendgroup\": \"Sweden\", \"marker\": {\"color\": \"#19d3f3\", \"size\": [3700], \"sizemode\": \"area\", \"sizeref\": 39.135, \"symbol\": \"circle\"}, \"mode\": \"markers\", \"name\": \"Sweden\", \"showlegend\": true, \"type\": \"scatter\", \"x\": [27.213340526607617], \"xaxis\": \"x\", \"y\": [0.07051969112618978], \"yaxis\": \"y\"}, {\"hoverlabel\": {\"namelength\": 0}, \"hovertemplate\": \"<b>%{hovertext}</b><br><br>countryName=Switzerland<br>slopeData=%{x}<br>varianceVal=%{y}<br>lastValue=%{marker.size}\", \"hovertext\": [\"Switzerland\"], \"legendgroup\": \"Switzerland\", \"marker\": {\"color\": \"#FF6692\", \"size\": [14829], \"sizemode\": \"area\", \"sizeref\": 39.135, \"symbol\": \"circle\"}, \"mode\": \"markers\", \"name\": \"Switzerland\", \"showlegend\": true, \"type\": \"scatter\", \"x\": [271.455024343523], \"xaxis\": \"x\", \"y\": [0.10041517704491698], \"yaxis\": \"y\"}, {\"hoverlabel\": {\"namelength\": 0}, \"hovertemplate\": \"<b>%{hovertext}</b><br><br>countryName=Taiwan*<br>slopeData=%{x}<br>varianceVal=%{y}<br>lastValue=%{marker.size}\", \"hovertext\": [\"Taiwan*\"], \"legendgroup\": \"Taiwan*\", \"marker\": {\"color\": \"#B6E880\", \"size\": [298], \"sizemode\": \"area\", \"sizeref\": 39.135, \"symbol\": \"circle\"}, \"mode\": \"markers\", \"name\": \"Taiwan*\", \"showlegend\": true, \"type\": \"scatter\", \"x\": [2.0285533118720127], \"xaxis\": \"x\", \"y\": [0.06127363944651583], \"yaxis\": \"y\"}, {\"hoverlabel\": {\"namelength\": 0}, \"hovertemplate\": \"<b>%{hovertext}</b><br><br>countryName=Tanzania<br>slopeData=%{x}<br>varianceVal=%{y}<br>lastValue=%{marker.size}\", \"hovertext\": [\"Tanzania\"], \"legendgroup\": \"Tanzania\", \"marker\": {\"color\": \"#FF97FF\", \"size\": [14], \"sizemode\": \"area\", \"sizeref\": 39.135, \"symbol\": \"circle\"}, \"mode\": \"markers\", \"name\": \"Tanzania\", \"showlegend\": true, \"type\": \"scatter\", \"x\": [1.296703296703297], \"xaxis\": \"x\", \"y\": [0.13056997947107843], \"yaxis\": \"y\"}, {\"hoverlabel\": {\"namelength\": 0}, \"hovertemplate\": \"<b>%{hovertext}</b><br><br>countryName=Thailand<br>slopeData=%{x}<br>varianceVal=%{y}<br>lastValue=%{marker.size}\", \"hovertext\": [\"Thailand\"], \"legendgroup\": \"Thailand\", \"marker\": {\"color\": \"#FECB52\", \"size\": [1388], \"sizemode\": \"area\", \"sizeref\": 39.135, \"symbol\": \"circle\"}, \"mode\": \"markers\", \"name\": \"Thailand\", \"showlegend\": true, \"type\": \"scatter\", \"x\": [6.431079894644425], \"xaxis\": \"x\", \"y\": [0.053116362927352834], \"yaxis\": \"y\"}, {\"hoverlabel\": {\"namelength\": 0}, \"hovertemplate\": \"<b>%{hovertext}</b><br><br>countryName=Togo<br>slopeData=%{x}<br>varianceVal=%{y}<br>lastValue=%{marker.size}\", \"hovertext\": [\"Togo\"], \"legendgroup\": \"Togo\", \"marker\": {\"color\": \"#636efa\", \"size\": [25], \"sizemode\": \"area\", \"sizeref\": 39.135, \"symbol\": \"circle\"}, \"mode\": \"markers\", \"name\": \"Togo\", \"showlegend\": true, \"type\": \"scatter\", \"x\": [0.9079555966697505], \"xaxis\": \"x\", \"y\": [0.17041618441358022], \"yaxis\": \"y\"}, {\"hoverlabel\": {\"namelength\": 0}, \"hovertemplate\": \"<b>%{hovertext}</b><br><br>countryName=Trinidad and Tobago<br>slopeData=%{x}<br>varianceVal=%{y}<br>lastValue=%{marker.size}\", \"hovertext\": [\"Trinidad and Tobago\"], \"legendgroup\": \"Trinidad and Tobago\", \"marker\": {\"color\": \"#EF553B\", \"size\": [78], \"sizemode\": \"area\", \"sizeref\": 39.135, \"symbol\": \"circle\"}, \"mode\": \"markers\", \"name\": \"Trinidad and Tobago\", \"showlegend\": true, \"type\": \"scatter\", \"x\": [5.183870967741935], \"xaxis\": \"x\", \"y\": [0.1422156336565097], \"yaxis\": \"y\"}, {\"hoverlabel\": {\"namelength\": 0}, \"hovertemplate\": \"<b>%{hovertext}</b><br><br>countryName=Tunisia<br>slopeData=%{x}<br>varianceVal=%{y}<br>lastValue=%{marker.size}\", \"hovertext\": [\"Tunisia\"], \"legendgroup\": \"Tunisia\", \"marker\": {\"color\": \"#00cc96\", \"size\": [312], \"sizemode\": \"area\", \"sizeref\": 39.135, \"symbol\": \"circle\"}, \"mode\": \"markers\", \"name\": \"Tunisia\", \"showlegend\": true, \"type\": \"scatter\", \"x\": [6.712941176470588], \"xaxis\": \"x\", \"y\": [0.08423667684682515], \"yaxis\": \"y\"}, {\"hoverlabel\": {\"namelength\": 0}, \"hovertemplate\": \"<b>%{hovertext}</b><br><br>countryName=Turkey<br>slopeData=%{x}<br>varianceVal=%{y}<br>lastValue=%{marker.size}\", \"hovertext\": [\"Turkey\"], \"legendgroup\": \"Turkey\", \"marker\": {\"color\": \"#ab63fa\", \"size\": [9217], \"sizemode\": \"area\", \"sizeref\": 39.135, \"symbol\": \"circle\"}, \"mode\": \"markers\", \"name\": \"Turkey\", \"showlegend\": true, \"type\": \"scatter\", \"x\": [256.1688003793268], \"xaxis\": \"x\", \"y\": [0.08486308192453396], \"yaxis\": \"y\"}, {\"hoverlabel\": {\"namelength\": 0}, \"hovertemplate\": \"<b>%{hovertext}</b><br><br>countryName=Uganda<br>slopeData=%{x}<br>varianceVal=%{y}<br>lastValue=%{marker.size}\", \"hovertext\": [\"Uganda\"], \"legendgroup\": \"Uganda\", \"marker\": {\"color\": \"#FFA15A\", \"size\": [33], \"sizemode\": \"area\", \"sizeref\": 39.135, \"symbol\": \"circle\"}, \"mode\": \"markers\", \"name\": \"Uganda\", \"showlegend\": true, \"type\": \"scatter\", \"x\": [3.8431372549019605], \"xaxis\": \"x\", \"y\": [0.11706693672839506], \"yaxis\": \"y\"}, {\"hoverlabel\": {\"namelength\": 0}, \"hovertemplate\": \"<b>%{hovertext}</b><br><br>countryName=Ukraine<br>slopeData=%{x}<br>varianceVal=%{y}<br>lastValue=%{marker.size}\", \"hovertext\": [\"Ukraine\"], \"legendgroup\": \"Ukraine\", \"marker\": {\"color\": \"#19d3f3\", \"size\": [475], \"sizemode\": \"area\", \"sizeref\": 39.135, \"symbol\": \"circle\"}, \"mode\": \"markers\", \"name\": \"Ukraine\", \"showlegend\": true, \"type\": \"scatter\", \"x\": [7.01628769553298], \"xaxis\": \"x\", \"y\": [0.06628468939793955], \"yaxis\": \"y\"}, {\"hoverlabel\": {\"namelength\": 0}, \"hovertemplate\": \"<b>%{hovertext}</b><br><br>countryName=United Arab Emirates<br>slopeData=%{x}<br>varianceVal=%{y}<br>lastValue=%{marker.size}\", \"hovertext\": [\"United Arab Emirates\"], \"legendgroup\": \"United Arab Emirates\", \"marker\": {\"color\": \"#FF6692\", \"size\": [570], \"sizemode\": \"area\", \"sizeref\": 39.135, \"symbol\": \"circle\"}, \"mode\": \"markers\", \"name\": \"United Arab Emirates\", \"showlegend\": true, \"type\": \"scatter\", \"x\": [3.1195230998509684], \"xaxis\": \"x\", \"y\": [0.044460343699400065], \"yaxis\": \"y\"}, {\"hoverlabel\": {\"namelength\": 0}, \"hovertemplate\": \"<b>%{hovertext}</b><br><br>countryName=United KingdomBermuda<br>slopeData=%{x}<br>varianceVal=%{y}<br>lastValue=%{marker.size}\", \"hovertext\": [\"United KingdomBermuda\"], \"legendgroup\": \"United KingdomBermuda\", \"marker\": {\"color\": \"#B6E880\", \"size\": [22], \"sizemode\": \"area\", \"sizeref\": 39.135, \"symbol\": \"circle\"}, \"mode\": \"markers\", \"name\": \"United KingdomBermuda\", \"showlegend\": true, \"type\": \"scatter\", \"x\": [1.906493506493506], \"xaxis\": \"x\", \"y\": [0.1159504132231405], \"yaxis\": \"y\"}, {\"hoverlabel\": {\"namelength\": 0}, \"hovertemplate\": \"<b>%{hovertext}</b><br><br>countryName=United KingdomCayman Islands<br>slopeData=%{x}<br>varianceVal=%{y}<br>lastValue=%{marker.size}\", \"hovertext\": [\"United KingdomCayman Islands\"], \"legendgroup\": \"United KingdomCayman Islands\", \"marker\": {\"color\": \"#FF97FF\", \"size\": [8], \"sizemode\": \"area\", \"sizeref\": 39.135, \"symbol\": \"circle\"}, \"mode\": \"markers\", \"name\": \"United KingdomCayman Islands\", \"showlegend\": true, \"type\": \"scatter\", \"x\": [0.5220588235294116], \"xaxis\": \"x\", \"y\": [0.1715980509850999], \"yaxis\": \"y\"}, {\"hoverlabel\": {\"namelength\": 0}, \"hovertemplate\": \"<b>%{hovertext}</b><br><br>countryName=United KingdomChannel Islands<br>slopeData=%{x}<br>varianceVal=%{y}<br>lastValue=%{marker.size}\", \"hovertext\": [\"United KingdomChannel Islands\"], \"legendgroup\": \"United KingdomChannel Islands\", \"marker\": {\"color\": \"#FECB52\", \"size\": [108], \"sizemode\": \"area\", \"sizeref\": 39.135, \"symbol\": \"circle\"}, \"mode\": \"markers\", \"name\": \"United KingdomChannel Islands\", \"showlegend\": true, \"type\": \"scatter\", \"x\": [3.703643724696356], \"xaxis\": \"x\", \"y\": [0.09878242641278712], \"yaxis\": \"y\"}, {\"hoverlabel\": {\"namelength\": 0}, \"hovertemplate\": \"<b>%{hovertext}</b><br><br>countryName=United KingdomGibraltar<br>slopeData=%{x}<br>varianceVal=%{y}<br>lastValue=%{marker.size}\", \"hovertext\": [\"United KingdomGibraltar\"], \"legendgroup\": \"United KingdomGibraltar\", \"marker\": {\"color\": \"#636efa\", \"size\": [65], \"sizemode\": \"area\", \"sizeref\": 39.135, \"symbol\": \"circle\"}, \"mode\": \"markers\", \"name\": \"United KingdomGibraltar\", \"showlegend\": true, \"type\": \"scatter\", \"x\": [1.2876018099547513], \"xaxis\": \"x\", \"y\": [0.08456511187130178], \"yaxis\": \"y\"}, {\"hoverlabel\": {\"namelength\": 0}, \"hovertemplate\": \"<b>%{hovertext}</b><br><br>countryName=United KingdomIsle of Man<br>slopeData=%{x}<br>varianceVal=%{y}<br>lastValue=%{marker.size}\", \"hovertext\": [\"United KingdomIsle of Man\"], \"legendgroup\": \"United KingdomIsle of Man\", \"marker\": {\"color\": \"#EF553B\", \"size\": [42], \"sizemode\": \"area\", \"sizeref\": 39.135, \"symbol\": \"circle\"}, \"mode\": \"markers\", \"name\": \"United KingdomIsle of Man\", \"showlegend\": true, \"type\": \"scatter\", \"x\": [4.364912280701755], \"xaxis\": \"x\", \"y\": [0.10377156454491374], \"yaxis\": \"y\"}, {\"hoverlabel\": {\"namelength\": 0}, \"hovertemplate\": \"<b>%{hovertext}</b><br><br>countryName=United KingdomMontserrat<br>slopeData=%{x}<br>varianceVal=%{y}<br>lastValue=%{marker.size}\", \"hovertext\": [\"United KingdomMontserrat\"], \"legendgroup\": \"United KingdomMontserrat\", \"marker\": {\"color\": \"#00cc96\", \"size\": [5], \"sizemode\": \"area\", \"sizeref\": 39.135, \"symbol\": \"circle\"}, \"mode\": \"markers\", \"name\": \"United KingdomMontserrat\", \"showlegend\": true, \"type\": \"scatter\", \"x\": [0.4308300395256918], \"xaxis\": \"x\", \"y\": [0.2222222222222223], \"yaxis\": \"y\"}, {\"hoverlabel\": {\"namelength\": 0}, \"hovertemplate\": \"<b>%{hovertext}</b><br><br>countryName=United Kingdom<br>slopeData=%{x}<br>varianceVal=%{y}<br>lastValue=%{marker.size}\", \"hovertext\": [\"United Kingdom\"], \"legendgroup\": \"United Kingdom\", \"marker\": {\"color\": \"#ab63fa\", \"size\": [19522], \"sizemode\": \"area\", \"sizeref\": 39.135, \"symbol\": \"circle\"}, \"mode\": \"markers\", \"name\": \"United Kingdom\", \"showlegend\": true, \"type\": \"scatter\", \"x\": [93.41244436451916], \"xaxis\": \"x\", \"y\": [0.048425016010110955], \"yaxis\": \"y\"}, {\"hoverlabel\": {\"namelength\": 0}, \"hovertemplate\": \"<b>%{hovertext}</b><br><br>countryName=Uruguay<br>slopeData=%{x}<br>varianceVal=%{y}<br>lastValue=%{marker.size}\", \"hovertext\": [\"Uruguay\"], \"legendgroup\": \"Uruguay\", \"marker\": {\"color\": \"#FFA15A\", \"size\": [304], \"sizemode\": \"area\", \"sizeref\": 39.135, \"symbol\": \"circle\"}, \"mode\": \"markers\", \"name\": \"Uruguay\", \"showlegend\": true, \"type\": \"scatter\", \"x\": [18.186290322580643], \"xaxis\": \"x\", \"y\": [0.1000637152777778], \"yaxis\": \"y\"}, {\"hoverlabel\": {\"namelength\": 0}, \"hovertemplate\": \"<b>%{hovertext}</b><br><br>countryName=US<br>slopeData=%{x}<br>varianceVal=%{y}<br>lastValue=%{marker.size}\", \"hovertext\": [\"US\"], \"legendgroup\": \"US\", \"marker\": {\"color\": \"#19d3f3\", \"size\": [140886], \"sizemode\": \"area\", \"sizeref\": 39.135, \"symbol\": \"circle\"}, \"mode\": \"markers\", \"name\": \"US\", \"showlegend\": true, \"type\": \"scatter\", \"x\": [456.1956979806848], \"xaxis\": \"x\", \"y\": [0.041180126106688066], \"yaxis\": \"y\"}, {\"hoverlabel\": {\"namelength\": 0}, \"hovertemplate\": \"<b>%{hovertext}</b><br><br>countryName=Uzbekistan<br>slopeData=%{x}<br>varianceVal=%{y}<br>lastValue=%{marker.size}\", \"hovertext\": [\"Uzbekistan\"], \"legendgroup\": \"Uzbekistan\", \"marker\": {\"color\": \"#FF6692\", \"size\": [144], \"sizemode\": \"area\", \"sizeref\": 39.135, \"symbol\": \"circle\"}, \"mode\": \"markers\", \"name\": \"Uzbekistan\", \"showlegend\": true, \"type\": \"scatter\", \"x\": [7.442364532019703], \"xaxis\": \"x\", \"y\": [0.0724064746442369], \"yaxis\": \"y\"}, {\"hoverlabel\": {\"namelength\": 0}, \"hovertemplate\": \"<b>%{hovertext}</b><br><br>countryName=Venezuela<br>slopeData=%{x}<br>varianceVal=%{y}<br>lastValue=%{marker.size}\", \"hovertext\": [\"Venezuela\"], \"legendgroup\": \"Venezuela\", \"marker\": {\"color\": \"#B6E880\", \"size\": [119], \"sizemode\": \"area\", \"sizeref\": 39.135, \"symbol\": \"circle\"}, \"mode\": \"markers\", \"name\": \"Venezuela\", \"showlegend\": true, \"type\": \"scatter\", \"x\": [8.434677419354838], \"xaxis\": \"x\", \"y\": [0.1040970395938345], \"yaxis\": \"y\"}, {\"hoverlabel\": {\"namelength\": 0}, \"hovertemplate\": \"<b>%{hovertext}</b><br><br>countryName=Vietnam<br>slopeData=%{x}<br>varianceVal=%{y}<br>lastValue=%{marker.size}\", \"hovertext\": [\"Vietnam\"], \"legendgroup\": \"Vietnam\", \"marker\": {\"color\": \"#FF97FF\", \"size\": [188], \"sizemode\": \"area\", \"sizeref\": 39.135, \"symbol\": \"circle\"}, \"mode\": \"markers\", \"name\": \"Vietnam\", \"showlegend\": true, \"type\": \"scatter\", \"x\": [1.3421409697921878], \"xaxis\": \"x\", \"y\": [0.06322301806800973], \"yaxis\": \"y\"}, {\"hoverlabel\": {\"namelength\": 0}, \"hovertemplate\": \"<b>%{hovertext}</b><br><br>countryName=Zambia<br>slopeData=%{x}<br>varianceVal=%{y}<br>lastValue=%{marker.size}\", \"hovertext\": [\"Zambia\"], \"legendgroup\": \"Zambia\", \"marker\": {\"color\": \"#FECB52\", \"size\": [29], \"sizemode\": \"area\", \"sizeref\": 39.135, \"symbol\": \"circle\"}, \"mode\": \"markers\", \"name\": \"Zambia\", \"showlegend\": true, \"type\": \"scatter\", \"x\": [2.1067193675889335], \"xaxis\": \"x\", \"y\": [0.14525224813290658], \"yaxis\": \"y\"}, {\"hoverlabel\": {\"namelength\": 0}, \"hovertemplate\": \"<b>%{hovertext}</b><br><br>countryName=Zimbabwe<br>slopeData=%{x}<br>varianceVal=%{y}<br>lastValue=%{marker.size}\", \"hovertext\": [\"Zimbabwe\"], \"legendgroup\": \"Zimbabwe\", \"marker\": {\"color\": \"#636efa\", \"size\": [7], \"sizemode\": \"area\", \"sizeref\": 39.135, \"symbol\": \"circle\"}, \"mode\": \"markers\", \"name\": \"Zimbabwe\", \"showlegend\": true, \"type\": \"scatter\", \"x\": [0.76140350877193], \"xaxis\": \"x\", \"y\": [0.09333333333333331], \"yaxis\": \"y\"}, {\"hoverlabel\": {\"namelength\": 0}, \"hovertemplate\": \"<b>%{hovertext}</b><br><br>countryName=Dominica<br>slopeData=%{x}<br>varianceVal=%{y}<br>lastValue=%{marker.size}\", \"hovertext\": [\"Dominica\"], \"legendgroup\": \"Dominica\", \"marker\": {\"color\": \"#EF553B\", \"size\": [11], \"sizemode\": \"area\", \"sizeref\": 39.135, \"symbol\": \"circle\"}, \"mode\": \"markers\", \"name\": \"Dominica\", \"showlegend\": true, \"type\": \"scatter\", \"x\": [1.9214285714285713], \"xaxis\": \"x\", \"y\": [0.1875], \"yaxis\": \"y\"}, {\"hoverlabel\": {\"namelength\": 0}, \"hovertemplate\": \"<b>%{hovertext}</b><br><br>countryName=Grenada<br>slopeData=%{x}<br>varianceVal=%{y}<br>lastValue=%{marker.size}\", \"hovertext\": [\"Grenada\"], \"legendgroup\": \"Grenada\", \"marker\": {\"color\": \"#00cc96\", \"size\": [9], \"sizemode\": \"area\", \"sizeref\": 39.135, \"symbol\": \"circle\"}, \"mode\": \"markers\", \"name\": \"Grenada\", \"showlegend\": true, \"type\": \"scatter\", \"x\": [1.2428571428571429], \"xaxis\": \"x\", \"y\": [0.1708984375], \"yaxis\": \"y\"}, {\"hoverlabel\": {\"namelength\": 0}, \"hovertemplate\": \"<b>%{hovertext}</b><br><br>countryName=Mozambique<br>slopeData=%{x}<br>varianceVal=%{y}<br>lastValue=%{marker.size}\", \"hovertext\": [\"Mozambique\"], \"legendgroup\": \"Mozambique\", \"marker\": {\"color\": \"#ab63fa\", \"size\": [8], \"sizemode\": \"area\", \"sizeref\": 39.135, \"symbol\": \"circle\"}, \"mode\": \"markers\", \"name\": \"Mozambique\", \"showlegend\": true, \"type\": \"scatter\", \"x\": [1.3499999999999996], \"xaxis\": \"x\", \"y\": [0.15816326530612246], \"yaxis\": \"y\"}, {\"hoverlabel\": {\"namelength\": 0}, \"hovertemplate\": \"<b>%{hovertext}</b><br><br>countryName=Syria<br>slopeData=%{x}<br>varianceVal=%{y}<br>lastValue=%{marker.size}\", \"hovertext\": [\"Syria\"], \"legendgroup\": \"Syria\", \"marker\": {\"color\": \"#FFA15A\", \"size\": [9], \"sizemode\": \"area\", \"sizeref\": 39.135, \"symbol\": \"circle\"}, \"mode\": \"markers\", \"name\": \"Syria\", \"showlegend\": true, \"type\": \"scatter\", \"x\": [1.114285714285714], \"xaxis\": \"x\", \"y\": [0.109375], \"yaxis\": \"y\"}, {\"hoverlabel\": {\"namelength\": 0}, \"hovertemplate\": \"<b>%{hovertext}</b><br><br>countryName=Timor-Leste<br>slopeData=%{x}<br>varianceVal=%{y}<br>lastValue=%{marker.size}\", \"hovertext\": [\"Timor-Leste\"], \"legendgroup\": \"Timor-Leste\", \"marker\": {\"color\": \"#19d3f3\", \"size\": [1], \"sizemode\": \"area\", \"sizeref\": 39.135, \"symbol\": \"circle\"}, \"mode\": \"markers\", \"name\": \"Timor-Leste\", \"showlegend\": true, \"type\": \"scatter\", \"x\": [0.19999999999999998], \"xaxis\": \"x\", \"y\": [0.0], \"yaxis\": \"y\"}, {\"hoverlabel\": {\"namelength\": 0}, \"hovertemplate\": \"<b>%{hovertext}</b><br><br>countryName=Belize<br>slopeData=%{x}<br>varianceVal=%{y}<br>lastValue=%{marker.size}\", \"hovertext\": [\"Belize\"], \"legendgroup\": \"Belize\", \"marker\": {\"color\": \"#FF6692\", \"size\": [2], \"sizemode\": \"area\", \"sizeref\": 39.135, \"symbol\": \"circle\"}, \"mode\": \"markers\", \"name\": \"Belize\", \"showlegend\": true, \"type\": \"scatter\", \"x\": [0.4505494505494504], \"xaxis\": \"x\", \"y\": [0.20408163265306128], \"yaxis\": \"y\"}, {\"hoverlabel\": {\"namelength\": 0}, \"hovertemplate\": \"<b>%{hovertext}</b><br><br>countryName=Laos<br>slopeData=%{x}<br>varianceVal=%{y}<br>lastValue=%{marker.size}\", \"hovertext\": [\"Laos\"], \"legendgroup\": \"Laos\", \"marker\": {\"color\": \"#B6E880\", \"size\": [8], \"sizemode\": \"area\", \"sizeref\": 39.135, \"symbol\": \"circle\"}, \"mode\": \"markers\", \"name\": \"Laos\", \"showlegend\": true, \"type\": \"scatter\", \"x\": [1.9090909090909094], \"xaxis\": \"x\", \"y\": [0.14583333333333331], \"yaxis\": \"y\"}, {\"hoverlabel\": {\"namelength\": 0}, \"hovertemplate\": \"<b>%{hovertext}</b><br><br>countryName=Libya<br>slopeData=%{x}<br>varianceVal=%{y}<br>lastValue=%{marker.size}\", \"hovertext\": [\"Libya\"], \"legendgroup\": \"Libya\", \"marker\": {\"color\": \"#FF97FF\", \"size\": [8], \"sizemode\": \"area\", \"sizeref\": 39.135, \"symbol\": \"circle\"}, \"mode\": \"markers\", \"name\": \"Libya\", \"showlegend\": true, \"type\": \"scatter\", \"x\": [1.0545454545454545], \"xaxis\": \"x\", \"y\": [0.13435374149659862], \"yaxis\": \"y\"}, {\"hoverlabel\": {\"namelength\": 0}, \"hovertemplate\": \"<b>%{hovertext}</b><br><br>countryName=West Bank and Gaza<br>slopeData=%{x}<br>varianceVal=%{y}<br>lastValue=%{marker.size}\", \"hovertext\": [\"West Bank and Gaza\"], \"legendgroup\": \"West Bank and Gaza\", \"marker\": {\"color\": \"#FECB52\", \"size\": [109], \"sizemode\": \"area\", \"sizeref\": 39.135, \"symbol\": \"circle\"}, \"mode\": \"markers\", \"name\": \"West Bank and Gaza\", \"showlegend\": true, \"type\": \"scatter\", \"x\": [3.6769387755102034], \"xaxis\": \"x\", \"y\": [0.06505941043083902], \"yaxis\": \"y\"}, {\"hoverlabel\": {\"namelength\": 0}, \"hovertemplate\": \"<b>%{hovertext}</b><br><br>countryName=Guinea-Bissau<br>slopeData=%{x}<br>varianceVal=%{y}<br>lastValue=%{marker.size}\", \"hovertext\": [\"Guinea-Bissau\"], \"legendgroup\": \"Guinea-Bissau\", \"marker\": {\"color\": \"#636efa\", \"size\": [2], \"sizemode\": \"area\", \"sizeref\": 39.135, \"symbol\": \"circle\"}, \"mode\": \"markers\", \"name\": \"Guinea-Bissau\", \"showlegend\": true, \"type\": \"scatter\", \"x\": [0.6666666666666665], \"xaxis\": \"x\", \"y\": [0.0], \"yaxis\": \"y\"}, {\"hoverlabel\": {\"namelength\": 0}, \"hovertemplate\": \"<b>%{hovertext}</b><br><br>countryName=Mali<br>slopeData=%{x}<br>varianceVal=%{y}<br>lastValue=%{marker.size}\", \"hovertext\": [\"Mali\"], \"legendgroup\": \"Mali\", \"marker\": {\"color\": \"#EF553B\", \"size\": [18], \"sizemode\": \"area\", \"sizeref\": 39.135, \"symbol\": \"circle\"}, \"mode\": \"markers\", \"name\": \"Mali\", \"showlegend\": true, \"type\": \"scatter\", \"x\": [5.066666666666666], \"xaxis\": \"x\", \"y\": [0.1775], \"yaxis\": \"y\"}, {\"hoverlabel\": {\"namelength\": 0}, \"hovertemplate\": \"<b>%{hovertext}</b><br><br>countryName=Saint Kitts and Nevis<br>slopeData=%{x}<br>varianceVal=%{y}<br>lastValue=%{marker.size}\", \"hovertext\": [\"Saint Kitts and Nevis\"], \"legendgroup\": \"Saint Kitts and Nevis\", \"marker\": {\"color\": \"#00cc96\", \"size\": [2], \"sizemode\": \"area\", \"sizeref\": 39.135, \"symbol\": \"circle\"}, \"mode\": \"markers\", \"name\": \"Saint Kitts and Nevis\", \"showlegend\": true, \"type\": \"scatter\", \"x\": [0.6666666666666665], \"xaxis\": \"x\", \"y\": [0.0], \"yaxis\": \"y\"}, {\"hoverlabel\": {\"namelength\": 0}, \"hovertemplate\": \"<b>%{hovertext}</b><br><br>countryName=CanadaNorthwest Territories<br>slopeData=%{x}<br>varianceVal=%{y}<br>lastValue=%{marker.size}\", \"hovertext\": [\"CanadaNorthwest Territories\"], \"legendgroup\": \"CanadaNorthwest Territories\", \"marker\": {\"color\": \"#ab63fa\", \"size\": [1], \"sizemode\": \"area\", \"sizeref\": 39.135, \"symbol\": \"circle\"}, \"mode\": \"markers\", \"name\": \"CanadaNorthwest Territories\", \"showlegend\": true, \"type\": \"scatter\", \"x\": [0.42857142857142866], \"xaxis\": \"x\", \"y\": [0.0], \"yaxis\": \"y\"}, {\"hoverlabel\": {\"namelength\": 0}, \"hovertemplate\": \"<b>%{hovertext}</b><br><br>countryName=CanadaYukon<br>slopeData=%{x}<br>varianceVal=%{y}<br>lastValue=%{marker.size}\", \"hovertext\": [\"CanadaYukon\"], \"legendgroup\": \"CanadaYukon\", \"marker\": {\"color\": \"#FFA15A\", \"size\": [4], \"sizemode\": \"area\", \"sizeref\": 39.135, \"symbol\": \"circle\"}, \"mode\": \"markers\", \"name\": \"CanadaYukon\", \"showlegend\": true, \"type\": \"scatter\", \"x\": [1.642857142857143], \"xaxis\": \"x\", \"y\": [0.25], \"yaxis\": \"y\"}, {\"hoverlabel\": {\"namelength\": 0}, \"hovertemplate\": \"<b>%{hovertext}</b><br><br>countryName=Kosovo<br>slopeData=%{x}<br>varianceVal=%{y}<br>lastValue=%{marker.size}\", \"hovertext\": [\"Kosovo\"], \"legendgroup\": \"Kosovo\", \"marker\": {\"color\": \"#19d3f3\", \"size\": [94], \"sizemode\": \"area\", \"sizeref\": 39.135, \"symbol\": \"circle\"}, \"mode\": \"markers\", \"name\": \"Kosovo\", \"showlegend\": true, \"type\": \"scatter\", \"x\": [39.2857142857143], \"xaxis\": \"x\", \"y\": [0.14792060491493375], \"yaxis\": \"y\"}, {\"hoverlabel\": {\"namelength\": 0}, \"hovertemplate\": \"<b>%{hovertext}</b><br><br>countryName=Burma<br>slopeData=%{x}<br>varianceVal=%{y}<br>lastValue=%{marker.size}\", \"hovertext\": [\"Burma\"], \"legendgroup\": \"Burma\", \"marker\": {\"color\": \"#FF6692\", \"size\": [10], \"sizemode\": \"area\", \"sizeref\": 39.135, \"symbol\": \"circle\"}, \"mode\": \"markers\", \"name\": \"Burma\", \"showlegend\": true, \"type\": \"scatter\", \"x\": [5.6], \"xaxis\": \"x\", \"y\": [0.22222222222222224], \"yaxis\": \"y\"}, {\"hoverlabel\": {\"namelength\": 0}, \"hovertemplate\": \"<b>%{hovertext}</b><br><br>countryName=United KingdomAnguilla<br>slopeData=%{x}<br>varianceVal=%{y}<br>lastValue=%{marker.size}\", \"hovertext\": [\"United KingdomAnguilla\"], \"legendgroup\": \"United KingdomAnguilla\", \"marker\": {\"color\": \"#B6E880\", \"size\": [2], \"sizemode\": \"area\", \"sizeref\": 39.135, \"symbol\": \"circle\"}, \"mode\": \"markers\", \"name\": \"United KingdomAnguilla\", \"showlegend\": true, \"type\": \"scatter\", \"x\": [2.0], \"xaxis\": \"x\", \"y\": [0.0], \"yaxis\": \"y\"}, {\"hoverlabel\": {\"namelength\": 0}, \"hovertemplate\": \"<b>%{hovertext}</b><br><br>countryName=United KingdomBritish Virgin Islands<br>slopeData=%{x}<br>varianceVal=%{y}<br>lastValue=%{marker.size}\", \"hovertext\": [\"United KingdomBritish Virgin Islands\"], \"legendgroup\": \"United KingdomBritish Virgin Islands\", \"marker\": {\"color\": \"#FF97FF\", \"size\": [2], \"sizemode\": \"area\", \"sizeref\": 39.135, \"symbol\": \"circle\"}, \"mode\": \"markers\", \"name\": \"United KingdomBritish Virgin Islands\", \"showlegend\": true, \"type\": \"scatter\", \"x\": [2.0], \"xaxis\": \"x\", \"y\": [0.0], \"yaxis\": \"y\"}, {\"hoverlabel\": {\"namelength\": 0}, \"hovertemplate\": \"<b>%{hovertext}</b><br><br>countryName=United KingdomTurks and Caicos Islands<br>slopeData=%{x}<br>varianceVal=%{y}<br>lastValue=%{marker.size}\", \"hovertext\": [\"United KingdomTurks and Caicos Islands\"], \"legendgroup\": \"United KingdomTurks and Caicos Islands\", \"marker\": {\"color\": \"#FECB52\", \"size\": [4], \"sizemode\": \"area\", \"sizeref\": 39.135, \"symbol\": \"circle\"}, \"mode\": \"markers\", \"name\": \"United KingdomTurks and Caicos Islands\", \"showlegend\": true, \"type\": \"scatter\", \"x\": [4.0], \"xaxis\": \"x\", \"y\": [0.0], \"yaxis\": \"y\"}, {\"hoverlabel\": {\"namelength\": 0}, \"hovertemplate\": \"<b>%{hovertext}</b><br><br>countryName=MS Zaandam<br>slopeData=%{x}<br>varianceVal=%{y}<br>lastValue=%{marker.size}\", \"hovertext\": [\"MS Zaandam\"], \"legendgroup\": \"MS Zaandam\", \"marker\": {\"color\": \"#636efa\", \"size\": [2], \"sizemode\": \"area\", \"sizeref\": 39.135, \"symbol\": \"circle\"}, \"mode\": \"markers\", \"name\": \"MS Zaandam\", \"showlegend\": true, \"type\": \"scatter\", \"x\": [2.0], \"xaxis\": \"x\", \"y\": [0.0], \"yaxis\": \"y\"}],\n",
       "                        {\"legend\": {\"itemsizing\": \"constant\", \"title\": {\"text\": \"countryName\"}, \"tracegroupgap\": 0}, \"margin\": {\"t\": 60}, \"showlegend\": false, \"template\": {\"data\": {\"bar\": [{\"error_x\": {\"color\": \"#2a3f5f\"}, \"error_y\": {\"color\": \"#2a3f5f\"}, \"marker\": {\"line\": {\"color\": \"#E5ECF6\", \"width\": 0.5}}, \"type\": \"bar\"}], \"barpolar\": [{\"marker\": {\"line\": {\"color\": \"#E5ECF6\", \"width\": 0.5}}, \"type\": \"barpolar\"}], \"carpet\": [{\"aaxis\": {\"endlinecolor\": \"#2a3f5f\", \"gridcolor\": \"white\", \"linecolor\": \"white\", \"minorgridcolor\": \"white\", \"startlinecolor\": \"#2a3f5f\"}, \"baxis\": {\"endlinecolor\": \"#2a3f5f\", \"gridcolor\": \"white\", \"linecolor\": \"white\", \"minorgridcolor\": \"white\", \"startlinecolor\": \"#2a3f5f\"}, \"type\": \"carpet\"}], \"choropleth\": [{\"colorbar\": {\"outlinewidth\": 0, \"ticks\": \"\"}, \"type\": \"choropleth\"}], \"contour\": [{\"colorbar\": {\"outlinewidth\": 0, \"ticks\": \"\"}, \"colorscale\": [[0.0, \"#0d0887\"], [0.1111111111111111, \"#46039f\"], [0.2222222222222222, \"#7201a8\"], [0.3333333333333333, \"#9c179e\"], [0.4444444444444444, \"#bd3786\"], [0.5555555555555556, \"#d8576b\"], [0.6666666666666666, \"#ed7953\"], [0.7777777777777778, \"#fb9f3a\"], [0.8888888888888888, \"#fdca26\"], [1.0, \"#f0f921\"]], \"type\": \"contour\"}], \"contourcarpet\": [{\"colorbar\": {\"outlinewidth\": 0, \"ticks\": \"\"}, \"type\": \"contourcarpet\"}], \"heatmap\": [{\"colorbar\": {\"outlinewidth\": 0, \"ticks\": \"\"}, \"colorscale\": [[0.0, \"#0d0887\"], [0.1111111111111111, \"#46039f\"], [0.2222222222222222, \"#7201a8\"], [0.3333333333333333, \"#9c179e\"], [0.4444444444444444, \"#bd3786\"], [0.5555555555555556, \"#d8576b\"], [0.6666666666666666, \"#ed7953\"], [0.7777777777777778, \"#fb9f3a\"], [0.8888888888888888, \"#fdca26\"], [1.0, \"#f0f921\"]], \"type\": \"heatmap\"}], \"heatmapgl\": [{\"colorbar\": {\"outlinewidth\": 0, \"ticks\": \"\"}, \"colorscale\": [[0.0, \"#0d0887\"], [0.1111111111111111, \"#46039f\"], [0.2222222222222222, \"#7201a8\"], [0.3333333333333333, \"#9c179e\"], [0.4444444444444444, \"#bd3786\"], [0.5555555555555556, \"#d8576b\"], [0.6666666666666666, \"#ed7953\"], [0.7777777777777778, \"#fb9f3a\"], [0.8888888888888888, \"#fdca26\"], [1.0, \"#f0f921\"]], \"type\": \"heatmapgl\"}], \"histogram\": [{\"marker\": {\"colorbar\": {\"outlinewidth\": 0, \"ticks\": \"\"}}, \"type\": \"histogram\"}], \"histogram2d\": [{\"colorbar\": {\"outlinewidth\": 0, \"ticks\": \"\"}, \"colorscale\": [[0.0, \"#0d0887\"], [0.1111111111111111, \"#46039f\"], [0.2222222222222222, \"#7201a8\"], [0.3333333333333333, \"#9c179e\"], [0.4444444444444444, \"#bd3786\"], [0.5555555555555556, \"#d8576b\"], [0.6666666666666666, \"#ed7953\"], [0.7777777777777778, \"#fb9f3a\"], [0.8888888888888888, \"#fdca26\"], [1.0, \"#f0f921\"]], \"type\": \"histogram2d\"}], \"histogram2dcontour\": [{\"colorbar\": {\"outlinewidth\": 0, \"ticks\": \"\"}, \"colorscale\": [[0.0, \"#0d0887\"], [0.1111111111111111, \"#46039f\"], [0.2222222222222222, \"#7201a8\"], [0.3333333333333333, \"#9c179e\"], [0.4444444444444444, \"#bd3786\"], [0.5555555555555556, \"#d8576b\"], [0.6666666666666666, \"#ed7953\"], [0.7777777777777778, \"#fb9f3a\"], [0.8888888888888888, \"#fdca26\"], [1.0, \"#f0f921\"]], \"type\": \"histogram2dcontour\"}], \"mesh3d\": [{\"colorbar\": {\"outlinewidth\": 0, \"ticks\": \"\"}, \"type\": \"mesh3d\"}], \"parcoords\": [{\"line\": {\"colorbar\": {\"outlinewidth\": 0, \"ticks\": \"\"}}, \"type\": \"parcoords\"}], \"pie\": [{\"automargin\": true, \"type\": \"pie\"}], \"scatter\": [{\"marker\": {\"colorbar\": {\"outlinewidth\": 0, \"ticks\": \"\"}}, \"type\": \"scatter\"}], \"scatter3d\": [{\"line\": {\"colorbar\": {\"outlinewidth\": 0, \"ticks\": \"\"}}, \"marker\": {\"colorbar\": {\"outlinewidth\": 0, \"ticks\": \"\"}}, \"type\": \"scatter3d\"}], \"scattercarpet\": [{\"marker\": {\"colorbar\": {\"outlinewidth\": 0, \"ticks\": \"\"}}, \"type\": \"scattercarpet\"}], \"scattergeo\": [{\"marker\": {\"colorbar\": {\"outlinewidth\": 0, \"ticks\": \"\"}}, \"type\": \"scattergeo\"}], \"scattergl\": [{\"marker\": {\"colorbar\": {\"outlinewidth\": 0, \"ticks\": \"\"}}, \"type\": \"scattergl\"}], \"scattermapbox\": [{\"marker\": {\"colorbar\": {\"outlinewidth\": 0, \"ticks\": \"\"}}, \"type\": \"scattermapbox\"}], \"scatterpolar\": [{\"marker\": {\"colorbar\": {\"outlinewidth\": 0, \"ticks\": \"\"}}, \"type\": \"scatterpolar\"}], \"scatterpolargl\": [{\"marker\": {\"colorbar\": {\"outlinewidth\": 0, \"ticks\": \"\"}}, \"type\": \"scatterpolargl\"}], \"scatterternary\": [{\"marker\": {\"colorbar\": {\"outlinewidth\": 0, \"ticks\": \"\"}}, \"type\": \"scatterternary\"}], \"surface\": [{\"colorbar\": {\"outlinewidth\": 0, \"ticks\": \"\"}, \"colorscale\": [[0.0, \"#0d0887\"], [0.1111111111111111, \"#46039f\"], [0.2222222222222222, \"#7201a8\"], [0.3333333333333333, \"#9c179e\"], [0.4444444444444444, \"#bd3786\"], [0.5555555555555556, \"#d8576b\"], [0.6666666666666666, \"#ed7953\"], [0.7777777777777778, \"#fb9f3a\"], [0.8888888888888888, \"#fdca26\"], [1.0, \"#f0f921\"]], \"type\": \"surface\"}], \"table\": [{\"cells\": {\"fill\": {\"color\": \"#EBF0F8\"}, \"line\": {\"color\": \"white\"}}, \"header\": {\"fill\": {\"color\": \"#C8D4E3\"}, \"line\": {\"color\": \"white\"}}, \"type\": \"table\"}]}, \"layout\": {\"annotationdefaults\": {\"arrowcolor\": \"#2a3f5f\", \"arrowhead\": 0, \"arrowwidth\": 1}, \"coloraxis\": {\"colorbar\": {\"outlinewidth\": 0, \"ticks\": \"\"}}, \"colorscale\": {\"diverging\": [[0, \"#8e0152\"], [0.1, \"#c51b7d\"], [0.2, \"#de77ae\"], [0.3, \"#f1b6da\"], [0.4, \"#fde0ef\"], [0.5, \"#f7f7f7\"], [0.6, \"#e6f5d0\"], [0.7, \"#b8e186\"], [0.8, \"#7fbc41\"], [0.9, \"#4d9221\"], [1, \"#276419\"]], \"sequential\": [[0.0, \"#0d0887\"], [0.1111111111111111, \"#46039f\"], [0.2222222222222222, \"#7201a8\"], [0.3333333333333333, \"#9c179e\"], [0.4444444444444444, \"#bd3786\"], [0.5555555555555556, \"#d8576b\"], [0.6666666666666666, \"#ed7953\"], [0.7777777777777778, \"#fb9f3a\"], [0.8888888888888888, \"#fdca26\"], [1.0, \"#f0f921\"]], \"sequentialminus\": [[0.0, \"#0d0887\"], [0.1111111111111111, \"#46039f\"], [0.2222222222222222, \"#7201a8\"], [0.3333333333333333, \"#9c179e\"], [0.4444444444444444, \"#bd3786\"], [0.5555555555555556, \"#d8576b\"], [0.6666666666666666, \"#ed7953\"], [0.7777777777777778, \"#fb9f3a\"], [0.8888888888888888, \"#fdca26\"], [1.0, \"#f0f921\"]]}, \"colorway\": [\"#636efa\", \"#EF553B\", \"#00cc96\", \"#ab63fa\", \"#FFA15A\", \"#19d3f3\", \"#FF6692\", \"#B6E880\", \"#FF97FF\", \"#FECB52\"], \"font\": {\"color\": \"#2a3f5f\"}, \"geo\": {\"bgcolor\": \"white\", \"lakecolor\": \"white\", \"landcolor\": \"#E5ECF6\", \"showlakes\": true, \"showland\": true, \"subunitcolor\": \"white\"}, \"hoverlabel\": {\"align\": \"left\"}, \"hovermode\": \"closest\", \"mapbox\": {\"style\": \"light\"}, \"paper_bgcolor\": \"white\", \"plot_bgcolor\": \"#E5ECF6\", \"polar\": {\"angularaxis\": {\"gridcolor\": \"white\", \"linecolor\": \"white\", \"ticks\": \"\"}, \"bgcolor\": \"#E5ECF6\", \"radialaxis\": {\"gridcolor\": \"white\", \"linecolor\": \"white\", \"ticks\": \"\"}}, \"scene\": {\"xaxis\": {\"backgroundcolor\": \"#E5ECF6\", \"gridcolor\": \"white\", \"gridwidth\": 2, \"linecolor\": \"white\", \"showbackground\": true, \"ticks\": \"\", \"zerolinecolor\": \"white\"}, \"yaxis\": {\"backgroundcolor\": \"#E5ECF6\", \"gridcolor\": \"white\", \"gridwidth\": 2, \"linecolor\": \"white\", \"showbackground\": true, \"ticks\": \"\", \"zerolinecolor\": \"white\"}, \"zaxis\": {\"backgroundcolor\": \"#E5ECF6\", \"gridcolor\": \"white\", \"gridwidth\": 2, \"linecolor\": \"white\", \"showbackground\": true, \"ticks\": \"\", \"zerolinecolor\": \"white\"}}, \"shapedefaults\": {\"line\": {\"color\": \"#2a3f5f\"}}, \"ternary\": {\"aaxis\": {\"gridcolor\": \"white\", \"linecolor\": \"white\", \"ticks\": \"\"}, \"baxis\": {\"gridcolor\": \"white\", \"linecolor\": \"white\", \"ticks\": \"\"}, \"bgcolor\": \"#E5ECF6\", \"caxis\": {\"gridcolor\": \"white\", \"linecolor\": \"white\", \"ticks\": \"\"}}, \"title\": {\"x\": 0.05}, \"xaxis\": {\"automargin\": true, \"gridcolor\": \"white\", \"linecolor\": \"white\", \"ticks\": \"\", \"title\": {\"standoff\": 15}, \"zerolinecolor\": \"white\", \"zerolinewidth\": 2}, \"yaxis\": {\"automargin\": true, \"gridcolor\": \"white\", \"linecolor\": \"white\", \"ticks\": \"\", \"title\": {\"standoff\": 15}, \"zerolinecolor\": \"white\", \"zerolinewidth\": 2}}}, \"xaxis\": {\"anchor\": \"y\", \"domain\": [0.0, 1.0], \"title\": {\"text\": \"slopeData\"}, \"type\": \"log\"}, \"yaxis\": {\"anchor\": \"x\", \"domain\": [0.0, 1.0], \"title\": {\"text\": \"varianceVal\"}}},\n",
       "                        {\"responsive\": true}\n",
       "                    ).then(function(){\n",
       "                            \n",
       "var gd = document.getElementById('4be03e19-0769-4584-ab0f-26e515730768');\n",
       "var x = new MutationObserver(function (mutations, observer) {{\n",
       "        var display = window.getComputedStyle(gd).display;\n",
       "        if (!display || display === 'none') {{\n",
       "            console.log([gd, 'removed!']);\n",
       "            Plotly.purge(gd);\n",
       "            observer.disconnect();\n",
       "        }}\n",
       "}});\n",
       "\n",
       "// Listen for the removal of the full notebook cells\n",
       "var notebookContainer = gd.closest('#notebook-container');\n",
       "if (notebookContainer) {{\n",
       "    x.observe(notebookContainer, {childList: true});\n",
       "}}\n",
       "\n",
       "// Listen for the clearing of the current output cell\n",
       "var outputEl = gd.closest('.output');\n",
       "if (outputEl) {{\n",
       "    x.observe(outputEl, {childList: true});\n",
       "}}\n",
       "\n",
       "                        })\n",
       "                };\n",
       "                });\n",
       "            </script>\n",
       "        </div>"
      ]
     },
     "metadata": {},
     "output_type": "display_data"
    }
   ],
   "source": [
    "import plotly.express as px\n",
    "fig = px.scatter(overallSpacingDF, x=\"slopeData\", y=\"varianceVal\",\n",
    "\t         size=\"lastValue\", color=\"countryName\",\n",
    "                 hover_name=\"countryName\", log_x=True, size_max=60)#,#text='countryName')\n",
    "fig.update_layout(showlegend=False)\n",
    "fig.show()"
   ]
  },
  {
   "cell_type": "markdown",
   "metadata": {},
   "source": [
    "## Adding filters > 800  and Removing China"
   ]
  },
  {
   "cell_type": "code",
   "execution_count": 28,
   "metadata": {},
   "outputs": [
    {
     "data": {
      "text/plain": [
       "(48, 4)"
      ]
     },
     "execution_count": 28,
     "metadata": {},
     "output_type": "execute_result"
    }
   ],
   "source": [
    "filoverallSpacingDF=overallSpacingDF[overallSpacingDF['lastValue']>800]\n",
    "filoverallSpacingDF=filoverallSpacingDF[~filoverallSpacingDF['countryName'].str.contains('ina')]\n",
    "filoverallSpacingDF.shape"
   ]
  },
  {
   "cell_type": "code",
   "execution_count": 29,
   "metadata": {},
   "outputs": [
    {
     "data": {
      "application/vnd.plotly.v1+json": {
       "config": {
        "plotlyServerURL": "https://plot.ly"
       },
       "data": [
        {
         "hoverlabel": {
          "namelength": 0
         },
         "hovertemplate": "<b>%{hovertext}</b><br><br>countryName=%{text}<br>slopeData=%{x}<br>varianceVal=%{y}<br>lastValue=%{marker.size}",
         "hovertext": [
          "AustraliaNew South Wales"
         ],
         "legendgroup": "AustraliaNew South Wales",
         "marker": {
          "color": "#636efa",
          "size": [
           1791
          ],
          "sizemode": "area",
          "sizeref": 39.135,
          "symbol": "circle"
         },
         "mode": "markers+text",
         "name": "AustraliaNew South Wales",
         "showlegend": true,
         "text": [
          "AustraliaNew South Wales"
         ],
         "type": "scatter",
         "x": [
          8.009596456692913
         ],
         "xaxis": "x",
         "y": [
          0.050482756931306896
         ],
         "yaxis": "y"
        },
        {
         "hoverlabel": {
          "namelength": 0
         },
         "hovertemplate": "<b>%{hovertext}</b><br><br>countryName=%{text}<br>slopeData=%{x}<br>varianceVal=%{y}<br>lastValue=%{marker.size}",
         "hovertext": [
          "Austria"
         ],
         "legendgroup": "Austria",
         "marker": {
          "color": "#EF553B",
          "size": [
           8788
          ],
          "sizemode": "area",
          "sizeref": 39.135,
          "symbol": "circle"
         },
         "mode": "markers+text",
         "name": "Austria",
         "showlegend": true,
         "text": [
          "Austria"
         ],
         "type": "scatter",
         "x": [
          146.44752174954107
         ],
         "xaxis": "x",
         "y": [
          0.09314767775865157
         ],
         "yaxis": "y"
        },
        {
         "hoverlabel": {
          "namelength": 0
         },
         "hovertemplate": "<b>%{hovertext}</b><br><br>countryName=%{text}<br>slopeData=%{x}<br>varianceVal=%{y}<br>lastValue=%{marker.size}",
         "hovertext": [
          "Belgium"
         ],
         "legendgroup": "Belgium",
         "marker": {
          "color": "#00cc96",
          "size": [
           10836
          ],
          "sizemode": "area",
          "sizeref": 39.135,
          "symbol": "circle"
         },
         "mode": "markers+text",
         "name": "Belgium",
         "showlegend": true,
         "text": [
          "Belgium"
         ],
         "type": "scatter",
         "x": [
          58.81781113891207
         ],
         "xaxis": "x",
         "y": [
          0.0478151479924055
         ],
         "yaxis": "y"
        },
        {
         "hoverlabel": {
          "namelength": 0
         },
         "hovertemplate": "<b>%{hovertext}</b><br><br>countryName=%{text}<br>slopeData=%{x}<br>varianceVal=%{y}<br>lastValue=%{marker.size}",
         "hovertext": [
          "Brazil"
         ],
         "legendgroup": "Brazil",
         "marker": {
          "color": "#ab63fa",
          "size": [
           4256
          ],
          "sizemode": "area",
          "sizeref": 39.135,
          "symbol": "circle"
         },
         "mode": "markers+text",
         "name": "Brazil",
         "showlegend": true,
         "text": [
          "Brazil"
         ],
         "type": "scatter",
         "x": [
          65.73977272727272
         ],
         "xaxis": "x",
         "y": [
          0.08736574600756708
         ],
         "yaxis": "y"
        },
        {
         "hoverlabel": {
          "namelength": 0
         },
         "hovertemplate": "<b>%{hovertext}</b><br><br>countryName=%{text}<br>slopeData=%{x}<br>varianceVal=%{y}<br>lastValue=%{marker.size}",
         "hovertext": [
          "CanadaBritish Columbia"
         ],
         "legendgroup": "CanadaBritish Columbia",
         "marker": {
          "color": "#FFA15A",
          "size": [
           884
          ],
          "sizemode": "area",
          "sizeref": 39.135,
          "symbol": "circle"
         },
         "mode": "markers+text",
         "name": "CanadaBritish Columbia",
         "showlegend": true,
         "text": [
          "CanadaBritish Columbia"
         ],
         "type": "scatter",
         "x": [
          5.170073905921503
         ],
         "xaxis": "x",
         "y": [
          0.06848777616818906
         ],
         "yaxis": "y"
        },
        {
         "hoverlabel": {
          "namelength": 0
         },
         "hovertemplate": "<b>%{hovertext}</b><br><br>countryName=%{text}<br>slopeData=%{x}<br>varianceVal=%{y}<br>lastValue=%{marker.size}",
         "hovertext": [
          "CanadaOntario"
         ],
         "legendgroup": "CanadaOntario",
         "marker": {
          "color": "#19d3f3",
          "size": [
           1355
          ],
          "sizemode": "area",
          "sizeref": 39.135,
          "symbol": "circle"
         },
         "mode": "markers+text",
         "name": "CanadaOntario",
         "showlegend": true,
         "text": [
          "CanadaOntario"
         ],
         "type": "scatter",
         "x": [
          5.9142646231721026
         ],
         "xaxis": "x",
         "y": [
          0.0457492658570505
         ],
         "yaxis": "y"
        },
        {
         "hoverlabel": {
          "namelength": 0
         },
         "hovertemplate": "<b>%{hovertext}</b><br><br>countryName=%{text}<br>slopeData=%{x}<br>varianceVal=%{y}<br>lastValue=%{marker.size}",
         "hovertext": [
          "CanadaQuebec"
         ],
         "legendgroup": "CanadaQuebec",
         "marker": {
          "color": "#FF6692",
          "size": [
           2840
          ],
          "sizemode": "area",
          "sizeref": 39.135,
          "symbol": "circle"
         },
         "mode": "markers+text",
         "name": "CanadaQuebec",
         "showlegend": true,
         "text": [
          "CanadaQuebec"
         ],
         "type": "scatter",
         "x": [
          37.36308831306187
         ],
         "xaxis": "x",
         "y": [
          0.07606754582204889
         ],
         "yaxis": "y"
        },
        {
         "hoverlabel": {
          "namelength": 0
         },
         "hovertemplate": "<b>%{hovertext}</b><br><br>countryName=%{text}<br>slopeData=%{x}<br>varianceVal=%{y}<br>lastValue=%{marker.size}",
         "hovertext": [
          "Chile"
         ],
         "legendgroup": "Chile",
         "marker": {
          "color": "#B6E880",
          "size": [
           2139
          ],
          "sizemode": "area",
          "sizeref": 39.135,
          "symbol": "circle"
         },
         "mode": "markers+text",
         "name": "Chile",
         "showlegend": true,
         "text": [
          "Chile"
         ],
         "type": "scatter",
         "x": [
          44.392517335913574
         ],
         "xaxis": "x",
         "y": [
          0.08531627325343534
         ],
         "yaxis": "y"
        },
        {
         "hoverlabel": {
          "namelength": 0
         },
         "hovertemplate": "<b>%{hovertext}</b><br><br>countryName=%{text}<br>slopeData=%{x}<br>varianceVal=%{y}<br>lastValue=%{marker.size}",
         "hovertext": [
          "Czechia"
         ],
         "legendgroup": "Czechia",
         "marker": {
          "color": "#FF97FF",
          "size": [
           2817
          ],
          "sizemode": "area",
          "sizeref": 39.135,
          "symbol": "circle"
         },
         "mode": "markers+text",
         "name": "Czechia",
         "showlegend": true,
         "text": [
          "Czechia"
         ],
         "type": "scatter",
         "x": [
          59.29906663209749
         ],
         "xaxis": "x",
         "y": [
          0.0898688883406107
         ],
         "yaxis": "y"
        },
        {
         "hoverlabel": {
          "namelength": 0
         },
         "hovertemplate": "<b>%{hovertext}</b><br><br>countryName=%{text}<br>slopeData=%{x}<br>varianceVal=%{y}<br>lastValue=%{marker.size}",
         "hovertext": [
          "Denmark"
         ],
         "legendgroup": "Denmark",
         "marker": {
          "color": "#FECB52",
          "size": [
           2395
          ],
          "sizemode": "area",
          "sizeref": 39.135,
          "symbol": "circle"
         },
         "mode": "markers+text",
         "name": "Denmark",
         "showlegend": true,
         "text": [
          "Denmark"
         ],
         "type": "scatter",
         "x": [
          58.333717357910906
         ],
         "xaxis": "x",
         "y": [
          0.09815911382378947
         ],
         "yaxis": "y"
        },
        {
         "hoverlabel": {
          "namelength": 0
         },
         "hovertemplate": "<b>%{hovertext}</b><br><br>countryName=%{text}<br>slopeData=%{x}<br>varianceVal=%{y}<br>lastValue=%{marker.size}",
         "hovertext": [
          "Dominican Republic"
         ],
         "legendgroup": "Dominican Republic",
         "marker": {
          "color": "#636efa",
          "size": [
           859
          ],
          "sizemode": "area",
          "sizeref": 39.135,
          "symbol": "circle"
         },
         "mode": "markers+text",
         "name": "Dominican Republic",
         "showlegend": true,
         "text": [
          "Dominican Republic"
         ],
         "type": "scatter",
         "x": [
          13.31073373087892
         ],
         "xaxis": "x",
         "y": [
          0.0756253448436414
         ],
         "yaxis": "y"
        },
        {
         "hoverlabel": {
          "namelength": 0
         },
         "hovertemplate": "<b>%{hovertext}</b><br><br>countryName=%{text}<br>slopeData=%{x}<br>varianceVal=%{y}<br>lastValue=%{marker.size}",
         "hovertext": [
          "Ecuador"
         ],
         "legendgroup": "Ecuador",
         "marker": {
          "color": "#EF553B",
          "size": [
           1924
          ],
          "sizemode": "area",
          "sizeref": 39.135,
          "symbol": "circle"
         },
         "mode": "markers+text",
         "name": "Ecuador",
         "showlegend": true,
         "text": [
          "Ecuador"
         ],
         "type": "scatter",
         "x": [
          38.47381384495722
         ],
         "xaxis": "x",
         "y": [
          0.10246545756926437
         ],
         "yaxis": "y"
        },
        {
         "hoverlabel": {
          "namelength": 0
         },
         "hovertemplate": "<b>%{hovertext}</b><br><br>countryName=%{text}<br>slopeData=%{x}<br>varianceVal=%{y}<br>lastValue=%{marker.size}",
         "hovertext": [
          "Finland"
         ],
         "legendgroup": "Finland",
         "marker": {
          "color": "#00cc96",
          "size": [
           1240
          ],
          "sizemode": "area",
          "sizeref": 39.135,
          "symbol": "circle"
         },
         "mode": "markers+text",
         "name": "Finland",
         "showlegend": true,
         "text": [
          "Finland"
         ],
         "type": "scatter",
         "x": [
          7.817626337894595
         ],
         "xaxis": "x",
         "y": [
          0.06833547854825249
         ],
         "yaxis": "y"
        },
        {
         "hoverlabel": {
          "namelength": 0
         },
         "hovertemplate": "<b>%{hovertext}</b><br><br>countryName=%{text}<br>slopeData=%{x}<br>varianceVal=%{y}<br>lastValue=%{marker.size}",
         "hovertext": [
          "France"
         ],
         "legendgroup": "France",
         "marker": {
          "color": "#ab63fa",
          "size": [
           40174
          ],
          "sizemode": "area",
          "sizeref": 39.135,
          "symbol": "circle"
         },
         "mode": "markers+text",
         "name": "France",
         "showlegend": true,
         "text": [
          "France"
         ],
         "type": "scatter",
         "x": [
          196.43077990711578
         ],
         "xaxis": "x",
         "y": [
          0.05669176956154041
         ],
         "yaxis": "y"
        },
        {
         "hoverlabel": {
          "namelength": 0
         },
         "hovertemplate": "<b>%{hovertext}</b><br><br>countryName=%{text}<br>slopeData=%{x}<br>varianceVal=%{y}<br>lastValue=%{marker.size}",
         "hovertext": [
          "Germany"
         ],
         "legendgroup": "Germany",
         "marker": {
          "color": "#FFA15A",
          "size": [
           62095
          ],
          "sizemode": "area",
          "sizeref": 39.135,
          "symbol": "circle"
         },
         "mode": "markers+text",
         "name": "Germany",
         "showlegend": true,
         "text": [
          "Germany"
         ],
         "type": "scatter",
         "x": [
          315.34037480798776
         ],
         "xaxis": "x",
         "y": [
          0.057332369756652075
         ],
         "yaxis": "y"
        },
        {
         "hoverlabel": {
          "namelength": 0
         },
         "hovertemplate": "<b>%{hovertext}</b><br><br>countryName=%{text}<br>slopeData=%{x}<br>varianceVal=%{y}<br>lastValue=%{marker.size}",
         "hovertext": [
          "Greece"
         ],
         "legendgroup": "Greece",
         "marker": {
          "color": "#19d3f3",
          "size": [
           1156
          ],
          "sizemode": "area",
          "sizeref": 39.135,
          "symbol": "circle"
         },
         "mode": "markers+text",
         "name": "Greece",
         "showlegend": true,
         "text": [
          "Greece"
         ],
         "type": "scatter",
         "x": [
          24.25201048951049
         ],
         "xaxis": "x",
         "y": [
          0.09259259293676665
         ],
         "yaxis": "y"
        },
        {
         "hoverlabel": {
          "namelength": 0
         },
         "hovertemplate": "<b>%{hovertext}</b><br><br>countryName=%{text}<br>slopeData=%{x}<br>varianceVal=%{y}<br>lastValue=%{marker.size}",
         "hovertext": [
          "Iceland"
         ],
         "legendgroup": "Iceland",
         "marker": {
          "color": "#FF6692",
          "size": [
           1020
          ],
          "sizemode": "area",
          "sizeref": 39.135,
          "symbol": "circle"
         },
         "mode": "markers+text",
         "name": "Iceland",
         "showlegend": true,
         "text": [
          "Iceland"
         ],
         "type": "scatter",
         "x": [
          22.972818614489682
         ],
         "xaxis": "x",
         "y": [
          0.09708505826912416
         ],
         "yaxis": "y"
        },
        {
         "hoverlabel": {
          "namelength": 0
         },
         "hovertemplate": "<b>%{hovertext}</b><br><br>countryName=%{text}<br>slopeData=%{x}<br>varianceVal=%{y}<br>lastValue=%{marker.size}",
         "hovertext": [
          "India"
         ],
         "legendgroup": "India",
         "marker": {
          "color": "#B6E880",
          "size": [
           1024
          ],
          "sizemode": "area",
          "sizeref": 39.135,
          "symbol": "circle"
         },
         "mode": "markers+text",
         "name": "India",
         "showlegend": true,
         "text": [
          "India"
         ],
         "type": "scatter",
         "x": [
          5.832630679390399
         ],
         "xaxis": "x",
         "y": [
          0.06038409404379196
         ],
         "yaxis": "y"
        },
        {
         "hoverlabel": {
          "namelength": 0
         },
         "hovertemplate": "<b>%{hovertext}</b><br><br>countryName=%{text}<br>slopeData=%{x}<br>varianceVal=%{y}<br>lastValue=%{marker.size}",
         "hovertext": [
          "Indonesia"
         ],
         "legendgroup": "Indonesia",
         "marker": {
          "color": "#FF97FF",
          "size": [
           1285
          ],
          "sizemode": "area",
          "sizeref": 39.135,
          "symbol": "circle"
         },
         "mode": "markers+text",
         "name": "Indonesia",
         "showlegend": true,
         "text": [
          "Indonesia"
         ],
         "type": "scatter",
         "x": [
          29.016738816738822
         ],
         "xaxis": "x",
         "y": [
          0.09166795104477761
         ],
         "yaxis": "y"
        },
        {
         "hoverlabel": {
          "namelength": 0
         },
         "hovertemplate": "<b>%{hovertext}</b><br><br>countryName=%{text}<br>slopeData=%{x}<br>varianceVal=%{y}<br>lastValue=%{marker.size}",
         "hovertext": [
          "Iran"
         ],
         "legendgroup": "Iran",
         "marker": {
          "color": "#FECB52",
          "size": [
           38309
          ],
          "sizemode": "area",
          "sizeref": 39.135,
          "symbol": "circle"
         },
         "mode": "markers+text",
         "name": "Iran",
         "showlegend": true,
         "text": [
          "Iran"
         ],
         "type": "scatter",
         "x": [
          656.9324732229795
         ],
         "xaxis": "x",
         "y": [
          0.0844117041482744
         ],
         "yaxis": "y"
        },
        {
         "hoverlabel": {
          "namelength": 0
         },
         "hovertemplate": "<b>%{hovertext}</b><br><br>countryName=%{text}<br>slopeData=%{x}<br>varianceVal=%{y}<br>lastValue=%{marker.size}",
         "hovertext": [
          "Ireland"
         ],
         "legendgroup": "Ireland",
         "marker": {
          "color": "#636efa",
          "size": [
           2615
          ],
          "sizemode": "area",
          "sizeref": 39.135,
          "symbol": "circle"
         },
         "mode": "markers+text",
         "name": "Ireland",
         "showlegend": true,
         "text": [
          "Ireland"
         ],
         "type": "scatter",
         "x": [
          49.582232612507305
         ],
         "xaxis": "x",
         "y": [
          0.09054513065067732
         ],
         "yaxis": "y"
        },
        {
         "hoverlabel": {
          "namelength": 0
         },
         "hovertemplate": "<b>%{hovertext}</b><br><br>countryName=%{text}<br>slopeData=%{x}<br>varianceVal=%{y}<br>lastValue=%{marker.size}",
         "hovertext": [
          "Israel"
         ],
         "legendgroup": "Israel",
         "marker": {
          "color": "#EF553B",
          "size": [
           4247
          ],
          "sizemode": "area",
          "sizeref": 39.135,
          "symbol": "circle"
         },
         "mode": "markers+text",
         "name": "Israel",
         "showlegend": true,
         "text": [
          "Israel"
         ],
         "type": "scatter",
         "x": [
          42.613655761024205
         ],
         "xaxis": "x",
         "y": [
          0.06492528292830993
         ],
         "yaxis": "y"
        },
        {
         "hoverlabel": {
          "namelength": 0
         },
         "hovertemplate": "<b>%{hovertext}</b><br><br>countryName=%{text}<br>slopeData=%{x}<br>varianceVal=%{y}<br>lastValue=%{marker.size}",
         "hovertext": [
          "Italy"
         ],
         "legendgroup": "Italy",
         "marker": {
          "color": "#00cc96",
          "size": [
           97689
          ],
          "sizemode": "area",
          "sizeref": 39.135,
          "symbol": "circle"
         },
         "mode": "markers+text",
         "name": "Italy",
         "showlegend": true,
         "text": [
          "Italy"
         ],
         "type": "scatter",
         "x": [
          768.0430097858501
         ],
         "xaxis": "x",
         "y": [
          0.0794646617784376
         ],
         "yaxis": "y"
        },
        {
         "hoverlabel": {
          "namelength": 0
         },
         "hovertemplate": "<b>%{hovertext}</b><br><br>countryName=%{text}<br>slopeData=%{x}<br>varianceVal=%{y}<br>lastValue=%{marker.size}",
         "hovertext": [
          "Japan"
         ],
         "legendgroup": "Japan",
         "marker": {
          "color": "#ab63fa",
          "size": [
           1866
          ],
          "sizemode": "area",
          "sizeref": 39.135,
          "symbol": "circle"
         },
         "mode": "markers+text",
         "name": "Japan",
         "showlegend": true,
         "text": [
          "Japan"
         ],
         "type": "scatter",
         "x": [
          14.200302409521026
         ],
         "xaxis": "x",
         "y": [
          0.06490921022969327
         ],
         "yaxis": "y"
        },
        {
         "hoverlabel": {
          "namelength": 0
         },
         "hovertemplate": "<b>%{hovertext}</b><br><br>countryName=%{text}<br>slopeData=%{x}<br>varianceVal=%{y}<br>lastValue=%{marker.size}",
         "hovertext": [
          "Korea, South"
         ],
         "legendgroup": "Korea, South",
         "marker": {
          "color": "#FFA15A",
          "size": [
           9583
          ],
          "sizemode": "area",
          "sizeref": 39.135,
          "symbol": "circle"
         },
         "mode": "markers+text",
         "name": "Korea, South",
         "showlegend": true,
         "text": [
          "Korea, South"
         ],
         "type": "scatter",
         "x": [
          124.01635937957273
         ],
         "xaxis": "x",
         "y": [
          0.16180519660198303
         ],
         "yaxis": "y"
        },
        {
         "hoverlabel": {
          "namelength": 0
         },
         "hovertemplate": "<b>%{hovertext}</b><br><br>countryName=%{text}<br>slopeData=%{x}<br>varianceVal=%{y}<br>lastValue=%{marker.size}",
         "hovertext": [
          "Luxembourg"
         ],
         "legendgroup": "Luxembourg",
         "marker": {
          "color": "#19d3f3",
          "size": [
           1950
          ],
          "sizemode": "area",
          "sizeref": 39.135,
          "symbol": "circle"
         },
         "mode": "markers+text",
         "name": "Luxembourg",
         "showlegend": true,
         "text": [
          "Luxembourg"
         ],
         "type": "scatter",
         "x": [
          38.12764465225015
         ],
         "xaxis": "x",
         "y": [
          0.10027996096457616
         ],
         "yaxis": "y"
        },
        {
         "hoverlabel": {
          "namelength": 0
         },
         "hovertemplate": "<b>%{hovertext}</b><br><br>countryName=%{text}<br>slopeData=%{x}<br>varianceVal=%{y}<br>lastValue=%{marker.size}",
         "hovertext": [
          "Malaysia"
         ],
         "legendgroup": "Malaysia",
         "marker": {
          "color": "#FF6692",
          "size": [
           2470
          ],
          "sizemode": "area",
          "sizeref": 39.135,
          "symbol": "circle"
         },
         "mode": "markers+text",
         "name": "Malaysia",
         "showlegend": true,
         "text": [
          "Malaysia"
         ],
         "type": "scatter",
         "x": [
          14.581093470483008
         ],
         "xaxis": "x",
         "y": [
          0.06878483741642027
         ],
         "yaxis": "y"
        },
        {
         "hoverlabel": {
          "namelength": 0
         },
         "hovertemplate": "<b>%{hovertext}</b><br><br>countryName=%{text}<br>slopeData=%{x}<br>varianceVal=%{y}<br>lastValue=%{marker.size}",
         "hovertext": [
          "Mexico"
         ],
         "legendgroup": "Mexico",
         "marker": {
          "color": "#B6E880",
          "size": [
           848
          ],
          "sizemode": "area",
          "sizeref": 39.135,
          "symbol": "circle"
         },
         "mode": "markers+text",
         "name": "Mexico",
         "showlegend": true,
         "text": [
          "Mexico"
         ],
         "type": "scatter",
         "x": [
          13.197673188788999
         ],
         "xaxis": "x",
         "y": [
          0.07241753397957854
         ],
         "yaxis": "y"
        },
        {
         "hoverlabel": {
          "namelength": 0
         },
         "hovertemplate": "<b>%{hovertext}</b><br><br>countryName=%{text}<br>slopeData=%{x}<br>varianceVal=%{y}<br>lastValue=%{marker.size}",
         "hovertext": [
          "Netherlands"
         ],
         "legendgroup": "Netherlands",
         "marker": {
          "color": "#FF97FF",
          "size": [
           10866
          ],
          "sizemode": "area",
          "sizeref": 39.135,
          "symbol": "circle"
         },
         "mode": "markers+text",
         "name": "Netherlands",
         "showlegend": true,
         "text": [
          "Netherlands"
         ],
         "type": "scatter",
         "x": [
          191.940668202765
         ],
         "xaxis": "x",
         "y": [
          0.0819617256709996
         ],
         "yaxis": "y"
        },
        {
         "hoverlabel": {
          "namelength": 0
         },
         "hovertemplate": "<b>%{hovertext}</b><br><br>countryName=%{text}<br>slopeData=%{x}<br>varianceVal=%{y}<br>lastValue=%{marker.size}",
         "hovertext": [
          "Norway"
         ],
         "legendgroup": "Norway",
         "marker": {
          "color": "#FECB52",
          "size": [
           4284
          ],
          "sizemode": "area",
          "sizeref": 39.135,
          "symbol": "circle"
         },
         "mode": "markers+text",
         "name": "Norway",
         "showlegend": true,
         "text": [
          "Norway"
         ],
         "type": "scatter",
         "x": [
          93.76346153846154
         ],
         "xaxis": "x",
         "y": [
          0.09592377682844914
         ],
         "yaxis": "y"
        },
        {
         "hoverlabel": {
          "namelength": 0
         },
         "hovertemplate": "<b>%{hovertext}</b><br><br>countryName=%{text}<br>slopeData=%{x}<br>varianceVal=%{y}<br>lastValue=%{marker.size}",
         "hovertext": [
          "Pakistan"
         ],
         "legendgroup": "Pakistan",
         "marker": {
          "color": "#636efa",
          "size": [
           1597
          ],
          "sizemode": "area",
          "sizeref": 39.135,
          "symbol": "circle"
         },
         "mode": "markers+text",
         "name": "Pakistan",
         "showlegend": true,
         "text": [
          "Pakistan"
         ],
         "type": "scatter",
         "x": [
          28.614860139860138
         ],
         "xaxis": "x",
         "y": [
          0.10006400690633177
         ],
         "yaxis": "y"
        },
        {
         "hoverlabel": {
          "namelength": 0
         },
         "hovertemplate": "<b>%{hovertext}</b><br><br>countryName=%{text}<br>slopeData=%{x}<br>varianceVal=%{y}<br>lastValue=%{marker.size}",
         "hovertext": [
          "Panama"
         ],
         "legendgroup": "Panama",
         "marker": {
          "color": "#EF553B",
          "size": [
           901
          ],
          "sizemode": "area",
          "sizeref": 39.135,
          "symbol": "circle"
         },
         "mode": "markers+text",
         "name": "Panama",
         "showlegend": true,
         "text": [
          "Panama"
         ],
         "type": "scatter",
         "x": [
          31.534817813765176
         ],
         "xaxis": "x",
         "y": [
          0.09214916975308643
         ],
         "yaxis": "y"
        },
        {
         "hoverlabel": {
          "namelength": 0
         },
         "hovertemplate": "<b>%{hovertext}</b><br><br>countryName=%{text}<br>slopeData=%{x}<br>varianceVal=%{y}<br>lastValue=%{marker.size}",
         "hovertext": [
          "Peru"
         ],
         "legendgroup": "Peru",
         "marker": {
          "color": "#00cc96",
          "size": [
           852
          ],
          "sizemode": "area",
          "sizeref": 39.135,
          "symbol": "circle"
         },
         "mode": "markers+text",
         "name": "Peru",
         "showlegend": true,
         "text": [
          "Peru"
         ],
         "type": "scatter",
         "x": [
          24.169518963922297
         ],
         "xaxis": "x",
         "y": [
          0.087269450420379
         ],
         "yaxis": "y"
        },
        {
         "hoverlabel": {
          "namelength": 0
         },
         "hovertemplate": "<b>%{hovertext}</b><br><br>countryName=%{text}<br>slopeData=%{x}<br>varianceVal=%{y}<br>lastValue=%{marker.size}",
         "hovertext": [
          "Philippines"
         ],
         "legendgroup": "Philippines",
         "marker": {
          "color": "#ab63fa",
          "size": [
           1418
          ],
          "sizemode": "area",
          "sizeref": 39.135,
          "symbol": "circle"
         },
         "mode": "markers+text",
         "name": "Philippines",
         "showlegend": true,
         "text": [
          "Philippines"
         ],
         "type": "scatter",
         "x": [
          6.068736647201252
         ],
         "xaxis": "x",
         "y": [
          0.03876201365380923
         ],
         "yaxis": "y"
        },
        {
         "hoverlabel": {
          "namelength": 0
         },
         "hovertemplate": "<b>%{hovertext}</b><br><br>countryName=%{text}<br>slopeData=%{x}<br>varianceVal=%{y}<br>lastValue=%{marker.size}",
         "hovertext": [
          "Poland"
         ],
         "legendgroup": "Poland",
         "marker": {
          "color": "#FFA15A",
          "size": [
           1862
          ],
          "sizemode": "area",
          "sizeref": 39.135,
          "symbol": "circle"
         },
         "mode": "markers+text",
         "name": "Poland",
         "showlegend": true,
         "text": [
          "Poland"
         ],
         "type": "scatter",
         "x": [
          44.20199095022625
         ],
         "xaxis": "x",
         "y": [
          0.08684458829849516
         ],
         "yaxis": "y"
        },
        {
         "hoverlabel": {
          "namelength": 0
         },
         "hovertemplate": "<b>%{hovertext}</b><br><br>countryName=%{text}<br>slopeData=%{x}<br>varianceVal=%{y}<br>lastValue=%{marker.size}",
         "hovertext": [
          "Portugal"
         ],
         "legendgroup": "Portugal",
         "marker": {
          "color": "#19d3f3",
          "size": [
           5962
          ],
          "sizemode": "area",
          "sizeref": 39.135,
          "symbol": "circle"
         },
         "mode": "markers+text",
         "name": "Portugal",
         "showlegend": true,
         "text": [
          "Portugal"
         ],
         "type": "scatter",
         "x": [
          110.574025974026
         ],
         "xaxis": "x",
         "y": [
          0.07969768293899245
         ],
         "yaxis": "y"
        },
        {
         "hoverlabel": {
          "namelength": 0
         },
         "hovertemplate": "<b>%{hovertext}</b><br><br>countryName=%{text}<br>slopeData=%{x}<br>varianceVal=%{y}<br>lastValue=%{marker.size}",
         "hovertext": [
          "Romania"
         ],
         "legendgroup": "Romania",
         "marker": {
          "color": "#FF6692",
          "size": [
           1815
          ],
          "sizemode": "area",
          "sizeref": 39.135,
          "symbol": "circle"
         },
         "mode": "markers+text",
         "name": "Romania",
         "showlegend": true,
         "text": [
          "Romania"
         ],
         "type": "scatter",
         "x": [
          25.056293706293705
         ],
         "xaxis": "x",
         "y": [
          0.0673160683680469
         ],
         "yaxis": "y"
        },
        {
         "hoverlabel": {
          "namelength": 0
         },
         "hovertemplate": "<b>%{hovertext}</b><br><br>countryName=%{text}<br>slopeData=%{x}<br>varianceVal=%{y}<br>lastValue=%{marker.size}",
         "hovertext": [
          "Russia"
         ],
         "legendgroup": "Russia",
         "marker": {
          "color": "#B6E880",
          "size": [
           1534
          ],
          "sizemode": "area",
          "sizeref": 39.135,
          "symbol": "circle"
         },
         "mode": "markers+text",
         "name": "Russia",
         "showlegend": true,
         "text": [
          "Russia"
         ],
         "type": "scatter",
         "x": [
          6.525303840908749
         ],
         "xaxis": "x",
         "y": [
          0.04239993842519189
         ],
         "yaxis": "y"
        },
        {
         "hoverlabel": {
          "namelength": 0
         },
         "hovertemplate": "<b>%{hovertext}</b><br><br>countryName=%{text}<br>slopeData=%{x}<br>varianceVal=%{y}<br>lastValue=%{marker.size}",
         "hovertext": [
          "Saudi Arabia"
         ],
         "legendgroup": "Saudi Arabia",
         "marker": {
          "color": "#FF97FF",
          "size": [
           1299
          ],
          "sizemode": "area",
          "sizeref": 39.135,
          "symbol": "circle"
         },
         "mode": "markers+text",
         "name": "Saudi Arabia",
         "showlegend": true,
         "text": [
          "Saudi Arabia"
         ],
         "type": "scatter",
         "x": [
          29.962481962481966
         ],
         "xaxis": "x",
         "y": [
          0.10065618545394658
         ],
         "yaxis": "y"
        },
        {
         "hoverlabel": {
          "namelength": 0
         },
         "hovertemplate": "<b>%{hovertext}</b><br><br>countryName=%{text}<br>slopeData=%{x}<br>varianceVal=%{y}<br>lastValue=%{marker.size}",
         "hovertext": [
          "Singapore"
         ],
         "legendgroup": "Singapore",
         "marker": {
          "color": "#FECB52",
          "size": [
           844
          ],
          "sizemode": "area",
          "sizeref": 39.135,
          "symbol": "circle"
         },
         "mode": "markers+text",
         "name": "Singapore",
         "showlegend": true,
         "text": [
          "Singapore"
         ],
         "type": "scatter",
         "x": [
          6.038940635170016
         ],
         "xaxis": "x",
         "y": [
          0.058882559824368026
         ],
         "yaxis": "y"
        },
        {
         "hoverlabel": {
          "namelength": 0
         },
         "hovertemplate": "<b>%{hovertext}</b><br><br>countryName=%{text}<br>slopeData=%{x}<br>varianceVal=%{y}<br>lastValue=%{marker.size}",
         "hovertext": [
          "South Africa"
         ],
         "legendgroup": "South Africa",
         "marker": {
          "color": "#636efa",
          "size": [
           1280
          ],
          "sizemode": "area",
          "sizeref": 39.135,
          "symbol": "circle"
         },
         "mode": "markers+text",
         "name": "South Africa",
         "showlegend": true,
         "text": [
          "South Africa"
         ],
         "type": "scatter",
         "x": [
          31.23102040816326
         ],
         "xaxis": "x",
         "y": [
          0.10325381403204835
         ],
         "yaxis": "y"
        },
        {
         "hoverlabel": {
          "namelength": 0
         },
         "hovertemplate": "<b>%{hovertext}</b><br><br>countryName=%{text}<br>slopeData=%{x}<br>varianceVal=%{y}<br>lastValue=%{marker.size}",
         "hovertext": [
          "Spain"
         ],
         "legendgroup": "Spain",
         "marker": {
          "color": "#EF553B",
          "size": [
           80110
          ],
          "sizemode": "area",
          "sizeref": 39.135,
          "symbol": "circle"
         },
         "mode": "markers+text",
         "name": "Spain",
         "showlegend": true,
         "text": [
          "Spain"
         ],
         "type": "scatter",
         "x": [
          460.6988716168232
         ],
         "xaxis": "x",
         "y": [
          0.05942215665927785
         ],
         "yaxis": "y"
        },
        {
         "hoverlabel": {
          "namelength": 0
         },
         "hovertemplate": "<b>%{hovertext}</b><br><br>countryName=%{text}<br>slopeData=%{x}<br>varianceVal=%{y}<br>lastValue=%{marker.size}",
         "hovertext": [
          "Sweden"
         ],
         "legendgroup": "Sweden",
         "marker": {
          "color": "#00cc96",
          "size": [
           3700
          ],
          "sizemode": "area",
          "sizeref": 39.135,
          "symbol": "circle"
         },
         "mode": "markers+text",
         "name": "Sweden",
         "showlegend": true,
         "text": [
          "Sweden"
         ],
         "type": "scatter",
         "x": [
          27.213340526607617
         ],
         "xaxis": "x",
         "y": [
          0.07051969112618978
         ],
         "yaxis": "y"
        },
        {
         "hoverlabel": {
          "namelength": 0
         },
         "hovertemplate": "<b>%{hovertext}</b><br><br>countryName=%{text}<br>slopeData=%{x}<br>varianceVal=%{y}<br>lastValue=%{marker.size}",
         "hovertext": [
          "Switzerland"
         ],
         "legendgroup": "Switzerland",
         "marker": {
          "color": "#ab63fa",
          "size": [
           14829
          ],
          "sizemode": "area",
          "sizeref": 39.135,
          "symbol": "circle"
         },
         "mode": "markers+text",
         "name": "Switzerland",
         "showlegend": true,
         "text": [
          "Switzerland"
         ],
         "type": "scatter",
         "x": [
          271.455024343523
         ],
         "xaxis": "x",
         "y": [
          0.10041517704491698
         ],
         "yaxis": "y"
        },
        {
         "hoverlabel": {
          "namelength": 0
         },
         "hovertemplate": "<b>%{hovertext}</b><br><br>countryName=%{text}<br>slopeData=%{x}<br>varianceVal=%{y}<br>lastValue=%{marker.size}",
         "hovertext": [
          "Thailand"
         ],
         "legendgroup": "Thailand",
         "marker": {
          "color": "#FFA15A",
          "size": [
           1388
          ],
          "sizemode": "area",
          "sizeref": 39.135,
          "symbol": "circle"
         },
         "mode": "markers+text",
         "name": "Thailand",
         "showlegend": true,
         "text": [
          "Thailand"
         ],
         "type": "scatter",
         "x": [
          6.431079894644425
         ],
         "xaxis": "x",
         "y": [
          0.053116362927352834
         ],
         "yaxis": "y"
        },
        {
         "hoverlabel": {
          "namelength": 0
         },
         "hovertemplate": "<b>%{hovertext}</b><br><br>countryName=%{text}<br>slopeData=%{x}<br>varianceVal=%{y}<br>lastValue=%{marker.size}",
         "hovertext": [
          "Turkey"
         ],
         "legendgroup": "Turkey",
         "marker": {
          "color": "#19d3f3",
          "size": [
           9217
          ],
          "sizemode": "area",
          "sizeref": 39.135,
          "symbol": "circle"
         },
         "mode": "markers+text",
         "name": "Turkey",
         "showlegend": true,
         "text": [
          "Turkey"
         ],
         "type": "scatter",
         "x": [
          256.1688003793268
         ],
         "xaxis": "x",
         "y": [
          0.08486308192453396
         ],
         "yaxis": "y"
        },
        {
         "hoverlabel": {
          "namelength": 0
         },
         "hovertemplate": "<b>%{hovertext}</b><br><br>countryName=%{text}<br>slopeData=%{x}<br>varianceVal=%{y}<br>lastValue=%{marker.size}",
         "hovertext": [
          "United Kingdom"
         ],
         "legendgroup": "United Kingdom",
         "marker": {
          "color": "#FF6692",
          "size": [
           19522
          ],
          "sizemode": "area",
          "sizeref": 39.135,
          "symbol": "circle"
         },
         "mode": "markers+text",
         "name": "United Kingdom",
         "showlegend": true,
         "text": [
          "United Kingdom"
         ],
         "type": "scatter",
         "x": [
          93.41244436451916
         ],
         "xaxis": "x",
         "y": [
          0.048425016010110955
         ],
         "yaxis": "y"
        },
        {
         "hoverlabel": {
          "namelength": 0
         },
         "hovertemplate": "<b>%{hovertext}</b><br><br>countryName=%{text}<br>slopeData=%{x}<br>varianceVal=%{y}<br>lastValue=%{marker.size}",
         "hovertext": [
          "US"
         ],
         "legendgroup": "US",
         "marker": {
          "color": "#B6E880",
          "size": [
           140886
          ],
          "sizemode": "area",
          "sizeref": 39.135,
          "symbol": "circle"
         },
         "mode": "markers+text",
         "name": "US",
         "showlegend": true,
         "text": [
          "US"
         ],
         "type": "scatter",
         "x": [
          456.1956979806848
         ],
         "xaxis": "x",
         "y": [
          0.041180126106688066
         ],
         "yaxis": "y"
        }
       ],
       "layout": {
        "legend": {
         "itemsizing": "constant",
         "title": {
          "text": "countryName"
         },
         "tracegroupgap": 0
        },
        "margin": {
         "t": 60
        },
        "showlegend": false,
        "template": {
         "data": {
          "bar": [
           {
            "error_x": {
             "color": "#2a3f5f"
            },
            "error_y": {
             "color": "#2a3f5f"
            },
            "marker": {
             "line": {
              "color": "#E5ECF6",
              "width": 0.5
             }
            },
            "type": "bar"
           }
          ],
          "barpolar": [
           {
            "marker": {
             "line": {
              "color": "#E5ECF6",
              "width": 0.5
             }
            },
            "type": "barpolar"
           }
          ],
          "carpet": [
           {
            "aaxis": {
             "endlinecolor": "#2a3f5f",
             "gridcolor": "white",
             "linecolor": "white",
             "minorgridcolor": "white",
             "startlinecolor": "#2a3f5f"
            },
            "baxis": {
             "endlinecolor": "#2a3f5f",
             "gridcolor": "white",
             "linecolor": "white",
             "minorgridcolor": "white",
             "startlinecolor": "#2a3f5f"
            },
            "type": "carpet"
           }
          ],
          "choropleth": [
           {
            "colorbar": {
             "outlinewidth": 0,
             "ticks": ""
            },
            "type": "choropleth"
           }
          ],
          "contour": [
           {
            "colorbar": {
             "outlinewidth": 0,
             "ticks": ""
            },
            "colorscale": [
             [
              0,
              "#0d0887"
             ],
             [
              0.1111111111111111,
              "#46039f"
             ],
             [
              0.2222222222222222,
              "#7201a8"
             ],
             [
              0.3333333333333333,
              "#9c179e"
             ],
             [
              0.4444444444444444,
              "#bd3786"
             ],
             [
              0.5555555555555556,
              "#d8576b"
             ],
             [
              0.6666666666666666,
              "#ed7953"
             ],
             [
              0.7777777777777778,
              "#fb9f3a"
             ],
             [
              0.8888888888888888,
              "#fdca26"
             ],
             [
              1,
              "#f0f921"
             ]
            ],
            "type": "contour"
           }
          ],
          "contourcarpet": [
           {
            "colorbar": {
             "outlinewidth": 0,
             "ticks": ""
            },
            "type": "contourcarpet"
           }
          ],
          "heatmap": [
           {
            "colorbar": {
             "outlinewidth": 0,
             "ticks": ""
            },
            "colorscale": [
             [
              0,
              "#0d0887"
             ],
             [
              0.1111111111111111,
              "#46039f"
             ],
             [
              0.2222222222222222,
              "#7201a8"
             ],
             [
              0.3333333333333333,
              "#9c179e"
             ],
             [
              0.4444444444444444,
              "#bd3786"
             ],
             [
              0.5555555555555556,
              "#d8576b"
             ],
             [
              0.6666666666666666,
              "#ed7953"
             ],
             [
              0.7777777777777778,
              "#fb9f3a"
             ],
             [
              0.8888888888888888,
              "#fdca26"
             ],
             [
              1,
              "#f0f921"
             ]
            ],
            "type": "heatmap"
           }
          ],
          "heatmapgl": [
           {
            "colorbar": {
             "outlinewidth": 0,
             "ticks": ""
            },
            "colorscale": [
             [
              0,
              "#0d0887"
             ],
             [
              0.1111111111111111,
              "#46039f"
             ],
             [
              0.2222222222222222,
              "#7201a8"
             ],
             [
              0.3333333333333333,
              "#9c179e"
             ],
             [
              0.4444444444444444,
              "#bd3786"
             ],
             [
              0.5555555555555556,
              "#d8576b"
             ],
             [
              0.6666666666666666,
              "#ed7953"
             ],
             [
              0.7777777777777778,
              "#fb9f3a"
             ],
             [
              0.8888888888888888,
              "#fdca26"
             ],
             [
              1,
              "#f0f921"
             ]
            ],
            "type": "heatmapgl"
           }
          ],
          "histogram": [
           {
            "marker": {
             "colorbar": {
              "outlinewidth": 0,
              "ticks": ""
             }
            },
            "type": "histogram"
           }
          ],
          "histogram2d": [
           {
            "colorbar": {
             "outlinewidth": 0,
             "ticks": ""
            },
            "colorscale": [
             [
              0,
              "#0d0887"
             ],
             [
              0.1111111111111111,
              "#46039f"
             ],
             [
              0.2222222222222222,
              "#7201a8"
             ],
             [
              0.3333333333333333,
              "#9c179e"
             ],
             [
              0.4444444444444444,
              "#bd3786"
             ],
             [
              0.5555555555555556,
              "#d8576b"
             ],
             [
              0.6666666666666666,
              "#ed7953"
             ],
             [
              0.7777777777777778,
              "#fb9f3a"
             ],
             [
              0.8888888888888888,
              "#fdca26"
             ],
             [
              1,
              "#f0f921"
             ]
            ],
            "type": "histogram2d"
           }
          ],
          "histogram2dcontour": [
           {
            "colorbar": {
             "outlinewidth": 0,
             "ticks": ""
            },
            "colorscale": [
             [
              0,
              "#0d0887"
             ],
             [
              0.1111111111111111,
              "#46039f"
             ],
             [
              0.2222222222222222,
              "#7201a8"
             ],
             [
              0.3333333333333333,
              "#9c179e"
             ],
             [
              0.4444444444444444,
              "#bd3786"
             ],
             [
              0.5555555555555556,
              "#d8576b"
             ],
             [
              0.6666666666666666,
              "#ed7953"
             ],
             [
              0.7777777777777778,
              "#fb9f3a"
             ],
             [
              0.8888888888888888,
              "#fdca26"
             ],
             [
              1,
              "#f0f921"
             ]
            ],
            "type": "histogram2dcontour"
           }
          ],
          "mesh3d": [
           {
            "colorbar": {
             "outlinewidth": 0,
             "ticks": ""
            },
            "type": "mesh3d"
           }
          ],
          "parcoords": [
           {
            "line": {
             "colorbar": {
              "outlinewidth": 0,
              "ticks": ""
             }
            },
            "type": "parcoords"
           }
          ],
          "pie": [
           {
            "automargin": true,
            "type": "pie"
           }
          ],
          "scatter": [
           {
            "marker": {
             "colorbar": {
              "outlinewidth": 0,
              "ticks": ""
             }
            },
            "type": "scatter"
           }
          ],
          "scatter3d": [
           {
            "line": {
             "colorbar": {
              "outlinewidth": 0,
              "ticks": ""
             }
            },
            "marker": {
             "colorbar": {
              "outlinewidth": 0,
              "ticks": ""
             }
            },
            "type": "scatter3d"
           }
          ],
          "scattercarpet": [
           {
            "marker": {
             "colorbar": {
              "outlinewidth": 0,
              "ticks": ""
             }
            },
            "type": "scattercarpet"
           }
          ],
          "scattergeo": [
           {
            "marker": {
             "colorbar": {
              "outlinewidth": 0,
              "ticks": ""
             }
            },
            "type": "scattergeo"
           }
          ],
          "scattergl": [
           {
            "marker": {
             "colorbar": {
              "outlinewidth": 0,
              "ticks": ""
             }
            },
            "type": "scattergl"
           }
          ],
          "scattermapbox": [
           {
            "marker": {
             "colorbar": {
              "outlinewidth": 0,
              "ticks": ""
             }
            },
            "type": "scattermapbox"
           }
          ],
          "scatterpolar": [
           {
            "marker": {
             "colorbar": {
              "outlinewidth": 0,
              "ticks": ""
             }
            },
            "type": "scatterpolar"
           }
          ],
          "scatterpolargl": [
           {
            "marker": {
             "colorbar": {
              "outlinewidth": 0,
              "ticks": ""
             }
            },
            "type": "scatterpolargl"
           }
          ],
          "scatterternary": [
           {
            "marker": {
             "colorbar": {
              "outlinewidth": 0,
              "ticks": ""
             }
            },
            "type": "scatterternary"
           }
          ],
          "surface": [
           {
            "colorbar": {
             "outlinewidth": 0,
             "ticks": ""
            },
            "colorscale": [
             [
              0,
              "#0d0887"
             ],
             [
              0.1111111111111111,
              "#46039f"
             ],
             [
              0.2222222222222222,
              "#7201a8"
             ],
             [
              0.3333333333333333,
              "#9c179e"
             ],
             [
              0.4444444444444444,
              "#bd3786"
             ],
             [
              0.5555555555555556,
              "#d8576b"
             ],
             [
              0.6666666666666666,
              "#ed7953"
             ],
             [
              0.7777777777777778,
              "#fb9f3a"
             ],
             [
              0.8888888888888888,
              "#fdca26"
             ],
             [
              1,
              "#f0f921"
             ]
            ],
            "type": "surface"
           }
          ],
          "table": [
           {
            "cells": {
             "fill": {
              "color": "#EBF0F8"
             },
             "line": {
              "color": "white"
             }
            },
            "header": {
             "fill": {
              "color": "#C8D4E3"
             },
             "line": {
              "color": "white"
             }
            },
            "type": "table"
           }
          ]
         },
         "layout": {
          "annotationdefaults": {
           "arrowcolor": "#2a3f5f",
           "arrowhead": 0,
           "arrowwidth": 1
          },
          "coloraxis": {
           "colorbar": {
            "outlinewidth": 0,
            "ticks": ""
           }
          },
          "colorscale": {
           "diverging": [
            [
             0,
             "#8e0152"
            ],
            [
             0.1,
             "#c51b7d"
            ],
            [
             0.2,
             "#de77ae"
            ],
            [
             0.3,
             "#f1b6da"
            ],
            [
             0.4,
             "#fde0ef"
            ],
            [
             0.5,
             "#f7f7f7"
            ],
            [
             0.6,
             "#e6f5d0"
            ],
            [
             0.7,
             "#b8e186"
            ],
            [
             0.8,
             "#7fbc41"
            ],
            [
             0.9,
             "#4d9221"
            ],
            [
             1,
             "#276419"
            ]
           ],
           "sequential": [
            [
             0,
             "#0d0887"
            ],
            [
             0.1111111111111111,
             "#46039f"
            ],
            [
             0.2222222222222222,
             "#7201a8"
            ],
            [
             0.3333333333333333,
             "#9c179e"
            ],
            [
             0.4444444444444444,
             "#bd3786"
            ],
            [
             0.5555555555555556,
             "#d8576b"
            ],
            [
             0.6666666666666666,
             "#ed7953"
            ],
            [
             0.7777777777777778,
             "#fb9f3a"
            ],
            [
             0.8888888888888888,
             "#fdca26"
            ],
            [
             1,
             "#f0f921"
            ]
           ],
           "sequentialminus": [
            [
             0,
             "#0d0887"
            ],
            [
             0.1111111111111111,
             "#46039f"
            ],
            [
             0.2222222222222222,
             "#7201a8"
            ],
            [
             0.3333333333333333,
             "#9c179e"
            ],
            [
             0.4444444444444444,
             "#bd3786"
            ],
            [
             0.5555555555555556,
             "#d8576b"
            ],
            [
             0.6666666666666666,
             "#ed7953"
            ],
            [
             0.7777777777777778,
             "#fb9f3a"
            ],
            [
             0.8888888888888888,
             "#fdca26"
            ],
            [
             1,
             "#f0f921"
            ]
           ]
          },
          "colorway": [
           "#636efa",
           "#EF553B",
           "#00cc96",
           "#ab63fa",
           "#FFA15A",
           "#19d3f3",
           "#FF6692",
           "#B6E880",
           "#FF97FF",
           "#FECB52"
          ],
          "font": {
           "color": "#2a3f5f"
          },
          "geo": {
           "bgcolor": "white",
           "lakecolor": "white",
           "landcolor": "#E5ECF6",
           "showlakes": true,
           "showland": true,
           "subunitcolor": "white"
          },
          "hoverlabel": {
           "align": "left"
          },
          "hovermode": "closest",
          "mapbox": {
           "style": "light"
          },
          "paper_bgcolor": "white",
          "plot_bgcolor": "#E5ECF6",
          "polar": {
           "angularaxis": {
            "gridcolor": "white",
            "linecolor": "white",
            "ticks": ""
           },
           "bgcolor": "#E5ECF6",
           "radialaxis": {
            "gridcolor": "white",
            "linecolor": "white",
            "ticks": ""
           }
          },
          "scene": {
           "xaxis": {
            "backgroundcolor": "#E5ECF6",
            "gridcolor": "white",
            "gridwidth": 2,
            "linecolor": "white",
            "showbackground": true,
            "ticks": "",
            "zerolinecolor": "white"
           },
           "yaxis": {
            "backgroundcolor": "#E5ECF6",
            "gridcolor": "white",
            "gridwidth": 2,
            "linecolor": "white",
            "showbackground": true,
            "ticks": "",
            "zerolinecolor": "white"
           },
           "zaxis": {
            "backgroundcolor": "#E5ECF6",
            "gridcolor": "white",
            "gridwidth": 2,
            "linecolor": "white",
            "showbackground": true,
            "ticks": "",
            "zerolinecolor": "white"
           }
          },
          "shapedefaults": {
           "line": {
            "color": "#2a3f5f"
           }
          },
          "ternary": {
           "aaxis": {
            "gridcolor": "white",
            "linecolor": "white",
            "ticks": ""
           },
           "baxis": {
            "gridcolor": "white",
            "linecolor": "white",
            "ticks": ""
           },
           "bgcolor": "#E5ECF6",
           "caxis": {
            "gridcolor": "white",
            "linecolor": "white",
            "ticks": ""
           }
          },
          "title": {
           "x": 0.05
          },
          "xaxis": {
           "automargin": true,
           "gridcolor": "white",
           "linecolor": "white",
           "ticks": "",
           "title": {
            "standoff": 15
           },
           "zerolinecolor": "white",
           "zerolinewidth": 2
          },
          "yaxis": {
           "automargin": true,
           "gridcolor": "white",
           "linecolor": "white",
           "ticks": "",
           "title": {
            "standoff": 15
           },
           "zerolinecolor": "white",
           "zerolinewidth": 2
          }
         }
        },
        "xaxis": {
         "anchor": "y",
         "domain": [
          0,
          1
         ],
         "title": {
          "text": "slopeData"
         },
         "type": "log"
        },
        "yaxis": {
         "anchor": "x",
         "domain": [
          0,
          1
         ],
         "title": {
          "text": "varianceVal"
         }
        }
       }
      },
      "text/html": [
       "<div>\n",
       "        \n",
       "        \n",
       "            <div id=\"482cdef4-13c1-4241-8991-0590fa61abfd\" class=\"plotly-graph-div\" style=\"height:525px; width:100%;\"></div>\n",
       "            <script type=\"text/javascript\">\n",
       "                require([\"plotly\"], function(Plotly) {\n",
       "                    window.PLOTLYENV=window.PLOTLYENV || {};\n",
       "                    \n",
       "                if (document.getElementById(\"482cdef4-13c1-4241-8991-0590fa61abfd\")) {\n",
       "                    Plotly.newPlot(\n",
       "                        '482cdef4-13c1-4241-8991-0590fa61abfd',\n",
       "                        [{\"hoverlabel\": {\"namelength\": 0}, \"hovertemplate\": \"<b>%{hovertext}</b><br><br>countryName=%{text}<br>slopeData=%{x}<br>varianceVal=%{y}<br>lastValue=%{marker.size}\", \"hovertext\": [\"AustraliaNew South Wales\"], \"legendgroup\": \"AustraliaNew South Wales\", \"marker\": {\"color\": \"#636efa\", \"size\": [1791], \"sizemode\": \"area\", \"sizeref\": 39.135, \"symbol\": \"circle\"}, \"mode\": \"markers+text\", \"name\": \"AustraliaNew South Wales\", \"showlegend\": true, \"text\": [\"AustraliaNew South Wales\"], \"type\": \"scatter\", \"x\": [8.009596456692913], \"xaxis\": \"x\", \"y\": [0.050482756931306896], \"yaxis\": \"y\"}, {\"hoverlabel\": {\"namelength\": 0}, \"hovertemplate\": \"<b>%{hovertext}</b><br><br>countryName=%{text}<br>slopeData=%{x}<br>varianceVal=%{y}<br>lastValue=%{marker.size}\", \"hovertext\": [\"Austria\"], \"legendgroup\": \"Austria\", \"marker\": {\"color\": \"#EF553B\", \"size\": [8788], \"sizemode\": \"area\", \"sizeref\": 39.135, \"symbol\": \"circle\"}, \"mode\": \"markers+text\", \"name\": \"Austria\", \"showlegend\": true, \"text\": [\"Austria\"], \"type\": \"scatter\", \"x\": [146.44752174954107], \"xaxis\": \"x\", \"y\": [0.09314767775865157], \"yaxis\": \"y\"}, {\"hoverlabel\": {\"namelength\": 0}, \"hovertemplate\": \"<b>%{hovertext}</b><br><br>countryName=%{text}<br>slopeData=%{x}<br>varianceVal=%{y}<br>lastValue=%{marker.size}\", \"hovertext\": [\"Belgium\"], \"legendgroup\": \"Belgium\", \"marker\": {\"color\": \"#00cc96\", \"size\": [10836], \"sizemode\": \"area\", \"sizeref\": 39.135, \"symbol\": \"circle\"}, \"mode\": \"markers+text\", \"name\": \"Belgium\", \"showlegend\": true, \"text\": [\"Belgium\"], \"type\": \"scatter\", \"x\": [58.81781113891207], \"xaxis\": \"x\", \"y\": [0.0478151479924055], \"yaxis\": \"y\"}, {\"hoverlabel\": {\"namelength\": 0}, \"hovertemplate\": \"<b>%{hovertext}</b><br><br>countryName=%{text}<br>slopeData=%{x}<br>varianceVal=%{y}<br>lastValue=%{marker.size}\", \"hovertext\": [\"Brazil\"], \"legendgroup\": \"Brazil\", \"marker\": {\"color\": \"#ab63fa\", \"size\": [4256], \"sizemode\": \"area\", \"sizeref\": 39.135, \"symbol\": \"circle\"}, \"mode\": \"markers+text\", \"name\": \"Brazil\", \"showlegend\": true, \"text\": [\"Brazil\"], \"type\": \"scatter\", \"x\": [65.73977272727272], \"xaxis\": \"x\", \"y\": [0.08736574600756708], \"yaxis\": \"y\"}, {\"hoverlabel\": {\"namelength\": 0}, \"hovertemplate\": \"<b>%{hovertext}</b><br><br>countryName=%{text}<br>slopeData=%{x}<br>varianceVal=%{y}<br>lastValue=%{marker.size}\", \"hovertext\": [\"CanadaBritish Columbia\"], \"legendgroup\": \"CanadaBritish Columbia\", \"marker\": {\"color\": \"#FFA15A\", \"size\": [884], \"sizemode\": \"area\", \"sizeref\": 39.135, \"symbol\": \"circle\"}, \"mode\": \"markers+text\", \"name\": \"CanadaBritish Columbia\", \"showlegend\": true, \"text\": [\"CanadaBritish Columbia\"], \"type\": \"scatter\", \"x\": [5.170073905921503], \"xaxis\": \"x\", \"y\": [0.06848777616818906], \"yaxis\": \"y\"}, {\"hoverlabel\": {\"namelength\": 0}, \"hovertemplate\": \"<b>%{hovertext}</b><br><br>countryName=%{text}<br>slopeData=%{x}<br>varianceVal=%{y}<br>lastValue=%{marker.size}\", \"hovertext\": [\"CanadaOntario\"], \"legendgroup\": \"CanadaOntario\", \"marker\": {\"color\": \"#19d3f3\", \"size\": [1355], \"sizemode\": \"area\", \"sizeref\": 39.135, \"symbol\": \"circle\"}, \"mode\": \"markers+text\", \"name\": \"CanadaOntario\", \"showlegend\": true, \"text\": [\"CanadaOntario\"], \"type\": \"scatter\", \"x\": [5.9142646231721026], \"xaxis\": \"x\", \"y\": [0.0457492658570505], \"yaxis\": \"y\"}, {\"hoverlabel\": {\"namelength\": 0}, \"hovertemplate\": \"<b>%{hovertext}</b><br><br>countryName=%{text}<br>slopeData=%{x}<br>varianceVal=%{y}<br>lastValue=%{marker.size}\", \"hovertext\": [\"CanadaQuebec\"], \"legendgroup\": \"CanadaQuebec\", \"marker\": {\"color\": \"#FF6692\", \"size\": [2840], \"sizemode\": \"area\", \"sizeref\": 39.135, \"symbol\": \"circle\"}, \"mode\": \"markers+text\", \"name\": \"CanadaQuebec\", \"showlegend\": true, \"text\": [\"CanadaQuebec\"], \"type\": \"scatter\", \"x\": [37.36308831306187], \"xaxis\": \"x\", \"y\": [0.07606754582204889], \"yaxis\": \"y\"}, {\"hoverlabel\": {\"namelength\": 0}, \"hovertemplate\": \"<b>%{hovertext}</b><br><br>countryName=%{text}<br>slopeData=%{x}<br>varianceVal=%{y}<br>lastValue=%{marker.size}\", \"hovertext\": [\"Chile\"], \"legendgroup\": \"Chile\", \"marker\": {\"color\": \"#B6E880\", \"size\": [2139], \"sizemode\": \"area\", \"sizeref\": 39.135, \"symbol\": \"circle\"}, \"mode\": \"markers+text\", \"name\": \"Chile\", \"showlegend\": true, \"text\": [\"Chile\"], \"type\": \"scatter\", \"x\": [44.392517335913574], \"xaxis\": \"x\", \"y\": [0.08531627325343534], \"yaxis\": \"y\"}, {\"hoverlabel\": {\"namelength\": 0}, \"hovertemplate\": \"<b>%{hovertext}</b><br><br>countryName=%{text}<br>slopeData=%{x}<br>varianceVal=%{y}<br>lastValue=%{marker.size}\", \"hovertext\": [\"Czechia\"], \"legendgroup\": \"Czechia\", \"marker\": {\"color\": \"#FF97FF\", \"size\": [2817], \"sizemode\": \"area\", \"sizeref\": 39.135, \"symbol\": \"circle\"}, \"mode\": \"markers+text\", \"name\": \"Czechia\", \"showlegend\": true, \"text\": [\"Czechia\"], \"type\": \"scatter\", \"x\": [59.29906663209749], \"xaxis\": \"x\", \"y\": [0.0898688883406107], \"yaxis\": \"y\"}, {\"hoverlabel\": {\"namelength\": 0}, \"hovertemplate\": \"<b>%{hovertext}</b><br><br>countryName=%{text}<br>slopeData=%{x}<br>varianceVal=%{y}<br>lastValue=%{marker.size}\", \"hovertext\": [\"Denmark\"], \"legendgroup\": \"Denmark\", \"marker\": {\"color\": \"#FECB52\", \"size\": [2395], \"sizemode\": \"area\", \"sizeref\": 39.135, \"symbol\": \"circle\"}, \"mode\": \"markers+text\", \"name\": \"Denmark\", \"showlegend\": true, \"text\": [\"Denmark\"], \"type\": \"scatter\", \"x\": [58.333717357910906], \"xaxis\": \"x\", \"y\": [0.09815911382378947], \"yaxis\": \"y\"}, {\"hoverlabel\": {\"namelength\": 0}, \"hovertemplate\": \"<b>%{hovertext}</b><br><br>countryName=%{text}<br>slopeData=%{x}<br>varianceVal=%{y}<br>lastValue=%{marker.size}\", \"hovertext\": [\"Dominican Republic\"], \"legendgroup\": \"Dominican Republic\", \"marker\": {\"color\": \"#636efa\", \"size\": [859], \"sizemode\": \"area\", \"sizeref\": 39.135, \"symbol\": \"circle\"}, \"mode\": \"markers+text\", \"name\": \"Dominican Republic\", \"showlegend\": true, \"text\": [\"Dominican Republic\"], \"type\": \"scatter\", \"x\": [13.31073373087892], \"xaxis\": \"x\", \"y\": [0.0756253448436414], \"yaxis\": \"y\"}, {\"hoverlabel\": {\"namelength\": 0}, \"hovertemplate\": \"<b>%{hovertext}</b><br><br>countryName=%{text}<br>slopeData=%{x}<br>varianceVal=%{y}<br>lastValue=%{marker.size}\", \"hovertext\": [\"Ecuador\"], \"legendgroup\": \"Ecuador\", \"marker\": {\"color\": \"#EF553B\", \"size\": [1924], \"sizemode\": \"area\", \"sizeref\": 39.135, \"symbol\": \"circle\"}, \"mode\": \"markers+text\", \"name\": \"Ecuador\", \"showlegend\": true, \"text\": [\"Ecuador\"], \"type\": \"scatter\", \"x\": [38.47381384495722], \"xaxis\": \"x\", \"y\": [0.10246545756926437], \"yaxis\": \"y\"}, {\"hoverlabel\": {\"namelength\": 0}, \"hovertemplate\": \"<b>%{hovertext}</b><br><br>countryName=%{text}<br>slopeData=%{x}<br>varianceVal=%{y}<br>lastValue=%{marker.size}\", \"hovertext\": [\"Finland\"], \"legendgroup\": \"Finland\", \"marker\": {\"color\": \"#00cc96\", \"size\": [1240], \"sizemode\": \"area\", \"sizeref\": 39.135, \"symbol\": \"circle\"}, \"mode\": \"markers+text\", \"name\": \"Finland\", \"showlegend\": true, \"text\": [\"Finland\"], \"type\": \"scatter\", \"x\": [7.817626337894595], \"xaxis\": \"x\", \"y\": [0.06833547854825249], \"yaxis\": \"y\"}, {\"hoverlabel\": {\"namelength\": 0}, \"hovertemplate\": \"<b>%{hovertext}</b><br><br>countryName=%{text}<br>slopeData=%{x}<br>varianceVal=%{y}<br>lastValue=%{marker.size}\", \"hovertext\": [\"France\"], \"legendgroup\": \"France\", \"marker\": {\"color\": \"#ab63fa\", \"size\": [40174], \"sizemode\": \"area\", \"sizeref\": 39.135, \"symbol\": \"circle\"}, \"mode\": \"markers+text\", \"name\": \"France\", \"showlegend\": true, \"text\": [\"France\"], \"type\": \"scatter\", \"x\": [196.43077990711578], \"xaxis\": \"x\", \"y\": [0.05669176956154041], \"yaxis\": \"y\"}, {\"hoverlabel\": {\"namelength\": 0}, \"hovertemplate\": \"<b>%{hovertext}</b><br><br>countryName=%{text}<br>slopeData=%{x}<br>varianceVal=%{y}<br>lastValue=%{marker.size}\", \"hovertext\": [\"Germany\"], \"legendgroup\": \"Germany\", \"marker\": {\"color\": \"#FFA15A\", \"size\": [62095], \"sizemode\": \"area\", \"sizeref\": 39.135, \"symbol\": \"circle\"}, \"mode\": \"markers+text\", \"name\": \"Germany\", \"showlegend\": true, \"text\": [\"Germany\"], \"type\": \"scatter\", \"x\": [315.34037480798776], \"xaxis\": \"x\", \"y\": [0.057332369756652075], \"yaxis\": \"y\"}, {\"hoverlabel\": {\"namelength\": 0}, \"hovertemplate\": \"<b>%{hovertext}</b><br><br>countryName=%{text}<br>slopeData=%{x}<br>varianceVal=%{y}<br>lastValue=%{marker.size}\", \"hovertext\": [\"Greece\"], \"legendgroup\": \"Greece\", \"marker\": {\"color\": \"#19d3f3\", \"size\": [1156], \"sizemode\": \"area\", \"sizeref\": 39.135, \"symbol\": \"circle\"}, \"mode\": \"markers+text\", \"name\": \"Greece\", \"showlegend\": true, \"text\": [\"Greece\"], \"type\": \"scatter\", \"x\": [24.25201048951049], \"xaxis\": \"x\", \"y\": [0.09259259293676665], \"yaxis\": \"y\"}, {\"hoverlabel\": {\"namelength\": 0}, \"hovertemplate\": \"<b>%{hovertext}</b><br><br>countryName=%{text}<br>slopeData=%{x}<br>varianceVal=%{y}<br>lastValue=%{marker.size}\", \"hovertext\": [\"Iceland\"], \"legendgroup\": \"Iceland\", \"marker\": {\"color\": \"#FF6692\", \"size\": [1020], \"sizemode\": \"area\", \"sizeref\": 39.135, \"symbol\": \"circle\"}, \"mode\": \"markers+text\", \"name\": \"Iceland\", \"showlegend\": true, \"text\": [\"Iceland\"], \"type\": \"scatter\", \"x\": [22.972818614489682], \"xaxis\": \"x\", \"y\": [0.09708505826912416], \"yaxis\": \"y\"}, {\"hoverlabel\": {\"namelength\": 0}, \"hovertemplate\": \"<b>%{hovertext}</b><br><br>countryName=%{text}<br>slopeData=%{x}<br>varianceVal=%{y}<br>lastValue=%{marker.size}\", \"hovertext\": [\"India\"], \"legendgroup\": \"India\", \"marker\": {\"color\": \"#B6E880\", \"size\": [1024], \"sizemode\": \"area\", \"sizeref\": 39.135, \"symbol\": \"circle\"}, \"mode\": \"markers+text\", \"name\": \"India\", \"showlegend\": true, \"text\": [\"India\"], \"type\": \"scatter\", \"x\": [5.832630679390399], \"xaxis\": \"x\", \"y\": [0.06038409404379196], \"yaxis\": \"y\"}, {\"hoverlabel\": {\"namelength\": 0}, \"hovertemplate\": \"<b>%{hovertext}</b><br><br>countryName=%{text}<br>slopeData=%{x}<br>varianceVal=%{y}<br>lastValue=%{marker.size}\", \"hovertext\": [\"Indonesia\"], \"legendgroup\": \"Indonesia\", \"marker\": {\"color\": \"#FF97FF\", \"size\": [1285], \"sizemode\": \"area\", \"sizeref\": 39.135, \"symbol\": \"circle\"}, \"mode\": \"markers+text\", \"name\": \"Indonesia\", \"showlegend\": true, \"text\": [\"Indonesia\"], \"type\": \"scatter\", \"x\": [29.016738816738822], \"xaxis\": \"x\", \"y\": [0.09166795104477761], \"yaxis\": \"y\"}, {\"hoverlabel\": {\"namelength\": 0}, \"hovertemplate\": \"<b>%{hovertext}</b><br><br>countryName=%{text}<br>slopeData=%{x}<br>varianceVal=%{y}<br>lastValue=%{marker.size}\", \"hovertext\": [\"Iran\"], \"legendgroup\": \"Iran\", \"marker\": {\"color\": \"#FECB52\", \"size\": [38309], \"sizemode\": \"area\", \"sizeref\": 39.135, \"symbol\": \"circle\"}, \"mode\": \"markers+text\", \"name\": \"Iran\", \"showlegend\": true, \"text\": [\"Iran\"], \"type\": \"scatter\", \"x\": [656.9324732229795], \"xaxis\": \"x\", \"y\": [0.0844117041482744], \"yaxis\": \"y\"}, {\"hoverlabel\": {\"namelength\": 0}, \"hovertemplate\": \"<b>%{hovertext}</b><br><br>countryName=%{text}<br>slopeData=%{x}<br>varianceVal=%{y}<br>lastValue=%{marker.size}\", \"hovertext\": [\"Ireland\"], \"legendgroup\": \"Ireland\", \"marker\": {\"color\": \"#636efa\", \"size\": [2615], \"sizemode\": \"area\", \"sizeref\": 39.135, \"symbol\": \"circle\"}, \"mode\": \"markers+text\", \"name\": \"Ireland\", \"showlegend\": true, \"text\": [\"Ireland\"], \"type\": \"scatter\", \"x\": [49.582232612507305], \"xaxis\": \"x\", \"y\": [0.09054513065067732], \"yaxis\": \"y\"}, {\"hoverlabel\": {\"namelength\": 0}, \"hovertemplate\": \"<b>%{hovertext}</b><br><br>countryName=%{text}<br>slopeData=%{x}<br>varianceVal=%{y}<br>lastValue=%{marker.size}\", \"hovertext\": [\"Israel\"], \"legendgroup\": \"Israel\", \"marker\": {\"color\": \"#EF553B\", \"size\": [4247], \"sizemode\": \"area\", \"sizeref\": 39.135, \"symbol\": \"circle\"}, \"mode\": \"markers+text\", \"name\": \"Israel\", \"showlegend\": true, \"text\": [\"Israel\"], \"type\": \"scatter\", \"x\": [42.613655761024205], \"xaxis\": \"x\", \"y\": [0.06492528292830993], \"yaxis\": \"y\"}, {\"hoverlabel\": {\"namelength\": 0}, \"hovertemplate\": \"<b>%{hovertext}</b><br><br>countryName=%{text}<br>slopeData=%{x}<br>varianceVal=%{y}<br>lastValue=%{marker.size}\", \"hovertext\": [\"Italy\"], \"legendgroup\": \"Italy\", \"marker\": {\"color\": \"#00cc96\", \"size\": [97689], \"sizemode\": \"area\", \"sizeref\": 39.135, \"symbol\": \"circle\"}, \"mode\": \"markers+text\", \"name\": \"Italy\", \"showlegend\": true, \"text\": [\"Italy\"], \"type\": \"scatter\", \"x\": [768.0430097858501], \"xaxis\": \"x\", \"y\": [0.0794646617784376], \"yaxis\": \"y\"}, {\"hoverlabel\": {\"namelength\": 0}, \"hovertemplate\": \"<b>%{hovertext}</b><br><br>countryName=%{text}<br>slopeData=%{x}<br>varianceVal=%{y}<br>lastValue=%{marker.size}\", \"hovertext\": [\"Japan\"], \"legendgroup\": \"Japan\", \"marker\": {\"color\": \"#ab63fa\", \"size\": [1866], \"sizemode\": \"area\", \"sizeref\": 39.135, \"symbol\": \"circle\"}, \"mode\": \"markers+text\", \"name\": \"Japan\", \"showlegend\": true, \"text\": [\"Japan\"], \"type\": \"scatter\", \"x\": [14.200302409521026], \"xaxis\": \"x\", \"y\": [0.06490921022969327], \"yaxis\": \"y\"}, {\"hoverlabel\": {\"namelength\": 0}, \"hovertemplate\": \"<b>%{hovertext}</b><br><br>countryName=%{text}<br>slopeData=%{x}<br>varianceVal=%{y}<br>lastValue=%{marker.size}\", \"hovertext\": [\"Korea, South\"], \"legendgroup\": \"Korea, South\", \"marker\": {\"color\": \"#FFA15A\", \"size\": [9583], \"sizemode\": \"area\", \"sizeref\": 39.135, \"symbol\": \"circle\"}, \"mode\": \"markers+text\", \"name\": \"Korea, South\", \"showlegend\": true, \"text\": [\"Korea, South\"], \"type\": \"scatter\", \"x\": [124.01635937957273], \"xaxis\": \"x\", \"y\": [0.16180519660198303], \"yaxis\": \"y\"}, {\"hoverlabel\": {\"namelength\": 0}, \"hovertemplate\": \"<b>%{hovertext}</b><br><br>countryName=%{text}<br>slopeData=%{x}<br>varianceVal=%{y}<br>lastValue=%{marker.size}\", \"hovertext\": [\"Luxembourg\"], \"legendgroup\": \"Luxembourg\", \"marker\": {\"color\": \"#19d3f3\", \"size\": [1950], \"sizemode\": \"area\", \"sizeref\": 39.135, \"symbol\": \"circle\"}, \"mode\": \"markers+text\", \"name\": \"Luxembourg\", \"showlegend\": true, \"text\": [\"Luxembourg\"], \"type\": \"scatter\", \"x\": [38.12764465225015], \"xaxis\": \"x\", \"y\": [0.10027996096457616], \"yaxis\": \"y\"}, {\"hoverlabel\": {\"namelength\": 0}, \"hovertemplate\": \"<b>%{hovertext}</b><br><br>countryName=%{text}<br>slopeData=%{x}<br>varianceVal=%{y}<br>lastValue=%{marker.size}\", \"hovertext\": [\"Malaysia\"], \"legendgroup\": \"Malaysia\", \"marker\": {\"color\": \"#FF6692\", \"size\": [2470], \"sizemode\": \"area\", \"sizeref\": 39.135, \"symbol\": \"circle\"}, \"mode\": \"markers+text\", \"name\": \"Malaysia\", \"showlegend\": true, \"text\": [\"Malaysia\"], \"type\": \"scatter\", \"x\": [14.581093470483008], \"xaxis\": \"x\", \"y\": [0.06878483741642027], \"yaxis\": \"y\"}, {\"hoverlabel\": {\"namelength\": 0}, \"hovertemplate\": \"<b>%{hovertext}</b><br><br>countryName=%{text}<br>slopeData=%{x}<br>varianceVal=%{y}<br>lastValue=%{marker.size}\", \"hovertext\": [\"Mexico\"], \"legendgroup\": \"Mexico\", \"marker\": {\"color\": \"#B6E880\", \"size\": [848], \"sizemode\": \"area\", \"sizeref\": 39.135, \"symbol\": \"circle\"}, \"mode\": \"markers+text\", \"name\": \"Mexico\", \"showlegend\": true, \"text\": [\"Mexico\"], \"type\": \"scatter\", \"x\": [13.197673188788999], \"xaxis\": \"x\", \"y\": [0.07241753397957854], \"yaxis\": \"y\"}, {\"hoverlabel\": {\"namelength\": 0}, \"hovertemplate\": \"<b>%{hovertext}</b><br><br>countryName=%{text}<br>slopeData=%{x}<br>varianceVal=%{y}<br>lastValue=%{marker.size}\", \"hovertext\": [\"Netherlands\"], \"legendgroup\": \"Netherlands\", \"marker\": {\"color\": \"#FF97FF\", \"size\": [10866], \"sizemode\": \"area\", \"sizeref\": 39.135, \"symbol\": \"circle\"}, \"mode\": \"markers+text\", \"name\": \"Netherlands\", \"showlegend\": true, \"text\": [\"Netherlands\"], \"type\": \"scatter\", \"x\": [191.940668202765], \"xaxis\": \"x\", \"y\": [0.0819617256709996], \"yaxis\": \"y\"}, {\"hoverlabel\": {\"namelength\": 0}, \"hovertemplate\": \"<b>%{hovertext}</b><br><br>countryName=%{text}<br>slopeData=%{x}<br>varianceVal=%{y}<br>lastValue=%{marker.size}\", \"hovertext\": [\"Norway\"], \"legendgroup\": \"Norway\", \"marker\": {\"color\": \"#FECB52\", \"size\": [4284], \"sizemode\": \"area\", \"sizeref\": 39.135, \"symbol\": \"circle\"}, \"mode\": \"markers+text\", \"name\": \"Norway\", \"showlegend\": true, \"text\": [\"Norway\"], \"type\": \"scatter\", \"x\": [93.76346153846154], \"xaxis\": \"x\", \"y\": [0.09592377682844914], \"yaxis\": \"y\"}, {\"hoverlabel\": {\"namelength\": 0}, \"hovertemplate\": \"<b>%{hovertext}</b><br><br>countryName=%{text}<br>slopeData=%{x}<br>varianceVal=%{y}<br>lastValue=%{marker.size}\", \"hovertext\": [\"Pakistan\"], \"legendgroup\": \"Pakistan\", \"marker\": {\"color\": \"#636efa\", \"size\": [1597], \"sizemode\": \"area\", \"sizeref\": 39.135, \"symbol\": \"circle\"}, \"mode\": \"markers+text\", \"name\": \"Pakistan\", \"showlegend\": true, \"text\": [\"Pakistan\"], \"type\": \"scatter\", \"x\": [28.614860139860138], \"xaxis\": \"x\", \"y\": [0.10006400690633177], \"yaxis\": \"y\"}, {\"hoverlabel\": {\"namelength\": 0}, \"hovertemplate\": \"<b>%{hovertext}</b><br><br>countryName=%{text}<br>slopeData=%{x}<br>varianceVal=%{y}<br>lastValue=%{marker.size}\", \"hovertext\": [\"Panama\"], \"legendgroup\": \"Panama\", \"marker\": {\"color\": \"#EF553B\", \"size\": [901], \"sizemode\": \"area\", \"sizeref\": 39.135, \"symbol\": \"circle\"}, \"mode\": \"markers+text\", \"name\": \"Panama\", \"showlegend\": true, \"text\": [\"Panama\"], \"type\": \"scatter\", \"x\": [31.534817813765176], \"xaxis\": \"x\", \"y\": [0.09214916975308643], \"yaxis\": \"y\"}, {\"hoverlabel\": {\"namelength\": 0}, \"hovertemplate\": \"<b>%{hovertext}</b><br><br>countryName=%{text}<br>slopeData=%{x}<br>varianceVal=%{y}<br>lastValue=%{marker.size}\", \"hovertext\": [\"Peru\"], \"legendgroup\": \"Peru\", \"marker\": {\"color\": \"#00cc96\", \"size\": [852], \"sizemode\": \"area\", \"sizeref\": 39.135, \"symbol\": \"circle\"}, \"mode\": \"markers+text\", \"name\": \"Peru\", \"showlegend\": true, \"text\": [\"Peru\"], \"type\": \"scatter\", \"x\": [24.169518963922297], \"xaxis\": \"x\", \"y\": [0.087269450420379], \"yaxis\": \"y\"}, {\"hoverlabel\": {\"namelength\": 0}, \"hovertemplate\": \"<b>%{hovertext}</b><br><br>countryName=%{text}<br>slopeData=%{x}<br>varianceVal=%{y}<br>lastValue=%{marker.size}\", \"hovertext\": [\"Philippines\"], \"legendgroup\": \"Philippines\", \"marker\": {\"color\": \"#ab63fa\", \"size\": [1418], \"sizemode\": \"area\", \"sizeref\": 39.135, \"symbol\": \"circle\"}, \"mode\": \"markers+text\", \"name\": \"Philippines\", \"showlegend\": true, \"text\": [\"Philippines\"], \"type\": \"scatter\", \"x\": [6.068736647201252], \"xaxis\": \"x\", \"y\": [0.03876201365380923], \"yaxis\": \"y\"}, {\"hoverlabel\": {\"namelength\": 0}, \"hovertemplate\": \"<b>%{hovertext}</b><br><br>countryName=%{text}<br>slopeData=%{x}<br>varianceVal=%{y}<br>lastValue=%{marker.size}\", \"hovertext\": [\"Poland\"], \"legendgroup\": \"Poland\", \"marker\": {\"color\": \"#FFA15A\", \"size\": [1862], \"sizemode\": \"area\", \"sizeref\": 39.135, \"symbol\": \"circle\"}, \"mode\": \"markers+text\", \"name\": \"Poland\", \"showlegend\": true, \"text\": [\"Poland\"], \"type\": \"scatter\", \"x\": [44.20199095022625], \"xaxis\": \"x\", \"y\": [0.08684458829849516], \"yaxis\": \"y\"}, {\"hoverlabel\": {\"namelength\": 0}, \"hovertemplate\": \"<b>%{hovertext}</b><br><br>countryName=%{text}<br>slopeData=%{x}<br>varianceVal=%{y}<br>lastValue=%{marker.size}\", \"hovertext\": [\"Portugal\"], \"legendgroup\": \"Portugal\", \"marker\": {\"color\": \"#19d3f3\", \"size\": [5962], \"sizemode\": \"area\", \"sizeref\": 39.135, \"symbol\": \"circle\"}, \"mode\": \"markers+text\", \"name\": \"Portugal\", \"showlegend\": true, \"text\": [\"Portugal\"], \"type\": \"scatter\", \"x\": [110.574025974026], \"xaxis\": \"x\", \"y\": [0.07969768293899245], \"yaxis\": \"y\"}, {\"hoverlabel\": {\"namelength\": 0}, \"hovertemplate\": \"<b>%{hovertext}</b><br><br>countryName=%{text}<br>slopeData=%{x}<br>varianceVal=%{y}<br>lastValue=%{marker.size}\", \"hovertext\": [\"Romania\"], \"legendgroup\": \"Romania\", \"marker\": {\"color\": \"#FF6692\", \"size\": [1815], \"sizemode\": \"area\", \"sizeref\": 39.135, \"symbol\": \"circle\"}, \"mode\": \"markers+text\", \"name\": \"Romania\", \"showlegend\": true, \"text\": [\"Romania\"], \"type\": \"scatter\", \"x\": [25.056293706293705], \"xaxis\": \"x\", \"y\": [0.0673160683680469], \"yaxis\": \"y\"}, {\"hoverlabel\": {\"namelength\": 0}, \"hovertemplate\": \"<b>%{hovertext}</b><br><br>countryName=%{text}<br>slopeData=%{x}<br>varianceVal=%{y}<br>lastValue=%{marker.size}\", \"hovertext\": [\"Russia\"], \"legendgroup\": \"Russia\", \"marker\": {\"color\": \"#B6E880\", \"size\": [1534], \"sizemode\": \"area\", \"sizeref\": 39.135, \"symbol\": \"circle\"}, \"mode\": \"markers+text\", \"name\": \"Russia\", \"showlegend\": true, \"text\": [\"Russia\"], \"type\": \"scatter\", \"x\": [6.525303840908749], \"xaxis\": \"x\", \"y\": [0.04239993842519189], \"yaxis\": \"y\"}, {\"hoverlabel\": {\"namelength\": 0}, \"hovertemplate\": \"<b>%{hovertext}</b><br><br>countryName=%{text}<br>slopeData=%{x}<br>varianceVal=%{y}<br>lastValue=%{marker.size}\", \"hovertext\": [\"Saudi Arabia\"], \"legendgroup\": \"Saudi Arabia\", \"marker\": {\"color\": \"#FF97FF\", \"size\": [1299], \"sizemode\": \"area\", \"sizeref\": 39.135, \"symbol\": \"circle\"}, \"mode\": \"markers+text\", \"name\": \"Saudi Arabia\", \"showlegend\": true, \"text\": [\"Saudi Arabia\"], \"type\": \"scatter\", \"x\": [29.962481962481966], \"xaxis\": \"x\", \"y\": [0.10065618545394658], \"yaxis\": \"y\"}, {\"hoverlabel\": {\"namelength\": 0}, \"hovertemplate\": \"<b>%{hovertext}</b><br><br>countryName=%{text}<br>slopeData=%{x}<br>varianceVal=%{y}<br>lastValue=%{marker.size}\", \"hovertext\": [\"Singapore\"], \"legendgroup\": \"Singapore\", \"marker\": {\"color\": \"#FECB52\", \"size\": [844], \"sizemode\": \"area\", \"sizeref\": 39.135, \"symbol\": \"circle\"}, \"mode\": \"markers+text\", \"name\": \"Singapore\", \"showlegend\": true, \"text\": [\"Singapore\"], \"type\": \"scatter\", \"x\": [6.038940635170016], \"xaxis\": \"x\", \"y\": [0.058882559824368026], \"yaxis\": \"y\"}, {\"hoverlabel\": {\"namelength\": 0}, \"hovertemplate\": \"<b>%{hovertext}</b><br><br>countryName=%{text}<br>slopeData=%{x}<br>varianceVal=%{y}<br>lastValue=%{marker.size}\", \"hovertext\": [\"South Africa\"], \"legendgroup\": \"South Africa\", \"marker\": {\"color\": \"#636efa\", \"size\": [1280], \"sizemode\": \"area\", \"sizeref\": 39.135, \"symbol\": \"circle\"}, \"mode\": \"markers+text\", \"name\": \"South Africa\", \"showlegend\": true, \"text\": [\"South Africa\"], \"type\": \"scatter\", \"x\": [31.23102040816326], \"xaxis\": \"x\", \"y\": [0.10325381403204835], \"yaxis\": \"y\"}, {\"hoverlabel\": {\"namelength\": 0}, \"hovertemplate\": \"<b>%{hovertext}</b><br><br>countryName=%{text}<br>slopeData=%{x}<br>varianceVal=%{y}<br>lastValue=%{marker.size}\", \"hovertext\": [\"Spain\"], \"legendgroup\": \"Spain\", \"marker\": {\"color\": \"#EF553B\", \"size\": [80110], \"sizemode\": \"area\", \"sizeref\": 39.135, \"symbol\": \"circle\"}, \"mode\": \"markers+text\", \"name\": \"Spain\", \"showlegend\": true, \"text\": [\"Spain\"], \"type\": \"scatter\", \"x\": [460.6988716168232], \"xaxis\": \"x\", \"y\": [0.05942215665927785], \"yaxis\": \"y\"}, {\"hoverlabel\": {\"namelength\": 0}, \"hovertemplate\": \"<b>%{hovertext}</b><br><br>countryName=%{text}<br>slopeData=%{x}<br>varianceVal=%{y}<br>lastValue=%{marker.size}\", \"hovertext\": [\"Sweden\"], \"legendgroup\": \"Sweden\", \"marker\": {\"color\": \"#00cc96\", \"size\": [3700], \"sizemode\": \"area\", \"sizeref\": 39.135, \"symbol\": \"circle\"}, \"mode\": \"markers+text\", \"name\": \"Sweden\", \"showlegend\": true, \"text\": [\"Sweden\"], \"type\": \"scatter\", \"x\": [27.213340526607617], \"xaxis\": \"x\", \"y\": [0.07051969112618978], \"yaxis\": \"y\"}, {\"hoverlabel\": {\"namelength\": 0}, \"hovertemplate\": \"<b>%{hovertext}</b><br><br>countryName=%{text}<br>slopeData=%{x}<br>varianceVal=%{y}<br>lastValue=%{marker.size}\", \"hovertext\": [\"Switzerland\"], \"legendgroup\": \"Switzerland\", \"marker\": {\"color\": \"#ab63fa\", \"size\": [14829], \"sizemode\": \"area\", \"sizeref\": 39.135, \"symbol\": \"circle\"}, \"mode\": \"markers+text\", \"name\": \"Switzerland\", \"showlegend\": true, \"text\": [\"Switzerland\"], \"type\": \"scatter\", \"x\": [271.455024343523], \"xaxis\": \"x\", \"y\": [0.10041517704491698], \"yaxis\": \"y\"}, {\"hoverlabel\": {\"namelength\": 0}, \"hovertemplate\": \"<b>%{hovertext}</b><br><br>countryName=%{text}<br>slopeData=%{x}<br>varianceVal=%{y}<br>lastValue=%{marker.size}\", \"hovertext\": [\"Thailand\"], \"legendgroup\": \"Thailand\", \"marker\": {\"color\": \"#FFA15A\", \"size\": [1388], \"sizemode\": \"area\", \"sizeref\": 39.135, \"symbol\": \"circle\"}, \"mode\": \"markers+text\", \"name\": \"Thailand\", \"showlegend\": true, \"text\": [\"Thailand\"], \"type\": \"scatter\", \"x\": [6.431079894644425], \"xaxis\": \"x\", \"y\": [0.053116362927352834], \"yaxis\": \"y\"}, {\"hoverlabel\": {\"namelength\": 0}, \"hovertemplate\": \"<b>%{hovertext}</b><br><br>countryName=%{text}<br>slopeData=%{x}<br>varianceVal=%{y}<br>lastValue=%{marker.size}\", \"hovertext\": [\"Turkey\"], \"legendgroup\": \"Turkey\", \"marker\": {\"color\": \"#19d3f3\", \"size\": [9217], \"sizemode\": \"area\", \"sizeref\": 39.135, \"symbol\": \"circle\"}, \"mode\": \"markers+text\", \"name\": \"Turkey\", \"showlegend\": true, \"text\": [\"Turkey\"], \"type\": \"scatter\", \"x\": [256.1688003793268], \"xaxis\": \"x\", \"y\": [0.08486308192453396], \"yaxis\": \"y\"}, {\"hoverlabel\": {\"namelength\": 0}, \"hovertemplate\": \"<b>%{hovertext}</b><br><br>countryName=%{text}<br>slopeData=%{x}<br>varianceVal=%{y}<br>lastValue=%{marker.size}\", \"hovertext\": [\"United Kingdom\"], \"legendgroup\": \"United Kingdom\", \"marker\": {\"color\": \"#FF6692\", \"size\": [19522], \"sizemode\": \"area\", \"sizeref\": 39.135, \"symbol\": \"circle\"}, \"mode\": \"markers+text\", \"name\": \"United Kingdom\", \"showlegend\": true, \"text\": [\"United Kingdom\"], \"type\": \"scatter\", \"x\": [93.41244436451916], \"xaxis\": \"x\", \"y\": [0.048425016010110955], \"yaxis\": \"y\"}, {\"hoverlabel\": {\"namelength\": 0}, \"hovertemplate\": \"<b>%{hovertext}</b><br><br>countryName=%{text}<br>slopeData=%{x}<br>varianceVal=%{y}<br>lastValue=%{marker.size}\", \"hovertext\": [\"US\"], \"legendgroup\": \"US\", \"marker\": {\"color\": \"#B6E880\", \"size\": [140886], \"sizemode\": \"area\", \"sizeref\": 39.135, \"symbol\": \"circle\"}, \"mode\": \"markers+text\", \"name\": \"US\", \"showlegend\": true, \"text\": [\"US\"], \"type\": \"scatter\", \"x\": [456.1956979806848], \"xaxis\": \"x\", \"y\": [0.041180126106688066], \"yaxis\": \"y\"}],\n",
       "                        {\"legend\": {\"itemsizing\": \"constant\", \"title\": {\"text\": \"countryName\"}, \"tracegroupgap\": 0}, \"margin\": {\"t\": 60}, \"showlegend\": false, \"template\": {\"data\": {\"bar\": [{\"error_x\": {\"color\": \"#2a3f5f\"}, \"error_y\": {\"color\": \"#2a3f5f\"}, \"marker\": {\"line\": {\"color\": \"#E5ECF6\", \"width\": 0.5}}, \"type\": \"bar\"}], \"barpolar\": [{\"marker\": {\"line\": {\"color\": \"#E5ECF6\", \"width\": 0.5}}, \"type\": \"barpolar\"}], \"carpet\": [{\"aaxis\": {\"endlinecolor\": \"#2a3f5f\", \"gridcolor\": \"white\", \"linecolor\": \"white\", \"minorgridcolor\": \"white\", \"startlinecolor\": \"#2a3f5f\"}, \"baxis\": {\"endlinecolor\": \"#2a3f5f\", \"gridcolor\": \"white\", \"linecolor\": \"white\", \"minorgridcolor\": \"white\", \"startlinecolor\": \"#2a3f5f\"}, \"type\": \"carpet\"}], \"choropleth\": [{\"colorbar\": {\"outlinewidth\": 0, \"ticks\": \"\"}, \"type\": \"choropleth\"}], \"contour\": [{\"colorbar\": {\"outlinewidth\": 0, \"ticks\": \"\"}, \"colorscale\": [[0.0, \"#0d0887\"], [0.1111111111111111, \"#46039f\"], [0.2222222222222222, \"#7201a8\"], [0.3333333333333333, \"#9c179e\"], [0.4444444444444444, \"#bd3786\"], [0.5555555555555556, \"#d8576b\"], [0.6666666666666666, \"#ed7953\"], [0.7777777777777778, \"#fb9f3a\"], [0.8888888888888888, \"#fdca26\"], [1.0, \"#f0f921\"]], \"type\": \"contour\"}], \"contourcarpet\": [{\"colorbar\": {\"outlinewidth\": 0, \"ticks\": \"\"}, \"type\": \"contourcarpet\"}], \"heatmap\": [{\"colorbar\": {\"outlinewidth\": 0, \"ticks\": \"\"}, \"colorscale\": [[0.0, \"#0d0887\"], [0.1111111111111111, \"#46039f\"], [0.2222222222222222, \"#7201a8\"], [0.3333333333333333, \"#9c179e\"], [0.4444444444444444, \"#bd3786\"], [0.5555555555555556, \"#d8576b\"], [0.6666666666666666, \"#ed7953\"], [0.7777777777777778, \"#fb9f3a\"], [0.8888888888888888, \"#fdca26\"], [1.0, \"#f0f921\"]], \"type\": \"heatmap\"}], \"heatmapgl\": [{\"colorbar\": {\"outlinewidth\": 0, \"ticks\": \"\"}, \"colorscale\": [[0.0, \"#0d0887\"], [0.1111111111111111, \"#46039f\"], [0.2222222222222222, \"#7201a8\"], [0.3333333333333333, \"#9c179e\"], [0.4444444444444444, \"#bd3786\"], [0.5555555555555556, \"#d8576b\"], [0.6666666666666666, \"#ed7953\"], [0.7777777777777778, \"#fb9f3a\"], [0.8888888888888888, \"#fdca26\"], [1.0, \"#f0f921\"]], \"type\": \"heatmapgl\"}], \"histogram\": [{\"marker\": {\"colorbar\": {\"outlinewidth\": 0, \"ticks\": \"\"}}, \"type\": \"histogram\"}], \"histogram2d\": [{\"colorbar\": {\"outlinewidth\": 0, \"ticks\": \"\"}, \"colorscale\": [[0.0, \"#0d0887\"], [0.1111111111111111, \"#46039f\"], [0.2222222222222222, \"#7201a8\"], [0.3333333333333333, \"#9c179e\"], [0.4444444444444444, \"#bd3786\"], [0.5555555555555556, \"#d8576b\"], [0.6666666666666666, \"#ed7953\"], [0.7777777777777778, \"#fb9f3a\"], [0.8888888888888888, \"#fdca26\"], [1.0, \"#f0f921\"]], \"type\": \"histogram2d\"}], \"histogram2dcontour\": [{\"colorbar\": {\"outlinewidth\": 0, \"ticks\": \"\"}, \"colorscale\": [[0.0, \"#0d0887\"], [0.1111111111111111, \"#46039f\"], [0.2222222222222222, \"#7201a8\"], [0.3333333333333333, \"#9c179e\"], [0.4444444444444444, \"#bd3786\"], [0.5555555555555556, \"#d8576b\"], [0.6666666666666666, \"#ed7953\"], [0.7777777777777778, \"#fb9f3a\"], [0.8888888888888888, \"#fdca26\"], [1.0, \"#f0f921\"]], \"type\": \"histogram2dcontour\"}], \"mesh3d\": [{\"colorbar\": {\"outlinewidth\": 0, \"ticks\": \"\"}, \"type\": \"mesh3d\"}], \"parcoords\": [{\"line\": {\"colorbar\": {\"outlinewidth\": 0, \"ticks\": \"\"}}, \"type\": \"parcoords\"}], \"pie\": [{\"automargin\": true, \"type\": \"pie\"}], \"scatter\": [{\"marker\": {\"colorbar\": {\"outlinewidth\": 0, \"ticks\": \"\"}}, \"type\": \"scatter\"}], \"scatter3d\": [{\"line\": {\"colorbar\": {\"outlinewidth\": 0, \"ticks\": \"\"}}, \"marker\": {\"colorbar\": {\"outlinewidth\": 0, \"ticks\": \"\"}}, \"type\": \"scatter3d\"}], \"scattercarpet\": [{\"marker\": {\"colorbar\": {\"outlinewidth\": 0, \"ticks\": \"\"}}, \"type\": \"scattercarpet\"}], \"scattergeo\": [{\"marker\": {\"colorbar\": {\"outlinewidth\": 0, \"ticks\": \"\"}}, \"type\": \"scattergeo\"}], \"scattergl\": [{\"marker\": {\"colorbar\": {\"outlinewidth\": 0, \"ticks\": \"\"}}, \"type\": \"scattergl\"}], \"scattermapbox\": [{\"marker\": {\"colorbar\": {\"outlinewidth\": 0, \"ticks\": \"\"}}, \"type\": \"scattermapbox\"}], \"scatterpolar\": [{\"marker\": {\"colorbar\": {\"outlinewidth\": 0, \"ticks\": \"\"}}, \"type\": \"scatterpolar\"}], \"scatterpolargl\": [{\"marker\": {\"colorbar\": {\"outlinewidth\": 0, \"ticks\": \"\"}}, \"type\": \"scatterpolargl\"}], \"scatterternary\": [{\"marker\": {\"colorbar\": {\"outlinewidth\": 0, \"ticks\": \"\"}}, \"type\": \"scatterternary\"}], \"surface\": [{\"colorbar\": {\"outlinewidth\": 0, \"ticks\": \"\"}, \"colorscale\": [[0.0, \"#0d0887\"], [0.1111111111111111, \"#46039f\"], [0.2222222222222222, \"#7201a8\"], [0.3333333333333333, \"#9c179e\"], [0.4444444444444444, \"#bd3786\"], [0.5555555555555556, \"#d8576b\"], [0.6666666666666666, \"#ed7953\"], [0.7777777777777778, \"#fb9f3a\"], [0.8888888888888888, \"#fdca26\"], [1.0, \"#f0f921\"]], \"type\": \"surface\"}], \"table\": [{\"cells\": {\"fill\": {\"color\": \"#EBF0F8\"}, \"line\": {\"color\": \"white\"}}, \"header\": {\"fill\": {\"color\": \"#C8D4E3\"}, \"line\": {\"color\": \"white\"}}, \"type\": \"table\"}]}, \"layout\": {\"annotationdefaults\": {\"arrowcolor\": \"#2a3f5f\", \"arrowhead\": 0, \"arrowwidth\": 1}, \"coloraxis\": {\"colorbar\": {\"outlinewidth\": 0, \"ticks\": \"\"}}, \"colorscale\": {\"diverging\": [[0, \"#8e0152\"], [0.1, \"#c51b7d\"], [0.2, \"#de77ae\"], [0.3, \"#f1b6da\"], [0.4, \"#fde0ef\"], [0.5, \"#f7f7f7\"], [0.6, \"#e6f5d0\"], [0.7, \"#b8e186\"], [0.8, \"#7fbc41\"], [0.9, \"#4d9221\"], [1, \"#276419\"]], \"sequential\": [[0.0, \"#0d0887\"], [0.1111111111111111, \"#46039f\"], [0.2222222222222222, \"#7201a8\"], [0.3333333333333333, \"#9c179e\"], [0.4444444444444444, \"#bd3786\"], [0.5555555555555556, \"#d8576b\"], [0.6666666666666666, \"#ed7953\"], [0.7777777777777778, \"#fb9f3a\"], [0.8888888888888888, \"#fdca26\"], [1.0, \"#f0f921\"]], \"sequentialminus\": [[0.0, \"#0d0887\"], [0.1111111111111111, \"#46039f\"], [0.2222222222222222, \"#7201a8\"], [0.3333333333333333, \"#9c179e\"], [0.4444444444444444, \"#bd3786\"], [0.5555555555555556, \"#d8576b\"], [0.6666666666666666, \"#ed7953\"], [0.7777777777777778, \"#fb9f3a\"], [0.8888888888888888, \"#fdca26\"], [1.0, \"#f0f921\"]]}, \"colorway\": [\"#636efa\", \"#EF553B\", \"#00cc96\", \"#ab63fa\", \"#FFA15A\", \"#19d3f3\", \"#FF6692\", \"#B6E880\", \"#FF97FF\", \"#FECB52\"], \"font\": {\"color\": \"#2a3f5f\"}, \"geo\": {\"bgcolor\": \"white\", \"lakecolor\": \"white\", \"landcolor\": \"#E5ECF6\", \"showlakes\": true, \"showland\": true, \"subunitcolor\": \"white\"}, \"hoverlabel\": {\"align\": \"left\"}, \"hovermode\": \"closest\", \"mapbox\": {\"style\": \"light\"}, \"paper_bgcolor\": \"white\", \"plot_bgcolor\": \"#E5ECF6\", \"polar\": {\"angularaxis\": {\"gridcolor\": \"white\", \"linecolor\": \"white\", \"ticks\": \"\"}, \"bgcolor\": \"#E5ECF6\", \"radialaxis\": {\"gridcolor\": \"white\", \"linecolor\": \"white\", \"ticks\": \"\"}}, \"scene\": {\"xaxis\": {\"backgroundcolor\": \"#E5ECF6\", \"gridcolor\": \"white\", \"gridwidth\": 2, \"linecolor\": \"white\", \"showbackground\": true, \"ticks\": \"\", \"zerolinecolor\": \"white\"}, \"yaxis\": {\"backgroundcolor\": \"#E5ECF6\", \"gridcolor\": \"white\", \"gridwidth\": 2, \"linecolor\": \"white\", \"showbackground\": true, \"ticks\": \"\", \"zerolinecolor\": \"white\"}, \"zaxis\": {\"backgroundcolor\": \"#E5ECF6\", \"gridcolor\": \"white\", \"gridwidth\": 2, \"linecolor\": \"white\", \"showbackground\": true, \"ticks\": \"\", \"zerolinecolor\": \"white\"}}, \"shapedefaults\": {\"line\": {\"color\": \"#2a3f5f\"}}, \"ternary\": {\"aaxis\": {\"gridcolor\": \"white\", \"linecolor\": \"white\", \"ticks\": \"\"}, \"baxis\": {\"gridcolor\": \"white\", \"linecolor\": \"white\", \"ticks\": \"\"}, \"bgcolor\": \"#E5ECF6\", \"caxis\": {\"gridcolor\": \"white\", \"linecolor\": \"white\", \"ticks\": \"\"}}, \"title\": {\"x\": 0.05}, \"xaxis\": {\"automargin\": true, \"gridcolor\": \"white\", \"linecolor\": \"white\", \"ticks\": \"\", \"title\": {\"standoff\": 15}, \"zerolinecolor\": \"white\", \"zerolinewidth\": 2}, \"yaxis\": {\"automargin\": true, \"gridcolor\": \"white\", \"linecolor\": \"white\", \"ticks\": \"\", \"title\": {\"standoff\": 15}, \"zerolinecolor\": \"white\", \"zerolinewidth\": 2}}}, \"xaxis\": {\"anchor\": \"y\", \"domain\": [0.0, 1.0], \"title\": {\"text\": \"slopeData\"}, \"type\": \"log\"}, \"yaxis\": {\"anchor\": \"x\", \"domain\": [0.0, 1.0], \"title\": {\"text\": \"varianceVal\"}}},\n",
       "                        {\"responsive\": true}\n",
       "                    ).then(function(){\n",
       "                            \n",
       "var gd = document.getElementById('482cdef4-13c1-4241-8991-0590fa61abfd');\n",
       "var x = new MutationObserver(function (mutations, observer) {{\n",
       "        var display = window.getComputedStyle(gd).display;\n",
       "        if (!display || display === 'none') {{\n",
       "            console.log([gd, 'removed!']);\n",
       "            Plotly.purge(gd);\n",
       "            observer.disconnect();\n",
       "        }}\n",
       "}});\n",
       "\n",
       "// Listen for the removal of the full notebook cells\n",
       "var notebookContainer = gd.closest('#notebook-container');\n",
       "if (notebookContainer) {{\n",
       "    x.observe(notebookContainer, {childList: true});\n",
       "}}\n",
       "\n",
       "// Listen for the clearing of the current output cell\n",
       "var outputEl = gd.closest('.output');\n",
       "if (outputEl) {{\n",
       "    x.observe(outputEl, {childList: true});\n",
       "}}\n",
       "\n",
       "                        })\n",
       "                };\n",
       "                });\n",
       "            </script>\n",
       "        </div>"
      ]
     },
     "metadata": {},
     "output_type": "display_data"
    }
   ],
   "source": [
    "import plotly.express as px\n",
    "fig = px.scatter(filoverallSpacingDF, x=\"slopeData\", y=\"varianceVal\",\n",
    "\t         size=\"lastValue\", color=\"countryName\",\n",
    "                 hover_name=\"countryName\", log_x=True, size_max=60,text='countryName')\n",
    "fig.update_layout(showlegend=False)\n",
    "fig.show()"
   ]
  },
  {
   "cell_type": "markdown",
   "metadata": {},
   "source": [
    "## Slider Details"
   ]
  },
  {
   "cell_type": "code",
   "execution_count": 30,
   "metadata": {},
   "outputs": [],
   "source": [
    "def getCountryDayWiseDetails(country):\n",
    "    indiCountyDaywise=[]\n",
    "    tempX=countryDataDict[country]\n",
    "    for i in range(len(tempX['countryData'])):\n",
    "        try:\n",
    "            tempDict={'variancDaywise':np.var(tempX['minMaxScaledval'][:i]),\n",
    "                  'dayInfo':i,#'D_'+str(i).zfill(3),\n",
    "                  'slopeVal':getSlope(tempX['countryData'][:i]),\n",
    "                'infected':tempX['countryData'][i]}\n",
    "        except:\n",
    "            tempDict={'variancDaywise':None,\n",
    "                  'dayInfo':i,#'D_'+str(i).zfill(3),\n",
    "                  'slopeVal':None,\n",
    "                     'infected':tempX['countryData'][i]}\n",
    "\n",
    "        indiCountyDaywise.append(tempDict)\n",
    "    tempDWiseData=pd.DataFrame(indiCountyDaywise)\n",
    "    tempDWiseData['CountryName']=country\n",
    "    return tempDWiseData"
   ]
  },
  {
   "cell_type": "code",
   "execution_count": 31,
   "metadata": {},
   "outputs": [
    {
     "name": "stderr",
     "output_type": "stream",
     "text": [
      "100%|████████████████████████████████████████████████████████████████████████████████| 251/251 [00:34<00:00,  7.28it/s]\n"
     ]
    }
   ],
   "source": [
    "countryDataDictDayWise=[]\n",
    "for con in tqdm(countryDataDict):\n",
    "    countryDataDictDayWise.append(getCountryDayWiseDetails(con))"
   ]
  },
  {
   "cell_type": "code",
   "execution_count": 32,
   "metadata": {},
   "outputs": [
    {
     "data": {
      "text/html": [
       "<div>\n",
       "<style scoped>\n",
       "    .dataframe tbody tr th:only-of-type {\n",
       "        vertical-align: middle;\n",
       "    }\n",
       "\n",
       "    .dataframe tbody tr th {\n",
       "        vertical-align: top;\n",
       "    }\n",
       "\n",
       "    .dataframe thead th {\n",
       "        text-align: right;\n",
       "    }\n",
       "</style>\n",
       "<table border=\"1\" class=\"dataframe\">\n",
       "  <thead>\n",
       "    <tr style=\"text-align: right;\">\n",
       "      <th></th>\n",
       "      <th>dayInfo</th>\n",
       "      <th>infected</th>\n",
       "      <th>slopeVal</th>\n",
       "      <th>variancDaywise</th>\n",
       "      <th>CountryName</th>\n",
       "    </tr>\n",
       "  </thead>\n",
       "  <tbody>\n",
       "    <tr>\n",
       "      <th>0</th>\n",
       "      <td>0</td>\n",
       "      <td>1</td>\n",
       "      <td>NaN</td>\n",
       "      <td>NaN</td>\n",
       "      <td>Afghanistan</td>\n",
       "    </tr>\n",
       "    <tr>\n",
       "      <th>1</th>\n",
       "      <td>1</td>\n",
       "      <td>1</td>\n",
       "      <td>0.000000</td>\n",
       "      <td>0.0</td>\n",
       "      <td>Afghanistan</td>\n",
       "    </tr>\n",
       "    <tr>\n",
       "      <th>2</th>\n",
       "      <td>2</td>\n",
       "      <td>1</td>\n",
       "      <td>1.000000</td>\n",
       "      <td>0.0</td>\n",
       "      <td>Afghanistan</td>\n",
       "    </tr>\n",
       "    <tr>\n",
       "      <th>3</th>\n",
       "      <td>3</td>\n",
       "      <td>1</td>\n",
       "      <td>0.600000</td>\n",
       "      <td>0.0</td>\n",
       "      <td>Afghanistan</td>\n",
       "    </tr>\n",
       "    <tr>\n",
       "      <th>4</th>\n",
       "      <td>4</td>\n",
       "      <td>1</td>\n",
       "      <td>0.428571</td>\n",
       "      <td>0.0</td>\n",
       "      <td>Afghanistan</td>\n",
       "    </tr>\n",
       "  </tbody>\n",
       "</table>\n",
       "</div>"
      ],
      "text/plain": [
       "   dayInfo  infected  slopeVal  variancDaywise  CountryName\n",
       "0        0         1       NaN             NaN  Afghanistan\n",
       "1        1         1  0.000000             0.0  Afghanistan\n",
       "2        2         1  1.000000             0.0  Afghanistan\n",
       "3        3         1  0.600000             0.0  Afghanistan\n",
       "4        4         1  0.428571             0.0  Afghanistan"
      ]
     },
     "execution_count": 32,
     "metadata": {},
     "output_type": "execute_result"
    }
   ],
   "source": [
    "allCOuntryDayWiseDataDF=pd.concat(countryDataDictDayWise)\n",
    "allCOuntryDayWiseDataDF.head()"
   ]
  },
  {
   "cell_type": "code",
   "execution_count": 33,
   "metadata": {},
   "outputs": [
    {
     "data": {
      "text/plain": [
       "1967.124388111888"
      ]
     },
     "execution_count": 33,
     "metadata": {},
     "output_type": "execute_result"
    }
   ],
   "source": [
    "max(allCOuntryDayWiseDataDF['slopeVal'].fillna(0))"
   ]
  },
  {
   "cell_type": "code",
   "execution_count": 34,
   "metadata": {},
   "outputs": [
    {
     "data": {
      "text/html": [
       "<div>\n",
       "<style scoped>\n",
       "    .dataframe tbody tr th:only-of-type {\n",
       "        vertical-align: middle;\n",
       "    }\n",
       "\n",
       "    .dataframe tbody tr th {\n",
       "        vertical-align: top;\n",
       "    }\n",
       "\n",
       "    .dataframe thead th {\n",
       "        text-align: right;\n",
       "    }\n",
       "</style>\n",
       "<table border=\"1\" class=\"dataframe\">\n",
       "  <thead>\n",
       "    <tr style=\"text-align: right;\">\n",
       "      <th></th>\n",
       "      <th>dayInfo</th>\n",
       "      <th>infected</th>\n",
       "      <th>slopeVal</th>\n",
       "      <th>variancDaywise</th>\n",
       "      <th>CountryName</th>\n",
       "    </tr>\n",
       "  </thead>\n",
       "  <tbody>\n",
       "    <tr>\n",
       "      <th>32</th>\n",
       "      <td>32</td>\n",
       "      <td>64084</td>\n",
       "      <td>1963.634313</td>\n",
       "      <td>0.122096</td>\n",
       "      <td>ChinaHubei</td>\n",
       "    </tr>\n",
       "    <tr>\n",
       "      <th>33</th>\n",
       "      <td>33</td>\n",
       "      <td>64287</td>\n",
       "      <td>1967.124388</td>\n",
       "      <td>0.127022</td>\n",
       "      <td>ChinaHubei</td>\n",
       "    </tr>\n",
       "    <tr>\n",
       "      <th>34</th>\n",
       "      <td>34</td>\n",
       "      <td>64786</td>\n",
       "      <td>1965.470030</td>\n",
       "      <td>0.131256</td>\n",
       "      <td>ChinaHubei</td>\n",
       "    </tr>\n",
       "    <tr>\n",
       "      <th>35</th>\n",
       "      <td>35</td>\n",
       "      <td>65187</td>\n",
       "      <td>1960.401754</td>\n",
       "      <td>0.135019</td>\n",
       "      <td>ChinaHubei</td>\n",
       "    </tr>\n",
       "  </tbody>\n",
       "</table>\n",
       "</div>"
      ],
      "text/plain": [
       "    dayInfo  infected     slopeVal  variancDaywise CountryName\n",
       "32       32     64084  1963.634313        0.122096  ChinaHubei\n",
       "33       33     64287  1967.124388        0.127022  ChinaHubei\n",
       "34       34     64786  1965.470030        0.131256  ChinaHubei\n",
       "35       35     65187  1960.401754        0.135019  ChinaHubei"
      ]
     },
     "execution_count": 34,
     "metadata": {},
     "output_type": "execute_result"
    }
   ],
   "source": [
    "allCOuntryDayWiseDataDF[allCOuntryDayWiseDataDF['slopeVal']>1960]"
   ]
  },
  {
   "cell_type": "code",
   "execution_count": 55,
   "metadata": {},
   "outputs": [],
   "source": [
    "daySLider = widgets.IntSlider(\n",
    "    value=1.0,\n",
    "    min=1.0,\n",
    "    max=max(allCOuntryDayWiseDataDF['dayInfo']),\n",
    "    step=1.0,\n",
    "    description='Day:',\n",
    "    continuous_update=False\n",
    ")\n",
    "\n",
    "# textbox = widgets.Dropdown(\n",
    "#     description='Country:   ',\n",
    "#     value='India',\n",
    "#     options=allCOuntryData.columns.tolist()\n",
    "# )\n",
    "container = widgets.HBox(children=[daySLider])\n",
    "# from plotly.subplots import make_subplots"
   ]
  },
  {
   "cell_type": "code",
   "execution_count": 56,
   "metadata": {},
   "outputs": [
    {
     "data": {
      "application/vnd.jupyter.widget-view+json": {
       "model_id": "af97b15631b94a569f7b4dc737ed2bbc",
       "version_major": 2,
       "version_minor": 0
      },
      "text/plain": [
       "VBox(children=(HBox(children=(IntSlider(value=1, continuous_update=False, description='Day:', max=67, min=1),)…"
      ]
     },
     "metadata": {},
     "output_type": "display_data"
    }
   ],
   "source": [
    "tempDFFOrSlider=allCOuntryDayWiseDataDF[allCOuntryDayWiseDataDF['dayInfo']==59]\n",
    "trace1 = go.Scatter(\n",
    "    x=tempDFFOrSlider['slopeVal'],\n",
    "    y=tempDFFOrSlider['variancDaywise'],\n",
    "#     mode='markers',\n",
    "     mode=\"markers+text\",\n",
    "    marker=dict(size=tempDFFOrSlider['infected'],sizemode='area',\n",
    "        sizeref=3.*max(tempDFFOrSlider['infected'])/(40.**2),\n",
    "        sizemin=4),\n",
    "    showlegend=False,\n",
    "    text=tempDFFOrSlider['CountryName'])\n",
    "g = go.FigureWidget(data=[trace1],layout=go.Layout(title=dict(text='Covid19'),barmode='overlay'))\n",
    "\n",
    "def response(change):\n",
    "    vaL=daySLider.value\n",
    "    tempDFFOrSlider=allCOuntryDayWiseDataDF[allCOuntryDayWiseDataDF['dayInfo']==vaL]\n",
    "    x1 = tempDFFOrSlider['slopeVal'].values\n",
    "    x2 = tempDFFOrSlider['variancDaywise'].values\n",
    "    with g.batch_update():\n",
    "        g.data[0].x = x1\n",
    "        g.data[0].y = x2\n",
    "        g.data[0].marker['size']= tempDFFOrSlider['infected'].values\n",
    "        g.layout.barmode = 'overlay'\n",
    "daySLider.observe(response, names=\"value\")\n",
    "# textbox.observe(response, names=\"value\")\n",
    "\n",
    "widgets.VBox([container,g])"
   ]
  },
  {
   "cell_type": "markdown",
   "metadata": {},
   "source": [
    "## Filtered data"
   ]
  },
  {
   "cell_type": "code",
   "execution_count": 58,
   "metadata": {},
   "outputs": [],
   "source": [
    "# filallCOuntryDayWiseDataDF=allCOuntryDayWiseDataDF[]\n",
    "filallCOuntryDayaWiseDataDF=allCOuntryDayWiseDataDF[~allCOuntryDayWiseDataDF['CountryName'].str.contains('ina')]"
   ]
  },
  {
   "cell_type": "code",
   "execution_count": 59,
   "metadata": {},
   "outputs": [],
   "source": [
    "daySLider = widgets.IntSlider(\n",
    "    value=1.0,\n",
    "    min=1.0,\n",
    "    max=max(filallCOuntryDayWiseDataDF['dayInfo']),\n",
    "    step=1.0,\n",
    "    description='Day:',\n",
    "    continuous_update=False\n",
    ")\n",
    "\n",
    "# textbox = widgets.Dropdown(\n",
    "#     description='Country:   ',\n",
    "#     value='India',\n",
    "#     options=allCOuntryData.columns.tolist()\n",
    "# )\n",
    "container = widgets.HBox(children=[daySLider])\n",
    "# from plotly.subplots import make_subplots"
   ]
  },
  {
   "cell_type": "code",
   "execution_count": 63,
   "metadata": {},
   "outputs": [
    {
     "data": {
      "application/vnd.jupyter.widget-view+json": {
       "model_id": "c281d40a5275486792f814a16bf6541d",
       "version_major": 2,
       "version_minor": 0
      },
      "text/plain": [
       "VBox(children=(HBox(children=(IntSlider(value=27, continuous_update=False, description='Day:', max=67, min=1),…"
      ]
     },
     "metadata": {},
     "output_type": "display_data"
    }
   ],
   "source": [
    "tempDFFOrSlider=filallCOuntryDayWiseDataDF[filallCOuntryDayWiseDataDF['dayInfo']==60]\n",
    "trace1 = go.Scatter(\n",
    "    x=tempDFFOrSlider['slopeVal'],\n",
    "    y=tempDFFOrSlider['variancDaywise'],\n",
    "#     mode='markers',\n",
    "     mode=\"markers+text\",\n",
    "    marker=dict(size=tempDFFOrSlider['infected'],sizemode='area',\n",
    "        sizeref=4.*max(tempDFFOrSlider['infected'])/(40.**2),\n",
    "        sizemin=10),\n",
    "    showlegend=False,\n",
    "    text=tempDFFOrSlider['CountryName'])\n",
    "g = go.FigureWidget(data=[trace1],layout=go.Layout(title=dict(text='Covid19'),barmode='overlay'))\n",
    "\n",
    "def response(change):\n",
    "    vaL=daySLider.value\n",
    "    tempDFFOrSlider=filallCOuntryDayWiseDataDF[filallCOuntryDayWiseDataDF['dayInfo']==vaL]\n",
    "    x1 = tempDFFOrSlider['slopeVal'].values\n",
    "    x2 = tempDFFOrSlider['variancDaywise'].values\n",
    "    with g.batch_update():\n",
    "        g.data[0].x = x1\n",
    "        g.data[0].y = x2\n",
    "        g.data[0].marker['size']= tempDFFOrSlider['infected'].values\n",
    "        g.layout.barmode = 'overlay'\n",
    "daySLider.observe(response, names=\"value\")\n",
    "# textbox.observe(response, names=\"value\")\n",
    "\n",
    "widgets.VBox([container,g])"
   ]
  },
  {
   "cell_type": "markdown",
   "metadata": {},
   "source": [
    "## Filter Further"
   ]
  },
  {
   "cell_type": "code",
   "execution_count": 67,
   "metadata": {},
   "outputs": [
    {
     "data": {
      "text/plain": [
       "array(['AustraliaNew South Wales', 'Austria', 'Belgium', 'Brazil',\n",
       "       'CanadaBritish Columbia', 'CanadaOntario', 'CanadaQuebec', 'Chile',\n",
       "       'Czechia', 'Denmark', 'Dominican Republic', 'Ecuador', 'Finland',\n",
       "       'France', 'Germany', 'Greece', 'Iceland', 'India', 'Indonesia',\n",
       "       'Iran', 'Ireland', 'Israel', 'Italy', 'Japan', 'Korea, South',\n",
       "       'Luxembourg', 'Malaysia', 'Mexico', 'Netherlands', 'Norway',\n",
       "       'Pakistan', 'Panama', 'Peru', 'Philippines', 'Poland', 'Portugal',\n",
       "       'Romania', 'Russia', 'Saudi Arabia', 'Singapore', 'South Africa',\n",
       "       'Spain', 'Sweden', 'Switzerland', 'Thailand', 'Turkey',\n",
       "       'United Kingdom', 'US'], dtype=object)"
      ]
     },
     "execution_count": 67,
     "metadata": {},
     "output_type": "execute_result"
    }
   ],
   "source": [
    "# filallCOuntryDayWiseDataDF=allCOuntryDayWiseDataDF[]\n",
    "pd.unique(filoverallSpacingDF['countryName'])"
   ]
  },
  {
   "cell_type": "code",
   "execution_count": null,
   "metadata": {},
   "outputs": [],
   "source": []
  },
  {
   "cell_type": "code",
   "execution_count": 72,
   "metadata": {},
   "outputs": [],
   "source": [
    "# filallCOuntryDayWiseDataDF=allCOuntryDayWiseDataDF[]\n",
    "filterNextForIndia=allCOuntryDayWiseDataDF[allCOuntryDayWiseDataDF['CountryName'].isin(pd.unique(filoverallSpacingDF['countryName']))]"
   ]
  },
  {
   "cell_type": "code",
   "execution_count": 73,
   "metadata": {},
   "outputs": [],
   "source": [
    "daySLider = widgets.IntSlider(\n",
    "    value=1.0,\n",
    "    min=1.0,\n",
    "    max=max(filterNextForIndia['dayInfo']),\n",
    "    step=1.0,\n",
    "    description='Day:',\n",
    "    continuous_update=False\n",
    ")\n",
    "\n",
    "# textbox = widgets.Dropdown(\n",
    "#     description='Country:   ',\n",
    "#     value='India',\n",
    "#     options=allCOuntryData.columns.tolist()\n",
    "# )\n",
    "container = widgets.HBox(children=[daySLider])\n",
    "# from plotly.subplots import make_subplots"
   ]
  },
  {
   "cell_type": "code",
   "execution_count": 74,
   "metadata": {},
   "outputs": [
    {
     "data": {
      "application/vnd.jupyter.widget-view+json": {
       "model_id": "e009f3b76069481ca37f3d23aff141d6",
       "version_major": 2,
       "version_minor": 0
      },
      "text/plain": [
       "VBox(children=(HBox(children=(IntSlider(value=1, continuous_update=False, description='Day:', max=67, min=1),)…"
      ]
     },
     "metadata": {},
     "output_type": "display_data"
    }
   ],
   "source": [
    "tempDFFOrSlider=filterNextForIndia[filterNextForIndia['dayInfo']==60]\n",
    "trace1 = go.Scatter(\n",
    "    x=tempDFFOrSlider['slopeVal'],\n",
    "    y=tempDFFOrSlider['variancDaywise'],\n",
    "#     mode='markers',\n",
    "     mode=\"markers+text\",\n",
    "    marker=dict(size=tempDFFOrSlider['infected'],sizemode='area',\n",
    "        sizeref=4.*max(tempDFFOrSlider['infected'])/(40.**2),\n",
    "        sizemin=10),\n",
    "    showlegend=False,\n",
    "    text=tempDFFOrSlider['CountryName'])\n",
    "g = go.FigureWidget(data=[trace1],layout=go.Layout(title=dict(text='Covid19'),barmode='overlay'))\n",
    "\n",
    "def response(change):\n",
    "    vaL=daySLider.value\n",
    "    tempDFFOrSlider=filterNextForIndia[filterNextForIndia['dayInfo']==vaL]\n",
    "    x1 = tempDFFOrSlider['slopeVal'].values\n",
    "    x2 = tempDFFOrSlider['variancDaywise'].values\n",
    "    with g.batch_update():\n",
    "        g.data[0].x = x1\n",
    "        g.data[0].y = x2\n",
    "        g.data[0].marker['size']= tempDFFOrSlider['infected'].values\n",
    "        g.layout.barmode = 'overlay'\n",
    "daySLider.observe(response, names=\"value\")\n",
    "# textbox.observe(response, names=\"value\")\n",
    "\n",
    "widgets.VBox([container,g])"
   ]
  },
  {
   "cell_type": "code",
   "execution_count": null,
   "metadata": {},
   "outputs": [],
   "source": []
  },
  {
   "cell_type": "code",
   "execution_count": null,
   "metadata": {},
   "outputs": [],
   "source": []
  },
  {
   "cell_type": "code",
   "execution_count": null,
   "metadata": {},
   "outputs": [],
   "source": []
  },
  {
   "cell_type": "code",
   "execution_count": null,
   "metadata": {},
   "outputs": [],
   "source": []
  },
  {
   "cell_type": "code",
   "execution_count": null,
   "metadata": {},
   "outputs": [],
   "source": []
  },
  {
   "cell_type": "code",
   "execution_count": null,
   "metadata": {},
   "outputs": [],
   "source": []
  },
  {
   "cell_type": "code",
   "execution_count": null,
   "metadata": {},
   "outputs": [],
   "source": []
  },
  {
   "cell_type": "markdown",
   "metadata": {},
   "source": [
    "## All Country Information"
   ]
  },
  {
   "cell_type": "code",
   "execution_count": null,
   "metadata": {},
   "outputs": [],
   "source": []
  },
  {
   "cell_type": "code",
   "execution_count": null,
   "metadata": {
    "scrolled": true
   },
   "outputs": [],
   "source": []
  },
  {
   "cell_type": "code",
   "execution_count": null,
   "metadata": {},
   "outputs": [],
   "source": []
  },
  {
   "cell_type": "code",
   "execution_count": null,
   "metadata": {},
   "outputs": [],
   "source": []
  },
  {
   "cell_type": "code",
   "execution_count": null,
   "metadata": {
    "scrolled": true
   },
   "outputs": [],
   "source": []
  },
  {
   "cell_type": "code",
   "execution_count": null,
   "metadata": {},
   "outputs": [],
   "source": []
  },
  {
   "cell_type": "code",
   "execution_count": null,
   "metadata": {},
   "outputs": [],
   "source": []
  },
  {
   "cell_type": "code",
   "execution_count": null,
   "metadata": {},
   "outputs": [],
   "source": []
  },
  {
   "cell_type": "code",
   "execution_count": null,
   "metadata": {},
   "outputs": [],
   "source": []
  },
  {
   "cell_type": "code",
   "execution_count": null,
   "metadata": {},
   "outputs": [],
   "source": []
  },
  {
   "cell_type": "code",
   "execution_count": null,
   "metadata": {},
   "outputs": [],
   "source": []
  }
 ],
 "metadata": {
  "kernelspec": {
   "display_name": "Python 3",
   "language": "python",
   "name": "python3"
  },
  "language_info": {
   "codemirror_mode": {
    "name": "ipython",
    "version": 3
   },
   "file_extension": ".py",
   "mimetype": "text/x-python",
   "name": "python",
   "nbconvert_exporter": "python",
   "pygments_lexer": "ipython3",
   "version": "3.6.8"
  }
 },
 "nbformat": 4,
 "nbformat_minor": 2
}
